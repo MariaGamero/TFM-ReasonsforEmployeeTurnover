{
 "cells": [
  {
   "cell_type": "markdown",
   "metadata": {},
   "source": [
    "# Why People Really Quit Their Jobs?\n",
    "\n",
    "![peces](http://4.bp.blogspot.com/-7_FVudvkdV4/Tt3pP5uQ_qI/AAAAAAAAAek/yIBC0K4DGSk/s1600/peces_nadando_en_el_agua_de_las_peceras.jpg)\n",
    "\n",
    "\n",
    "### This dataset is related to the record of the employees in a company.\n",
    "\n",
    "* It describes the **satisfaction level** of the employee, **last evaluation** of their performance, **number of projects** they done, their **average monthly working hours**, the **number of years** spent in the company, whether the employee had a **workplace accident**, whether the employee **left the workspace** , their **last promotion**, the **department** where the employee works and the **salary level**.\n",
    "\n",
    "### In this notebook I will try to find out the main reasons about why people left their jobs.  \n",
    "\n",
    "* As I aforementioned, the company should be interested to know why and what people is leaving their jobs"
   ]
  },
  {
   "cell_type": "markdown",
   "metadata": {},
   "source": [
    "# 1. Import libraries"
   ]
  },
  {
   "cell_type": "code",
   "execution_count": 1,
   "metadata": {},
   "outputs": [
    {
     "data": {
      "text/plain": [
       "RendererRegistry.enable('notebook')"
      ]
     },
     "execution_count": 1,
     "metadata": {},
     "output_type": "execute_result"
    }
   ],
   "source": [
    "import numpy as np\n",
    "import pandas as pd\n",
    "import matplotlib.pyplot as plt\n",
    "plt.style.use('ggplot')\n",
    "%matplotlib inline\n",
    "import seaborn as sns\n",
    "import altair as alt\n",
    "from vega_datasets import data\n",
    "# for the notebook only (not for JupyterLab) run this command once per session\n",
    "alt.renderers.enable('notebook')"
   ]
  },
  {
   "cell_type": "markdown",
   "metadata": {},
   "source": [
    "# 2. Load Data"
   ]
  },
  {
   "cell_type": "markdown",
   "metadata": {},
   "source": [
    "For the analysis it will be used a popular dataset called: \"HR_comma_sep.csv\". From now on : \"HR_data_origin.csv\". "
   ]
  },
  {
   "cell_type": "code",
   "execution_count": 2,
   "metadata": {
    "scrolled": true
   },
   "outputs": [
    {
     "data": {
      "text/html": [
       "<div>\n",
       "<style scoped>\n",
       "    .dataframe tbody tr th:only-of-type {\n",
       "        vertical-align: middle;\n",
       "    }\n",
       "\n",
       "    .dataframe tbody tr th {\n",
       "        vertical-align: top;\n",
       "    }\n",
       "\n",
       "    .dataframe thead th {\n",
       "        text-align: right;\n",
       "    }\n",
       "</style>\n",
       "<table border=\"1\" class=\"dataframe\">\n",
       "  <thead>\n",
       "    <tr style=\"text-align: right;\">\n",
       "      <th></th>\n",
       "      <th>satisfaction_level</th>\n",
       "      <th>last_evaluation</th>\n",
       "      <th>number_project</th>\n",
       "      <th>average_montly_hours</th>\n",
       "      <th>time_spend_company</th>\n",
       "      <th>Work_accident</th>\n",
       "      <th>left</th>\n",
       "      <th>promotion_last_5years</th>\n",
       "      <th>sales</th>\n",
       "      <th>salary</th>\n",
       "    </tr>\n",
       "  </thead>\n",
       "  <tbody>\n",
       "    <tr>\n",
       "      <th>0</th>\n",
       "      <td>0.38</td>\n",
       "      <td>0.53</td>\n",
       "      <td>2</td>\n",
       "      <td>157</td>\n",
       "      <td>3</td>\n",
       "      <td>0</td>\n",
       "      <td>1</td>\n",
       "      <td>0</td>\n",
       "      <td>sales</td>\n",
       "      <td>low</td>\n",
       "    </tr>\n",
       "    <tr>\n",
       "      <th>1</th>\n",
       "      <td>0.80</td>\n",
       "      <td>0.86</td>\n",
       "      <td>5</td>\n",
       "      <td>262</td>\n",
       "      <td>6</td>\n",
       "      <td>0</td>\n",
       "      <td>1</td>\n",
       "      <td>0</td>\n",
       "      <td>sales</td>\n",
       "      <td>medium</td>\n",
       "    </tr>\n",
       "    <tr>\n",
       "      <th>2</th>\n",
       "      <td>0.11</td>\n",
       "      <td>0.88</td>\n",
       "      <td>7</td>\n",
       "      <td>272</td>\n",
       "      <td>4</td>\n",
       "      <td>0</td>\n",
       "      <td>1</td>\n",
       "      <td>0</td>\n",
       "      <td>sales</td>\n",
       "      <td>medium</td>\n",
       "    </tr>\n",
       "    <tr>\n",
       "      <th>3</th>\n",
       "      <td>0.72</td>\n",
       "      <td>0.87</td>\n",
       "      <td>5</td>\n",
       "      <td>223</td>\n",
       "      <td>5</td>\n",
       "      <td>0</td>\n",
       "      <td>1</td>\n",
       "      <td>0</td>\n",
       "      <td>sales</td>\n",
       "      <td>low</td>\n",
       "    </tr>\n",
       "    <tr>\n",
       "      <th>4</th>\n",
       "      <td>0.37</td>\n",
       "      <td>0.52</td>\n",
       "      <td>2</td>\n",
       "      <td>159</td>\n",
       "      <td>3</td>\n",
       "      <td>0</td>\n",
       "      <td>1</td>\n",
       "      <td>0</td>\n",
       "      <td>sales</td>\n",
       "      <td>low</td>\n",
       "    </tr>\n",
       "  </tbody>\n",
       "</table>\n",
       "</div>"
      ],
      "text/plain": [
       "   satisfaction_level  last_evaluation  number_project  average_montly_hours  \\\n",
       "0                0.38             0.53               2                   157   \n",
       "1                0.80             0.86               5                   262   \n",
       "2                0.11             0.88               7                   272   \n",
       "3                0.72             0.87               5                   223   \n",
       "4                0.37             0.52               2                   159   \n",
       "\n",
       "   time_spend_company  Work_accident  left  promotion_last_5years  sales  \\\n",
       "0                   3              0     1                      0  sales   \n",
       "1                   6              0     1                      0  sales   \n",
       "2                   4              0     1                      0  sales   \n",
       "3                   5              0     1                      0  sales   \n",
       "4                   3              0     1                      0  sales   \n",
       "\n",
       "   salary  \n",
       "0     low  \n",
       "1  medium  \n",
       "2  medium  \n",
       "3     low  \n",
       "4     low  "
      ]
     },
     "execution_count": 2,
     "metadata": {},
     "output_type": "execute_result"
    }
   ],
   "source": [
    "hr=pd.read_csv(\"data/HR_data_origin.csv\")\n",
    "hr.head()"
   ]
  },
  {
   "cell_type": "markdown",
   "metadata": {},
   "source": [
    "## Brief description of columns in DataSet:\n",
    "\n",
    "- **Satisfaction_level** : Level of employee satisfaction with their work and position. At first, it ties closely with employee turnover. \n",
    "\n",
    "- **Last_evaluation**: Column can be used to evaluate the performance of an employee. The data ranges from 0–1, 0 being low performance and 1 being the highest.\n",
    "\n",
    "- **Number_projects**: number of projects employees done.\n",
    "\n",
    "- **average_montly_hours**: average monthly hours per employee.\n",
    "\n",
    "- **time_spend_company**: The data ranges from 1 to 10. Data unit not specified. It will be supposed _years_.\n",
    "\n",
    "- **Work_accident**: Whether the employee had a workplace accident,: 1 yes, 0 no.\n",
    "\n",
    "- **left**: Whether the employee has left or not the company: 1 yes, 0 no.\n",
    "\n",
    "- **promotion_last_5years**: Whether the employee has had a promotion in the last 5 years.\n",
    "\n",
    "- **Sales**: It seems to indicate the different areas or departments the employees belong: Sales, Technical, Support, IT, Product Managment, Marketing ,Accounting, Human Resources, Managment and Others.\n",
    "\n",
    "- **Salary**: Salary level classified by Low, Medium, High."
   ]
  },
  {
   "cell_type": "markdown",
   "metadata": {},
   "source": [
    "# 3. Data Scrubbing "
   ]
  },
  {
   "cell_type": "markdown",
   "metadata": {},
   "source": [
    "Analize and understand the data in detail in order to make the right assumptions and choose the right algorithm:\n",
    "\n",
    "* Size \n",
    "* Determine variable's type\n",
    "* Some transformations: name of columns and type of the variables\n",
    "* Is there any null value?\n",
    "* Find and remove duplicates\n",
    "* Descriptive analysis"
   ]
  },
  {
   "cell_type": "code",
   "execution_count": 3,
   "metadata": {},
   "outputs": [
    {
     "data": {
      "text/plain": [
       "(14999, 10)"
      ]
     },
     "execution_count": 3,
     "metadata": {},
     "output_type": "execute_result"
    }
   ],
   "source": [
    "#This dataset contains 14999 rows and 10 columns.\n",
    "hr.shape"
   ]
  },
  {
   "cell_type": "code",
   "execution_count": 4,
   "metadata": {
    "scrolled": true
   },
   "outputs": [
    {
     "name": "stdout",
     "output_type": "stream",
     "text": [
      "<class 'pandas.core.frame.DataFrame'>\n",
      "RangeIndex: 14999 entries, 0 to 14998\n",
      "Data columns (total 10 columns):\n",
      "satisfaction_level       14999 non-null float64\n",
      "last_evaluation          14999 non-null float64\n",
      "number_project           14999 non-null int64\n",
      "average_montly_hours     14999 non-null int64\n",
      "time_spend_company       14999 non-null int64\n",
      "Work_accident            14999 non-null int64\n",
      "left                     14999 non-null int64\n",
      "promotion_last_5years    14999 non-null int64\n",
      "sales                    14999 non-null object\n",
      "salary                   14999 non-null object\n",
      "dtypes: float64(2), int64(6), object(2)\n",
      "memory usage: 1.1+ MB\n"
     ]
    }
   ],
   "source": [
    "hr.info()"
   ]
  },
  {
   "cell_type": "code",
   "execution_count": 5,
   "metadata": {},
   "outputs": [
    {
     "data": {
      "text/html": [
       "<div>\n",
       "<style scoped>\n",
       "    .dataframe tbody tr th:only-of-type {\n",
       "        vertical-align: middle;\n",
       "    }\n",
       "\n",
       "    .dataframe tbody tr th {\n",
       "        vertical-align: top;\n",
       "    }\n",
       "\n",
       "    .dataframe thead th {\n",
       "        text-align: right;\n",
       "    }\n",
       "</style>\n",
       "<table border=\"1\" class=\"dataframe\">\n",
       "  <thead>\n",
       "    <tr style=\"text-align: right;\">\n",
       "      <th></th>\n",
       "      <th>satisfaction_level</th>\n",
       "      <th>last_evaluation</th>\n",
       "      <th>number_project</th>\n",
       "      <th>average_montly_hours</th>\n",
       "      <th>time_spend_company</th>\n",
       "      <th>Work_accident</th>\n",
       "      <th>left</th>\n",
       "      <th>promotion_last_5years</th>\n",
       "      <th>sales</th>\n",
       "      <th>salary</th>\n",
       "    </tr>\n",
       "  </thead>\n",
       "  <tbody>\n",
       "    <tr>\n",
       "      <th>7380</th>\n",
       "      <td>0.69</td>\n",
       "      <td>0.80</td>\n",
       "      <td>5</td>\n",
       "      <td>203</td>\n",
       "      <td>2</td>\n",
       "      <td>1</td>\n",
       "      <td>0</td>\n",
       "      <td>0</td>\n",
       "      <td>support</td>\n",
       "      <td>high</td>\n",
       "    </tr>\n",
       "    <tr>\n",
       "      <th>13802</th>\n",
       "      <td>0.54</td>\n",
       "      <td>0.64</td>\n",
       "      <td>3</td>\n",
       "      <td>190</td>\n",
       "      <td>7</td>\n",
       "      <td>0</td>\n",
       "      <td>0</td>\n",
       "      <td>0</td>\n",
       "      <td>sales</td>\n",
       "      <td>medium</td>\n",
       "    </tr>\n",
       "    <tr>\n",
       "      <th>7328</th>\n",
       "      <td>0.23</td>\n",
       "      <td>0.96</td>\n",
       "      <td>4</td>\n",
       "      <td>242</td>\n",
       "      <td>6</td>\n",
       "      <td>0</td>\n",
       "      <td>0</td>\n",
       "      <td>0</td>\n",
       "      <td>marketing</td>\n",
       "      <td>medium</td>\n",
       "    </tr>\n",
       "    <tr>\n",
       "      <th>11924</th>\n",
       "      <td>0.94</td>\n",
       "      <td>0.82</td>\n",
       "      <td>4</td>\n",
       "      <td>187</td>\n",
       "      <td>3</td>\n",
       "      <td>0</td>\n",
       "      <td>0</td>\n",
       "      <td>0</td>\n",
       "      <td>sales</td>\n",
       "      <td>low</td>\n",
       "    </tr>\n",
       "    <tr>\n",
       "      <th>5785</th>\n",
       "      <td>0.44</td>\n",
       "      <td>0.97</td>\n",
       "      <td>4</td>\n",
       "      <td>240</td>\n",
       "      <td>5</td>\n",
       "      <td>1</td>\n",
       "      <td>0</td>\n",
       "      <td>0</td>\n",
       "      <td>technical</td>\n",
       "      <td>medium</td>\n",
       "    </tr>\n",
       "    <tr>\n",
       "      <th>12930</th>\n",
       "      <td>0.90</td>\n",
       "      <td>0.57</td>\n",
       "      <td>4</td>\n",
       "      <td>185</td>\n",
       "      <td>3</td>\n",
       "      <td>1</td>\n",
       "      <td>0</td>\n",
       "      <td>0</td>\n",
       "      <td>technical</td>\n",
       "      <td>medium</td>\n",
       "    </tr>\n",
       "    <tr>\n",
       "      <th>14280</th>\n",
       "      <td>0.43</td>\n",
       "      <td>0.50</td>\n",
       "      <td>2</td>\n",
       "      <td>135</td>\n",
       "      <td>3</td>\n",
       "      <td>0</td>\n",
       "      <td>1</td>\n",
       "      <td>0</td>\n",
       "      <td>product_mng</td>\n",
       "      <td>medium</td>\n",
       "    </tr>\n",
       "    <tr>\n",
       "      <th>2943</th>\n",
       "      <td>0.68</td>\n",
       "      <td>0.51</td>\n",
       "      <td>4</td>\n",
       "      <td>224</td>\n",
       "      <td>2</td>\n",
       "      <td>0</td>\n",
       "      <td>0</td>\n",
       "      <td>0</td>\n",
       "      <td>technical</td>\n",
       "      <td>low</td>\n",
       "    </tr>\n",
       "    <tr>\n",
       "      <th>7396</th>\n",
       "      <td>0.53</td>\n",
       "      <td>0.61</td>\n",
       "      <td>4</td>\n",
       "      <td>198</td>\n",
       "      <td>2</td>\n",
       "      <td>0</td>\n",
       "      <td>0</td>\n",
       "      <td>0</td>\n",
       "      <td>product_mng</td>\n",
       "      <td>low</td>\n",
       "    </tr>\n",
       "    <tr>\n",
       "      <th>4036</th>\n",
       "      <td>0.78</td>\n",
       "      <td>0.80</td>\n",
       "      <td>4</td>\n",
       "      <td>175</td>\n",
       "      <td>3</td>\n",
       "      <td>0</td>\n",
       "      <td>0</td>\n",
       "      <td>0</td>\n",
       "      <td>product_mng</td>\n",
       "      <td>medium</td>\n",
       "    </tr>\n",
       "  </tbody>\n",
       "</table>\n",
       "</div>"
      ],
      "text/plain": [
       "       satisfaction_level  last_evaluation  number_project  \\\n",
       "7380                 0.69             0.80               5   \n",
       "13802                0.54             0.64               3   \n",
       "7328                 0.23             0.96               4   \n",
       "11924                0.94             0.82               4   \n",
       "5785                 0.44             0.97               4   \n",
       "12930                0.90             0.57               4   \n",
       "14280                0.43             0.50               2   \n",
       "2943                 0.68             0.51               4   \n",
       "7396                 0.53             0.61               4   \n",
       "4036                 0.78             0.80               4   \n",
       "\n",
       "       average_montly_hours  time_spend_company  Work_accident  left  \\\n",
       "7380                    203                   2              1     0   \n",
       "13802                   190                   7              0     0   \n",
       "7328                    242                   6              0     0   \n",
       "11924                   187                   3              0     0   \n",
       "5785                    240                   5              1     0   \n",
       "12930                   185                   3              1     0   \n",
       "14280                   135                   3              0     1   \n",
       "2943                    224                   2              0     0   \n",
       "7396                    198                   2              0     0   \n",
       "4036                    175                   3              0     0   \n",
       "\n",
       "       promotion_last_5years        sales  salary  \n",
       "7380                       0      support    high  \n",
       "13802                      0        sales  medium  \n",
       "7328                       0    marketing  medium  \n",
       "11924                      0        sales     low  \n",
       "5785                       0    technical  medium  \n",
       "12930                      0    technical  medium  \n",
       "14280                      0  product_mng  medium  \n",
       "2943                       0    technical     low  \n",
       "7396                       0  product_mng     low  \n",
       "4036                       0  product_mng  medium  "
      ]
     },
     "execution_count": 5,
     "metadata": {},
     "output_type": "execute_result"
    }
   ],
   "source": [
    "hr.sample(10)"
   ]
  },
  {
   "cell_type": "markdown",
   "metadata": {},
   "source": [
    "__Rename columns:__ \n",
    "\n",
    "* __\"sales\"__: seems to indicate the names of the departments in the company. To clarify, from now on \"sales\" column  will be called \"department\"\n",
    "* __\"Work_accident\"__ : it will be converted to lowercase letters\n",
    "* __\"average_montly_hours\"__ : it will be renamed correctly: average_monthly_hours"
   ]
  },
  {
   "cell_type": "code",
   "execution_count": 6,
   "metadata": {
    "scrolled": true
   },
   "outputs": [
    {
     "data": {
      "text/plain": [
       "Index(['satisfaction_level', 'last_evaluation', 'number_project',\n",
       "       'average_montly_hours', 'time_spend_company', 'Work_accident', 'left',\n",
       "       'promotion_last_5years', 'sales', 'salary'],\n",
       "      dtype='object')"
      ]
     },
     "execution_count": 6,
     "metadata": {},
     "output_type": "execute_result"
    }
   ],
   "source": [
    "hr.columns"
   ]
  },
  {
   "cell_type": "code",
   "execution_count": 7,
   "metadata": {},
   "outputs": [],
   "source": [
    "hr_renamed =hr.rename(columns={'Work_accident':'work_accident','sales':'department','average_montly_hours':'average_monthly_hours'})"
   ]
  },
  {
   "cell_type": "code",
   "execution_count": 8,
   "metadata": {},
   "outputs": [
    {
     "data": {
      "text/plain": [
       "Index(['satisfaction_level', 'last_evaluation', 'number_project',\n",
       "       'average_monthly_hours', 'time_spend_company', 'work_accident', 'left',\n",
       "       'promotion_last_5years', 'department', 'salary'],\n",
       "      dtype='object')"
      ]
     },
     "execution_count": 8,
     "metadata": {},
     "output_type": "execute_result"
    }
   ],
   "source": [
    "hr_renamed.columns"
   ]
  },
  {
   "cell_type": "markdown",
   "metadata": {},
   "source": [
    "__Is there any missing data?__"
   ]
  },
  {
   "cell_type": "code",
   "execution_count": 9,
   "metadata": {},
   "outputs": [
    {
     "data": {
      "text/plain": [
       "satisfaction_level       0\n",
       "last_evaluation          0\n",
       "number_project           0\n",
       "average_monthly_hours    0\n",
       "time_spend_company       0\n",
       "work_accident            0\n",
       "left                     0\n",
       "promotion_last_5years    0\n",
       "department               0\n",
       "salary                   0\n",
       "dtype: int64"
      ]
     },
     "execution_count": 9,
     "metadata": {},
     "output_type": "execute_result"
    }
   ],
   "source": [
    "hr_renamed.isnull().sum()\n",
    "#there isn't missing data"
   ]
  },
  {
   "cell_type": "code",
   "execution_count": 10,
   "metadata": {
    "scrolled": true
   },
   "outputs": [
    {
     "data": {
      "text/html": [
       "<div>\n",
       "<style scoped>\n",
       "    .dataframe tbody tr th:only-of-type {\n",
       "        vertical-align: middle;\n",
       "    }\n",
       "\n",
       "    .dataframe tbody tr th {\n",
       "        vertical-align: top;\n",
       "    }\n",
       "\n",
       "    .dataframe thead th {\n",
       "        text-align: right;\n",
       "    }\n",
       "</style>\n",
       "<table border=\"1\" class=\"dataframe\">\n",
       "  <thead>\n",
       "    <tr style=\"text-align: right;\">\n",
       "      <th></th>\n",
       "      <th>satisfaction_level</th>\n",
       "      <th>last_evaluation</th>\n",
       "      <th>number_project</th>\n",
       "      <th>average_monthly_hours</th>\n",
       "      <th>time_spend_company</th>\n",
       "      <th>work_accident</th>\n",
       "      <th>left</th>\n",
       "      <th>promotion_last_5years</th>\n",
       "      <th>department</th>\n",
       "      <th>salary</th>\n",
       "    </tr>\n",
       "  </thead>\n",
       "  <tbody>\n",
       "    <tr>\n",
       "      <th>0</th>\n",
       "      <td>0.38</td>\n",
       "      <td>0.53</td>\n",
       "      <td>2</td>\n",
       "      <td>157</td>\n",
       "      <td>3</td>\n",
       "      <td>0</td>\n",
       "      <td>1</td>\n",
       "      <td>0</td>\n",
       "      <td>sales</td>\n",
       "      <td>low</td>\n",
       "    </tr>\n",
       "    <tr>\n",
       "      <th>1</th>\n",
       "      <td>0.80</td>\n",
       "      <td>0.86</td>\n",
       "      <td>5</td>\n",
       "      <td>262</td>\n",
       "      <td>6</td>\n",
       "      <td>0</td>\n",
       "      <td>1</td>\n",
       "      <td>0</td>\n",
       "      <td>sales</td>\n",
       "      <td>medium</td>\n",
       "    </tr>\n",
       "    <tr>\n",
       "      <th>2</th>\n",
       "      <td>0.11</td>\n",
       "      <td>0.88</td>\n",
       "      <td>7</td>\n",
       "      <td>272</td>\n",
       "      <td>4</td>\n",
       "      <td>0</td>\n",
       "      <td>1</td>\n",
       "      <td>0</td>\n",
       "      <td>sales</td>\n",
       "      <td>medium</td>\n",
       "    </tr>\n",
       "    <tr>\n",
       "      <th>3</th>\n",
       "      <td>0.72</td>\n",
       "      <td>0.87</td>\n",
       "      <td>5</td>\n",
       "      <td>223</td>\n",
       "      <td>5</td>\n",
       "      <td>0</td>\n",
       "      <td>1</td>\n",
       "      <td>0</td>\n",
       "      <td>sales</td>\n",
       "      <td>low</td>\n",
       "    </tr>\n",
       "    <tr>\n",
       "      <th>4</th>\n",
       "      <td>0.37</td>\n",
       "      <td>0.52</td>\n",
       "      <td>2</td>\n",
       "      <td>159</td>\n",
       "      <td>3</td>\n",
       "      <td>0</td>\n",
       "      <td>1</td>\n",
       "      <td>0</td>\n",
       "      <td>sales</td>\n",
       "      <td>low</td>\n",
       "    </tr>\n",
       "  </tbody>\n",
       "</table>\n",
       "</div>"
      ],
      "text/plain": [
       "   satisfaction_level  last_evaluation  number_project  average_monthly_hours  \\\n",
       "0                0.38             0.53               2                    157   \n",
       "1                0.80             0.86               5                    262   \n",
       "2                0.11             0.88               7                    272   \n",
       "3                0.72             0.87               5                    223   \n",
       "4                0.37             0.52               2                    159   \n",
       "\n",
       "   time_spend_company  work_accident  left  promotion_last_5years department  \\\n",
       "0                   3              0     1                      0      sales   \n",
       "1                   6              0     1                      0      sales   \n",
       "2                   4              0     1                      0      sales   \n",
       "3                   5              0     1                      0      sales   \n",
       "4                   3              0     1                      0      sales   \n",
       "\n",
       "   salary  \n",
       "0     low  \n",
       "1  medium  \n",
       "2  medium  \n",
       "3     low  \n",
       "4     low  "
      ]
     },
     "execution_count": 10,
     "metadata": {},
     "output_type": "execute_result"
    }
   ],
   "source": [
    "hr_renamed.head()"
   ]
  },
  {
   "cell_type": "markdown",
   "metadata": {},
   "source": [
    "__Find and remove duplicates__"
   ]
  },
  {
   "cell_type": "code",
   "execution_count": 11,
   "metadata": {
    "scrolled": true
   },
   "outputs": [
    {
     "data": {
      "text/plain": [
       "3008"
      ]
     },
     "execution_count": 11,
     "metadata": {},
     "output_type": "execute_result"
    }
   ],
   "source": [
    "len(hr_renamed[hr_renamed.duplicated]==True)"
   ]
  },
  {
   "cell_type": "code",
   "execution_count": 12,
   "metadata": {},
   "outputs": [
    {
     "data": {
      "text/plain": [
       "(11991, 10)"
      ]
     },
     "execution_count": 12,
     "metadata": {},
     "output_type": "execute_result"
    }
   ],
   "source": [
    "#After validating the size of these elements I feel comfortable removing duplicates from the data set\n",
    "hr_no_dupl= hr_renamed.drop_duplicates()\n",
    "hr_no_dupl.shape"
   ]
  },
  {
   "cell_type": "code",
   "execution_count": 13,
   "metadata": {},
   "outputs": [
    {
     "data": {
      "text/html": [
       "<div>\n",
       "<style scoped>\n",
       "    .dataframe tbody tr th:only-of-type {\n",
       "        vertical-align: middle;\n",
       "    }\n",
       "\n",
       "    .dataframe tbody tr th {\n",
       "        vertical-align: top;\n",
       "    }\n",
       "\n",
       "    .dataframe thead th {\n",
       "        text-align: right;\n",
       "    }\n",
       "</style>\n",
       "<table border=\"1\" class=\"dataframe\">\n",
       "  <thead>\n",
       "    <tr style=\"text-align: right;\">\n",
       "      <th></th>\n",
       "      <th>satisfaction_level</th>\n",
       "      <th>last_evaluation</th>\n",
       "      <th>number_project</th>\n",
       "      <th>average_monthly_hours</th>\n",
       "      <th>time_spend_company</th>\n",
       "      <th>work_accident</th>\n",
       "      <th>left</th>\n",
       "      <th>promotion_last_5years</th>\n",
       "    </tr>\n",
       "  </thead>\n",
       "  <tbody>\n",
       "    <tr>\n",
       "      <th>count</th>\n",
       "      <td>11991.000000</td>\n",
       "      <td>11991.000000</td>\n",
       "      <td>11991.000000</td>\n",
       "      <td>11991.000000</td>\n",
       "      <td>11991.000000</td>\n",
       "      <td>11991.000000</td>\n",
       "      <td>11991.000000</td>\n",
       "      <td>11991.000000</td>\n",
       "    </tr>\n",
       "    <tr>\n",
       "      <th>mean</th>\n",
       "      <td>0.629658</td>\n",
       "      <td>0.716683</td>\n",
       "      <td>3.802852</td>\n",
       "      <td>200.473522</td>\n",
       "      <td>3.364857</td>\n",
       "      <td>0.154282</td>\n",
       "      <td>0.166041</td>\n",
       "      <td>0.016929</td>\n",
       "    </tr>\n",
       "    <tr>\n",
       "      <th>std</th>\n",
       "      <td>0.241070</td>\n",
       "      <td>0.168343</td>\n",
       "      <td>1.163238</td>\n",
       "      <td>48.727813</td>\n",
       "      <td>1.330240</td>\n",
       "      <td>0.361234</td>\n",
       "      <td>0.372133</td>\n",
       "      <td>0.129012</td>\n",
       "    </tr>\n",
       "    <tr>\n",
       "      <th>min</th>\n",
       "      <td>0.090000</td>\n",
       "      <td>0.360000</td>\n",
       "      <td>2.000000</td>\n",
       "      <td>96.000000</td>\n",
       "      <td>2.000000</td>\n",
       "      <td>0.000000</td>\n",
       "      <td>0.000000</td>\n",
       "      <td>0.000000</td>\n",
       "    </tr>\n",
       "    <tr>\n",
       "      <th>25%</th>\n",
       "      <td>0.480000</td>\n",
       "      <td>0.570000</td>\n",
       "      <td>3.000000</td>\n",
       "      <td>157.000000</td>\n",
       "      <td>3.000000</td>\n",
       "      <td>0.000000</td>\n",
       "      <td>0.000000</td>\n",
       "      <td>0.000000</td>\n",
       "    </tr>\n",
       "    <tr>\n",
       "      <th>50%</th>\n",
       "      <td>0.660000</td>\n",
       "      <td>0.720000</td>\n",
       "      <td>4.000000</td>\n",
       "      <td>200.000000</td>\n",
       "      <td>3.000000</td>\n",
       "      <td>0.000000</td>\n",
       "      <td>0.000000</td>\n",
       "      <td>0.000000</td>\n",
       "    </tr>\n",
       "    <tr>\n",
       "      <th>75%</th>\n",
       "      <td>0.820000</td>\n",
       "      <td>0.860000</td>\n",
       "      <td>5.000000</td>\n",
       "      <td>243.000000</td>\n",
       "      <td>4.000000</td>\n",
       "      <td>0.000000</td>\n",
       "      <td>0.000000</td>\n",
       "      <td>0.000000</td>\n",
       "    </tr>\n",
       "    <tr>\n",
       "      <th>max</th>\n",
       "      <td>1.000000</td>\n",
       "      <td>1.000000</td>\n",
       "      <td>7.000000</td>\n",
       "      <td>310.000000</td>\n",
       "      <td>10.000000</td>\n",
       "      <td>1.000000</td>\n",
       "      <td>1.000000</td>\n",
       "      <td>1.000000</td>\n",
       "    </tr>\n",
       "  </tbody>\n",
       "</table>\n",
       "</div>"
      ],
      "text/plain": [
       "       satisfaction_level  last_evaluation  number_project  \\\n",
       "count        11991.000000     11991.000000    11991.000000   \n",
       "mean             0.629658         0.716683        3.802852   \n",
       "std              0.241070         0.168343        1.163238   \n",
       "min              0.090000         0.360000        2.000000   \n",
       "25%              0.480000         0.570000        3.000000   \n",
       "50%              0.660000         0.720000        4.000000   \n",
       "75%              0.820000         0.860000        5.000000   \n",
       "max              1.000000         1.000000        7.000000   \n",
       "\n",
       "       average_monthly_hours  time_spend_company  work_accident          left  \\\n",
       "count           11991.000000        11991.000000   11991.000000  11991.000000   \n",
       "mean              200.473522            3.364857       0.154282      0.166041   \n",
       "std                48.727813            1.330240       0.361234      0.372133   \n",
       "min                96.000000            2.000000       0.000000      0.000000   \n",
       "25%               157.000000            3.000000       0.000000      0.000000   \n",
       "50%               200.000000            3.000000       0.000000      0.000000   \n",
       "75%               243.000000            4.000000       0.000000      0.000000   \n",
       "max               310.000000           10.000000       1.000000      1.000000   \n",
       "\n",
       "       promotion_last_5years  \n",
       "count           11991.000000  \n",
       "mean                0.016929  \n",
       "std                 0.129012  \n",
       "min                 0.000000  \n",
       "25%                 0.000000  \n",
       "50%                 0.000000  \n",
       "75%                 0.000000  \n",
       "max                 1.000000  "
      ]
     },
     "execution_count": 13,
     "metadata": {},
     "output_type": "execute_result"
    }
   ],
   "source": [
    "#Descriptive analysis\n",
    "hr_no_dupl.describe()"
   ]
  },
  {
   "cell_type": "markdown",
   "metadata": {},
   "source": [
    "It is observed that:\n",
    "    \n",
    "* Satisfaction level is around 63% and last evaluation(performance) is around 72%\n",
    "* Almost the 17% of employees left the company\n",
    "* Employees work 200 hours monthly and in average on 4 projects, spending  3 years at company in average\n",
    "* Accidents happen in a 15% of times and promotions seems to be very low"
   ]
  },
  {
   "cell_type": "markdown",
   "metadata": {},
   "source": [
    "# 4. Analysis and some Quick Visualitations"
   ]
  },
  {
   "cell_type": "markdown",
   "metadata": {},
   "source": [
    "### Job distribution\n",
    "_How many employees work in each department?_\n",
    "\n",
    "Due to we unknow what this company is dedicated to, this analysis can be useful to determine the type of company segment."
   ]
  },
  {
   "cell_type": "code",
   "execution_count": 14,
   "metadata": {},
   "outputs": [
    {
     "data": {
      "text/html": [
       "<div>\n",
       "<style scoped>\n",
       "    .dataframe tbody tr th:only-of-type {\n",
       "        vertical-align: middle;\n",
       "    }\n",
       "\n",
       "    .dataframe tbody tr th {\n",
       "        vertical-align: top;\n",
       "    }\n",
       "\n",
       "    .dataframe thead th {\n",
       "        text-align: right;\n",
       "    }\n",
       "</style>\n",
       "<table border=\"1\" class=\"dataframe\">\n",
       "  <thead>\n",
       "    <tr style=\"text-align: right;\">\n",
       "      <th></th>\n",
       "      <th>department</th>\n",
       "      <th>left</th>\n",
       "    </tr>\n",
       "  </thead>\n",
       "  <tbody>\n",
       "    <tr>\n",
       "      <th>0</th>\n",
       "      <td>sales</td>\n",
       "      <td>3239</td>\n",
       "    </tr>\n",
       "    <tr>\n",
       "      <th>1</th>\n",
       "      <td>technical</td>\n",
       "      <td>2244</td>\n",
       "    </tr>\n",
       "    <tr>\n",
       "      <th>2</th>\n",
       "      <td>support</td>\n",
       "      <td>1821</td>\n",
       "    </tr>\n",
       "    <tr>\n",
       "      <th>3</th>\n",
       "      <td>IT</td>\n",
       "      <td>976</td>\n",
       "    </tr>\n",
       "    <tr>\n",
       "      <th>4</th>\n",
       "      <td>RandD</td>\n",
       "      <td>694</td>\n",
       "    </tr>\n",
       "    <tr>\n",
       "      <th>5</th>\n",
       "      <td>product_mng</td>\n",
       "      <td>686</td>\n",
       "    </tr>\n",
       "    <tr>\n",
       "      <th>6</th>\n",
       "      <td>marketing</td>\n",
       "      <td>673</td>\n",
       "    </tr>\n",
       "    <tr>\n",
       "      <th>7</th>\n",
       "      <td>accounting</td>\n",
       "      <td>621</td>\n",
       "    </tr>\n",
       "    <tr>\n",
       "      <th>8</th>\n",
       "      <td>hr</td>\n",
       "      <td>601</td>\n",
       "    </tr>\n",
       "    <tr>\n",
       "      <th>9</th>\n",
       "      <td>management</td>\n",
       "      <td>436</td>\n",
       "    </tr>\n",
       "  </tbody>\n",
       "</table>\n",
       "</div>"
      ],
      "text/plain": [
       "    department  left\n",
       "0        sales  3239\n",
       "1    technical  2244\n",
       "2      support  1821\n",
       "3           IT   976\n",
       "4        RandD   694\n",
       "5  product_mng   686\n",
       "6    marketing   673\n",
       "7   accounting   621\n",
       "8           hr   601\n",
       "9   management   436"
      ]
     },
     "execution_count": 14,
     "metadata": {},
     "output_type": "execute_result"
    }
   ],
   "source": [
    "headcount_by_department = hr_no_dupl.groupby('department')['left'].count().sort_values(ascending=False).reset_index()\n",
    "headcount_by_department"
   ]
  },
  {
   "cell_type": "code",
   "execution_count": 15,
   "metadata": {},
   "outputs": [
    {
     "data": {
      "image/png": "[encoded data removed]",
      "text/plain": [
       "<Figure size 360x360 with 1 Axes>"
      ]
     },
     "metadata": {},
     "output_type": "display_data"
    }
   ],
   "source": [
    "#graph:\n",
    "\n",
    "plt.figure(figsize=(5,5))\n",
    "explode=(0.15,0.15,0.1,0.05,0.02,0.02,0.01,0.01,0,0) #highlight the 4 main values\n",
    "plt.pie(headcount_by_department.left,labels=headcount_by_department.department,autopct='%1d%%',explode=explode)\n",
    "plt.title('Graph 1:Employee distribution',fontsize=17)\n",
    "plt.show()"
   ]
  },
  {
   "cell_type": "markdown",
   "metadata": {},
   "source": [
    "* Sales, Technical and Support are the departments with a higher number of employees (50% over total)"
   ]
  },
  {
   "cell_type": "markdown",
   "metadata": {},
   "source": [
    "## Turnover rate"
   ]
  },
  {
   "cell_type": "markdown",
   "metadata": {},
   "source": [
    "The term ‘employee turnover rate’ refers to the percentage of employees who leave an organization during a certain period of time. People usually include voluntary resignations, dismissals, non certifications and retirements in their turnover calculations. They normally don’t include internal movements like promotions or transfers. \n",
    "\n",
    "Source: [https://resources.workable.com/tutorial/calculate-employee-turnover-rate]"
   ]
  },
  {
   "cell_type": "markdown",
   "metadata": {},
   "source": [
    "### Which is the turnover rate of this company?\n",
    "\n",
    "Typically, turnover is measured on a month or annual basis. As a general rule, high rate is damaging to a company's revenue and profitability. As I unknow the period of time of this dataset, I will assume that it has been measured on annual basis. \n",
    "\n",
    "Here is the formula for annual turnover rate:\n",
    "\n",
    "![image.png](https://www.brighthr.com/media/112089/how-to-calculate-staff-turnover-by-year.jpg)"
   ]
  },
  {
   "cell_type": "markdown",
   "metadata": {},
   "source": [
    "To simplify, let's calculate the turnover rate as:"
   ]
  },
  {
   "cell_type": "code",
   "execution_count": 16,
   "metadata": {},
   "outputs": [
    {
     "data": {
      "text/plain": [
       "16.6"
      ]
     },
     "execution_count": 16,
     "metadata": {},
     "output_type": "execute_result"
    }
   ],
   "source": [
    "turnover_rate = round(hr_no_dupl['left'].mean()*100,1)\n",
    "turnover_rate"
   ]
  },
  {
   "cell_type": "markdown",
   "metadata": {},
   "source": [
    "So, I can determine that 17% of the employees left the company. Is it high, is it low, is it bad, is it good...?\n",
    "Well, the ideal labour turnover will depend on the business and the industry the company work in. \n",
    "\n",
    "I have no enough information about the company and it seems not easy to discover it.  However what I can and try to find out and analyse is : __What are people leaving the company like and why they do it?__ "
   ]
  },
  {
   "cell_type": "markdown",
   "metadata": {},
   "source": [
    "### Which is the turnover rate by department?"
   ]
  },
  {
   "cell_type": "code",
   "execution_count": 17,
   "metadata": {},
   "outputs": [
    {
     "data": {
      "text/plain": [
       "department\n",
       "hr             18.8\n",
       "accounting     17.6\n",
       "technical      17.4\n",
       "support        17.1\n",
       "sales          17.0\n",
       "marketing      16.6\n",
       "IT             16.2\n",
       "product_mng    16.0\n",
       "RandD          12.2\n",
       "management     11.9\n",
       "Name: left, dtype: float64"
      ]
     },
     "execution_count": 17,
     "metadata": {},
     "output_type": "execute_result"
    }
   ],
   "source": [
    "turnover_by_department = round(hr_no_dupl.groupby('department')['left'].mean().sort_values(ascending=False)*100,1)\n",
    "turnover_by_department"
   ]
  },
  {
   "cell_type": "code",
   "execution_count": 18,
   "metadata": {},
   "outputs": [
    {
     "data": {
      "image/png": "[encoded data removed]",
      "text/plain": [
       "<Figure size 720x504 with 1 Axes>"
      ]
     },
     "metadata": {},
     "output_type": "display_data"
    }
   ],
   "source": [
    "#this graph shows turnover ratio by department vs. Company ratio (16.6%)\n",
    "\n",
    "plt.figure(figsize=(10,7))\n",
    "plt.barh(turnover_by_department .index,turnover_by_department.values,color='blue',alpha=0.4)\n",
    "plt.barh(turnover_by_department.index,turnover_rate,alpha=.3,color='green', label='average company turnover rate')\n",
    "plt.xlabel('turnover ratio')\n",
    "plt.ylabel('department')\n",
    "plt.legend()\n",
    "plt.title('Graph 2: Turnover rate by department vs. average company rate', fontsize= 17)\n",
    "plt.show()"
   ]
  },
  {
   "cell_type": "markdown",
   "metadata": {},
   "source": [
    "* Human Resources is the department with the highest turnover rate. \n",
    "\n",
    "* The departments with a higher number of employees (Sales, Technical and Support) are also above the average.\n",
    "\n",
    "* Management is far below the average, probably (don't know yet) because their salaries are higher."
   ]
  },
  {
   "cell_type": "markdown",
   "metadata": {},
   "source": [
    "### Turnover by salary"
   ]
  },
  {
   "cell_type": "markdown",
   "metadata": {},
   "source": [
    "__Could salary be a strong reason to leave the job?__"
   ]
  },
  {
   "cell_type": "code",
   "execution_count": 19,
   "metadata": {
    "scrolled": false
   },
   "outputs": [
    {
     "data": {
      "text/html": [
       "<div>\n",
       "<style scoped>\n",
       "    .dataframe tbody tr th:only-of-type {\n",
       "        vertical-align: middle;\n",
       "    }\n",
       "\n",
       "    .dataframe tbody tr th {\n",
       "        vertical-align: top;\n",
       "    }\n",
       "\n",
       "    .dataframe thead th {\n",
       "        text-align: right;\n",
       "    }\n",
       "</style>\n",
       "<table border=\"1\" class=\"dataframe\">\n",
       "  <thead>\n",
       "    <tr style=\"text-align: right;\">\n",
       "      <th></th>\n",
       "      <th>salary</th>\n",
       "      <th>left</th>\n",
       "    </tr>\n",
       "  </thead>\n",
       "  <tbody>\n",
       "    <tr>\n",
       "      <th>0</th>\n",
       "      <td>low</td>\n",
       "      <td>20.5</td>\n",
       "    </tr>\n",
       "    <tr>\n",
       "      <th>1</th>\n",
       "      <td>medium</td>\n",
       "      <td>14.6</td>\n",
       "    </tr>\n",
       "    <tr>\n",
       "      <th>2</th>\n",
       "      <td>high</td>\n",
       "      <td>4.8</td>\n",
       "    </tr>\n",
       "  </tbody>\n",
       "</table>\n",
       "</div>"
      ],
      "text/plain": [
       "   salary  left\n",
       "0     low  20.5\n",
       "1  medium  14.6\n",
       "2    high   4.8"
      ]
     },
     "execution_count": 19,
     "metadata": {},
     "output_type": "execute_result"
    }
   ],
   "source": [
    "turnover_by_salary= round(hr_no_dupl.groupby('salary')['left'].mean()*100,1).sort_values(ascending=False).reset_index()\n",
    "turnover_by_salary"
   ]
  },
  {
   "cell_type": "markdown",
   "metadata": {},
   "source": [
    "* As expected, the lower the salary, the greater the turnover."
   ]
  },
  {
   "cell_type": "markdown",
   "metadata": {},
   "source": [
    "__Who has the lowest salaries?__"
   ]
  },
  {
   "cell_type": "code",
   "execution_count": 20,
   "metadata": {},
   "outputs": [
    {
     "data": {
      "text/html": [
       "<div>\n",
       "<style scoped>\n",
       "    .dataframe tbody tr th:only-of-type {\n",
       "        vertical-align: middle;\n",
       "    }\n",
       "\n",
       "    .dataframe tbody tr th {\n",
       "        vertical-align: top;\n",
       "    }\n",
       "\n",
       "    .dataframe thead th {\n",
       "        text-align: right;\n",
       "    }\n",
       "</style>\n",
       "<table border=\"1\" class=\"dataframe\">\n",
       "  <thead>\n",
       "    <tr style=\"text-align: right;\">\n",
       "      <th></th>\n",
       "      <th>satisfaction_level</th>\n",
       "      <th>last_evaluation</th>\n",
       "      <th>number_project</th>\n",
       "      <th>average_monthly_hours</th>\n",
       "      <th>time_spend_company</th>\n",
       "      <th>work_accident</th>\n",
       "      <th>promotion_last_5years</th>\n",
       "    </tr>\n",
       "    <tr>\n",
       "      <th>left</th>\n",
       "      <th></th>\n",
       "      <th></th>\n",
       "      <th></th>\n",
       "      <th></th>\n",
       "      <th></th>\n",
       "      <th></th>\n",
       "      <th></th>\n",
       "    </tr>\n",
       "  </thead>\n",
       "  <tbody>\n",
       "    <tr>\n",
       "      <th>0</th>\n",
       "      <td>0.667365</td>\n",
       "      <td>0.715667</td>\n",
       "      <td>3.786800</td>\n",
       "      <td>198.94270</td>\n",
       "      <td>3.262000</td>\n",
       "      <td>0.174500</td>\n",
       "      <td>0.019500</td>\n",
       "    </tr>\n",
       "    <tr>\n",
       "      <th>1</th>\n",
       "      <td>0.440271</td>\n",
       "      <td>0.721783</td>\n",
       "      <td>3.883476</td>\n",
       "      <td>208.16223</td>\n",
       "      <td>3.881467</td>\n",
       "      <td>0.052737</td>\n",
       "      <td>0.004018</td>\n",
       "    </tr>\n",
       "  </tbody>\n",
       "</table>\n",
       "</div>"
      ],
      "text/plain": [
       "      satisfaction_level  last_evaluation  number_project  \\\n",
       "left                                                        \n",
       "0               0.667365         0.715667        3.786800   \n",
       "1               0.440271         0.721783        3.883476   \n",
       "\n",
       "      average_monthly_hours  time_spend_company  work_accident  \\\n",
       "left                                                             \n",
       "0                 198.94270            3.262000       0.174500   \n",
       "1                 208.16223            3.881467       0.052737   \n",
       "\n",
       "      promotion_last_5years  \n",
       "left                         \n",
       "0                  0.019500  \n",
       "1                  0.004018  "
      ]
     },
     "execution_count": 20,
     "metadata": {},
     "output_type": "execute_result"
    }
   ],
   "source": [
    "#There are two well differenciated groups of employees\n",
    "hr_no_dupl.groupby('left').mean()"
   ]
  },
  {
   "cell_type": "code",
   "execution_count": 21,
   "metadata": {},
   "outputs": [],
   "source": [
    "#Definitions:\n",
    "people_who_stay= hr_no_dupl[hr_no_dupl['left']==0] #people who stay \n",
    "people_who_leave= hr_no_dupl[hr_no_dupl['left']==1] #people who leave"
   ]
  },
  {
   "cell_type": "code",
   "execution_count": 22,
   "metadata": {},
   "outputs": [
    {
     "name": "stdout",
     "output_type": "stream",
     "text": [
      "number of employees who left:  1991\n",
      "number of employees who stayed:  10000\n"
     ]
    }
   ],
   "source": [
    "#How many are there?\n",
    "print(\"number of employees who left: \",len(people_who_leave))\n",
    "print(\"number of employees who stayed: \",len(people_who_stay))"
   ]
  },
  {
   "cell_type": "code",
   "execution_count": 23,
   "metadata": {},
   "outputs": [
    {
     "data": {
      "image/png": "[encoded data removed]",
      "text/plain": [
       "<Figure size 720x288 with 2 Axes>"
      ]
     },
     "metadata": {},
     "output_type": "display_data"
    }
   ],
   "source": [
    "#graph:\n",
    "\n",
    "X= people_who_leave['salary'].unique()\n",
    "Y1 = people_who_leave.groupby('salary')['left'].count().reset_index()['left'] #salaries of people who left\n",
    "Y2 = people_who_stay.groupby('salary')['left'].count().reset_index()['left'] #salaries of people who stay\n",
    "\n",
    "figure,axs = plt.subplots(ncols=2)\n",
    "\n",
    "axs[0].bar(X,Y1,color='blue')\n",
    "axs[1].bar(X,Y2,color='green')\n",
    "axs[0].set_ylabel('Number of Employees')\n",
    "axs[0].set_xlabel('Salary')\n",
    "axs[1].set_xlabel('Salary')\n",
    "\n",
    "figure.set_size_inches(10,4)\n",
    "\n",
    "axs[0].legend(['people who left'],loc='upper left')\n",
    "axs[1].legend(['people who stay'])\n",
    "\n",
    "plt.title('Graph 3. Salary differences between people who left and people who stayed at compay')\n",
    "\n",
    "plt.show()\n"
   ]
  },
  {
   "cell_type": "markdown",
   "metadata": {},
   "source": [
    "* Salaries are lower in people who left so, definitely, it could be a reason for leaving."
   ]
  },
  {
   "cell_type": "markdown",
   "metadata": {},
   "source": [
    "__Having a look the amount of people who left by department ...__"
   ]
  },
  {
   "cell_type": "code",
   "execution_count": 24,
   "metadata": {
    "scrolled": true
   },
   "outputs": [
    {
     "data": {
      "application/javascript": [
       "var spec = {\"config\": {\"view\": {\"width\": 400, \"height\": 300}}, \"data\": {\"name\": \"data-c6bec04b6a778cd85a22750789f55107\"}, \"mark\": \"bar\", \"encoding\": {\"x\": {\"type\": \"quantitative\", \"field\": \"left\"}, \"y\": {\"type\": \"nominal\", \"field\": \"department\"}}, \"selection\": {\"selector001\": {\"type\": \"interval\", \"bind\": \"scales\", \"encodings\": [\"x\", \"y\"]}}, \"title\": \"Graph 4. People who left the company by department\", \"width\": 600, \"$schema\": \"https://vega.github.io/schema/vega-lite/v2.6.0.json\", \"datasets\": {\"data-c6bec04b6a778cd85a22750789f55107\": [{\"department\": \"IT\", \"left\": 158}, {\"department\": \"RandD\", \"left\": 85}, {\"department\": \"accounting\", \"left\": 109}, {\"department\": \"hr\", \"left\": 113}, {\"department\": \"management\", \"left\": 52}, {\"department\": \"marketing\", \"left\": 112}, {\"department\": \"product_mng\", \"left\": 110}, {\"department\": \"sales\", \"left\": 550}, {\"department\": \"support\", \"left\": 312}, {\"department\": \"technical\", \"left\": 390}]}};\n",
       "var opt = {};\n",
       "var type = \"vega-lite\";\n",
       "var id = \"58e42b53-fa14-4015-b8d7-575f721e26a8\";\n",
       "\n",
       "var output_area = this;\n",
       "\n",
       "require([\"nbextensions/jupyter-vega/index\"], function(vega) {\n",
       "  var target = document.createElement(\"div\");\n",
       "  target.id = id;\n",
       "  target.className = \"vega-embed\";\n",
       "\n",
       "  var style = document.createElement(\"style\");\n",
       "  style.textContent = [\n",
       "    \".vega-embed .error p {\",\n",
       "    \"  color: firebrick;\",\n",
       "    \"  font-size: 14px;\",\n",
       "    \"}\",\n",
       "  ].join(\"\\\\n\");\n",
       "\n",
       "  // element is a jQuery wrapped DOM element inside the output area\n",
       "  // see http://ipython.readthedocs.io/en/stable/api/generated/\\\n",
       "  // IPython.display.html#IPython.display.Javascript.__init__\n",
       "  element[0].appendChild(target);\n",
       "  element[0].appendChild(style);\n",
       "\n",
       "  vega.render(\"#\" + id, spec, type, opt, output_area);\n",
       "}, function (err) {\n",
       "  if (err.requireType !== \"scripterror\") {\n",
       "    throw(err);\n",
       "  }\n",
       "});\n"
      ],
      "text/plain": [
       "<vega.vegalite.VegaLite at 0x7fd481c2d6d8>"
      ]
     },
     "metadata": {
      "jupyter-vega": "#58e42b53-fa14-4015-b8d7-575f721e26a8"
     },
     "output_type": "display_data"
    },
    {
     "data": {
      "text/plain": []
     },
     "execution_count": 24,
     "metadata": {},
     "output_type": "execute_result"
    },
    {
     "data": {
      "image/png": "[encoded data removed]"
     },
     "metadata": {
      "jupyter-vega": "#58e42b53-fa14-4015-b8d7-575f721e26a8"
     },
     "output_type": "display_data"
    },
    {
     "data": {
      "image/png": "[encoded data removed]"
     },
     "metadata": {
      "jupyter-vega": "#58e42b53-fa14-4015-b8d7-575f721e26a8"
     },
     "output_type": "display_data"
    }
   ],
   "source": [
    "alt.Chart(people_who_leave.groupby(['department'])['left'].count().reset_index()).mark_bar().encode(\n",
    "    x=\"left\",\n",
    "    y=\"department\"\n",
    ").properties(\n",
    "    title=\"Graph 4. People who left the company by department\",\n",
    "    width=600\n",
    ").interactive()"
   ]
  },
  {
   "cell_type": "markdown",
   "metadata": {},
   "source": [
    "+ Sales, Support and Technical are the departments that most employees leave the company"
   ]
  },
  {
   "cell_type": "markdown",
   "metadata": {},
   "source": [
    "__Which is the salary breakdown by department?__"
   ]
  },
  {
   "cell_type": "code",
   "execution_count": 57,
   "metadata": {},
   "outputs": [
    {
     "data": {
      "text/html": [
       "<div>\n",
       "<style scoped>\n",
       "    .dataframe tbody tr th:only-of-type {\n",
       "        vertical-align: middle;\n",
       "    }\n",
       "\n",
       "    .dataframe tbody tr th {\n",
       "        vertical-align: top;\n",
       "    }\n",
       "\n",
       "    .dataframe thead th {\n",
       "        text-align: right;\n",
       "    }\n",
       "</style>\n",
       "<table border=\"1\" class=\"dataframe\">\n",
       "  <thead>\n",
       "    <tr style=\"text-align: right;\">\n",
       "      <th></th>\n",
       "      <th>department</th>\n",
       "      <th>salary</th>\n",
       "      <th>%_Employees</th>\n",
       "    </tr>\n",
       "  </thead>\n",
       "  <tbody>\n",
       "    <tr>\n",
       "      <th>0</th>\n",
       "      <td>IT</td>\n",
       "      <td>high</td>\n",
       "      <td>0.025316</td>\n",
       "    </tr>\n",
       "    <tr>\n",
       "      <th>1</th>\n",
       "      <td>IT</td>\n",
       "      <td>low</td>\n",
       "      <td>0.550633</td>\n",
       "    </tr>\n",
       "    <tr>\n",
       "      <th>2</th>\n",
       "      <td>IT</td>\n",
       "      <td>medium</td>\n",
       "      <td>0.424051</td>\n",
       "    </tr>\n",
       "    <tr>\n",
       "      <th>3</th>\n",
       "      <td>RandD</td>\n",
       "      <td>high</td>\n",
       "      <td>0.035294</td>\n",
       "    </tr>\n",
       "    <tr>\n",
       "      <th>4</th>\n",
       "      <td>RandD</td>\n",
       "      <td>low</td>\n",
       "      <td>0.600000</td>\n",
       "    </tr>\n",
       "  </tbody>\n",
       "</table>\n",
       "</div>"
      ],
      "text/plain": [
       "  department  salary  %_Employees\n",
       "0         IT    high     0.025316\n",
       "1         IT     low     0.550633\n",
       "2         IT  medium     0.424051\n",
       "3      RandD    high     0.035294\n",
       "4      RandD     low     0.600000"
      ]
     },
     "execution_count": 57,
     "metadata": {},
     "output_type": "execute_result"
    }
   ],
   "source": [
    "#I will calculate the % total employees by department for each salary gap\n",
    "\n",
    "people_who_leave_by_department= people_who_leave.groupby(['department', 'salary']).size() #Absolute values\n",
    "people_who_leave_by_department_percentage= people_who_leave_by_department.groupby(level=[0]).apply(lambda x: x / x.sum()).reset_index() #percentage\n",
    "people_who_leave_by_department_percentage.columns=['department','salary','%_Employees'] #renaming columns name\n",
    "people_who_leave_by_department_percentage.head()"
   ]
  },
  {
   "cell_type": "code",
   "execution_count": 59,
   "metadata": {},
   "outputs": [
    {
     "data": {
      "application/javascript": [
       "var spec = {\"config\": {\"view\": {\"width\": 400, \"height\": 300}}, \"data\": {\"name\": \"data-ffbd7582d7c6fb0d2b074eedad3e6787\"}, \"mark\": \"bar\", \"encoding\": {\"color\": {\"type\": \"nominal\", \"field\": \"salary\"}, \"x\": {\"type\": \"quantitative\", \"field\": \"%_Employees\"}, \"y\": {\"type\": \"nominal\", \"field\": \"department\"}}, \"selection\": {\"selector004\": {\"type\": \"interval\", \"bind\": \"scales\", \"encodings\": [\"x\", \"y\"]}}, \"title\": \"Graph 8. Salary breakdown by department\", \"width\": 600, \"$schema\": \"https://vega.github.io/schema/vega-lite/v2.6.0.json\", \"datasets\": {\"data-ffbd7582d7c6fb0d2b074eedad3e6787\": [{\"department\": \"IT\", \"salary\": \"high\", \"%_Employees\": 0.02531645569620253}, {\"department\": \"IT\", \"salary\": \"low\", \"%_Employees\": 0.5506329113924051}, {\"department\": \"IT\", \"salary\": \"medium\", \"%_Employees\": 0.4240506329113924}, {\"department\": \"RandD\", \"salary\": \"high\", \"%_Employees\": 0.03529411764705882}, {\"department\": \"RandD\", \"salary\": \"low\", \"%_Employees\": 0.6}, {\"department\": \"RandD\", \"salary\": \"medium\", \"%_Employees\": 0.36470588235294116}, {\"department\": \"accounting\", \"salary\": \"high\", \"%_Employees\": 0.027522935779816515}, {\"department\": \"accounting\", \"salary\": \"low\", \"%_Employees\": 0.5412844036697247}, {\"department\": \"accounting\", \"salary\": \"medium\", \"%_Employees\": 0.43119266055045874}, {\"department\": \"hr\", \"salary\": \"high\", \"%_Employees\": 0.02654867256637168}, {\"department\": \"hr\", \"salary\": \"low\", \"%_Employees\": 0.5486725663716814}, {\"department\": \"hr\", \"salary\": \"medium\", \"%_Employees\": 0.4247787610619469}, {\"department\": \"management\", \"salary\": \"high\", \"%_Employees\": 0.019230769230769232}, {\"department\": \"management\", \"salary\": \"low\", \"%_Employees\": 0.6153846153846154}, {\"department\": \"management\", \"salary\": \"medium\", \"%_Employees\": 0.36538461538461536}, {\"department\": \"marketing\", \"salary\": \"high\", \"%_Employees\": 0.026785714285714284}, {\"department\": \"marketing\", \"salary\": \"low\", \"%_Employees\": 0.6785714285714286}, {\"department\": \"marketing\", \"salary\": \"medium\", \"%_Employees\": 0.29464285714285715}, {\"department\": \"product_mng\", \"salary\": \"high\", \"%_Employees\": 0.03636363636363636}, {\"department\": \"product_mng\", \"salary\": \"low\", \"%_Employees\": 0.5363636363636364}, {\"department\": \"product_mng\", \"salary\": \"medium\", \"%_Employees\": 0.42727272727272725}, {\"department\": \"sales\", \"salary\": \"high\", \"%_Employees\": 0.02181818181818182}, {\"department\": \"sales\", \"salary\": \"low\", \"%_Employees\": 0.58}, {\"department\": \"sales\", \"salary\": \"medium\", \"%_Employees\": 0.3981818181818182}, {\"department\": \"support\", \"salary\": \"high\", \"%_Employees\": 0.016025641025641024}, {\"department\": \"support\", \"salary\": \"low\", \"%_Employees\": 0.6121794871794872}, {\"department\": \"support\", \"salary\": \"medium\", \"%_Employees\": 0.3717948717948718}, {\"department\": \"technical\", \"salary\": \"high\", \"%_Employees\": 0.02564102564102564}, {\"department\": \"technical\", \"salary\": \"low\", \"%_Employees\": 0.6102564102564103}, {\"department\": \"technical\", \"salary\": \"medium\", \"%_Employees\": 0.3641025641025641}]}};\n",
       "var opt = {};\n",
       "var type = \"vega-lite\";\n",
       "var id = \"ad819494-eb71-420f-995c-78bb8bb3ba99\";\n",
       "\n",
       "var output_area = this;\n",
       "\n",
       "require([\"nbextensions/jupyter-vega/index\"], function(vega) {\n",
       "  var target = document.createElement(\"div\");\n",
       "  target.id = id;\n",
       "  target.className = \"vega-embed\";\n",
       "\n",
       "  var style = document.createElement(\"style\");\n",
       "  style.textContent = [\n",
       "    \".vega-embed .error p {\",\n",
       "    \"  color: firebrick;\",\n",
       "    \"  font-size: 14px;\",\n",
       "    \"}\",\n",
       "  ].join(\"\\\\n\");\n",
       "\n",
       "  // element is a jQuery wrapped DOM element inside the output area\n",
       "  // see http://ipython.readthedocs.io/en/stable/api/generated/\\\n",
       "  // IPython.display.html#IPython.display.Javascript.__init__\n",
       "  element[0].appendChild(target);\n",
       "  element[0].appendChild(style);\n",
       "\n",
       "  vega.render(\"#\" + id, spec, type, opt, output_area);\n",
       "}, function (err) {\n",
       "  if (err.requireType !== \"scripterror\") {\n",
       "    throw(err);\n",
       "  }\n",
       "});\n"
      ],
      "text/plain": [
       "<vega.vegalite.VegaLite at 0x7fd480d269e8>"
      ]
     },
     "metadata": {
      "jupyter-vega": "#ad819494-eb71-420f-995c-78bb8bb3ba99"
     },
     "output_type": "display_data"
    },
    {
     "data": {
      "text/plain": []
     },
     "execution_count": 59,
     "metadata": {},
     "output_type": "execute_result"
    },
    {
     "data": {
      "image/png": "[encoded data removed]"
     },
     "metadata": {
      "jupyter-vega": "#ad819494-eb71-420f-995c-78bb8bb3ba99"
     },
     "output_type": "display_data"
    },
    {
     "data": {
      "image/png": "[encoded data removed]"
     },
     "metadata": {
      "jupyter-vega": "#ad819494-eb71-420f-995c-78bb8bb3ba99"
     },
     "output_type": "display_data"
    }
   ],
   "source": [
    "#graph:\n",
    "alt.Chart(people_who_leave_by_department_percentage).mark_bar().encode(\n",
    "    x=\"%_Employees\",\n",
    "    y=\"department\",\n",
    "    color=\"salary\"\n",
    ").properties(\n",
    "    title=\"Graph 8. Salary breakdown by department\",\n",
    "    width=600\n",
    ").interactive()"
   ]
  },
  {
   "cell_type": "markdown",
   "metadata": {},
   "source": [
    "* In general, there are not many differences between departments.\n",
    "\n",
    "* It can be seen that the proportion of people leaving the company with high salaries is very low. Mainly salaries are low and medium."
   ]
  },
  {
   "cell_type": "markdown",
   "metadata": {},
   "source": [
    "### Could we know which variable has the most influence to stay or leave a job?"
   ]
  },
  {
   "cell_type": "code",
   "execution_count": 63,
   "metadata": {},
   "outputs": [
    {
     "data": {
      "image/png": "[encoded data removed]",
      "text/plain": [
       "<Figure size 576x576 with 2 Axes>"
      ]
     },
     "metadata": {},
     "output_type": "display_data"
    }
   ],
   "source": [
    "# Correlation heatmap\n",
    "plt.figure(figsize=(8, 8)) \n",
    "sns.heatmap(hr_no_dupl.corr(), vmax=1, square=True,annot=True) \n",
    "plt.title(\"Graph 5. Correlation between variables\", fontsize = 17)\n",
    "plt.show()"
   ]
  },
  {
   "cell_type": "markdown",
   "metadata": {},
   "source": [
    "#### Graph 4:  \n",
    "\n",
    "* As expected, the __\"satisfaction level\"__ has the __largest correlation with the decision to stay or leave__ the company __and it is negative__ (-0.35). It means that people tend to quit the job more when they are less satisfied.\n",
    "\n",
    "\n",
    "* On other hand, the correlation among **\"las evaluation\", \"number_projects\" and \"Average Monthly Hours\" is positive**, that means the employee will be highly evaluated the more he works."
   ]
  },
  {
   "cell_type": "markdown",
   "metadata": {},
   "source": [
    "### Let's start by taking a look at the employees satisfaction level at company"
   ]
  },
  {
   "cell_type": "code",
   "execution_count": 123,
   "metadata": {},
   "outputs": [
    {
     "data": {
      "image/png": "[encoded data removed]",
      "text/plain": [
       "<Figure size 432x288 with 1 Axes>"
      ]
     },
     "metadata": {},
     "output_type": "display_data"
    },
    {
     "name": "stdout",
     "output_type": "stream",
     "text": [
      "The average satisfaction level at company is 63%\n",
      "    - for employees who left is 44%\n",
      "    - for employees who stayed is 67%\n"
     ]
    }
   ],
   "source": [
    "#Graph:\n",
    "plt.hist(hr_no_dupl.satisfaction_level,bins=20,color='orange',label='total') \n",
    "plt.hist(people_who_stay.satisfaction_level,bins=20,color='green',label='people who stayed',) #people who stay\n",
    "plt.hist(people_who_leave.satisfaction_level,bins=20,color='blue',label='people who left') #people who leave\n",
    "plt.title(\"Graph 6. Employees satisfaction level distribution\", fontsize = 17)\n",
    "plt.legend()\n",
    "plt.show()\n",
    "\n",
    "print('The average satisfaction level at company is %.f'%(hr_no_dupl.satisfaction_level.mean()*100) + '%') \n",
    "print('    - for employees who left is %.f' %(people_who_leave.satisfaction_level.mean()*100) + '%')\n",
    "print('    - for employees who stayed is %.f' %(people_who_stay.satisfaction_level.mean()*100) + '%')"
   ]
  },
  {
   "cell_type": "markdown",
   "metadata": {},
   "source": [
    "For __people who leave the company__ (blue color) there are three different scenarios:\n",
    "* 0         -> staff totally disappointed (the biggest group)\n",
    "* around 0,4-> group with satisfaction level below the average\n",
    "* 0.7-0.9   -> with high satisfacion and above the average "
   ]
  },
  {
   "cell_type": "markdown",
   "metadata": {},
   "source": [
    "It seems clear to think that employees who were disappointed in the company left (employees with a satisfaction level below the mean) but, what happens to those who were happy in the company, why do they left?"
   ]
  },
  {
   "cell_type": "markdown",
   "metadata": {},
   "source": [
    "### Employee Performance Evaluation"
   ]
  },
  {
   "cell_type": "code",
   "execution_count": 124,
   "metadata": {},
   "outputs": [
    {
     "data": {
      "image/png": "[encoded data removed]",
      "text/plain": [
       "<Figure size 432x288 with 1 Axes>"
      ]
     },
     "metadata": {},
     "output_type": "display_data"
    }
   ],
   "source": [
    "#Graph:\n",
    "plt.hist(hr_no_dupl.last_evaluation,bins=20,color='orange',label='total') \n",
    "plt.hist(people_who_stay.last_evaluation,bins=20,color='green',label='people who stayed',) #people who stay\n",
    "plt.hist(people_who_leave.last_evaluation,bins=20,color='blue',label='people who left') #people who leave\n",
    "plt.title(\"Graph 7. Performance distribution\", fontsize = 17)\n",
    "plt.legend(loc='upper center')\n",
    "plt.show()"
   ]
  },
  {
   "cell_type": "markdown",
   "metadata": {},
   "source": [
    "There seems to be two scenarios (more clear in __people who leave the company__ (blue color):\n",
    "\n",
    "* Low evaluations: less than 0.6 and high evaluations: more than 0.8"
   ]
  },
  {
   "cell_type": "markdown",
   "metadata": {},
   "source": [
    "### Average monthly hours"
   ]
  },
  {
   "cell_type": "code",
   "execution_count": 125,
   "metadata": {},
   "outputs": [
    {
     "data": {
      "image/png": "[encoded data removed]",
      "text/plain": [
       "<Figure size 432x288 with 1 Axes>"
      ]
     },
     "metadata": {},
     "output_type": "display_data"
    }
   ],
   "source": [
    "plt.hist(hr_no_dupl.average_monthly_hours,bins=20,color='orange',label='total') \n",
    "plt.hist(people_who_stay.average_monthly_hours,bins=20,color='green',label='people who stayed',) #people who stay\n",
    "plt.hist(people_who_leave.average_monthly_hours,bins=20,color='blue',label='people who left') #people who leave\n",
    "plt.title(\"Graph 8. Average monthly hours\", fontsize = 17)\n",
    "plt.legend(loc='upper center')\n",
    "plt.show()"
   ]
  },
  {
   "cell_type": "markdown",
   "metadata": {},
   "source": [
    "One more time, there seems to be two scenarios: less than 150 hours and more than 250hours.\n",
    "\n",
    "I realize that __average monthly hours__ and __Performance evolution__ has a quite similar distribution and it is because has a positive and high correlation between them. \n",
    "\n",
    "The company probably assesses the number of hours worked positively. In this way, the more hours the better the evaluation will be. The same happens with the __number of projects__ due to there is also a high correlation between them (the more projects worked on, the greater the evaluation) "
   ]
  },
  {
   "cell_type": "markdown",
   "metadata": {},
   "source": [
    "### Time spend at company"
   ]
  },
  {
   "cell_type": "markdown",
   "metadata": {},
   "source": [
    "I will calculate for each year worked in the company, the total number of employees divided by people who left and stayed"
   ]
  },
  {
   "cell_type": "code",
   "execution_count": 126,
   "metadata": {},
   "outputs": [
    {
     "data": {
      "text/plain": [
       "time_spend_company  left\n",
       "2                   0       2879\n",
       "                    1         31\n",
       "3                   0       4316\n",
       "                    1        874\n",
       "4                   0       1510\n",
       "                    1        495\n",
       "5                   0        580\n",
       "                    1        482\n",
       "6                   0        433\n",
       "                    1        109\n",
       "7                   0         94\n",
       "8                   0         81\n",
       "10                  0        107\n",
       "dtype: int64"
      ]
     },
     "execution_count": 126,
     "metadata": {},
     "output_type": "execute_result"
    }
   ],
   "source": [
    "time_spend= hr_no_dupl.groupby(['time_spend_company','left']).size()\n",
    "time_spend"
   ]
  },
  {
   "cell_type": "code",
   "execution_count": 127,
   "metadata": {},
   "outputs": [
    {
     "data": {
      "text/html": [
       "<div>\n",
       "<style scoped>\n",
       "    .dataframe tbody tr th:only-of-type {\n",
       "        vertical-align: middle;\n",
       "    }\n",
       "\n",
       "    .dataframe tbody tr th {\n",
       "        vertical-align: top;\n",
       "    }\n",
       "\n",
       "    .dataframe thead th {\n",
       "        text-align: right;\n",
       "    }\n",
       "</style>\n",
       "<table border=\"1\" class=\"dataframe\">\n",
       "  <thead>\n",
       "    <tr style=\"text-align: right;\">\n",
       "      <th></th>\n",
       "      <th>time_spend_company</th>\n",
       "      <th>left</th>\n",
       "      <th>0</th>\n",
       "    </tr>\n",
       "  </thead>\n",
       "  <tbody>\n",
       "    <tr>\n",
       "      <th>0</th>\n",
       "      <td>2</td>\n",
       "      <td>0</td>\n",
       "      <td>0.989347</td>\n",
       "    </tr>\n",
       "    <tr>\n",
       "      <th>1</th>\n",
       "      <td>2</td>\n",
       "      <td>1</td>\n",
       "      <td>0.010653</td>\n",
       "    </tr>\n",
       "    <tr>\n",
       "      <th>2</th>\n",
       "      <td>3</td>\n",
       "      <td>0</td>\n",
       "      <td>0.831599</td>\n",
       "    </tr>\n",
       "    <tr>\n",
       "      <th>3</th>\n",
       "      <td>3</td>\n",
       "      <td>1</td>\n",
       "      <td>0.168401</td>\n",
       "    </tr>\n",
       "    <tr>\n",
       "      <th>4</th>\n",
       "      <td>4</td>\n",
       "      <td>0</td>\n",
       "      <td>0.753117</td>\n",
       "    </tr>\n",
       "    <tr>\n",
       "      <th>5</th>\n",
       "      <td>4</td>\n",
       "      <td>1</td>\n",
       "      <td>0.246883</td>\n",
       "    </tr>\n",
       "    <tr>\n",
       "      <th>6</th>\n",
       "      <td>5</td>\n",
       "      <td>0</td>\n",
       "      <td>0.546139</td>\n",
       "    </tr>\n",
       "    <tr>\n",
       "      <th>7</th>\n",
       "      <td>5</td>\n",
       "      <td>1</td>\n",
       "      <td>0.453861</td>\n",
       "    </tr>\n",
       "    <tr>\n",
       "      <th>8</th>\n",
       "      <td>6</td>\n",
       "      <td>0</td>\n",
       "      <td>0.798893</td>\n",
       "    </tr>\n",
       "    <tr>\n",
       "      <th>9</th>\n",
       "      <td>6</td>\n",
       "      <td>1</td>\n",
       "      <td>0.201107</td>\n",
       "    </tr>\n",
       "    <tr>\n",
       "      <th>10</th>\n",
       "      <td>7</td>\n",
       "      <td>0</td>\n",
       "      <td>1.000000</td>\n",
       "    </tr>\n",
       "    <tr>\n",
       "      <th>11</th>\n",
       "      <td>8</td>\n",
       "      <td>0</td>\n",
       "      <td>1.000000</td>\n",
       "    </tr>\n",
       "    <tr>\n",
       "      <th>12</th>\n",
       "      <td>10</td>\n",
       "      <td>0</td>\n",
       "      <td>1.000000</td>\n",
       "    </tr>\n",
       "  </tbody>\n",
       "</table>\n",
       "</div>"
      ],
      "text/plain": [
       "    time_spend_company  left         0\n",
       "0                    2     0  0.989347\n",
       "1                    2     1  0.010653\n",
       "2                    3     0  0.831599\n",
       "3                    3     1  0.168401\n",
       "4                    4     0  0.753117\n",
       "5                    4     1  0.246883\n",
       "6                    5     0  0.546139\n",
       "7                    5     1  0.453861\n",
       "8                    6     0  0.798893\n",
       "9                    6     1  0.201107\n",
       "10                   7     0  1.000000\n",
       "11                   8     0  1.000000\n",
       "12                  10     0  1.000000"
      ]
     },
     "execution_count": 127,
     "metadata": {},
     "output_type": "execute_result"
    }
   ],
   "source": [
    "#Once calculated, I will express the result as a percentage. \n",
    "time_spend_percentaje=time_spend.groupby(level=[0]).apply(lambda x: x / x.sum()).reset_index()\n",
    "time_spend_percentaje"
   ]
  },
  {
   "cell_type": "code",
   "execution_count": 128,
   "metadata": {
    "scrolled": true
   },
   "outputs": [
    {
     "data": {
      "text/html": [
       "<div>\n",
       "<style scoped>\n",
       "    .dataframe tbody tr th:only-of-type {\n",
       "        vertical-align: middle;\n",
       "    }\n",
       "\n",
       "    .dataframe tbody tr th {\n",
       "        vertical-align: top;\n",
       "    }\n",
       "\n",
       "    .dataframe thead th {\n",
       "        text-align: right;\n",
       "    }\n",
       "</style>\n",
       "<table border=\"1\" class=\"dataframe\">\n",
       "  <thead>\n",
       "    <tr style=\"text-align: right;\">\n",
       "      <th></th>\n",
       "      <th>time_spend_company</th>\n",
       "      <th>left</th>\n",
       "      <th>%_Employee</th>\n",
       "    </tr>\n",
       "  </thead>\n",
       "  <tbody>\n",
       "    <tr>\n",
       "      <th>0</th>\n",
       "      <td>2</td>\n",
       "      <td>0</td>\n",
       "      <td>0.989347</td>\n",
       "    </tr>\n",
       "    <tr>\n",
       "      <th>1</th>\n",
       "      <td>2</td>\n",
       "      <td>1</td>\n",
       "      <td>0.010653</td>\n",
       "    </tr>\n",
       "    <tr>\n",
       "      <th>2</th>\n",
       "      <td>3</td>\n",
       "      <td>0</td>\n",
       "      <td>0.831599</td>\n",
       "    </tr>\n",
       "    <tr>\n",
       "      <th>3</th>\n",
       "      <td>3</td>\n",
       "      <td>1</td>\n",
       "      <td>0.168401</td>\n",
       "    </tr>\n",
       "    <tr>\n",
       "      <th>4</th>\n",
       "      <td>4</td>\n",
       "      <td>0</td>\n",
       "      <td>0.753117</td>\n",
       "    </tr>\n",
       "    <tr>\n",
       "      <th>5</th>\n",
       "      <td>4</td>\n",
       "      <td>1</td>\n",
       "      <td>0.246883</td>\n",
       "    </tr>\n",
       "    <tr>\n",
       "      <th>6</th>\n",
       "      <td>5</td>\n",
       "      <td>0</td>\n",
       "      <td>0.546139</td>\n",
       "    </tr>\n",
       "    <tr>\n",
       "      <th>7</th>\n",
       "      <td>5</td>\n",
       "      <td>1</td>\n",
       "      <td>0.453861</td>\n",
       "    </tr>\n",
       "    <tr>\n",
       "      <th>8</th>\n",
       "      <td>6</td>\n",
       "      <td>0</td>\n",
       "      <td>0.798893</td>\n",
       "    </tr>\n",
       "    <tr>\n",
       "      <th>9</th>\n",
       "      <td>6</td>\n",
       "      <td>1</td>\n",
       "      <td>0.201107</td>\n",
       "    </tr>\n",
       "    <tr>\n",
       "      <th>10</th>\n",
       "      <td>7</td>\n",
       "      <td>0</td>\n",
       "      <td>1.000000</td>\n",
       "    </tr>\n",
       "    <tr>\n",
       "      <th>11</th>\n",
       "      <td>8</td>\n",
       "      <td>0</td>\n",
       "      <td>1.000000</td>\n",
       "    </tr>\n",
       "    <tr>\n",
       "      <th>12</th>\n",
       "      <td>10</td>\n",
       "      <td>0</td>\n",
       "      <td>1.000000</td>\n",
       "    </tr>\n",
       "  </tbody>\n",
       "</table>\n",
       "</div>"
      ],
      "text/plain": [
       "    time_spend_company  left  %_Employee\n",
       "0                    2     0    0.989347\n",
       "1                    2     1    0.010653\n",
       "2                    3     0    0.831599\n",
       "3                    3     1    0.168401\n",
       "4                    4     0    0.753117\n",
       "5                    4     1    0.246883\n",
       "6                    5     0    0.546139\n",
       "7                    5     1    0.453861\n",
       "8                    6     0    0.798893\n",
       "9                    6     1    0.201107\n",
       "10                   7     0    1.000000\n",
       "11                   8     0    1.000000\n",
       "12                  10     0    1.000000"
      ]
     },
     "execution_count": 128,
     "metadata": {},
     "output_type": "execute_result"
    }
   ],
   "source": [
    "#Finally, I change the name of columns\n",
    "time_spend_percentaje.columns = ['time_spend_company', 'left', '%_Employee'] \n",
    "time_spend_percentaje"
   ]
  },
  {
   "cell_type": "code",
   "execution_count": 129,
   "metadata": {},
   "outputs": [
    {
     "data": {
      "application/javascript": [
       "var spec = {\"config\": {\"view\": {\"width\": 400, \"height\": 300}}, \"data\": {\"name\": \"data-7071c6b0c36a6ac0c6bd3867051dd04f\"}, \"mark\": \"bar\", \"encoding\": {\"color\": {\"type\": \"nominal\", \"field\": \"left\"}, \"x\": {\"type\": \"nominal\", \"field\": \"time_spend_company\"}, \"y\": {\"type\": \"quantitative\", \"field\": \"%_Employee\"}}, \"selection\": {\"selector005\": {\"type\": \"interval\", \"bind\": \"scales\", \"encodings\": [\"x\", \"y\"]}}, \"title\": \"Graph 9. Time spend at company\", \"width\": 600, \"$schema\": \"https://vega.github.io/schema/vega-lite/v2.6.0.json\", \"datasets\": {\"data-7071c6b0c36a6ac0c6bd3867051dd04f\": [{\"index\": 0, \"time_spend_company\": 2, \"left\": \"no\", \"%_Employee\": 0.9893470790378007}, {\"index\": 1, \"time_spend_company\": 2, \"left\": \"yes\", \"%_Employee\": 0.010652920962199313}, {\"index\": 2, \"time_spend_company\": 3, \"left\": \"no\", \"%_Employee\": 0.8315992292870905}, {\"index\": 3, \"time_spend_company\": 3, \"left\": \"yes\", \"%_Employee\": 0.16840077071290943}, {\"index\": 4, \"time_spend_company\": 4, \"left\": \"no\", \"%_Employee\": 0.7531172069825436}, {\"index\": 5, \"time_spend_company\": 4, \"left\": \"yes\", \"%_Employee\": 0.24688279301745636}, {\"index\": 6, \"time_spend_company\": 5, \"left\": \"no\", \"%_Employee\": 0.5461393596986818}, {\"index\": 7, \"time_spend_company\": 5, \"left\": \"yes\", \"%_Employee\": 0.4538606403013183}, {\"index\": 8, \"time_spend_company\": 6, \"left\": \"no\", \"%_Employee\": 0.7988929889298892}, {\"index\": 9, \"time_spend_company\": 6, \"left\": \"yes\", \"%_Employee\": 0.2011070110701107}, {\"index\": 10, \"time_spend_company\": 7, \"left\": \"no\", \"%_Employee\": 1.0}, {\"index\": 11, \"time_spend_company\": 8, \"left\": \"no\", \"%_Employee\": 1.0}, {\"index\": 12, \"time_spend_company\": 10, \"left\": \"no\", \"%_Employee\": 1.0}]}};\n",
       "var opt = {};\n",
       "var type = \"vega-lite\";\n",
       "var id = \"54013b5c-0555-4c96-92eb-8a7cf4ac7b66\";\n",
       "\n",
       "var output_area = this;\n",
       "\n",
       "require([\"nbextensions/jupyter-vega/index\"], function(vega) {\n",
       "  var target = document.createElement(\"div\");\n",
       "  target.id = id;\n",
       "  target.className = \"vega-embed\";\n",
       "\n",
       "  var style = document.createElement(\"style\");\n",
       "  style.textContent = [\n",
       "    \".vega-embed .error p {\",\n",
       "    \"  color: firebrick;\",\n",
       "    \"  font-size: 14px;\",\n",
       "    \"}\",\n",
       "  ].join(\"\\\\n\");\n",
       "\n",
       "  // element is a jQuery wrapped DOM element inside the output area\n",
       "  // see http://ipython.readthedocs.io/en/stable/api/generated/\\\n",
       "  // IPython.display.html#IPython.display.Javascript.__init__\n",
       "  element[0].appendChild(target);\n",
       "  element[0].appendChild(style);\n",
       "\n",
       "  vega.render(\"#\" + id, spec, type, opt, output_area);\n",
       "}, function (err) {\n",
       "  if (err.requireType !== \"scripterror\") {\n",
       "    throw(err);\n",
       "  }\n",
       "});\n"
      ],
      "text/plain": [
       "<vega.vegalite.VegaLite at 0x7fd47ff82cf8>"
      ]
     },
     "metadata": {
      "jupyter-vega": "#54013b5c-0555-4c96-92eb-8a7cf4ac7b66"
     },
     "output_type": "display_data"
    },
    {
     "data": {
      "image/png": "[encoded data removed]"
     },
     "metadata": {
      "jupyter-vega": "#54013b5c-0555-4c96-92eb-8a7cf4ac7b66"
     },
     "output_type": "display_data"
    },
    {
     "data": {
      "text/plain": []
     },
     "execution_count": 129,
     "metadata": {},
     "output_type": "execute_result"
    }
   ],
   "source": [
    "#legend:\n",
    "time_spend_percentaje['left']=time_spend_percentaje['left'].map({0:'no',1:'yes'})\n",
    "#graph:\n",
    "alt.Chart(time_spend_percentaje.reset_index()).mark_bar().encode(\n",
    "    x=\"time_spend_company:N\",\n",
    "    y=\"%_Employee:Q\",\n",
    "    color=\"left:N\"\n",
    ").properties(\n",
    "    title=\"Graph 9. Time spend at company\",\n",
    "    width=600\n",
    ").interactive()"
   ]
  },
  {
   "cell_type": "markdown",
   "metadata": {},
   "source": [
    "It is remarkable that:\n",
    "\n",
    "* employees working more than 6 years didn't leave. \n",
    "* ten years is the maximum value so it could indicate it is a young company\n",
    "\n",
    "During the first two years of experience, employees barely leave the company. After that, the proportion of people leaving the company is older and older.  As the employees experience grows and passed the 6 year, they stop leaving. "
   ]
  },
  {
   "cell_type": "markdown",
   "metadata": {},
   "source": [
    "### Number of projects analysis"
   ]
  },
  {
   "cell_type": "code",
   "execution_count": 130,
   "metadata": {},
   "outputs": [
    {
     "data": {
      "text/html": [
       "<div>\n",
       "<style scoped>\n",
       "    .dataframe tbody tr th:only-of-type {\n",
       "        vertical-align: middle;\n",
       "    }\n",
       "\n",
       "    .dataframe tbody tr th {\n",
       "        vertical-align: top;\n",
       "    }\n",
       "\n",
       "    .dataframe thead th {\n",
       "        text-align: right;\n",
       "    }\n",
       "</style>\n",
       "<table border=\"1\" class=\"dataframe\">\n",
       "  <thead>\n",
       "    <tr style=\"text-align: right;\">\n",
       "      <th></th>\n",
       "      <th>time_spend_company</th>\n",
       "      <th>left</th>\n",
       "      <th>%_Employee</th>\n",
       "    </tr>\n",
       "  </thead>\n",
       "  <tbody>\n",
       "    <tr>\n",
       "      <th>0</th>\n",
       "      <td>2</td>\n",
       "      <td>0</td>\n",
       "      <td>0.458281</td>\n",
       "    </tr>\n",
       "    <tr>\n",
       "      <th>1</th>\n",
       "      <td>2</td>\n",
       "      <td>1</td>\n",
       "      <td>0.541719</td>\n",
       "    </tr>\n",
       "    <tr>\n",
       "      <th>2</th>\n",
       "      <td>3</td>\n",
       "      <td>0</td>\n",
       "      <td>0.989205</td>\n",
       "    </tr>\n",
       "    <tr>\n",
       "      <th>3</th>\n",
       "      <td>3</td>\n",
       "      <td>1</td>\n",
       "      <td>0.010795</td>\n",
       "    </tr>\n",
       "    <tr>\n",
       "      <th>4</th>\n",
       "      <td>4</td>\n",
       "      <td>0</td>\n",
       "      <td>0.935685</td>\n",
       "    </tr>\n",
       "    <tr>\n",
       "      <th>5</th>\n",
       "      <td>4</td>\n",
       "      <td>1</td>\n",
       "      <td>0.064315</td>\n",
       "    </tr>\n",
       "    <tr>\n",
       "      <th>6</th>\n",
       "      <td>5</td>\n",
       "      <td>0</td>\n",
       "      <td>0.846395</td>\n",
       "    </tr>\n",
       "    <tr>\n",
       "      <th>7</th>\n",
       "      <td>5</td>\n",
       "      <td>1</td>\n",
       "      <td>0.153605</td>\n",
       "    </tr>\n",
       "    <tr>\n",
       "      <th>8</th>\n",
       "      <td>6</td>\n",
       "      <td>0</td>\n",
       "      <td>0.550847</td>\n",
       "    </tr>\n",
       "    <tr>\n",
       "      <th>9</th>\n",
       "      <td>6</td>\n",
       "      <td>1</td>\n",
       "      <td>0.449153</td>\n",
       "    </tr>\n",
       "    <tr>\n",
       "      <th>10</th>\n",
       "      <td>7</td>\n",
       "      <td>1</td>\n",
       "      <td>1.000000</td>\n",
       "    </tr>\n",
       "  </tbody>\n",
       "</table>\n",
       "</div>"
      ],
      "text/plain": [
       "    time_spend_company  left  %_Employee\n",
       "0                    2     0    0.458281\n",
       "1                    2     1    0.541719\n",
       "2                    3     0    0.989205\n",
       "3                    3     1    0.010795\n",
       "4                    4     0    0.935685\n",
       "5                    4     1    0.064315\n",
       "6                    5     0    0.846395\n",
       "7                    5     1    0.153605\n",
       "8                    6     0    0.550847\n",
       "9                    6     1    0.449153\n",
       "10                   7     1    1.000000"
      ]
     },
     "execution_count": 130,
     "metadata": {},
     "output_type": "execute_result"
    }
   ],
   "source": [
    "#I will do the same analysis as before (now for number of projects executed)\n",
    "number_projects = hr_no_dupl.groupby(['number_project', 'left']).size()\n",
    "number_projects_percentaje = number_projects.groupby(level=[0]).apply(lambda x: x / x.sum()).reset_index()\n",
    "#change the name of columns\n",
    "number_projects_percentaje.columns = ['time_spend_company', 'left', '%_Employee'] \n",
    "number_projects_percentaje"
   ]
  },
  {
   "cell_type": "code",
   "execution_count": 131,
   "metadata": {},
   "outputs": [
    {
     "data": {
      "application/javascript": [
       "var spec = {\"config\": {\"view\": {\"width\": 400, \"height\": 300}}, \"data\": {\"name\": \"data-8b443297ddfa49213eaf0133fc37ea4f\"}, \"mark\": \"bar\", \"encoding\": {\"color\": {\"type\": \"nominal\", \"field\": \"left\"}, \"x\": {\"type\": \"nominal\", \"field\": \"time_spend_company\"}, \"y\": {\"type\": \"quantitative\", \"field\": \"%_Employee\"}}, \"selection\": {\"selector006\": {\"type\": \"interval\", \"bind\": \"scales\", \"encodings\": [\"x\", \"y\"]}}, \"title\": \"Graph 10. Number of projects at company\", \"width\": 600, \"$schema\": \"https://vega.github.io/schema/vega-lite/v2.6.0.json\", \"datasets\": {\"data-8b443297ddfa49213eaf0133fc37ea4f\": [{\"index\": 0, \"time_spend_company\": 2, \"left\": \"no\", \"%_Employee\": 0.4582806573957016}, {\"index\": 1, \"time_spend_company\": 2, \"left\": \"yes\", \"%_Employee\": 0.5417193426042983}, {\"index\": 2, \"time_spend_company\": 3, \"left\": \"no\", \"%_Employee\": 0.9892045454545455}, {\"index\": 3, \"time_spend_company\": 3, \"left\": \"yes\", \"%_Employee\": 0.010795454545454546}, {\"index\": 4, \"time_spend_company\": 4, \"left\": \"no\", \"%_Employee\": 0.935685210312076}, {\"index\": 5, \"time_spend_company\": 4, \"left\": \"yes\", \"%_Employee\": 0.06431478968792402}, {\"index\": 6, \"time_spend_company\": 5, \"left\": \"no\", \"%_Employee\": 0.8463949843260188}, {\"index\": 7, \"time_spend_company\": 5, \"left\": \"yes\", \"%_Employee\": 0.1536050156739812}, {\"index\": 8, \"time_spend_company\": 6, \"left\": \"no\", \"%_Employee\": 0.5508474576271186}, {\"index\": 9, \"time_spend_company\": 6, \"left\": \"yes\", \"%_Employee\": 0.4491525423728814}, {\"index\": 10, \"time_spend_company\": 7, \"left\": \"yes\", \"%_Employee\": 1.0}]}};\n",
       "var opt = {};\n",
       "var type = \"vega-lite\";\n",
       "var id = \"f975125a-4b8a-491a-8530-345361b1ce33\";\n",
       "\n",
       "var output_area = this;\n",
       "\n",
       "require([\"nbextensions/jupyter-vega/index\"], function(vega) {\n",
       "  var target = document.createElement(\"div\");\n",
       "  target.id = id;\n",
       "  target.className = \"vega-embed\";\n",
       "\n",
       "  var style = document.createElement(\"style\");\n",
       "  style.textContent = [\n",
       "    \".vega-embed .error p {\",\n",
       "    \"  color: firebrick;\",\n",
       "    \"  font-size: 14px;\",\n",
       "    \"}\",\n",
       "  ].join(\"\\\\n\");\n",
       "\n",
       "  // element is a jQuery wrapped DOM element inside the output area\n",
       "  // see http://ipython.readthedocs.io/en/stable/api/generated/\\\n",
       "  // IPython.display.html#IPython.display.Javascript.__init__\n",
       "  element[0].appendChild(target);\n",
       "  element[0].appendChild(style);\n",
       "\n",
       "  vega.render(\"#\" + id, spec, type, opt, output_area);\n",
       "}, function (err) {\n",
       "  if (err.requireType !== \"scripterror\") {\n",
       "    throw(err);\n",
       "  }\n",
       "});\n"
      ],
      "text/plain": [
       "<vega.vegalite.VegaLite at 0x7fd480339b38>"
      ]
     },
     "metadata": {
      "jupyter-vega": "#f975125a-4b8a-491a-8530-345361b1ce33"
     },
     "output_type": "display_data"
    },
    {
     "data": {
      "text/plain": []
     },
     "execution_count": 131,
     "metadata": {},
     "output_type": "execute_result"
    },
    {
     "data": {
      "image/png": "[encoded data removed]"
     },
     "metadata": {
      "jupyter-vega": "#f975125a-4b8a-491a-8530-345361b1ce33"
     },
     "output_type": "display_data"
    },
    {
     "data": {
      "image/png": "[encoded data removed]"
     },
     "metadata": {
      "jupyter-vega": "#f975125a-4b8a-491a-8530-345361b1ce33"
     },
     "output_type": "display_data"
    }
   ],
   "source": [
    "#legend:\n",
    "number_projects_percentaje['left']=number_projects_percentaje['left'].map({0:'no',1:'yes'})\n",
    "#graph:\n",
    "alt.Chart(number_projects_percentaje.reset_index()).mark_bar().encode(\n",
    "    x=\"time_spend_company:N\",\n",
    "    y=\"%_Employee:Q\",\n",
    "    color=\"left:N\"\n",
    ").properties(\n",
    "    title=\"Graph 10. Number of projects at company\",\n",
    "    width=600\n",
    ").interactive()"
   ]
  },
  {
   "cell_type": "markdown",
   "metadata": {},
   "source": [
    "Analysing the number of projects at company, I realize that:\n",
    "\n",
    "* After the two first years at company, it seems that from 3 projects people start being overworked and the turnover starts to grow. So, it seems to be also a strong reason to leave the company. \n",
    "\n",
    "\n",
    "* Most of people who remain at company done among 3-5 projects.\n",
    "\n",
    "\n",
    "* Everybody with 7 projects counts left the company, probably they were overworked.\n",
    "\n",
    "\n",
    "* Above 50% people with 2 projects left the company, probably they worked hard and weren't well paid or not highly valuated. Let's check it!!!\n"
   ]
  },
  {
   "cell_type": "code",
   "execution_count": 132,
   "metadata": {},
   "outputs": [
    {
     "name": "stdout",
     "output_type": "stream",
     "text": [
      "The performance of employees who left and worked on 2 projects count is 52%, well below the company average (72%)\n"
     ]
    }
   ],
   "source": [
    "#On one hand, the performance of employees who left the company and worked on 2 projects count is undervalued\n",
    "\n",
    "print('The performance of employees who left and worked on 2 projects count is %.f'%(people_who_leave[(people_who_leave['number_project'] ==2)]['last_evaluation'].mean()*100) + \n",
    "      '%, well below the company average '+\n",
    "      '(%.f'%(hr_no_dupl.last_evaluation.mean()*100)+'%)') \n"
   ]
  },
  {
   "cell_type": "code",
   "execution_count": 133,
   "metadata": {},
   "outputs": [
    {
     "name": "stdout",
     "output_type": "stream",
     "text": [
      "Most of people who left the company and was worked in two projects were not well paid\n",
      "salary\n",
      "high       23\n",
      "low       512\n",
      "medium    322\n",
      "Name: salary, dtype: int64\n"
     ]
    }
   ],
   "source": [
    "#On the other hand, the salary is neither good enough:\n",
    "\n",
    "print('Most of people who left the company and was worked in two projects were not well paid')\n",
    "print(people_who_leave[people_who_leave['number_project'] ==2].groupby(['salary'])['salary'].count())"
   ]
  },
  {
   "cell_type": "markdown",
   "metadata": {},
   "source": [
    "### Promotions at company"
   ]
  },
  {
   "cell_type": "code",
   "execution_count": 134,
   "metadata": {},
   "outputs": [
    {
     "data": {
      "text/html": [
       "<div>\n",
       "<style scoped>\n",
       "    .dataframe tbody tr th:only-of-type {\n",
       "        vertical-align: middle;\n",
       "    }\n",
       "\n",
       "    .dataframe tbody tr th {\n",
       "        vertical-align: top;\n",
       "    }\n",
       "\n",
       "    .dataframe thead th {\n",
       "        text-align: right;\n",
       "    }\n",
       "</style>\n",
       "<table border=\"1\" class=\"dataframe\">\n",
       "  <thead>\n",
       "    <tr style=\"text-align: right;\">\n",
       "      <th></th>\n",
       "      <th>satisfaction_level</th>\n",
       "      <th>last_evaluation</th>\n",
       "      <th>number_project</th>\n",
       "      <th>average_monthly_hours</th>\n",
       "      <th>time_spend_company</th>\n",
       "      <th>work_accident</th>\n",
       "      <th>left</th>\n",
       "      <th>promotion_last_5years</th>\n",
       "      <th>department</th>\n",
       "      <th>salary</th>\n",
       "    </tr>\n",
       "  </thead>\n",
       "  <tbody>\n",
       "    <tr>\n",
       "      <th>18</th>\n",
       "      <td>0.45</td>\n",
       "      <td>0.51</td>\n",
       "      <td>2</td>\n",
       "      <td>160</td>\n",
       "      <td>3</td>\n",
       "      <td>1</td>\n",
       "      <td>1</td>\n",
       "      <td>1</td>\n",
       "      <td>sales</td>\n",
       "      <td>low</td>\n",
       "    </tr>\n",
       "    <tr>\n",
       "      <th>82</th>\n",
       "      <td>0.79</td>\n",
       "      <td>0.59</td>\n",
       "      <td>4</td>\n",
       "      <td>139</td>\n",
       "      <td>3</td>\n",
       "      <td>0</td>\n",
       "      <td>1</td>\n",
       "      <td>1</td>\n",
       "      <td>management</td>\n",
       "      <td>low</td>\n",
       "    </tr>\n",
       "    <tr>\n",
       "      <th>171</th>\n",
       "      <td>0.41</td>\n",
       "      <td>0.46</td>\n",
       "      <td>2</td>\n",
       "      <td>160</td>\n",
       "      <td>3</td>\n",
       "      <td>0</td>\n",
       "      <td>1</td>\n",
       "      <td>1</td>\n",
       "      <td>sales</td>\n",
       "      <td>low</td>\n",
       "    </tr>\n",
       "    <tr>\n",
       "      <th>287</th>\n",
       "      <td>0.11</td>\n",
       "      <td>0.79</td>\n",
       "      <td>6</td>\n",
       "      <td>292</td>\n",
       "      <td>4</td>\n",
       "      <td>0</td>\n",
       "      <td>1</td>\n",
       "      <td>1</td>\n",
       "      <td>technical</td>\n",
       "      <td>low</td>\n",
       "    </tr>\n",
       "    <tr>\n",
       "      <th>584</th>\n",
       "      <td>0.41</td>\n",
       "      <td>0.56</td>\n",
       "      <td>2</td>\n",
       "      <td>154</td>\n",
       "      <td>3</td>\n",
       "      <td>0</td>\n",
       "      <td>1</td>\n",
       "      <td>1</td>\n",
       "      <td>support</td>\n",
       "      <td>medium</td>\n",
       "    </tr>\n",
       "  </tbody>\n",
       "</table>\n",
       "</div>"
      ],
      "text/plain": [
       "     satisfaction_level  last_evaluation  number_project  \\\n",
       "18                 0.45             0.51               2   \n",
       "82                 0.79             0.59               4   \n",
       "171                0.41             0.46               2   \n",
       "287                0.11             0.79               6   \n",
       "584                0.41             0.56               2   \n",
       "\n",
       "     average_monthly_hours  time_spend_company  work_accident  left  \\\n",
       "18                     160                   3              1     1   \n",
       "82                     139                   3              0     1   \n",
       "171                    160                   3              0     1   \n",
       "287                    292                   4              0     1   \n",
       "584                    154                   3              0     1   \n",
       "\n",
       "     promotion_last_5years  department  salary  \n",
       "18                       1       sales     low  \n",
       "82                       1  management     low  \n",
       "171                      1       sales     low  \n",
       "287                      1   technical     low  \n",
       "584                      1     support  medium  "
      ]
     },
     "execution_count": 134,
     "metadata": {},
     "output_type": "execute_result"
    }
   ],
   "source": [
    "promotions = hr_no_dupl[hr_no_dupl['promotion_last_5years']==1]\n",
    "promotions.head()"
   ]
  },
  {
   "cell_type": "code",
   "execution_count": 135,
   "metadata": {},
   "outputs": [
    {
     "name": "stdout",
     "output_type": "stream",
     "text": [
      "there had been 203 promotions in total\n"
     ]
    }
   ],
   "source": [
    "print('there had been %.f'%(promotions['left'].count())+' promotions in total')"
   ]
  },
  {
   "cell_type": "code",
   "execution_count": 136,
   "metadata": {},
   "outputs": [
    {
     "data": {
      "text/plain": [
       "left\n",
       "0    195\n",
       "1      8\n",
       "Name: promotion_last_5years, dtype: int64"
      ]
     },
     "execution_count": 136,
     "metadata": {},
     "output_type": "execute_result"
    }
   ],
   "source": [
    "#Promotions breakdown by type of employees:\n",
    "hr_no_dupl.groupby(['left'])['promotion_last_5years'].sum()"
   ]
  },
  {
   "cell_type": "markdown",
   "metadata": {},
   "source": [
    "There are scarce promotions in company and most of them were to people who stayed at company. It makes sense"
   ]
  },
  {
   "cell_type": "markdown",
   "metadata": {},
   "source": [
    "__How are the workers who were promoted?__"
   ]
  },
  {
   "cell_type": "code",
   "execution_count": 137,
   "metadata": {
    "scrolled": true
   },
   "outputs": [
    {
     "data": {
      "text/plain": [
       "satisfaction_level         0.666010\n",
       "last_evaluation            0.707438\n",
       "number_project             3.798030\n",
       "average_monthly_hours    198.630542\n",
       "time_spend_company         3.940887\n",
       "work_accident              0.236453\n",
       "left                       0.039409\n",
       "promotion_last_5years      1.000000\n",
       "dtype: float64"
      ]
     },
     "execution_count": 137,
     "metadata": {},
     "output_type": "execute_result"
    }
   ],
   "source": [
    "hr_no_dupl[hr_no_dupl['promotion_last_5years']==1].mean()"
   ]
  },
  {
   "cell_type": "code",
   "execution_count": 138,
   "metadata": {},
   "outputs": [
    {
     "name": "stdout",
     "output_type": "stream",
     "text": [
      "The number of most valuable employees is 203 , that is a 2% of total employees\n"
     ]
    }
   ],
   "source": [
    "print('The number of most valuable employees is %.f , that is a %.f'%(len(promotions),len(promotions)/len(hr_no_dupl)*100) + '% of total employees')"
   ]
  },
  {
   "cell_type": "markdown",
   "metadata": {},
   "source": [
    "This group of employees should be the most valuable workers for the company.  "
   ]
  },
  {
   "cell_type": "markdown",
   "metadata": {},
   "source": [
    "__DEFINITION__ : From a company view, the __most valuable employees__ will be those whom performance is over average (0.71), who had worked on at least 4 projects (almost 200 hours monthly) for a period of time of 4 years"
   ]
  },
  {
   "cell_type": "markdown",
   "metadata": {},
   "source": [
    "\n",
    "Company is investing on them and so it should focus on them, analysing their behaviorus, monitoring their needs and manage them in order to prevent a possible \"brain drain\". "
   ]
  },
  {
   "cell_type": "markdown",
   "metadata": {},
   "source": [
    "### Satisfaction level vs. number of projects"
   ]
  },
  {
   "cell_type": "code",
   "execution_count": 139,
   "metadata": {},
   "outputs": [
    {
     "data": {
      "image/png": "[encoded data removed]",
      "text/plain": [
       "<Figure size 432x288 with 1 Axes>"
      ]
     },
     "metadata": {},
     "output_type": "display_data"
    }
   ],
   "source": [
    "#Graph:\n",
    "plt.plot(hr_no_dupl.groupby('number_project')['satisfaction_level'].mean(),'orange',label='total',marker='^')\n",
    "plt.plot(people_who_leave.groupby('number_project')['satisfaction_level'].mean(),'b--',label='people who leave')\n",
    "plt.plot(people_who_stay.groupby('number_project')['satisfaction_level'].mean(),'green',label='people who stay')\n",
    "plt.ylabel('satisfaction level')\n",
    "plt.xlabel('number of projects done')\n",
    "plt.legend()\n",
    "plt.title('Graph 11: Satisfaction level & number of projects', fontsize = 17)\n",
    "plt.show()"
   ]
  },
  {
   "cell_type": "code",
   "execution_count": 140,
   "metadata": {},
   "outputs": [
    {
     "data": {
      "text/plain": [
       "satisfaction_level         0.440271\n",
       "last_evaluation            0.721783\n",
       "number_project             3.883476\n",
       "average_monthly_hours    208.162230\n",
       "time_spend_company         3.881467\n",
       "work_accident              0.052737\n",
       "left                       1.000000\n",
       "promotion_last_5years      0.004018\n",
       "dtype: float64"
      ]
     },
     "execution_count": 140,
     "metadata": {},
     "output_type": "execute_result"
    }
   ],
   "source": [
    "people_who_leave.mean()"
   ]
  },
  {
   "cell_type": "markdown",
   "metadata": {},
   "source": [
    "Graph shows that the average satisfaction level in people who quit their job reached the maximum in the fourth and fifth project. After that, employees who left were not happy in the company\n",
    "\n",
    "As I mentioned before, all people working in 7 projects left the company (no data for people who stayed)."
   ]
  },
  {
   "cell_type": "markdown",
   "metadata": {},
   "source": [
    "### Accidents"
   ]
  },
  {
   "cell_type": "code",
   "execution_count": 141,
   "metadata": {},
   "outputs": [
    {
     "data": {
      "text/plain": [
       "1850"
      ]
     },
     "execution_count": 141,
     "metadata": {},
     "output_type": "execute_result"
    }
   ],
   "source": [
    "#Total Accidents in company\n",
    "hr_no_dupl['work_accident'].sum()"
   ]
  },
  {
   "cell_type": "code",
   "execution_count": 142,
   "metadata": {},
   "outputs": [
    {
     "data": {
      "text/plain": [
       "left\n",
       "0    1745\n",
       "1     105\n",
       "Name: work_accident, dtype: int64"
      ]
     },
     "execution_count": 142,
     "metadata": {},
     "output_type": "execute_result"
    }
   ],
   "source": [
    "#How many accidents belong to each group of employees?\n",
    "hr_no_dupl.groupby('left')['work_accident'].sum()"
   ]
  },
  {
   "cell_type": "code",
   "execution_count": 143,
   "metadata": {},
   "outputs": [
    {
     "data": {
      "text/html": [
       "<div>\n",
       "<style scoped>\n",
       "    .dataframe tbody tr th:only-of-type {\n",
       "        vertical-align: middle;\n",
       "    }\n",
       "\n",
       "    .dataframe tbody tr th {\n",
       "        vertical-align: top;\n",
       "    }\n",
       "\n",
       "    .dataframe thead th {\n",
       "        text-align: right;\n",
       "    }\n",
       "</style>\n",
       "<table border=\"1\" class=\"dataframe\">\n",
       "  <thead>\n",
       "    <tr style=\"text-align: right;\">\n",
       "      <th></th>\n",
       "      <th>satisfaction_level</th>\n",
       "      <th>last_evaluation</th>\n",
       "      <th>number_project</th>\n",
       "      <th>average_monthly_hours</th>\n",
       "      <th>time_spend_company</th>\n",
       "      <th>left</th>\n",
       "      <th>promotion_last_5years</th>\n",
       "    </tr>\n",
       "    <tr>\n",
       "      <th>work_accident</th>\n",
       "      <th></th>\n",
       "      <th></th>\n",
       "      <th></th>\n",
       "      <th></th>\n",
       "      <th></th>\n",
       "      <th></th>\n",
       "      <th></th>\n",
       "    </tr>\n",
       "  </thead>\n",
       "  <tbody>\n",
       "    <tr>\n",
       "      <th>0</th>\n",
       "      <td>0.625546</td>\n",
       "      <td>0.717092</td>\n",
       "      <td>3.805640</td>\n",
       "      <td>200.741150</td>\n",
       "      <td>3.364856</td>\n",
       "      <td>0.185978</td>\n",
       "      <td>0.015284</td>\n",
       "    </tr>\n",
       "    <tr>\n",
       "      <th>1</th>\n",
       "      <td>0.652200</td>\n",
       "      <td>0.714438</td>\n",
       "      <td>3.787568</td>\n",
       "      <td>199.006486</td>\n",
       "      <td>3.364865</td>\n",
       "      <td>0.056757</td>\n",
       "      <td>0.025946</td>\n",
       "    </tr>\n",
       "  </tbody>\n",
       "</table>\n",
       "</div>"
      ],
      "text/plain": [
       "               satisfaction_level  last_evaluation  number_project  \\\n",
       "work_accident                                                        \n",
       "0                        0.625546         0.717092        3.805640   \n",
       "1                        0.652200         0.714438        3.787568   \n",
       "\n",
       "               average_monthly_hours  time_spend_company      left  \\\n",
       "work_accident                                                        \n",
       "0                         200.741150            3.364856  0.185978   \n",
       "1                         199.006486            3.364865  0.056757   \n",
       "\n",
       "               promotion_last_5years  \n",
       "work_accident                         \n",
       "0                           0.015284  \n",
       "1                           0.025946  "
      ]
     },
     "execution_count": 143,
     "metadata": {},
     "output_type": "execute_result"
    }
   ],
   "source": [
    "#There seem to be no significant differences between both groups in this regard\n",
    "hr_no_dupl.groupby('work_accident').mean()"
   ]
  },
  {
   "cell_type": "code",
   "execution_count": 144,
   "metadata": {},
   "outputs": [
    {
     "data": {
      "image/png": "[encoded data removed]",
      "text/plain": [
       "<Figure size 432x288 with 1 Axes>"
      ]
     },
     "metadata": {},
     "output_type": "display_data"
    }
   ],
   "source": [
    "#How is the accident distribution over time? \n",
    "plt.plot(people_who_leave.groupby('time_spend_company')['work_accident'].sum(),'b--',label='people who leave')\n",
    "plt.plot(people_who_stay.groupby('time_spend_company')['work_accident'].sum(),'green',label='people who stay')\n",
    "plt.ylabel('Accidents')\n",
    "plt.xlabel('time spend  at company (years)')\n",
    "plt.legend()\n",
    "plt.title('Graph 12: Accidents & time spend at company', fontsize = 17)\n",
    "plt.show()"
   ]
  },
  {
   "cell_type": "code",
   "execution_count": 145,
   "metadata": {},
   "outputs": [
    {
     "data": {
      "text/plain": [
       "left\n",
       "0    1685\n",
       "1     105\n",
       "Name: work_accident, dtype: int64"
      ]
     },
     "execution_count": 145,
     "metadata": {},
     "output_type": "execute_result"
    }
   ],
   "source": [
    "#What is the number of accidents split between people who stay and leave in the same period of time?\n",
    "hr_no_dupl[hr_no_dupl['time_spend_company']<7].groupby('left')['work_accident'].sum()"
   ]
  },
  {
   "cell_type": "code",
   "execution_count": 146,
   "metadata": {},
   "outputs": [
    {
     "data": {
      "text/html": [
       "<div>\n",
       "<style scoped>\n",
       "    .dataframe tbody tr th:only-of-type {\n",
       "        vertical-align: middle;\n",
       "    }\n",
       "\n",
       "    .dataframe tbody tr th {\n",
       "        vertical-align: top;\n",
       "    }\n",
       "\n",
       "    .dataframe thead th {\n",
       "        text-align: right;\n",
       "    }\n",
       "</style>\n",
       "<table border=\"1\" class=\"dataframe\">\n",
       "  <thead>\n",
       "    <tr style=\"text-align: right;\">\n",
       "      <th></th>\n",
       "      <th>department</th>\n",
       "      <th>work_accident</th>\n",
       "    </tr>\n",
       "  </thead>\n",
       "  <tbody>\n",
       "    <tr>\n",
       "      <th>7</th>\n",
       "      <td>sales</td>\n",
       "      <td>498</td>\n",
       "    </tr>\n",
       "    <tr>\n",
       "      <th>9</th>\n",
       "      <td>technical</td>\n",
       "      <td>339</td>\n",
       "    </tr>\n",
       "    <tr>\n",
       "      <th>8</th>\n",
       "      <td>support</td>\n",
       "      <td>299</td>\n",
       "    </tr>\n",
       "    <tr>\n",
       "      <th>0</th>\n",
       "      <td>IT</td>\n",
       "      <td>139</td>\n",
       "    </tr>\n",
       "    <tr>\n",
       "      <th>1</th>\n",
       "      <td>RandD</td>\n",
       "      <td>119</td>\n",
       "    </tr>\n",
       "    <tr>\n",
       "      <th>6</th>\n",
       "      <td>product_mng</td>\n",
       "      <td>109</td>\n",
       "    </tr>\n",
       "    <tr>\n",
       "      <th>5</th>\n",
       "      <td>marketing</td>\n",
       "      <td>108</td>\n",
       "    </tr>\n",
       "    <tr>\n",
       "      <th>2</th>\n",
       "      <td>accounting</td>\n",
       "      <td>87</td>\n",
       "    </tr>\n",
       "    <tr>\n",
       "      <th>3</th>\n",
       "      <td>hr</td>\n",
       "      <td>80</td>\n",
       "    </tr>\n",
       "    <tr>\n",
       "      <th>4</th>\n",
       "      <td>management</td>\n",
       "      <td>72</td>\n",
       "    </tr>\n",
       "  </tbody>\n",
       "</table>\n",
       "</div>"
      ],
      "text/plain": [
       "    department  work_accident\n",
       "7        sales            498\n",
       "9    technical            339\n",
       "8      support            299\n",
       "0           IT            139\n",
       "1        RandD            119\n",
       "6  product_mng            109\n",
       "5    marketing            108\n",
       "2   accounting             87\n",
       "3           hr             80\n",
       "4   management             72"
      ]
     },
     "execution_count": 146,
     "metadata": {},
     "output_type": "execute_result"
    }
   ],
   "source": [
    "#Which are the departments with more accidents?\n",
    "hr_no_dupl.groupby('department')['work_accident'].sum().reset_index().sort_values(by='work_accident',ascending=False)"
   ]
  },
  {
   "cell_type": "code",
   "execution_count": 147,
   "metadata": {
    "scrolled": true
   },
   "outputs": [
    {
     "data": {
      "text/html": [
       "<div>\n",
       "<style scoped>\n",
       "    .dataframe tbody tr th:only-of-type {\n",
       "        vertical-align: middle;\n",
       "    }\n",
       "\n",
       "    .dataframe tbody tr th {\n",
       "        vertical-align: top;\n",
       "    }\n",
       "\n",
       "    .dataframe thead th {\n",
       "        text-align: right;\n",
       "    }\n",
       "</style>\n",
       "<table border=\"1\" class=\"dataframe\">\n",
       "  <thead>\n",
       "    <tr style=\"text-align: right;\">\n",
       "      <th></th>\n",
       "      <th>department</th>\n",
       "      <th>work_accident</th>\n",
       "    </tr>\n",
       "  </thead>\n",
       "  <tbody>\n",
       "    <tr>\n",
       "      <th>7</th>\n",
       "      <td>sales</td>\n",
       "      <td>29.52</td>\n",
       "    </tr>\n",
       "    <tr>\n",
       "      <th>9</th>\n",
       "      <td>technical</td>\n",
       "      <td>18.10</td>\n",
       "    </tr>\n",
       "    <tr>\n",
       "      <th>8</th>\n",
       "      <td>support</td>\n",
       "      <td>17.14</td>\n",
       "    </tr>\n",
       "    <tr>\n",
       "      <th>0</th>\n",
       "      <td>IT</td>\n",
       "      <td>6.67</td>\n",
       "    </tr>\n",
       "    <tr>\n",
       "      <th>1</th>\n",
       "      <td>RandD</td>\n",
       "      <td>6.67</td>\n",
       "    </tr>\n",
       "    <tr>\n",
       "      <th>2</th>\n",
       "      <td>accounting</td>\n",
       "      <td>4.76</td>\n",
       "    </tr>\n",
       "    <tr>\n",
       "      <th>3</th>\n",
       "      <td>hr</td>\n",
       "      <td>4.76</td>\n",
       "    </tr>\n",
       "    <tr>\n",
       "      <th>6</th>\n",
       "      <td>product_mng</td>\n",
       "      <td>4.76</td>\n",
       "    </tr>\n",
       "    <tr>\n",
       "      <th>4</th>\n",
       "      <td>management</td>\n",
       "      <td>3.81</td>\n",
       "    </tr>\n",
       "    <tr>\n",
       "      <th>5</th>\n",
       "      <td>marketing</td>\n",
       "      <td>3.81</td>\n",
       "    </tr>\n",
       "  </tbody>\n",
       "</table>\n",
       "</div>"
      ],
      "text/plain": [
       "    department  work_accident\n",
       "7        sales          29.52\n",
       "9    technical          18.10\n",
       "8      support          17.14\n",
       "0           IT           6.67\n",
       "1        RandD           6.67\n",
       "2   accounting           4.76\n",
       "3           hr           4.76\n",
       "6  product_mng           4.76\n",
       "4   management           3.81\n",
       "5    marketing           3.81"
      ]
     },
     "execution_count": 147,
     "metadata": {},
     "output_type": "execute_result"
    }
   ],
   "source": [
    "#Focus on people who leave, which department has the greatest number of accidents? \n",
    "\n",
    "accidents= round(people_who_leave.groupby('department')['work_accident'].sum()/people_who_leave['work_accident'].sum()*100,2)\n",
    "accidents.reset_index().sort_values(by='work_accident',ascending=False)"
   ]
  },
  {
   "cell_type": "markdown",
   "metadata": {},
   "source": [
    "Finnaly, there does not seem to be a relationship between the number of accidents and leaving the job."
   ]
  },
  {
   "cell_type": "markdown",
   "metadata": {},
   "source": [
    "### Some conclusions and next steps"
   ]
  },
  {
   "cell_type": "markdown",
   "metadata": {},
   "source": [
    "* The company turnover rate is 16.6%, it means that almost 17% of employees left the company. Is it high, is it low, is it bad, is it good...? Well, the ideal labour turnover will depend on the business and the industry the company work in. I have no enough information about the company and it seems not easy to discover it.   As I explained during the analysis, I decided to focus on : What are the employees like and why they decide to quit their jobs? \n",
    "\n",
    "\n",
    "* Satisfaction level has the highest correlation level with the fact of leaving the company. I could  check that most people who are not happy in the company give up their work, but there are employees who, even when they are happy, also do it (probably because they found a better job).\n",
    "\n",
    "\n",
    "* Surprisingly, HR is the department with the highest turnover rate (19%). However Sales, Support and Technical departments count with the highest number of employees left the company. \n",
    "\n",
    "\n",
    "* Salary seems to be a powerful reason for quitting the job. Salaries are lower in people who left (most people had low and medium salary). The lower salary the greater the turnover rate.\n",
    "\n",
    "\n",
    "* Regarding promotions, most of them were given to people who stayed at company so employees are likely to leave if they haven't received a promotion in the last 5 years.\n",
    "\n",
    "\n",
    "* Another reason why the employees leave the company could be the amount of work (number of projects and hours worked):\n",
    "\n",
    "    - From the fourth project people start being overworked and the turnover rate starts to grow. All the employees working on 7 projects left the company. Graph 12 shows that the average satisfaction level in people who quit their job reached the maximum in the fourth and fifth project. After that, employees who left were not happy in the company\n",
    "    \n",
    "    -  Employees generally left the company on one hand when they worked less than 150 hr (underworked) but also when they did it more than 250 hr per month (overworked)\n",
    "\n",
    "\n",
    "* During the first two years of experience employees barely leave the company. Most of them quit their job around the 4-5  year. From 6 year, it is very unlikely that the employee will leave. Probably the workers had a greater commitment to the company and its values.\n",
    "\n",
    "\n",
    "* Finally, analysing the work accidents, there doesn't seem to be a relationship between the number of accidents and quit the job.\n",
    "\n",
    "\n",
    "__Next Steps:__\n",
    "\n",
    "In the following section: __\"1. Visualization\"__ I will apply some of the R visualization techniques for the analysis of data were learnt during the development of the Data Scientist Master. \n",
    "\n",
    "Under the purpose of deeply analyse the group of employees who quit their jobs, in section __\"2.Data Mining with R\"__ I will apply a Cluster analysis in order to group these employees into classes of similar objects based in patterns.\n",
    "\n",
    "The aim is to segregate groups with similar traits and assign them into clusters based on feature similarity. I will determine the number of clusters and find out the optimal clustering scheme using Elbow method and k-means clustering in R Studio."
   ]
  },
  {
   "cell_type": "markdown",
   "metadata": {},
   "source": [
    "# 5. Saving cleaned dataset"
   ]
  },
  {
   "cell_type": "code",
   "execution_count": 148,
   "metadata": {},
   "outputs": [],
   "source": [
    "hr_no_dupl.to_csv('data/HR_data_cleaned.csv',index=False)"
   ]
  }
 ],
 "metadata": {
  "kernelspec": {
   "display_name": "Python 3",
   "language": "python",
   "name": "python3"
  },
  "language_info": {
   "codemirror_mode": {
    "name": "ipython",
    "version": 3
   },
   "file_extension": ".py",
   "mimetype": "text/x-python",
   "name": "python",
   "nbconvert_exporter": "python",
   "pygments_lexer": "ipython3",
   "version": "3.6.4"
  }
 },
 "nbformat": 4,
 "nbformat_minor": 2
}
