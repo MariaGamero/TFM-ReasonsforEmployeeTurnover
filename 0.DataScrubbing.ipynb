{
 "cells": [
  {
   "cell_type": "markdown",
   "metadata": {},
   "source": [
    "# Why People Really Quit Their Jobs?\n",
    "\n",
    "![peces](http://4.bp.blogspot.com/-7_FVudvkdV4/Tt3pP5uQ_qI/AAAAAAAAAek/yIBC0K4DGSk/s1600/peces_nadando_en_el_agua_de_las_peceras.jpg)\n",
    "\n",
    "\n",
    "### This dataset is related to the record of the employees in a company.\n",
    "\n",
    "* It describes the **satisfaction level** of the employee, **last evaluation** of their performance, **number of projects** they done, their **average monthly working hours**, the **number of years** spent in the company, whether the employee had a **workplace accident**, whether the employee **left the workspace** , their **last promotion**, the **department** where the employee works and the **salary level**."
   ]
  },
  {
   "cell_type": "markdown",
   "metadata": {},
   "source": [
    "# 1. Import libraries"
   ]
  },
  {
   "cell_type": "code",
   "execution_count": 1,
   "metadata": {},
   "outputs": [
    {
     "data": {
      "text/plain": [
       "RendererRegistry.enable('notebook')"
      ]
     },
     "execution_count": 1,
     "metadata": {},
     "output_type": "execute_result"
    }
   ],
   "source": [
    "import numpy as np\n",
    "import pandas as pd\n",
    "import matplotlib.pyplot as plt\n",
    "plt.style.use('ggplot')\n",
    "%matplotlib inline\n",
    "import seaborn as sns\n",
    "import altair as alt\n",
    "from vega_datasets import data\n",
    "# for the notebook only (not for JupyterLab) run this command once per session\n",
    "alt.renderers.enable('notebook')"
   ]
  },
  {
   "cell_type": "markdown",
   "metadata": {},
   "source": [
    "# 2. Load Data"
   ]
  },
  {
   "cell_type": "markdown",
   "metadata": {},
   "source": [
    "For the analysis it will be used a popular dataset called: \"HR_comma_sep.csv\". From now on : \"HR_data_origin.csv\". "
   ]
  },
  {
   "cell_type": "code",
   "execution_count": 2,
   "metadata": {
    "scrolled": true
   },
   "outputs": [
    {
     "data": {
      "text/html": [
       "<div>\n",
       "<style scoped>\n",
       "    .dataframe tbody tr th:only-of-type {\n",
       "        vertical-align: middle;\n",
       "    }\n",
       "\n",
       "    .dataframe tbody tr th {\n",
       "        vertical-align: top;\n",
       "    }\n",
       "\n",
       "    .dataframe thead th {\n",
       "        text-align: right;\n",
       "    }\n",
       "</style>\n",
       "<table border=\"1\" class=\"dataframe\">\n",
       "  <thead>\n",
       "    <tr style=\"text-align: right;\">\n",
       "      <th></th>\n",
       "      <th>satisfaction_level</th>\n",
       "      <th>last_evaluation</th>\n",
       "      <th>number_project</th>\n",
       "      <th>average_montly_hours</th>\n",
       "      <th>time_spend_company</th>\n",
       "      <th>Work_accident</th>\n",
       "      <th>left</th>\n",
       "      <th>promotion_last_5years</th>\n",
       "      <th>sales</th>\n",
       "      <th>salary</th>\n",
       "    </tr>\n",
       "  </thead>\n",
       "  <tbody>\n",
       "    <tr>\n",
       "      <th>0</th>\n",
       "      <td>0.38</td>\n",
       "      <td>0.53</td>\n",
       "      <td>2</td>\n",
       "      <td>157</td>\n",
       "      <td>3</td>\n",
       "      <td>0</td>\n",
       "      <td>1</td>\n",
       "      <td>0</td>\n",
       "      <td>sales</td>\n",
       "      <td>low</td>\n",
       "    </tr>\n",
       "    <tr>\n",
       "      <th>1</th>\n",
       "      <td>0.80</td>\n",
       "      <td>0.86</td>\n",
       "      <td>5</td>\n",
       "      <td>262</td>\n",
       "      <td>6</td>\n",
       "      <td>0</td>\n",
       "      <td>1</td>\n",
       "      <td>0</td>\n",
       "      <td>sales</td>\n",
       "      <td>medium</td>\n",
       "    </tr>\n",
       "    <tr>\n",
       "      <th>2</th>\n",
       "      <td>0.11</td>\n",
       "      <td>0.88</td>\n",
       "      <td>7</td>\n",
       "      <td>272</td>\n",
       "      <td>4</td>\n",
       "      <td>0</td>\n",
       "      <td>1</td>\n",
       "      <td>0</td>\n",
       "      <td>sales</td>\n",
       "      <td>medium</td>\n",
       "    </tr>\n",
       "    <tr>\n",
       "      <th>3</th>\n",
       "      <td>0.72</td>\n",
       "      <td>0.87</td>\n",
       "      <td>5</td>\n",
       "      <td>223</td>\n",
       "      <td>5</td>\n",
       "      <td>0</td>\n",
       "      <td>1</td>\n",
       "      <td>0</td>\n",
       "      <td>sales</td>\n",
       "      <td>low</td>\n",
       "    </tr>\n",
       "    <tr>\n",
       "      <th>4</th>\n",
       "      <td>0.37</td>\n",
       "      <td>0.52</td>\n",
       "      <td>2</td>\n",
       "      <td>159</td>\n",
       "      <td>3</td>\n",
       "      <td>0</td>\n",
       "      <td>1</td>\n",
       "      <td>0</td>\n",
       "      <td>sales</td>\n",
       "      <td>low</td>\n",
       "    </tr>\n",
       "  </tbody>\n",
       "</table>\n",
       "</div>"
      ],
      "text/plain": [
       "   satisfaction_level  last_evaluation  number_project  average_montly_hours  \\\n",
       "0                0.38             0.53               2                   157   \n",
       "1                0.80             0.86               5                   262   \n",
       "2                0.11             0.88               7                   272   \n",
       "3                0.72             0.87               5                   223   \n",
       "4                0.37             0.52               2                   159   \n",
       "\n",
       "   time_spend_company  Work_accident  left  promotion_last_5years  sales  \\\n",
       "0                   3              0     1                      0  sales   \n",
       "1                   6              0     1                      0  sales   \n",
       "2                   4              0     1                      0  sales   \n",
       "3                   5              0     1                      0  sales   \n",
       "4                   3              0     1                      0  sales   \n",
       "\n",
       "   salary  \n",
       "0     low  \n",
       "1  medium  \n",
       "2  medium  \n",
       "3     low  \n",
       "4     low  "
      ]
     },
     "execution_count": 2,
     "metadata": {},
     "output_type": "execute_result"
    }
   ],
   "source": [
    "hr=pd.read_csv(\"data/HR_data_origin.csv\")\n",
    "hr.head()"
   ]
  },
  {
   "cell_type": "markdown",
   "metadata": {},
   "source": [
    "## Brief description of columns in DataSet:\n",
    "\n",
    "- **Satisfaction_level** : Level of employee satisfaction with their work and position. At first, it ties closely with employee turnover. \n",
    "\n",
    "- **Last_evaluation**: Column can be used to evaluate the performance of an employee. The data ranges from 0–1, 0 being low performance and 1 being the highest.\n",
    "\n",
    "- **Number_projects**: number of projects employees done.\n",
    "\n",
    "- **average_montly_hours**: average monthly hours per employee.\n",
    "\n",
    "- **time_spend_company**: The data ranges from 1 to 10. Data unit not specified. It will be supposed _years_.\n",
    "\n",
    "- **Work_accident**: Whether the employee had a workplace accident,: 1 yes, 0 no.\n",
    "\n",
    "- **left**: Whether the employee has left or not the company: 1 yes, 0 no.\n",
    "\n",
    "- **promotion_last_5years**: Whether the employee has had a promotion in the last 5 years.\n",
    "\n",
    "- **Sales**: It seems to indicate the different areas or departments the employees belong: Sales, Technical, Support, IT, Product Managment, Marketing ,Accounting, Human Resources, Managment and Others.\n",
    "\n",
    "- **Salary**: Salary level classified by Low, Medium, High."
   ]
  },
  {
   "cell_type": "markdown",
   "metadata": {},
   "source": [
    "# 3. Data Scrubbing "
   ]
  },
  {
   "cell_type": "markdown",
   "metadata": {},
   "source": [
    "Analize and understand the data in detail in order to make the right assumptions and choose the right algorithm:\n",
    "\n",
    "* Size \n",
    "* Determine variable's type\n",
    "* Some transformations: name of columns and type of the variables\n",
    "* Is there any null value?\n",
    "* Find and remove duplicates\n",
    "* Descriptive analysis"
   ]
  },
  {
   "cell_type": "code",
   "execution_count": 3,
   "metadata": {},
   "outputs": [
    {
     "data": {
      "text/plain": [
       "(14999, 10)"
      ]
     },
     "execution_count": 3,
     "metadata": {},
     "output_type": "execute_result"
    }
   ],
   "source": [
    "#This dataset contains 14999 rows and 10 columns.\n",
    "hr.shape"
   ]
  },
  {
   "cell_type": "code",
   "execution_count": 4,
   "metadata": {
    "scrolled": true
   },
   "outputs": [
    {
     "name": "stdout",
     "output_type": "stream",
     "text": [
      "<class 'pandas.core.frame.DataFrame'>\n",
      "RangeIndex: 14999 entries, 0 to 14998\n",
      "Data columns (total 10 columns):\n",
      "satisfaction_level       14999 non-null float64\n",
      "last_evaluation          14999 non-null float64\n",
      "number_project           14999 non-null int64\n",
      "average_montly_hours     14999 non-null int64\n",
      "time_spend_company       14999 non-null int64\n",
      "Work_accident            14999 non-null int64\n",
      "left                     14999 non-null int64\n",
      "promotion_last_5years    14999 non-null int64\n",
      "sales                    14999 non-null object\n",
      "salary                   14999 non-null object\n",
      "dtypes: float64(2), int64(6), object(2)\n",
      "memory usage: 1.1+ MB\n"
     ]
    }
   ],
   "source": [
    "hr.info()"
   ]
  },
  {
   "cell_type": "code",
   "execution_count": 20,
   "metadata": {},
   "outputs": [
    {
     "data": {
      "text/html": [
       "<div>\n",
       "<style scoped>\n",
       "    .dataframe tbody tr th:only-of-type {\n",
       "        vertical-align: middle;\n",
       "    }\n",
       "\n",
       "    .dataframe tbody tr th {\n",
       "        vertical-align: top;\n",
       "    }\n",
       "\n",
       "    .dataframe thead th {\n",
       "        text-align: right;\n",
       "    }\n",
       "</style>\n",
       "<table border=\"1\" class=\"dataframe\">\n",
       "  <thead>\n",
       "    <tr style=\"text-align: right;\">\n",
       "      <th></th>\n",
       "      <th>satisfaction_level</th>\n",
       "      <th>last_evaluation</th>\n",
       "      <th>number_project</th>\n",
       "      <th>average_montly_hours</th>\n",
       "      <th>time_spend_company</th>\n",
       "      <th>Work_accident</th>\n",
       "      <th>left</th>\n",
       "      <th>promotion_last_5years</th>\n",
       "      <th>sales</th>\n",
       "      <th>salary</th>\n",
       "    </tr>\n",
       "  </thead>\n",
       "  <tbody>\n",
       "    <tr>\n",
       "      <th>12086</th>\n",
       "      <td>0.17</td>\n",
       "      <td>0.84</td>\n",
       "      <td>5</td>\n",
       "      <td>232</td>\n",
       "      <td>3</td>\n",
       "      <td>0</td>\n",
       "      <td>1</td>\n",
       "      <td>0</td>\n",
       "      <td>sales</td>\n",
       "      <td>low</td>\n",
       "    </tr>\n",
       "    <tr>\n",
       "      <th>5447</th>\n",
       "      <td>0.50</td>\n",
       "      <td>0.75</td>\n",
       "      <td>5</td>\n",
       "      <td>179</td>\n",
       "      <td>3</td>\n",
       "      <td>0</td>\n",
       "      <td>0</td>\n",
       "      <td>0</td>\n",
       "      <td>accounting</td>\n",
       "      <td>low</td>\n",
       "    </tr>\n",
       "    <tr>\n",
       "      <th>8016</th>\n",
       "      <td>0.80</td>\n",
       "      <td>0.64</td>\n",
       "      <td>5</td>\n",
       "      <td>204</td>\n",
       "      <td>2</td>\n",
       "      <td>0</td>\n",
       "      <td>0</td>\n",
       "      <td>0</td>\n",
       "      <td>support</td>\n",
       "      <td>low</td>\n",
       "    </tr>\n",
       "    <tr>\n",
       "      <th>8085</th>\n",
       "      <td>0.33</td>\n",
       "      <td>0.39</td>\n",
       "      <td>3</td>\n",
       "      <td>98</td>\n",
       "      <td>3</td>\n",
       "      <td>1</td>\n",
       "      <td>0</td>\n",
       "      <td>0</td>\n",
       "      <td>RandD</td>\n",
       "      <td>low</td>\n",
       "    </tr>\n",
       "    <tr>\n",
       "      <th>3192</th>\n",
       "      <td>0.49</td>\n",
       "      <td>0.76</td>\n",
       "      <td>5</td>\n",
       "      <td>237</td>\n",
       "      <td>3</td>\n",
       "      <td>0</td>\n",
       "      <td>0</td>\n",
       "      <td>0</td>\n",
       "      <td>IT</td>\n",
       "      <td>high</td>\n",
       "    </tr>\n",
       "    <tr>\n",
       "      <th>13028</th>\n",
       "      <td>0.52</td>\n",
       "      <td>0.38</td>\n",
       "      <td>2</td>\n",
       "      <td>103</td>\n",
       "      <td>3</td>\n",
       "      <td>0</td>\n",
       "      <td>0</td>\n",
       "      <td>0</td>\n",
       "      <td>support</td>\n",
       "      <td>medium</td>\n",
       "    </tr>\n",
       "    <tr>\n",
       "      <th>1852</th>\n",
       "      <td>0.39</td>\n",
       "      <td>0.49</td>\n",
       "      <td>2</td>\n",
       "      <td>142</td>\n",
       "      <td>3</td>\n",
       "      <td>0</td>\n",
       "      <td>1</td>\n",
       "      <td>0</td>\n",
       "      <td>sales</td>\n",
       "      <td>low</td>\n",
       "    </tr>\n",
       "    <tr>\n",
       "      <th>2667</th>\n",
       "      <td>0.53</td>\n",
       "      <td>0.87</td>\n",
       "      <td>3</td>\n",
       "      <td>151</td>\n",
       "      <td>2</td>\n",
       "      <td>0</td>\n",
       "      <td>0</td>\n",
       "      <td>0</td>\n",
       "      <td>RandD</td>\n",
       "      <td>low</td>\n",
       "    </tr>\n",
       "    <tr>\n",
       "      <th>5673</th>\n",
       "      <td>0.76</td>\n",
       "      <td>0.87</td>\n",
       "      <td>4</td>\n",
       "      <td>161</td>\n",
       "      <td>3</td>\n",
       "      <td>0</td>\n",
       "      <td>0</td>\n",
       "      <td>0</td>\n",
       "      <td>sales</td>\n",
       "      <td>high</td>\n",
       "    </tr>\n",
       "    <tr>\n",
       "      <th>6541</th>\n",
       "      <td>0.67</td>\n",
       "      <td>0.65</td>\n",
       "      <td>5</td>\n",
       "      <td>242</td>\n",
       "      <td>3</td>\n",
       "      <td>0</td>\n",
       "      <td>0</td>\n",
       "      <td>0</td>\n",
       "      <td>support</td>\n",
       "      <td>low</td>\n",
       "    </tr>\n",
       "  </tbody>\n",
       "</table>\n",
       "</div>"
      ],
      "text/plain": [
       "       satisfaction_level  last_evaluation  number_project  \\\n",
       "12086                0.17             0.84               5   \n",
       "5447                 0.50             0.75               5   \n",
       "8016                 0.80             0.64               5   \n",
       "8085                 0.33             0.39               3   \n",
       "3192                 0.49             0.76               5   \n",
       "13028                0.52             0.38               2   \n",
       "1852                 0.39             0.49               2   \n",
       "2667                 0.53             0.87               3   \n",
       "5673                 0.76             0.87               4   \n",
       "6541                 0.67             0.65               5   \n",
       "\n",
       "       average_montly_hours  time_spend_company  Work_accident  left  \\\n",
       "12086                   232                   3              0     1   \n",
       "5447                    179                   3              0     0   \n",
       "8016                    204                   2              0     0   \n",
       "8085                     98                   3              1     0   \n",
       "3192                    237                   3              0     0   \n",
       "13028                   103                   3              0     0   \n",
       "1852                    142                   3              0     1   \n",
       "2667                    151                   2              0     0   \n",
       "5673                    161                   3              0     0   \n",
       "6541                    242                   3              0     0   \n",
       "\n",
       "       promotion_last_5years       sales  salary  \n",
       "12086                      0       sales     low  \n",
       "5447                       0  accounting     low  \n",
       "8016                       0     support     low  \n",
       "8085                       0       RandD     low  \n",
       "3192                       0          IT    high  \n",
       "13028                      0     support  medium  \n",
       "1852                       0       sales     low  \n",
       "2667                       0       RandD     low  \n",
       "5673                       0       sales    high  \n",
       "6541                       0     support     low  "
      ]
     },
     "execution_count": 20,
     "metadata": {},
     "output_type": "execute_result"
    }
   ],
   "source": [
    "hr.sample(10)"
   ]
  },
  {
   "cell_type": "markdown",
   "metadata": {},
   "source": [
    "Rename columns: \n",
    "\n",
    "* __\"sales\"__: seems to indicate the names of the departments in the company. To clarify, from now on \"sales\" column  will be called \"department\"\n",
    "* __\"Work_accident\"__ : it will be converted to lowercase letters\n"
   ]
  },
  {
   "cell_type": "code",
   "execution_count": 10,
   "metadata": {
    "scrolled": true
   },
   "outputs": [
    {
     "data": {
      "text/plain": [
       "Index(['satisfaction_level', 'last_evaluation', 'number_project',\n",
       "       'average_montly_hours', 'time_spend_company', 'Work_accident', 'left',\n",
       "       'promotion_last_5years', 'sales', 'salary'],\n",
       "      dtype='object')"
      ]
     },
     "execution_count": 10,
     "metadata": {},
     "output_type": "execute_result"
    }
   ],
   "source": [
    "hr.columns"
   ]
  },
  {
   "cell_type": "code",
   "execution_count": 11,
   "metadata": {},
   "outputs": [],
   "source": [
    "hr_renamed =hr.rename(columns={'Work_accident':'work_accident','sales':'department'})"
   ]
  },
  {
   "cell_type": "code",
   "execution_count": 12,
   "metadata": {},
   "outputs": [
    {
     "data": {
      "text/plain": [
       "Index(['satisfaction_level', 'last_evaluation', 'number_project',\n",
       "       'average_montly_hours', 'time_spend_company', 'work_accident', 'left',\n",
       "       'promotion_last_5years', 'department', 'salary'],\n",
       "      dtype='object')"
      ]
     },
     "execution_count": 12,
     "metadata": {},
     "output_type": "execute_result"
    }
   ],
   "source": [
    "hr_renamed.columns"
   ]
  },
  {
   "cell_type": "markdown",
   "metadata": {},
   "source": [
    "Is there any missing data?"
   ]
  },
  {
   "cell_type": "code",
   "execution_count": 14,
   "metadata": {},
   "outputs": [
    {
     "data": {
      "text/plain": [
       "satisfaction_level       0\n",
       "last_evaluation          0\n",
       "number_project           0\n",
       "average_montly_hours     0\n",
       "time_spend_company       0\n",
       "work_accident            0\n",
       "left                     0\n",
       "promotion_last_5years    0\n",
       "department               0\n",
       "salary                   0\n",
       "dtype: int64"
      ]
     },
     "execution_count": 14,
     "metadata": {},
     "output_type": "execute_result"
    }
   ],
   "source": [
    "hr_renamed.isnull().sum()\n",
    "#there isn't missing data"
   ]
  },
  {
   "cell_type": "code",
   "execution_count": 15,
   "metadata": {},
   "outputs": [
    {
     "data": {
      "text/html": [
       "<div>\n",
       "<style scoped>\n",
       "    .dataframe tbody tr th:only-of-type {\n",
       "        vertical-align: middle;\n",
       "    }\n",
       "\n",
       "    .dataframe tbody tr th {\n",
       "        vertical-align: top;\n",
       "    }\n",
       "\n",
       "    .dataframe thead th {\n",
       "        text-align: right;\n",
       "    }\n",
       "</style>\n",
       "<table border=\"1\" class=\"dataframe\">\n",
       "  <thead>\n",
       "    <tr style=\"text-align: right;\">\n",
       "      <th></th>\n",
       "      <th>satisfaction_level</th>\n",
       "      <th>last_evaluation</th>\n",
       "      <th>number_project</th>\n",
       "      <th>average_montly_hours</th>\n",
       "      <th>time_spend_company</th>\n",
       "      <th>work_accident</th>\n",
       "      <th>left</th>\n",
       "      <th>promotion_last_5years</th>\n",
       "      <th>department</th>\n",
       "      <th>salary</th>\n",
       "    </tr>\n",
       "  </thead>\n",
       "  <tbody>\n",
       "    <tr>\n",
       "      <th>0</th>\n",
       "      <td>0.38</td>\n",
       "      <td>0.53</td>\n",
       "      <td>2</td>\n",
       "      <td>157</td>\n",
       "      <td>3</td>\n",
       "      <td>0</td>\n",
       "      <td>1</td>\n",
       "      <td>0</td>\n",
       "      <td>sales</td>\n",
       "      <td>low</td>\n",
       "    </tr>\n",
       "    <tr>\n",
       "      <th>1</th>\n",
       "      <td>0.80</td>\n",
       "      <td>0.86</td>\n",
       "      <td>5</td>\n",
       "      <td>262</td>\n",
       "      <td>6</td>\n",
       "      <td>0</td>\n",
       "      <td>1</td>\n",
       "      <td>0</td>\n",
       "      <td>sales</td>\n",
       "      <td>medium</td>\n",
       "    </tr>\n",
       "    <tr>\n",
       "      <th>2</th>\n",
       "      <td>0.11</td>\n",
       "      <td>0.88</td>\n",
       "      <td>7</td>\n",
       "      <td>272</td>\n",
       "      <td>4</td>\n",
       "      <td>0</td>\n",
       "      <td>1</td>\n",
       "      <td>0</td>\n",
       "      <td>sales</td>\n",
       "      <td>medium</td>\n",
       "    </tr>\n",
       "    <tr>\n",
       "      <th>3</th>\n",
       "      <td>0.72</td>\n",
       "      <td>0.87</td>\n",
       "      <td>5</td>\n",
       "      <td>223</td>\n",
       "      <td>5</td>\n",
       "      <td>0</td>\n",
       "      <td>1</td>\n",
       "      <td>0</td>\n",
       "      <td>sales</td>\n",
       "      <td>low</td>\n",
       "    </tr>\n",
       "    <tr>\n",
       "      <th>4</th>\n",
       "      <td>0.37</td>\n",
       "      <td>0.52</td>\n",
       "      <td>2</td>\n",
       "      <td>159</td>\n",
       "      <td>3</td>\n",
       "      <td>0</td>\n",
       "      <td>1</td>\n",
       "      <td>0</td>\n",
       "      <td>sales</td>\n",
       "      <td>low</td>\n",
       "    </tr>\n",
       "  </tbody>\n",
       "</table>\n",
       "</div>"
      ],
      "text/plain": [
       "   satisfaction_level  last_evaluation  number_project  average_montly_hours  \\\n",
       "0                0.38             0.53               2                   157   \n",
       "1                0.80             0.86               5                   262   \n",
       "2                0.11             0.88               7                   272   \n",
       "3                0.72             0.87               5                   223   \n",
       "4                0.37             0.52               2                   159   \n",
       "\n",
       "   time_spend_company  work_accident  left  promotion_last_5years department  \\\n",
       "0                   3              0     1                      0      sales   \n",
       "1                   6              0     1                      0      sales   \n",
       "2                   4              0     1                      0      sales   \n",
       "3                   5              0     1                      0      sales   \n",
       "4                   3              0     1                      0      sales   \n",
       "\n",
       "   salary  \n",
       "0     low  \n",
       "1  medium  \n",
       "2  medium  \n",
       "3     low  \n",
       "4     low  "
      ]
     },
     "execution_count": 15,
     "metadata": {},
     "output_type": "execute_result"
    }
   ],
   "source": [
    "hr_renamed.head()"
   ]
  },
  {
   "cell_type": "markdown",
   "metadata": {},
   "source": [
    "Transformation to numeric"
   ]
  },
  {
   "cell_type": "code",
   "execution_count": 22,
   "metadata": {},
   "outputs": [
    {
     "data": {
      "text/html": [
       "<div>\n",
       "<style scoped>\n",
       "    .dataframe tbody tr th:only-of-type {\n",
       "        vertical-align: middle;\n",
       "    }\n",
       "\n",
       "    .dataframe tbody tr th {\n",
       "        vertical-align: top;\n",
       "    }\n",
       "\n",
       "    .dataframe thead th {\n",
       "        text-align: right;\n",
       "    }\n",
       "</style>\n",
       "<table border=\"1\" class=\"dataframe\">\n",
       "  <thead>\n",
       "    <tr style=\"text-align: right;\">\n",
       "      <th></th>\n",
       "      <th>satisfaction_level</th>\n",
       "      <th>last_evaluation</th>\n",
       "      <th>number_project</th>\n",
       "      <th>average_montly_hours</th>\n",
       "      <th>time_spend_company</th>\n",
       "      <th>work_accident</th>\n",
       "      <th>left</th>\n",
       "      <th>promotion_last_5years</th>\n",
       "      <th>department</th>\n",
       "      <th>salary</th>\n",
       "      <th>salary_numeric</th>\n",
       "    </tr>\n",
       "  </thead>\n",
       "  <tbody>\n",
       "    <tr>\n",
       "      <th>0</th>\n",
       "      <td>0.38</td>\n",
       "      <td>0.53</td>\n",
       "      <td>2</td>\n",
       "      <td>157</td>\n",
       "      <td>3</td>\n",
       "      <td>0</td>\n",
       "      <td>1</td>\n",
       "      <td>0</td>\n",
       "      <td>sales</td>\n",
       "      <td>low</td>\n",
       "      <td>1</td>\n",
       "    </tr>\n",
       "    <tr>\n",
       "      <th>1</th>\n",
       "      <td>0.80</td>\n",
       "      <td>0.86</td>\n",
       "      <td>5</td>\n",
       "      <td>262</td>\n",
       "      <td>6</td>\n",
       "      <td>0</td>\n",
       "      <td>1</td>\n",
       "      <td>0</td>\n",
       "      <td>sales</td>\n",
       "      <td>medium</td>\n",
       "      <td>2</td>\n",
       "    </tr>\n",
       "    <tr>\n",
       "      <th>2</th>\n",
       "      <td>0.11</td>\n",
       "      <td>0.88</td>\n",
       "      <td>7</td>\n",
       "      <td>272</td>\n",
       "      <td>4</td>\n",
       "      <td>0</td>\n",
       "      <td>1</td>\n",
       "      <td>0</td>\n",
       "      <td>sales</td>\n",
       "      <td>medium</td>\n",
       "      <td>2</td>\n",
       "    </tr>\n",
       "    <tr>\n",
       "      <th>3</th>\n",
       "      <td>0.72</td>\n",
       "      <td>0.87</td>\n",
       "      <td>5</td>\n",
       "      <td>223</td>\n",
       "      <td>5</td>\n",
       "      <td>0</td>\n",
       "      <td>1</td>\n",
       "      <td>0</td>\n",
       "      <td>sales</td>\n",
       "      <td>low</td>\n",
       "      <td>1</td>\n",
       "    </tr>\n",
       "    <tr>\n",
       "      <th>4</th>\n",
       "      <td>0.37</td>\n",
       "      <td>0.52</td>\n",
       "      <td>2</td>\n",
       "      <td>159</td>\n",
       "      <td>3</td>\n",
       "      <td>0</td>\n",
       "      <td>1</td>\n",
       "      <td>0</td>\n",
       "      <td>sales</td>\n",
       "      <td>low</td>\n",
       "      <td>1</td>\n",
       "    </tr>\n",
       "  </tbody>\n",
       "</table>\n",
       "</div>"
      ],
      "text/plain": [
       "   satisfaction_level  last_evaluation  number_project  average_montly_hours  \\\n",
       "0                0.38             0.53               2                   157   \n",
       "1                0.80             0.86               5                   262   \n",
       "2                0.11             0.88               7                   272   \n",
       "3                0.72             0.87               5                   223   \n",
       "4                0.37             0.52               2                   159   \n",
       "\n",
       "   time_spend_company  work_accident  left  promotion_last_5years department  \\\n",
       "0                   3              0     1                      0      sales   \n",
       "1                   6              0     1                      0      sales   \n",
       "2                   4              0     1                      0      sales   \n",
       "3                   5              0     1                      0      sales   \n",
       "4                   3              0     1                      0      sales   \n",
       "\n",
       "   salary  salary_numeric  \n",
       "0     low               1  \n",
       "1  medium               2  \n",
       "2  medium               2  \n",
       "3     low               1  \n",
       "4     low               1  "
      ]
     },
     "execution_count": 22,
     "metadata": {},
     "output_type": "execute_result"
    }
   ],
   "source": [
    "hr_renamed['salary_numeric'] = hr_renamed['salary'].map({'low': 1, 'medium': 2, 'high':3})\n",
    "hr_renamed.head()"
   ]
  },
  {
   "cell_type": "markdown",
   "metadata": {},
   "source": [
    "Find and remove duplicates"
   ]
  },
  {
   "cell_type": "code",
   "execution_count": 23,
   "metadata": {},
   "outputs": [
    {
     "data": {
      "text/plain": [
       "3008"
      ]
     },
     "execution_count": 23,
     "metadata": {},
     "output_type": "execute_result"
    }
   ],
   "source": [
    "len(hr_renamed[hr_renamed.duplicated]==True)"
   ]
  },
  {
   "cell_type": "code",
   "execution_count": 24,
   "metadata": {},
   "outputs": [
    {
     "data": {
      "text/plain": [
       "(11991, 11)"
      ]
     },
     "execution_count": 24,
     "metadata": {},
     "output_type": "execute_result"
    }
   ],
   "source": [
    "#After validating the size of these elements I feel comfortable removing duplicates from the data set\n",
    "hr_no_dupl= hr_renamed.drop_duplicates()\n",
    "hr_no_dupl.shape"
   ]
  },
  {
   "cell_type": "code",
   "execution_count": 25,
   "metadata": {},
   "outputs": [
    {
     "data": {
      "text/html": [
       "<div>\n",
       "<style scoped>\n",
       "    .dataframe tbody tr th:only-of-type {\n",
       "        vertical-align: middle;\n",
       "    }\n",
       "\n",
       "    .dataframe tbody tr th {\n",
       "        vertical-align: top;\n",
       "    }\n",
       "\n",
       "    .dataframe thead th {\n",
       "        text-align: right;\n",
       "    }\n",
       "</style>\n",
       "<table border=\"1\" class=\"dataframe\">\n",
       "  <thead>\n",
       "    <tr style=\"text-align: right;\">\n",
       "      <th></th>\n",
       "      <th>satisfaction_level</th>\n",
       "      <th>last_evaluation</th>\n",
       "      <th>number_project</th>\n",
       "      <th>average_montly_hours</th>\n",
       "      <th>time_spend_company</th>\n",
       "      <th>work_accident</th>\n",
       "      <th>left</th>\n",
       "      <th>promotion_last_5years</th>\n",
       "      <th>salary_numeric</th>\n",
       "    </tr>\n",
       "  </thead>\n",
       "  <tbody>\n",
       "    <tr>\n",
       "      <th>count</th>\n",
       "      <td>11991.000000</td>\n",
       "      <td>11991.000000</td>\n",
       "      <td>11991.000000</td>\n",
       "      <td>11991.000000</td>\n",
       "      <td>11991.000000</td>\n",
       "      <td>11991.000000</td>\n",
       "      <td>11991.000000</td>\n",
       "      <td>11991.000000</td>\n",
       "      <td>11991.00000</td>\n",
       "    </tr>\n",
       "    <tr>\n",
       "      <th>mean</th>\n",
       "      <td>0.629658</td>\n",
       "      <td>0.716683</td>\n",
       "      <td>3.802852</td>\n",
       "      <td>200.473522</td>\n",
       "      <td>3.364857</td>\n",
       "      <td>0.154282</td>\n",
       "      <td>0.166041</td>\n",
       "      <td>0.016929</td>\n",
       "      <td>1.60387</td>\n",
       "    </tr>\n",
       "    <tr>\n",
       "      <th>std</th>\n",
       "      <td>0.241070</td>\n",
       "      <td>0.168343</td>\n",
       "      <td>1.163238</td>\n",
       "      <td>48.727813</td>\n",
       "      <td>1.330240</td>\n",
       "      <td>0.361234</td>\n",
       "      <td>0.372133</td>\n",
       "      <td>0.129012</td>\n",
       "      <td>0.63590</td>\n",
       "    </tr>\n",
       "    <tr>\n",
       "      <th>min</th>\n",
       "      <td>0.090000</td>\n",
       "      <td>0.360000</td>\n",
       "      <td>2.000000</td>\n",
       "      <td>96.000000</td>\n",
       "      <td>2.000000</td>\n",
       "      <td>0.000000</td>\n",
       "      <td>0.000000</td>\n",
       "      <td>0.000000</td>\n",
       "      <td>1.00000</td>\n",
       "    </tr>\n",
       "    <tr>\n",
       "      <th>25%</th>\n",
       "      <td>0.480000</td>\n",
       "      <td>0.570000</td>\n",
       "      <td>3.000000</td>\n",
       "      <td>157.000000</td>\n",
       "      <td>3.000000</td>\n",
       "      <td>0.000000</td>\n",
       "      <td>0.000000</td>\n",
       "      <td>0.000000</td>\n",
       "      <td>1.00000</td>\n",
       "    </tr>\n",
       "    <tr>\n",
       "      <th>50%</th>\n",
       "      <td>0.660000</td>\n",
       "      <td>0.720000</td>\n",
       "      <td>4.000000</td>\n",
       "      <td>200.000000</td>\n",
       "      <td>3.000000</td>\n",
       "      <td>0.000000</td>\n",
       "      <td>0.000000</td>\n",
       "      <td>0.000000</td>\n",
       "      <td>2.00000</td>\n",
       "    </tr>\n",
       "    <tr>\n",
       "      <th>75%</th>\n",
       "      <td>0.820000</td>\n",
       "      <td>0.860000</td>\n",
       "      <td>5.000000</td>\n",
       "      <td>243.000000</td>\n",
       "      <td>4.000000</td>\n",
       "      <td>0.000000</td>\n",
       "      <td>0.000000</td>\n",
       "      <td>0.000000</td>\n",
       "      <td>2.00000</td>\n",
       "    </tr>\n",
       "    <tr>\n",
       "      <th>max</th>\n",
       "      <td>1.000000</td>\n",
       "      <td>1.000000</td>\n",
       "      <td>7.000000</td>\n",
       "      <td>310.000000</td>\n",
       "      <td>10.000000</td>\n",
       "      <td>1.000000</td>\n",
       "      <td>1.000000</td>\n",
       "      <td>1.000000</td>\n",
       "      <td>3.00000</td>\n",
       "    </tr>\n",
       "  </tbody>\n",
       "</table>\n",
       "</div>"
      ],
      "text/plain": [
       "       satisfaction_level  last_evaluation  number_project  \\\n",
       "count        11991.000000     11991.000000    11991.000000   \n",
       "mean             0.629658         0.716683        3.802852   \n",
       "std              0.241070         0.168343        1.163238   \n",
       "min              0.090000         0.360000        2.000000   \n",
       "25%              0.480000         0.570000        3.000000   \n",
       "50%              0.660000         0.720000        4.000000   \n",
       "75%              0.820000         0.860000        5.000000   \n",
       "max              1.000000         1.000000        7.000000   \n",
       "\n",
       "       average_montly_hours  time_spend_company  work_accident          left  \\\n",
       "count          11991.000000        11991.000000   11991.000000  11991.000000   \n",
       "mean             200.473522            3.364857       0.154282      0.166041   \n",
       "std               48.727813            1.330240       0.361234      0.372133   \n",
       "min               96.000000            2.000000       0.000000      0.000000   \n",
       "25%              157.000000            3.000000       0.000000      0.000000   \n",
       "50%              200.000000            3.000000       0.000000      0.000000   \n",
       "75%              243.000000            4.000000       0.000000      0.000000   \n",
       "max              310.000000           10.000000       1.000000      1.000000   \n",
       "\n",
       "       promotion_last_5years  salary_numeric  \n",
       "count           11991.000000     11991.00000  \n",
       "mean                0.016929         1.60387  \n",
       "std                 0.129012         0.63590  \n",
       "min                 0.000000         1.00000  \n",
       "25%                 0.000000         1.00000  \n",
       "50%                 0.000000         2.00000  \n",
       "75%                 0.000000         2.00000  \n",
       "max                 1.000000         3.00000  "
      ]
     },
     "execution_count": 25,
     "metadata": {},
     "output_type": "execute_result"
    }
   ],
   "source": [
    "#Descriptive analysis\n",
    "hr_no_dupl.describe()"
   ]
  },
  {
   "cell_type": "markdown",
   "metadata": {},
   "source": [
    "It is observed that:\n",
    "    \n",
    "* Satisfaction level is around 63% and last evaluation(performance) is around 72%\n",
    "* Almost the 17% of employees left the company\n",
    "* Employees work 200 hours monthly and in average on 4 projects, spending  3 years at company in average\n",
    "* Accidents happen in a 15% of times and promotions seems to be very low"
   ]
  },
  {
   "cell_type": "markdown",
   "metadata": {},
   "source": [
    "# 4. Analysis and some Quick Visualitations"
   ]
  },
  {
   "cell_type": "markdown",
   "metadata": {},
   "source": [
    "### Job distribution\n",
    "_How many employees work in each department?_\n",
    "\n",
    "Due to we unknow what this company is dedicated to, this analysis can be useful to determine the type of company segment."
   ]
  },
  {
   "cell_type": "code",
   "execution_count": 26,
   "metadata": {},
   "outputs": [
    {
     "data": {
      "text/html": [
       "<div>\n",
       "<style scoped>\n",
       "    .dataframe tbody tr th:only-of-type {\n",
       "        vertical-align: middle;\n",
       "    }\n",
       "\n",
       "    .dataframe tbody tr th {\n",
       "        vertical-align: top;\n",
       "    }\n",
       "\n",
       "    .dataframe thead th {\n",
       "        text-align: right;\n",
       "    }\n",
       "</style>\n",
       "<table border=\"1\" class=\"dataframe\">\n",
       "  <thead>\n",
       "    <tr style=\"text-align: right;\">\n",
       "      <th></th>\n",
       "      <th>department</th>\n",
       "      <th>left</th>\n",
       "    </tr>\n",
       "  </thead>\n",
       "  <tbody>\n",
       "    <tr>\n",
       "      <th>0</th>\n",
       "      <td>sales</td>\n",
       "      <td>3239</td>\n",
       "    </tr>\n",
       "    <tr>\n",
       "      <th>1</th>\n",
       "      <td>technical</td>\n",
       "      <td>2244</td>\n",
       "    </tr>\n",
       "    <tr>\n",
       "      <th>2</th>\n",
       "      <td>support</td>\n",
       "      <td>1821</td>\n",
       "    </tr>\n",
       "    <tr>\n",
       "      <th>3</th>\n",
       "      <td>IT</td>\n",
       "      <td>976</td>\n",
       "    </tr>\n",
       "    <tr>\n",
       "      <th>4</th>\n",
       "      <td>RandD</td>\n",
       "      <td>694</td>\n",
       "    </tr>\n",
       "    <tr>\n",
       "      <th>5</th>\n",
       "      <td>product_mng</td>\n",
       "      <td>686</td>\n",
       "    </tr>\n",
       "    <tr>\n",
       "      <th>6</th>\n",
       "      <td>marketing</td>\n",
       "      <td>673</td>\n",
       "    </tr>\n",
       "    <tr>\n",
       "      <th>7</th>\n",
       "      <td>accounting</td>\n",
       "      <td>621</td>\n",
       "    </tr>\n",
       "    <tr>\n",
       "      <th>8</th>\n",
       "      <td>hr</td>\n",
       "      <td>601</td>\n",
       "    </tr>\n",
       "    <tr>\n",
       "      <th>9</th>\n",
       "      <td>management</td>\n",
       "      <td>436</td>\n",
       "    </tr>\n",
       "  </tbody>\n",
       "</table>\n",
       "</div>"
      ],
      "text/plain": [
       "    department  left\n",
       "0        sales  3239\n",
       "1    technical  2244\n",
       "2      support  1821\n",
       "3           IT   976\n",
       "4        RandD   694\n",
       "5  product_mng   686\n",
       "6    marketing   673\n",
       "7   accounting   621\n",
       "8           hr   601\n",
       "9   management   436"
      ]
     },
     "execution_count": 26,
     "metadata": {},
     "output_type": "execute_result"
    }
   ],
   "source": [
    "headcount_by_department = hr_no_dupl.groupby('department')['left'].count().sort_values(ascending=False).reset_index()\n",
    "headcount_by_department"
   ]
  },
  {
   "cell_type": "code",
   "execution_count": 27,
   "metadata": {},
   "outputs": [
    {
     "data": {
      "image/png": "[encoded data removed]",
      "text/plain": [
       "<Figure size 360x360 with 1 Axes>"
      ]
     },
     "metadata": {},
     "output_type": "display_data"
    }
   ],
   "source": [
    "#graph:\n",
    "\n",
    "plt.figure(figsize=(5,5))\n",
    "explode=(0.15,0.15,0.1,0.05,0.02,0.02,0.01,0.01,0,0) #highlight the 4 main values\n",
    "plt.pie(headcount_by_department.left,labels=headcount_by_department.department,autopct='%1d%%',explode=explode)\n",
    "plt.title('Graph 1:Employee distribution',fontsize=17)\n",
    "plt.show()"
   ]
  },
  {
   "cell_type": "markdown",
   "metadata": {},
   "source": [
    "* Sales, Technical and Support are the departments with a higher number of employees (50% over total)"
   ]
  },
  {
   "cell_type": "markdown",
   "metadata": {},
   "source": [
    "## Turnover rate"
   ]
  },
  {
   "cell_type": "markdown",
   "metadata": {},
   "source": [
    "The term ‘employee turnover rate’ refers to the percentage of employees who leave an organization during a certain period of time. People usually include voluntary resignations, dismissals, non certifications and retirements in their turnover calculations. They normally don’t include internal movements like promotions or transfers. \n",
    "\n",
    "Source: [https://resources.workable.com/tutorial/calculate-employee-turnover-rate]"
   ]
  },
  {
   "cell_type": "markdown",
   "metadata": {},
   "source": [
    "### Which is the turnover rate of this company?\n",
    "\n",
    "Typically, turnover is measured on a month or annual basis. As a general rule, high rate is damaging to a company's revenue and profitability. As I unknow the period of time of this dataset, I will assume that it has been measured on annual basis. \n",
    "\n",
    "Here is the formula for annual turnover rate:\n",
    "\n",
    "![image.png](https://www.brighthr.com/media/112089/how-to-calculate-staff-turnover-by-year.jpg)"
   ]
  },
  {
   "cell_type": "markdown",
   "metadata": {},
   "source": [
    "To simplify, let's calculate the turnover rate as:"
   ]
  },
  {
   "cell_type": "code",
   "execution_count": 28,
   "metadata": {},
   "outputs": [
    {
     "data": {
      "text/plain": [
       "16.6"
      ]
     },
     "execution_count": 28,
     "metadata": {},
     "output_type": "execute_result"
    }
   ],
   "source": [
    "turnover_rate = round(hr_no_dupl['left'].mean()*100,1)\n",
    "turnover_rate"
   ]
  },
  {
   "cell_type": "markdown",
   "metadata": {},
   "source": [
    "So, I can determine that 17% of the employees left the company. Is it high, is it low, is it bad, is it good...?\n",
    "Well, the ideal labour turnover will depend on the business and the industry the company work in. \n",
    "\n",
    "I have no enough information about the company and it seems not easy to discover it.  However what I can and try to find out and analyse is : __What are people leaving the company like and why they do it?__ "
   ]
  },
  {
   "cell_type": "markdown",
   "metadata": {},
   "source": [
    "### Which is the turnover rate by department?"
   ]
  },
  {
   "cell_type": "code",
   "execution_count": 29,
   "metadata": {},
   "outputs": [
    {
     "data": {
      "text/plain": [
       "department\n",
       "hr             18.8\n",
       "accounting     17.6\n",
       "technical      17.4\n",
       "support        17.1\n",
       "sales          17.0\n",
       "marketing      16.6\n",
       "IT             16.2\n",
       "product_mng    16.0\n",
       "RandD          12.2\n",
       "management     11.9\n",
       "Name: left, dtype: float64"
      ]
     },
     "execution_count": 29,
     "metadata": {},
     "output_type": "execute_result"
    }
   ],
   "source": [
    "turnover_by_department = round(hr_no_dupl.groupby('department')['left'].mean().sort_values(ascending=False)*100,1)\n",
    "turnover_by_department"
   ]
  },
  {
   "cell_type": "code",
   "execution_count": 30,
   "metadata": {},
   "outputs": [
    {
     "data": {
      "image/png": "[encoded data removed]",
      "text/plain": [
       "<Figure size 720x504 with 1 Axes>"
      ]
     },
     "metadata": {},
     "output_type": "display_data"
    }
   ],
   "source": [
    "#this graph shows turnover ratio by department vs. Company ratio (16.6%)\n",
    "\n",
    "plt.figure(figsize=(10,7))\n",
    "plt.barh(turnover_by_department .index,turnover_by_department.values,color='blue',alpha=0.4)\n",
    "plt.barh(turnover_by_department.index,turnover_rate,alpha=.3,color='green', label='average company turnover rate')\n",
    "plt.xlabel('turnover ratio')\n",
    "plt.ylabel('department')\n",
    "plt.legend()\n",
    "plt.title('Graph 2: Turnover rate by department vs. average company rate', fontsize= 17)\n",
    "plt.show()"
   ]
  },
  {
   "cell_type": "markdown",
   "metadata": {},
   "source": [
    "* Human Resources is the department with the highest turnover rate. \n",
    "\n",
    "* The departments with a higher number of employees (Sales, Technical and Support) are also above the average.\n",
    "\n",
    "* Management is far below the average, probably (don't know yet) because their salaries are higher."
   ]
  },
  {
   "cell_type": "markdown",
   "metadata": {},
   "source": [
    "### Turnover by salary"
   ]
  },
  {
   "cell_type": "markdown",
   "metadata": {},
   "source": [
    "Obviously the lower the salary, the greater the turnover"
   ]
  },
  {
   "cell_type": "code",
   "execution_count": 31,
   "metadata": {},
   "outputs": [
    {
     "data": {
      "text/plain": [
       "salary\n",
       "low       20.5\n",
       "medium    14.6\n",
       "high       4.8\n",
       "Name: left, dtype: float64"
      ]
     },
     "execution_count": 31,
     "metadata": {},
     "output_type": "execute_result"
    }
   ],
   "source": [
    "round(hr_no_dupl.groupby('salary')['left'].mean()*100,1).sort_values(ascending=False)"
   ]
  },
  {
   "cell_type": "markdown",
   "metadata": {},
   "source": [
    "How does this ratio behave according to the different departments?"
   ]
  },
  {
   "cell_type": "code",
   "execution_count": 32,
   "metadata": {},
   "outputs": [
    {
     "data": {
      "text/plain": [
       "department\n",
       "marketing      24.5\n",
       "management     23.0\n",
       "support        22.0\n",
       "hr             20.9\n",
       "technical      20.9\n",
       "sales          20.5\n",
       "accounting     19.9\n",
       "IT             18.3\n",
       "product_mng    17.2\n",
       "RandD          15.8\n",
       "Name: left, dtype: float64"
      ]
     },
     "execution_count": 32,
     "metadata": {},
     "output_type": "execute_result"
    }
   ],
   "source": [
    "low = round((hr_no_dupl[hr_no_dupl['salary']=='low'].groupby('department')['left'].mean()*100).sort_values(ascending=False),1)\n",
    "low"
   ]
  },
  {
   "cell_type": "code",
   "execution_count": 33,
   "metadata": {},
   "outputs": [
    {
     "data": {
      "text/plain": [
       "department\n",
       "hr             18.0\n",
       "accounting     17.9\n",
       "product_mng    16.2\n",
       "IT             15.6\n",
       "sales          15.1\n",
       "technical      15.1\n",
       "support        14.0\n",
       "management     11.2\n",
       "marketing      11.0\n",
       "RandD           9.5\n",
       "Name: left, dtype: float64"
      ]
     },
     "execution_count": 33,
     "metadata": {},
     "output_type": "execute_result"
    }
   ],
   "source": [
    "medium = round((hr_no_dupl[hr_no_dupl['salary']=='medium'].groupby('department')['left'].mean()*100).sort_values(ascending=False),1)\n",
    "medium"
   ]
  },
  {
   "cell_type": "code",
   "execution_count": 34,
   "metadata": {},
   "outputs": [
    {
     "data": {
      "text/plain": [
       "department\n",
       "hr             7.9\n",
       "product_mng    7.7\n",
       "RandD          6.4\n",
       "technical      6.0\n",
       "IT             5.6\n",
       "sales          5.1\n",
       "marketing      4.8\n",
       "accounting     4.8\n",
       "support        4.0\n",
       "management     0.8\n",
       "Name: left, dtype: float64"
      ]
     },
     "execution_count": 34,
     "metadata": {},
     "output_type": "execute_result"
    }
   ],
   "source": [
    "high = round((hr_no_dupl[hr_no_dupl['salary']=='high'].groupby('department')['left'].mean()*100).sort_values(ascending=False),1)\n",
    "high"
   ]
  },
  {
   "cell_type": "code",
   "execution_count": 35,
   "metadata": {},
   "outputs": [
    {
     "data": {
      "text/html": [
       "<div>\n",
       "<style scoped>\n",
       "    .dataframe tbody tr th:only-of-type {\n",
       "        vertical-align: middle;\n",
       "    }\n",
       "\n",
       "    .dataframe tbody tr th {\n",
       "        vertical-align: top;\n",
       "    }\n",
       "\n",
       "    .dataframe thead th {\n",
       "        text-align: right;\n",
       "    }\n",
       "</style>\n",
       "<table border=\"1\" class=\"dataframe\">\n",
       "  <thead>\n",
       "    <tr style=\"text-align: right;\">\n",
       "      <th></th>\n",
       "      <th>department</th>\n",
       "      <th>salary</th>\n",
       "      <th>left</th>\n",
       "    </tr>\n",
       "  </thead>\n",
       "  <tbody>\n",
       "    <tr>\n",
       "      <th>10</th>\n",
       "      <td>hr</td>\n",
       "      <td>low</td>\n",
       "      <td>0.209459</td>\n",
       "    </tr>\n",
       "    <tr>\n",
       "      <th>19</th>\n",
       "      <td>product_mng</td>\n",
       "      <td>low</td>\n",
       "      <td>0.172012</td>\n",
       "    </tr>\n",
       "    <tr>\n",
       "      <th>28</th>\n",
       "      <td>technical</td>\n",
       "      <td>low</td>\n",
       "      <td>0.209139</td>\n",
       "    </tr>\n",
       "    <tr>\n",
       "      <th>7</th>\n",
       "      <td>accounting</td>\n",
       "      <td>low</td>\n",
       "      <td>0.199324</td>\n",
       "    </tr>\n",
       "    <tr>\n",
       "      <th>0</th>\n",
       "      <td>IT</td>\n",
       "      <td>high</td>\n",
       "      <td>0.056338</td>\n",
       "    </tr>\n",
       "  </tbody>\n",
       "</table>\n",
       "</div>"
      ],
      "text/plain": [
       "     department salary      left\n",
       "10           hr    low  0.209459\n",
       "19  product_mng    low  0.172012\n",
       "28    technical    low  0.209139\n",
       "7    accounting    low  0.199324\n",
       "0            IT   high  0.056338"
      ]
     },
     "execution_count": 35,
     "metadata": {},
     "output_type": "execute_result"
    }
   ],
   "source": [
    "#all together:\n",
    "salary_by_department = hr_no_dupl.groupby(['department','salary'])['left'].mean().reset_index().sort_values(by='left',ascending=True)\n",
    "salary_by_department.sample(5)"
   ]
  },
  {
   "cell_type": "code",
   "execution_count": 36,
   "metadata": {},
   "outputs": [
    {
     "data": {
      "application/javascript": [
       "var spec = {\"config\": {\"view\": {\"width\": 400, \"height\": 300}}, \"data\": {\"name\": \"data-f48648194f031a1bcf99b262330aee26\"}, \"mark\": \"bar\", \"encoding\": {\"color\": {\"type\": \"nominal\", \"field\": \"salary\"}, \"x\": {\"type\": \"nominal\", \"field\": \"department\"}, \"y\": {\"type\": \"quantitative\", \"field\": \"left\"}}, \"selection\": {\"selector001\": {\"type\": \"interval\", \"bind\": \"scales\", \"encodings\": [\"x\", \"y\"]}}, \"title\": \"Graph 3. % Turnover by department and salary\", \"width\": 600, \"$schema\": \"https://vega.github.io/schema/vega-lite/v2.6.0.json\", \"datasets\": {\"data-f48648194f031a1bcf99b262330aee26\": [{\"department\": \"management\", \"salary\": \"high\", \"left\": 0.0078125}, {\"department\": \"support\", \"salary\": \"high\", \"left\": 0.03968253968253968}, {\"department\": \"accounting\", \"salary\": \"high\", \"left\": 0.047619047619047616}, {\"department\": \"marketing\", \"salary\": \"high\", \"left\": 0.04838709677419355}, {\"department\": \"sales\", \"salary\": \"high\", \"left\": 0.05063291139240506}, {\"department\": \"IT\", \"salary\": \"high\", \"left\": 0.056338028169014086}, {\"department\": \"technical\", \"salary\": \"high\", \"left\": 0.060240963855421686}, {\"department\": \"RandD\", \"salary\": \"high\", \"left\": 0.06382978723404255}, {\"department\": \"product_mng\", \"salary\": \"high\", \"left\": 0.07692307692307693}, {\"department\": \"hr\", \"salary\": \"high\", \"left\": 0.07894736842105263}, {\"department\": \"RandD\", \"salary\": \"medium\", \"left\": 0.09538461538461539}, {\"department\": \"marketing\", \"salary\": \"medium\", \"left\": 0.10963455149501661}, {\"department\": \"management\", \"salary\": \"medium\", \"left\": 0.11242603550295859}, {\"department\": \"support\", \"salary\": \"medium\", \"left\": 0.14009661835748793}, {\"department\": \"technical\", \"salary\": \"medium\", \"left\": 0.15106382978723404}, {\"department\": \"sales\", \"salary\": \"medium\", \"left\": 0.15113871635610765}, {\"department\": \"IT\", \"salary\": \"medium\", \"left\": 0.1561771561771562}, {\"department\": \"RandD\", \"salary\": \"low\", \"left\": 0.15838509316770186}, {\"department\": \"product_mng\", \"salary\": \"medium\", \"left\": 0.16151202749140894}, {\"department\": \"product_mng\", \"salary\": \"low\", \"left\": 0.17201166180758018}, {\"department\": \"accounting\", \"salary\": \"medium\", \"left\": 0.17938931297709923}, {\"department\": \"hr\", \"salary\": \"medium\", \"left\": 0.1797752808988764}, {\"department\": \"IT\", \"salary\": \"low\", \"left\": 0.18277310924369747}, {\"department\": \"accounting\", \"salary\": \"low\", \"left\": 0.19932432432432431}, {\"department\": \"sales\", \"salary\": \"low\", \"left\": 0.20540888602704443}, {\"department\": \"technical\", \"salary\": \"low\", \"left\": 0.20913884007029876}, {\"department\": \"hr\", \"salary\": \"low\", \"left\": 0.20945945945945946}, {\"department\": \"support\", \"salary\": \"low\", \"left\": 0.22029988465974626}, {\"department\": \"management\", \"salary\": \"low\", \"left\": 0.2302158273381295}, {\"department\": \"marketing\", \"salary\": \"low\", \"left\": 0.24516129032258063}]}};\n",
       "var opt = {};\n",
       "var type = \"vega-lite\";\n",
       "var id = \"08014c43-781b-43f0-a518-5c85578eec38\";\n",
       "\n",
       "var output_area = this;\n",
       "\n",
       "require([\"nbextensions/jupyter-vega/index\"], function(vega) {\n",
       "  var target = document.createElement(\"div\");\n",
       "  target.id = id;\n",
       "  target.className = \"vega-embed\";\n",
       "\n",
       "  var style = document.createElement(\"style\");\n",
       "  style.textContent = [\n",
       "    \".vega-embed .error p {\",\n",
       "    \"  color: firebrick;\",\n",
       "    \"  font-size: 14px;\",\n",
       "    \"}\",\n",
       "  ].join(\"\\\\n\");\n",
       "\n",
       "  // element is a jQuery wrapped DOM element inside the output area\n",
       "  // see http://ipython.readthedocs.io/en/stable/api/generated/\\\n",
       "  // IPython.display.html#IPython.display.Javascript.__init__\n",
       "  element[0].appendChild(target);\n",
       "  element[0].appendChild(style);\n",
       "\n",
       "  vega.render(\"#\" + id, spec, type, opt, output_area);\n",
       "}, function (err) {\n",
       "  if (err.requireType !== \"scripterror\") {\n",
       "    throw(err);\n",
       "  }\n",
       "});\n"
      ],
      "text/plain": [
       "<vega.vegalite.VegaLite at 0x7f3daeba8b38>"
      ]
     },
     "metadata": {
      "jupyter-vega": "#08014c43-781b-43f0-a518-5c85578eec38"
     },
     "output_type": "display_data"
    },
    {
     "data": {
      "image/png": "[encoded data removed]"
     },
     "metadata": {
      "jupyter-vega": "#08014c43-781b-43f0-a518-5c85578eec38"
     },
     "output_type": "display_data"
    },
    {
     "data": {
      "text/plain": []
     },
     "execution_count": 36,
     "metadata": {},
     "output_type": "execute_result"
    }
   ],
   "source": [
    "#graph:\n",
    "turnover_rate_by_salary_and_department=alt.Chart(salary_by_department).mark_bar().encode(\n",
    "    x=\"department:N\",\n",
    "    y=\"left\",\n",
    "    color=\"salary:N\"\n",
    ").properties(\n",
    "    title=\"Graph 3. % Turnover by department and salary\",\n",
    "    width=600\n",
    ").interactive()\n",
    "turnover_rate_by_salary_and_department"
   ]
  },
  {
   "cell_type": "markdown",
   "metadata": {},
   "source": [
    "As we can see in the graph although HR has the highest turnover rate, when I split it by salary the picture changes. \n",
    "\n",
    "* __High and medium__: the peack keeps being HR \n",
    "* __Low__: marketing, managment and support areas have the highest turnover rate. It is a fact that \"salary\" is a key factor to leave the company"
   ]
  },
  {
   "cell_type": "markdown",
   "metadata": {},
   "source": [
    "### Could we know which variable has the most influence to stay or leave a job?"
   ]
  },
  {
   "cell_type": "code",
   "execution_count": 37,
   "metadata": {},
   "outputs": [
    {
     "data": {
      "image/png": "[encoded data removed]",
      "text/plain": [
       "<Figure size 576x576 with 2 Axes>"
      ]
     },
     "metadata": {},
     "output_type": "display_data"
    }
   ],
   "source": [
    "# Correlation heatmap\n",
    "plt.figure(figsize=(8, 8)) \n",
    "sns.heatmap(hr_no_dupl.corr(), vmax=1, square=True,annot=True) \n",
    "plt.title(\"Graph 4. Correlation between variables\", fontsize = 17)\n",
    "plt.show()"
   ]
  },
  {
   "cell_type": "markdown",
   "metadata": {},
   "source": [
    "#### Graph 4:  \n",
    "\n",
    "* As expected, the **\"satisfaction level\" has the largest correlation with the decision to stay or leave** the company and it is negative (-0.35) \n",
    "\n",
    "\n",
    "* The correlation with the attribute **\"Work_accident\"** is also **negative(-0.13)** whereas with **\"time_spend_company\" it is positive (0.17)**"
   ]
  },
  {
   "cell_type": "markdown",
   "metadata": {},
   "source": [
    "### Let's start by taking a look at the distribution of employees satisfaction level at company"
   ]
  },
  {
   "cell_type": "code",
   "execution_count": 38,
   "metadata": {},
   "outputs": [
    {
     "data": {
      "text/html": [
       "<div>\n",
       "<style scoped>\n",
       "    .dataframe tbody tr th:only-of-type {\n",
       "        vertical-align: middle;\n",
       "    }\n",
       "\n",
       "    .dataframe tbody tr th {\n",
       "        vertical-align: top;\n",
       "    }\n",
       "\n",
       "    .dataframe thead th {\n",
       "        text-align: right;\n",
       "    }\n",
       "</style>\n",
       "<table border=\"1\" class=\"dataframe\">\n",
       "  <thead>\n",
       "    <tr style=\"text-align: right;\">\n",
       "      <th></th>\n",
       "      <th>satisfaction_level</th>\n",
       "      <th>last_evaluation</th>\n",
       "      <th>number_project</th>\n",
       "      <th>average_montly_hours</th>\n",
       "      <th>time_spend_company</th>\n",
       "      <th>work_accident</th>\n",
       "      <th>promotion_last_5years</th>\n",
       "      <th>salary_numeric</th>\n",
       "    </tr>\n",
       "    <tr>\n",
       "      <th>left</th>\n",
       "      <th></th>\n",
       "      <th></th>\n",
       "      <th></th>\n",
       "      <th></th>\n",
       "      <th></th>\n",
       "      <th></th>\n",
       "      <th></th>\n",
       "      <th></th>\n",
       "    </tr>\n",
       "  </thead>\n",
       "  <tbody>\n",
       "    <tr>\n",
       "      <th>0</th>\n",
       "      <td>0.667365</td>\n",
       "      <td>0.715667</td>\n",
       "      <td>3.786800</td>\n",
       "      <td>198.94270</td>\n",
       "      <td>3.262000</td>\n",
       "      <td>0.174500</td>\n",
       "      <td>0.019500</td>\n",
       "      <td>1.637600</td>\n",
       "    </tr>\n",
       "    <tr>\n",
       "      <th>1</th>\n",
       "      <td>0.440271</td>\n",
       "      <td>0.721783</td>\n",
       "      <td>3.883476</td>\n",
       "      <td>208.16223</td>\n",
       "      <td>3.881467</td>\n",
       "      <td>0.052737</td>\n",
       "      <td>0.004018</td>\n",
       "      <td>1.434455</td>\n",
       "    </tr>\n",
       "  </tbody>\n",
       "</table>\n",
       "</div>"
      ],
      "text/plain": [
       "      satisfaction_level  last_evaluation  number_project  \\\n",
       "left                                                        \n",
       "0               0.667365         0.715667        3.786800   \n",
       "1               0.440271         0.721783        3.883476   \n",
       "\n",
       "      average_montly_hours  time_spend_company  work_accident  \\\n",
       "left                                                            \n",
       "0                198.94270            3.262000       0.174500   \n",
       "1                208.16223            3.881467       0.052737   \n",
       "\n",
       "      promotion_last_5years  salary_numeric  \n",
       "left                                         \n",
       "0                  0.019500        1.637600  \n",
       "1                  0.004018        1.434455  "
      ]
     },
     "execution_count": 38,
     "metadata": {},
     "output_type": "execute_result"
    }
   ],
   "source": [
    "#There are two well differenciated groups of employees\n",
    "hr_no_dupl.groupby('left').mean()"
   ]
  },
  {
   "cell_type": "code",
   "execution_count": 39,
   "metadata": {},
   "outputs": [],
   "source": [
    "#Definitions:\n",
    "people_who_stay= hr_no_dupl[hr_no_dupl['left']==0] #people who stay \n",
    "people_who_leave= hr_no_dupl[hr_no_dupl['left']==1] #people who leave"
   ]
  },
  {
   "cell_type": "markdown",
   "metadata": {},
   "source": [
    "### Which will be the satisfaction level distribution by these types of employee?"
   ]
  },
  {
   "cell_type": "code",
   "execution_count": 41,
   "metadata": {},
   "outputs": [
    {
     "data": {
      "image/png": "[encoded data removed]",
      "text/plain": [
       "<Figure size 432x288 with 1 Axes>"
      ]
     },
     "metadata": {},
     "output_type": "display_data"
    },
    {
     "name": "stdout",
     "output_type": "stream",
     "text": [
      "The average satisfaction level at company is 63%\n",
      "    - for employees who leave is 44%\n",
      "    - for employees who stay is 67%\n"
     ]
    }
   ],
   "source": [
    "#Graph:\n",
    "plt.hist(hr_no_dupl.satisfaction_level,bins=20,color='orange',label='total') \n",
    "plt.hist(people_who_stay.satisfaction_level,bins=20,color='green',label='people who stay',) #people who stay\n",
    "plt.hist(people_who_leave.satisfaction_level,bins=20,color='blue',label='people who leave') #people who leave\n",
    "plt.title(\"Graph 5. Distribution of employees satisfaction level\", fontsize = 17)\n",
    "plt.legend()\n",
    "plt.show()\n",
    "\n",
    "print('The average satisfaction level at company is %.f'%(hr_no_dupl.satisfaction_level.mean()*100) + '%') \n",
    "print('    - for employees who leave is %.f' %(people_who_leave.satisfaction_level.mean()*100) + '%')\n",
    "print('    - for employees who stay is %.f' %(people_who_stay.satisfaction_level.mean()*100) + '%')"
   ]
  },
  {
   "cell_type": "markdown",
   "metadata": {},
   "source": [
    "For __people who leave the company__ (blue color) there are three different scenarios:\n",
    "* 0         -> staff totally disappointed (the biggest group)\n",
    "* around 0,4-> group with satisfaction level below the average\n",
    "* 0.7-0.9   -> with high satisfacion and above the average "
   ]
  },
  {
   "cell_type": "markdown",
   "metadata": {},
   "source": [
    "It seems clear to think that employees who were disappointed in the company left (employees with a satisfaction level below the mean) but, what happens to those who were happy in the company, why do they left?"
   ]
  },
  {
   "cell_type": "markdown",
   "metadata": {},
   "source": [
    "### Could salary be a strong reason to leave the job?"
   ]
  },
  {
   "cell_type": "markdown",
   "metadata": {},
   "source": [
    "Salaries are lower in people who left so it could be a reason for leaving."
   ]
  },
  {
   "cell_type": "code",
   "execution_count": 42,
   "metadata": {},
   "outputs": [
    {
     "data": {
      "image/png": "[encoded data removed]",
      "text/plain": [
       "<Figure size 432x288 with 1 Axes>"
      ]
     },
     "metadata": {},
     "output_type": "display_data"
    }
   ],
   "source": [
    "plt.hist(people_who_leave['salary_numeric'])\n",
    "plt.hist(people_who_stay['salary_numeric'],alpha=0.2)\n",
    "plt.show()"
   ]
  },
  {
   "cell_type": "markdown",
   "metadata": {},
   "source": [
    "As expected, most people who left had low salaries"
   ]
  },
  {
   "cell_type": "code",
   "execution_count": 355,
   "metadata": {
    "scrolled": false
   },
   "outputs": [
    {
     "data": {
      "application/javascript": [
       "var spec = {\"config\": {\"view\": {\"width\": 400, \"height\": 300}}, \"data\": {\"name\": \"data-01169db0dd7734b7a56cc009effafc64\"}, \"mark\": \"bar\", \"encoding\": {\"x\": {\"type\": \"nominal\", \"field\": \"salary\"}, \"y\": {\"type\": \"quantitative\", \"field\": \"left\"}}, \"selection\": {\"selector045\": {\"type\": \"interval\", \"bind\": \"scales\", \"encodings\": [\"x\", \"y\"]}}, \"title\": \"Graph 6. Type of salary of people who left the company\", \"width\": 600, \"$schema\": \"https://vega.github.io/schema/vega-lite/v2.6.0.json\", \"datasets\": {\"data-01169db0dd7734b7a56cc009effafc64\": [{\"salary\": \"high\", \"left\": 990}, {\"salary\": \"low\", \"left\": 5740}, {\"salary\": \"medium\", \"left\": 5261}]}};\n",
       "var opt = {};\n",
       "var type = \"vega-lite\";\n",
       "var id = \"40fcc08f-ddf3-48b5-9003-25e15ecccbbd\";\n",
       "\n",
       "var output_area = this;\n",
       "\n",
       "require([\"nbextensions/jupyter-vega/index\"], function(vega) {\n",
       "  var target = document.createElement(\"div\");\n",
       "  target.id = id;\n",
       "  target.className = \"vega-embed\";\n",
       "\n",
       "  var style = document.createElement(\"style\");\n",
       "  style.textContent = [\n",
       "    \".vega-embed .error p {\",\n",
       "    \"  color: firebrick;\",\n",
       "    \"  font-size: 14px;\",\n",
       "    \"}\",\n",
       "  ].join(\"\\\\n\");\n",
       "\n",
       "  // element is a jQuery wrapped DOM element inside the output area\n",
       "  // see http://ipython.readthedocs.io/en/stable/api/generated/\\\n",
       "  // IPython.display.html#IPython.display.Javascript.__init__\n",
       "  element[0].appendChild(target);\n",
       "  element[0].appendChild(style);\n",
       "\n",
       "  vega.render(\"#\" + id, spec, type, opt, output_area);\n",
       "}, function (err) {\n",
       "  if (err.requireType !== \"scripterror\") {\n",
       "    throw(err);\n",
       "  }\n",
       "});\n"
      ],
      "text/plain": [
       "<vega.vegalite.VegaLite at 0x7f666f95a588>"
      ]
     },
     "metadata": {
      "jupyter-vega": "#40fcc08f-ddf3-48b5-9003-25e15ecccbbd"
     },
     "output_type": "display_data"
    },
    {
     "data": {
      "text/plain": []
     },
     "execution_count": 355,
     "metadata": {},
     "output_type": "execute_result"
    },
    {
     "data": {
      "image/png": "[encoded data removed]"
     },
     "metadata": {
      "jupyter-vega": "#40fcc08f-ddf3-48b5-9003-25e15ecccbbd"
     },
     "output_type": "display_data"
    }
   ],
   "source": [
    "alt.Chart(hr_no_dupl.groupby(['salary'])['left'].count().reset_index()).mark_bar().encode(\n",
    "    x=\"salary:N\",\n",
    "    y=\"left\"\n",
    ").properties(\n",
    "    title=\"Graph 6. Type of salary of people who left the company\",\n",
    "    width=600\n",
    ").interactive()"
   ]
  },
  {
   "cell_type": "markdown",
   "metadata": {},
   "source": [
    "Having a look by department... \n",
    "\n",
    "+ Sales have the lowest salaries (medium and low) and it is the department with more people who left. There are some people whit high sales probably because of sales fees (as higher sales reached, more money paid)\n",
    "\n",
    "+ Technical has the second place and Managment the last one."
   ]
  },
  {
   "cell_type": "code",
   "execution_count": 361,
   "metadata": {},
   "outputs": [
    {
     "data": {
      "application/javascript": [
       "var spec = {\"config\": {\"view\": {\"width\": 400, \"height\": 300}}, \"data\": {\"name\": \"data-b1674e0db2f83531ea89f1cce444dc7b\"}, \"mark\": \"bar\", \"encoding\": {\"color\": {\"type\": \"nominal\", \"field\": \"salary\"}, \"x\": {\"type\": \"quantitative\", \"field\": \"left\"}, \"y\": {\"type\": \"nominal\", \"field\": \"department\"}}, \"selection\": {\"selector049\": {\"type\": \"interval\", \"bind\": \"scales\", \"encodings\": [\"x\", \"y\"]}}, \"title\": \"Graph 7. Salary by department of people who left the company\", \"width\": 600, \"$schema\": \"https://vega.github.io/schema/vega-lite/v2.6.0.json\", \"datasets\": {\"data-b1674e0db2f83531ea89f1cce444dc7b\": [{\"salary\": \"high\", \"department\": \"IT\", \"left\": 4}, {\"salary\": \"high\", \"department\": \"RandD\", \"left\": 3}, {\"salary\": \"high\", \"department\": \"accounting\", \"left\": 3}, {\"salary\": \"high\", \"department\": \"hr\", \"left\": 3}, {\"salary\": \"high\", \"department\": \"management\", \"left\": 1}, {\"salary\": \"high\", \"department\": \"marketing\", \"left\": 3}, {\"salary\": \"high\", \"department\": \"product_mng\", \"left\": 4}, {\"salary\": \"high\", \"department\": \"sales\", \"left\": 12}, {\"salary\": \"high\", \"department\": \"support\", \"left\": 5}, {\"salary\": \"high\", \"department\": \"technical\", \"left\": 10}, {\"salary\": \"low\", \"department\": \"IT\", \"left\": 87}, {\"salary\": \"low\", \"department\": \"RandD\", \"left\": 51}, {\"salary\": \"low\", \"department\": \"accounting\", \"left\": 59}, {\"salary\": \"low\", \"department\": \"hr\", \"left\": 62}, {\"salary\": \"low\", \"department\": \"management\", \"left\": 32}, {\"salary\": \"low\", \"department\": \"marketing\", \"left\": 76}, {\"salary\": \"low\", \"department\": \"product_mng\", \"left\": 59}, {\"salary\": \"low\", \"department\": \"sales\", \"left\": 319}, {\"salary\": \"low\", \"department\": \"support\", \"left\": 191}, {\"salary\": \"low\", \"department\": \"technical\", \"left\": 238}, {\"salary\": \"medium\", \"department\": \"IT\", \"left\": 67}, {\"salary\": \"medium\", \"department\": \"RandD\", \"left\": 31}, {\"salary\": \"medium\", \"department\": \"accounting\", \"left\": 47}, {\"salary\": \"medium\", \"department\": \"hr\", \"left\": 48}, {\"salary\": \"medium\", \"department\": \"management\", \"left\": 19}, {\"salary\": \"medium\", \"department\": \"marketing\", \"left\": 33}, {\"salary\": \"medium\", \"department\": \"product_mng\", \"left\": 47}, {\"salary\": \"medium\", \"department\": \"sales\", \"left\": 219}, {\"salary\": \"medium\", \"department\": \"support\", \"left\": 116}, {\"salary\": \"medium\", \"department\": \"technical\", \"left\": 142}]}};\n",
       "var opt = {};\n",
       "var type = \"vega-lite\";\n",
       "var id = \"ec9a5493-8248-4f01-9110-d85fe0433616\";\n",
       "\n",
       "var output_area = this;\n",
       "\n",
       "require([\"nbextensions/jupyter-vega/index\"], function(vega) {\n",
       "  var target = document.createElement(\"div\");\n",
       "  target.id = id;\n",
       "  target.className = \"vega-embed\";\n",
       "\n",
       "  var style = document.createElement(\"style\");\n",
       "  style.textContent = [\n",
       "    \".vega-embed .error p {\",\n",
       "    \"  color: firebrick;\",\n",
       "    \"  font-size: 14px;\",\n",
       "    \"}\",\n",
       "  ].join(\"\\\\n\");\n",
       "\n",
       "  // element is a jQuery wrapped DOM element inside the output area\n",
       "  // see http://ipython.readthedocs.io/en/stable/api/generated/\\\n",
       "  // IPython.display.html#IPython.display.Javascript.__init__\n",
       "  element[0].appendChild(target);\n",
       "  element[0].appendChild(style);\n",
       "\n",
       "  vega.render(\"#\" + id, spec, type, opt, output_area);\n",
       "}, function (err) {\n",
       "  if (err.requireType !== \"scripterror\") {\n",
       "    throw(err);\n",
       "  }\n",
       "});\n"
      ],
      "text/plain": [
       "<vega.vegalite.VegaLite at 0x7f666f95a0b8>"
      ]
     },
     "metadata": {
      "jupyter-vega": "#ec9a5493-8248-4f01-9110-d85fe0433616"
     },
     "output_type": "display_data"
    },
    {
     "data": {
      "text/plain": []
     },
     "execution_count": 361,
     "metadata": {},
     "output_type": "execute_result"
    },
    {
     "data": {
      "image/png": "[encoded data removed]"
     },
     "metadata": {
      "jupyter-vega": "#ec9a5493-8248-4f01-9110-d85fe0433616"
     },
     "output_type": "display_data"
    }
   ],
   "source": [
    "alt.Chart(people_who_leave.groupby(['salary','department'])['left'].count().reset_index()).mark_bar().encode(\n",
    "    x=\"left\",\n",
    "    y=\"department\",\n",
    "    color='salary'\n",
    ").properties(\n",
    "    title=\"Graph 7. Salary by department of people who left the company\",\n",
    "    width=600\n",
    ").interactive()"
   ]
  },
  {
   "cell_type": "markdown",
   "metadata": {},
   "source": [
    "### Satisfaction level vs. time spend at company"
   ]
  },
  {
   "cell_type": "markdown",
   "metadata": {},
   "source": [
    "There is a negative correlation (-0.15) between the **\"time at company\"** and the **\"employee satisfaction level\"**. It is not sure, but could seem to indicate that **the more years working in the company, the lower level of satisfaction** "
   ]
  },
  {
   "cell_type": "code",
   "execution_count": 32,
   "metadata": {},
   "outputs": [
    {
     "data": {
      "text/html": [
       "<div>\n",
       "<style scoped>\n",
       "    .dataframe tbody tr th:only-of-type {\n",
       "        vertical-align: middle;\n",
       "    }\n",
       "\n",
       "    .dataframe tbody tr th {\n",
       "        vertical-align: top;\n",
       "    }\n",
       "\n",
       "    .dataframe thead th {\n",
       "        text-align: right;\n",
       "    }\n",
       "</style>\n",
       "<table border=\"1\" class=\"dataframe\">\n",
       "  <thead>\n",
       "    <tr style=\"text-align: right;\">\n",
       "      <th></th>\n",
       "      <th>time_spend_company</th>\n",
       "      <th>left</th>\n",
       "      <th>satisfaction_level</th>\n",
       "    </tr>\n",
       "  </thead>\n",
       "  <tbody>\n",
       "    <tr>\n",
       "      <th>4</th>\n",
       "      <td>4</td>\n",
       "      <td>0</td>\n",
       "      <td>0.637901</td>\n",
       "    </tr>\n",
       "    <tr>\n",
       "      <th>2</th>\n",
       "      <td>3</td>\n",
       "      <td>0</td>\n",
       "      <td>0.697020</td>\n",
       "    </tr>\n",
       "    <tr>\n",
       "      <th>12</th>\n",
       "      <td>10</td>\n",
       "      <td>0</td>\n",
       "      <td>0.655327</td>\n",
       "    </tr>\n",
       "    <tr>\n",
       "      <th>5</th>\n",
       "      <td>4</td>\n",
       "      <td>1</td>\n",
       "      <td>0.144505</td>\n",
       "    </tr>\n",
       "    <tr>\n",
       "      <th>0</th>\n",
       "      <td>2</td>\n",
       "      <td>0</td>\n",
       "      <td>0.700907</td>\n",
       "    </tr>\n",
       "  </tbody>\n",
       "</table>\n",
       "</div>"
      ],
      "text/plain": [
       "    time_spend_company  left  satisfaction_level\n",
       "4                    4     0            0.637901\n",
       "2                    3     0            0.697020\n",
       "12                  10     0            0.655327\n",
       "5                    4     1            0.144505\n",
       "0                    2     0            0.700907"
      ]
     },
     "execution_count": 32,
     "metadata": {},
     "output_type": "execute_result"
    }
   ],
   "source": [
    "satisfaction_level_by_time_at_company = hr_no_dupl.groupby(['time_spend_company','left'])['satisfaction_level'].mean().reset_index().sort_values(by='left',ascending=False)\n",
    "satisfaction_level_by_time_at_company.sample(5)"
   ]
  },
  {
   "cell_type": "code",
   "execution_count": 33,
   "metadata": {},
   "outputs": [
    {
     "data": {
      "application/javascript": [
       "var spec = {\"config\": {\"view\": {\"width\": 400, \"height\": 300}}, \"data\": {\"name\": \"data-3664c434d13be0934090e1cfa8607220\"}, \"mark\": \"line\", \"encoding\": {\"color\": {\"type\": \"nominal\", \"field\": \"left\"}, \"x\": {\"type\": \"nominal\", \"field\": \"time_spend_company\"}, \"y\": {\"type\": \"quantitative\", \"field\": \"satisfaction_level\"}}, \"selection\": {\"selector002\": {\"type\": \"interval\", \"bind\": \"scales\", \"encodings\": [\"x\", \"y\"]}}, \"title\": \"Graph 6: Satisfaction level & time spend at company\", \"width\": 400, \"$schema\": \"https://vega.github.io/schema/vega-lite/v2.6.0.json\", \"datasets\": {\"data-3664c434d13be0934090e1cfa8607220\": [{\"time_spend_company\": 2, \"left\": \"yes\", \"satisfaction_level\": 0.5374193548387097}, {\"time_spend_company\": 3, \"left\": \"yes\", \"satisfaction_level\": 0.4117963386727683}, {\"time_spend_company\": 4, \"left\": \"yes\", \"satisfaction_level\": 0.14450505050505094}, {\"time_spend_company\": 5, \"left\": \"yes\", \"satisfaction_level\": 0.7084024896265564}, {\"time_spend_company\": 6, \"left\": \"yes\", \"satisfaction_level\": 0.7984403669724773}, {\"time_spend_company\": 2, \"left\": \"no\", \"satisfaction_level\": 0.7009065647794397}, {\"time_spend_company\": 3, \"left\": \"no\", \"satisfaction_level\": 0.6970203892493052}, {\"time_spend_company\": 4, \"left\": \"no\", \"satisfaction_level\": 0.6379006622516564}, {\"time_spend_company\": 5, \"left\": \"no\", \"satisfaction_level\": 0.479120689655172}, {\"time_spend_company\": 6, \"left\": \"no\", \"satisfaction_level\": 0.5138799076212466}, {\"time_spend_company\": 7, \"left\": \"no\", \"satisfaction_level\": 0.6359574468085103}, {\"time_spend_company\": 8, \"left\": \"no\", \"satisfaction_level\": 0.6650617283950617}, {\"time_spend_company\": 10, \"left\": \"no\", \"satisfaction_level\": 0.6553271028037382}]}};\n",
       "var opt = {};\n",
       "var type = \"vega-lite\";\n",
       "var id = \"dc77c950-0daa-4ae2-82d1-c3ccf18920ae\";\n",
       "\n",
       "var output_area = this;\n",
       "\n",
       "require([\"nbextensions/jupyter-vega/index\"], function(vega) {\n",
       "  var target = document.createElement(\"div\");\n",
       "  target.id = id;\n",
       "  target.className = \"vega-embed\";\n",
       "\n",
       "  var style = document.createElement(\"style\");\n",
       "  style.textContent = [\n",
       "    \".vega-embed .error p {\",\n",
       "    \"  color: firebrick;\",\n",
       "    \"  font-size: 14px;\",\n",
       "    \"}\",\n",
       "  ].join(\"\\\\n\");\n",
       "\n",
       "  // element is a jQuery wrapped DOM element inside the output area\n",
       "  // see http://ipython.readthedocs.io/en/stable/api/generated/\\\n",
       "  // IPython.display.html#IPython.display.Javascript.__init__\n",
       "  element[0].appendChild(target);\n",
       "  element[0].appendChild(style);\n",
       "\n",
       "  vega.render(\"#\" + id, spec, type, opt, output_area);\n",
       "}, function (err) {\n",
       "  if (err.requireType !== \"scripterror\") {\n",
       "    throw(err);\n",
       "  }\n",
       "});\n"
      ],
      "text/plain": [
       "<vega.vegalite.VegaLite at 0x7f66803cad68>"
      ]
     },
     "metadata": {
      "jupyter-vega": "#dc77c950-0daa-4ae2-82d1-c3ccf18920ae"
     },
     "output_type": "display_data"
    },
    {
     "data": {
      "text/plain": []
     },
     "execution_count": 33,
     "metadata": {},
     "output_type": "execute_result"
    },
    {
     "data": {
      "image/png": "[encoded data removed]"
     },
     "metadata": {
      "jupyter-vega": "#dc77c950-0daa-4ae2-82d1-c3ccf18920ae"
     },
     "output_type": "display_data"
    }
   ],
   "source": [
    "#legend\n",
    "satisfaction_level_by_time_at_company['left']=satisfaction_level_by_time_at_company['left'].map({0:'no',1:'yes'})\n",
    "\n",
    "#Graph:\n",
    "evolution =alt.Chart(satisfaction_level_by_time_at_company).mark_line().encode(\n",
    "    x=\"time_spend_company:N\",\n",
    "    y=\"satisfaction_level:Q\",\n",
    "    color=\"left:N\"\n",
    ").properties(\n",
    "    title=\"Graph 6: Satisfaction level & time spend at company\",\n",
    "    width=400\n",
    ").interactive()\n",
    "\n",
    "evolution"
   ]
  },
  {
   "cell_type": "markdown",
   "metadata": {},
   "source": [
    "Curiosities: \n",
    "* employees working more than 6 years didn't leave. \n",
    "* ten years is the maximum value so it could indicate it is a young company\n",
    "\n",
    "The level of satisfaction begins to decrease in the third year and worsens to 4.5 years, probably due to the fact that promotions are scarce."
   ]
  },
  {
   "cell_type": "markdown",
   "metadata": {},
   "source": [
    "### From the point of view of the company, which are the most valuables employees?"
   ]
  },
  {
   "cell_type": "code",
   "execution_count": 88,
   "metadata": {},
   "outputs": [
    {
     "data": {
      "text/html": [
       "<div>\n",
       "<style scoped>\n",
       "    .dataframe tbody tr th:only-of-type {\n",
       "        vertical-align: middle;\n",
       "    }\n",
       "\n",
       "    .dataframe tbody tr th {\n",
       "        vertical-align: top;\n",
       "    }\n",
       "\n",
       "    .dataframe thead th {\n",
       "        text-align: right;\n",
       "    }\n",
       "</style>\n",
       "<table border=\"1\" class=\"dataframe\">\n",
       "  <thead>\n",
       "    <tr style=\"text-align: right;\">\n",
       "      <th></th>\n",
       "      <th>satisfaction_level</th>\n",
       "      <th>last_evaluation</th>\n",
       "      <th>number_project</th>\n",
       "      <th>average_montly_hours</th>\n",
       "      <th>time_spend_company</th>\n",
       "      <th>work_accident</th>\n",
       "      <th>left</th>\n",
       "      <th>promotion_last_5years</th>\n",
       "      <th>department</th>\n",
       "      <th>salary</th>\n",
       "      <th>salary_numeric</th>\n",
       "    </tr>\n",
       "  </thead>\n",
       "  <tbody>\n",
       "    <tr>\n",
       "      <th>7820</th>\n",
       "      <td>0.12</td>\n",
       "      <td>0.84</td>\n",
       "      <td>4</td>\n",
       "      <td>218</td>\n",
       "      <td>6</td>\n",
       "      <td>0</td>\n",
       "      <td>0</td>\n",
       "      <td>0</td>\n",
       "      <td>technical</td>\n",
       "      <td>medium</td>\n",
       "      <td>2</td>\n",
       "    </tr>\n",
       "    <tr>\n",
       "      <th>9182</th>\n",
       "      <td>0.76</td>\n",
       "      <td>0.99</td>\n",
       "      <td>5</td>\n",
       "      <td>252</td>\n",
       "      <td>3</td>\n",
       "      <td>1</td>\n",
       "      <td>0</td>\n",
       "      <td>0</td>\n",
       "      <td>sales</td>\n",
       "      <td>low</td>\n",
       "      <td>1</td>\n",
       "    </tr>\n",
       "    <tr>\n",
       "      <th>2106</th>\n",
       "      <td>0.86</td>\n",
       "      <td>0.79</td>\n",
       "      <td>3</td>\n",
       "      <td>242</td>\n",
       "      <td>2</td>\n",
       "      <td>0</td>\n",
       "      <td>0</td>\n",
       "      <td>0</td>\n",
       "      <td>support</td>\n",
       "      <td>low</td>\n",
       "      <td>1</td>\n",
       "    </tr>\n",
       "    <tr>\n",
       "      <th>10250</th>\n",
       "      <td>0.64</td>\n",
       "      <td>1.00</td>\n",
       "      <td>4</td>\n",
       "      <td>201</td>\n",
       "      <td>2</td>\n",
       "      <td>0</td>\n",
       "      <td>0</td>\n",
       "      <td>0</td>\n",
       "      <td>sales</td>\n",
       "      <td>medium</td>\n",
       "      <td>2</td>\n",
       "    </tr>\n",
       "    <tr>\n",
       "      <th>7180</th>\n",
       "      <td>0.52</td>\n",
       "      <td>0.74</td>\n",
       "      <td>4</td>\n",
       "      <td>174</td>\n",
       "      <td>3</td>\n",
       "      <td>0</td>\n",
       "      <td>0</td>\n",
       "      <td>0</td>\n",
       "      <td>technical</td>\n",
       "      <td>medium</td>\n",
       "      <td>2</td>\n",
       "    </tr>\n",
       "  </tbody>\n",
       "</table>\n",
       "</div>"
      ],
      "text/plain": [
       "       satisfaction_level  last_evaluation  number_project  \\\n",
       "7820                 0.12             0.84               4   \n",
       "9182                 0.76             0.99               5   \n",
       "2106                 0.86             0.79               3   \n",
       "10250                0.64             1.00               4   \n",
       "7180                 0.52             0.74               4   \n",
       "\n",
       "       average_montly_hours  time_spend_company  work_accident  left  \\\n",
       "7820                    218                   6              0     0   \n",
       "9182                    252                   3              1     0   \n",
       "2106                    242                   2              0     0   \n",
       "10250                   201                   2              0     0   \n",
       "7180                    174                   3              0     0   \n",
       "\n",
       "       promotion_last_5years department  salary  salary_numeric  \n",
       "7820                       0  technical  medium               2  \n",
       "9182                       0      sales     low               1  \n",
       "2106                       0    support     low               1  \n",
       "10250                      0      sales  medium               2  \n",
       "7180                       0  technical  medium               2  "
      ]
     },
     "execution_count": 88,
     "metadata": {},
     "output_type": "execute_result"
    }
   ],
   "source": [
    "most_valuables_employees = hr_no_dupl[hr_no_dupl['last_evaluation']>0.716683] #above the company average (72%) \n",
    "most_valuables_employees.sample(5)"
   ]
  },
  {
   "cell_type": "code",
   "execution_count": 89,
   "metadata": {},
   "outputs": [
    {
     "data": {
      "text/plain": [
       "6073"
      ]
     },
     "execution_count": 89,
     "metadata": {},
     "output_type": "execute_result"
    }
   ],
   "source": [
    "#How many are they?\n",
    "len(most_valuables_employees)"
   ]
  },
  {
   "cell_type": "code",
   "execution_count": 90,
   "metadata": {},
   "outputs": [
    {
     "data": {
      "text/plain": [
       "98"
      ]
     },
     "execution_count": 90,
     "metadata": {},
     "output_type": "execute_result"
    }
   ],
   "source": [
    "#How many have being promoted?\n",
    "len(most_valuables_employees[most_valuables_employees['promotion_last_5years']==1])"
   ]
  },
  {
   "cell_type": "code",
   "execution_count": 50,
   "metadata": {},
   "outputs": [
    {
     "data": {
      "text/html": [
       "<div>\n",
       "<style scoped>\n",
       "    .dataframe tbody tr th:only-of-type {\n",
       "        vertical-align: middle;\n",
       "    }\n",
       "\n",
       "    .dataframe tbody tr th {\n",
       "        vertical-align: top;\n",
       "    }\n",
       "\n",
       "    .dataframe thead th {\n",
       "        text-align: right;\n",
       "    }\n",
       "</style>\n",
       "<table border=\"1\" class=\"dataframe\">\n",
       "  <thead>\n",
       "    <tr style=\"text-align: right;\">\n",
       "      <th></th>\n",
       "      <th>satisfaction_level</th>\n",
       "      <th>last_evaluation</th>\n",
       "      <th>number_project</th>\n",
       "      <th>average_montly_hours</th>\n",
       "      <th>time_spend_company</th>\n",
       "      <th>work_accident</th>\n",
       "      <th>left</th>\n",
       "      <th>promotion_last_5years</th>\n",
       "      <th>salary_numeric</th>\n",
       "    </tr>\n",
       "  </thead>\n",
       "  <tbody>\n",
       "    <tr>\n",
       "      <th>count</th>\n",
       "      <td>203.00000</td>\n",
       "      <td>203.000000</td>\n",
       "      <td>203.000000</td>\n",
       "      <td>203.000000</td>\n",
       "      <td>203.000000</td>\n",
       "      <td>203.000000</td>\n",
       "      <td>203.000000</td>\n",
       "      <td>203.0</td>\n",
       "      <td>203.000000</td>\n",
       "    </tr>\n",
       "    <tr>\n",
       "      <th>mean</th>\n",
       "      <td>0.66601</td>\n",
       "      <td>0.707438</td>\n",
       "      <td>3.798030</td>\n",
       "      <td>198.630542</td>\n",
       "      <td>3.940887</td>\n",
       "      <td>0.236453</td>\n",
       "      <td>0.039409</td>\n",
       "      <td>1.0</td>\n",
       "      <td>2.029557</td>\n",
       "    </tr>\n",
       "    <tr>\n",
       "      <th>std</th>\n",
       "      <td>0.20947</td>\n",
       "      <td>0.168318</td>\n",
       "      <td>1.031003</td>\n",
       "      <td>47.559202</td>\n",
       "      <td>2.026178</td>\n",
       "      <td>0.425954</td>\n",
       "      <td>0.195047</td>\n",
       "      <td>0.0</td>\n",
       "      <td>0.636445</td>\n",
       "    </tr>\n",
       "    <tr>\n",
       "      <th>min</th>\n",
       "      <td>0.11000</td>\n",
       "      <td>0.370000</td>\n",
       "      <td>2.000000</td>\n",
       "      <td>100.000000</td>\n",
       "      <td>2.000000</td>\n",
       "      <td>0.000000</td>\n",
       "      <td>0.000000</td>\n",
       "      <td>1.0</td>\n",
       "      <td>1.000000</td>\n",
       "    </tr>\n",
       "    <tr>\n",
       "      <th>25%</th>\n",
       "      <td>0.53000</td>\n",
       "      <td>0.575000</td>\n",
       "      <td>3.000000</td>\n",
       "      <td>157.000000</td>\n",
       "      <td>3.000000</td>\n",
       "      <td>0.000000</td>\n",
       "      <td>0.000000</td>\n",
       "      <td>1.0</td>\n",
       "      <td>2.000000</td>\n",
       "    </tr>\n",
       "    <tr>\n",
       "      <th>50%</th>\n",
       "      <td>0.70000</td>\n",
       "      <td>0.710000</td>\n",
       "      <td>4.000000</td>\n",
       "      <td>200.000000</td>\n",
       "      <td>3.000000</td>\n",
       "      <td>0.000000</td>\n",
       "      <td>0.000000</td>\n",
       "      <td>1.0</td>\n",
       "      <td>2.000000</td>\n",
       "    </tr>\n",
       "    <tr>\n",
       "      <th>75%</th>\n",
       "      <td>0.82500</td>\n",
       "      <td>0.835000</td>\n",
       "      <td>4.000000</td>\n",
       "      <td>239.500000</td>\n",
       "      <td>5.000000</td>\n",
       "      <td>0.000000</td>\n",
       "      <td>0.000000</td>\n",
       "      <td>1.0</td>\n",
       "      <td>2.000000</td>\n",
       "    </tr>\n",
       "    <tr>\n",
       "      <th>max</th>\n",
       "      <td>1.00000</td>\n",
       "      <td>1.000000</td>\n",
       "      <td>6.000000</td>\n",
       "      <td>292.000000</td>\n",
       "      <td>10.000000</td>\n",
       "      <td>1.000000</td>\n",
       "      <td>1.000000</td>\n",
       "      <td>1.0</td>\n",
       "      <td>3.000000</td>\n",
       "    </tr>\n",
       "  </tbody>\n",
       "</table>\n",
       "</div>"
      ],
      "text/plain": [
       "       satisfaction_level  last_evaluation  number_project  \\\n",
       "count           203.00000       203.000000      203.000000   \n",
       "mean              0.66601         0.707438        3.798030   \n",
       "std               0.20947         0.168318        1.031003   \n",
       "min               0.11000         0.370000        2.000000   \n",
       "25%               0.53000         0.575000        3.000000   \n",
       "50%               0.70000         0.710000        4.000000   \n",
       "75%               0.82500         0.835000        4.000000   \n",
       "max               1.00000         1.000000        6.000000   \n",
       "\n",
       "       average_montly_hours  time_spend_company  work_accident        left  \\\n",
       "count            203.000000          203.000000     203.000000  203.000000   \n",
       "mean             198.630542            3.940887       0.236453    0.039409   \n",
       "std               47.559202            2.026178       0.425954    0.195047   \n",
       "min              100.000000            2.000000       0.000000    0.000000   \n",
       "25%              157.000000            3.000000       0.000000    0.000000   \n",
       "50%              200.000000            3.000000       0.000000    0.000000   \n",
       "75%              239.500000            5.000000       0.000000    0.000000   \n",
       "max              292.000000           10.000000       1.000000    1.000000   \n",
       "\n",
       "       promotion_last_5years  salary_numeric  \n",
       "count                  203.0      203.000000  \n",
       "mean                     1.0        2.029557  \n",
       "std                      0.0        0.636445  \n",
       "min                      1.0        1.000000  \n",
       "25%                      1.0        2.000000  \n",
       "50%                      1.0        2.000000  \n",
       "75%                      1.0        2.000000  \n",
       "max                      1.0        3.000000  "
      ]
     },
     "execution_count": 50,
     "metadata": {},
     "output_type": "execute_result"
    }
   ],
   "source": [
    "most_valuables_employees.describe()"
   ]
  },
  {
   "cell_type": "code",
   "execution_count": 92,
   "metadata": {},
   "outputs": [
    {
     "data": {
      "text/plain": [
       "17.717767166145233"
      ]
     },
     "execution_count": 92,
     "metadata": {},
     "output_type": "execute_result"
    }
   ],
   "source": [
    "#Which is the turnover rate for this kind of employees?\n",
    "most_valuables_employees['left'].mean()*100"
   ]
  },
  {
   "cell_type": "code",
   "execution_count": 93,
   "metadata": {},
   "outputs": [
    {
     "data": {
      "text/plain": [
       "1076"
      ]
     },
     "execution_count": 93,
     "metadata": {},
     "output_type": "execute_result"
    }
   ],
   "source": [
    "#How many of these employees left the company?\n",
    "len(most_valuables_employees[most_valuables_employees['left']==1])"
   ]
  },
  {
   "cell_type": "code",
   "execution_count": 94,
   "metadata": {},
   "outputs": [
    {
     "data": {
      "image/png": "[encoded data removed]",
      "text/plain": [
       "<Figure size 432x288 with 1 Axes>"
      ]
     },
     "metadata": {},
     "output_type": "display_data"
    }
   ],
   "source": [
    "#Graph:\n",
    "plt.hist(most_valuables_employees.satisfaction_level,bins=20,color='orange',label='total') \n",
    "plt.title(\"Graph 7. Distribution of most valuables employees satisfaction level\", fontsize = 17)\n",
    "plt.legend()\n",
    "plt.show()"
   ]
  },
  {
   "cell_type": "markdown",
   "metadata": {},
   "source": [
    "### Satisfaction level vs. number of projects"
   ]
  },
  {
   "cell_type": "code",
   "execution_count": 450,
   "metadata": {},
   "outputs": [
    {
     "data": {
      "image/png": "[encoded data removed]",
      "text/plain": [
       "<Figure size 432x288 with 1 Axes>"
      ]
     },
     "metadata": {},
     "output_type": "display_data"
    }
   ],
   "source": [
    "#Graph:\n",
    "plt.plot(hr_no_dupl.groupby('number_project')['satisfaction_level'].mean(),'orange',label='total',marker='^')\n",
    "plt.plot(people_who_leave.groupby('number_project')['satisfaction_level'].mean(),'b--',label='people who leave')\n",
    "plt.plot(people_who_stay.groupby('number_project')['satisfaction_level'].mean(),'green',label='people who stay')\n",
    "plt.ylabel('satisfaction level')\n",
    "plt.xlabel('number of projects done')\n",
    "plt.legend()\n",
    "plt.title('Graph 8:Satisfaction level & number of projects done', fontsize = 17)\n",
    "plt.show()"
   ]
  },
  {
   "cell_type": "markdown",
   "metadata": {},
   "source": [
    "### Accidents"
   ]
  },
  {
   "cell_type": "code",
   "execution_count": 98,
   "metadata": {},
   "outputs": [
    {
     "data": {
      "text/plain": [
       "1850"
      ]
     },
     "execution_count": 98,
     "metadata": {},
     "output_type": "execute_result"
    }
   ],
   "source": [
    "#Total Accidents in company\n",
    "hr_no_dupl['work_accident'].sum()"
   ]
  },
  {
   "cell_type": "code",
   "execution_count": 119,
   "metadata": {},
   "outputs": [
    {
     "data": {
      "text/plain": [
       "left\n",
       "0    1745\n",
       "1     105\n",
       "Name: work_accident, dtype: int64"
      ]
     },
     "execution_count": 119,
     "metadata": {},
     "output_type": "execute_result"
    }
   ],
   "source": [
    "#How many accidents belong to each group of employees?\n",
    "hr_no_dupl.groupby('left')['work_accident'].sum()"
   ]
  },
  {
   "cell_type": "code",
   "execution_count": 452,
   "metadata": {},
   "outputs": [
    {
     "data": {
      "image/png": "[encoded data removed]",
      "text/plain": [
       "<Figure size 432x288 with 1 Axes>"
      ]
     },
     "metadata": {},
     "output_type": "display_data"
    }
   ],
   "source": [
    "#How is the distribution over time? \n",
    "plt.plot(people_who_leave.groupby('time_spend_company')['work_accident'].sum(),'b--',label='people who leave')\n",
    "plt.plot(people_who_stay.groupby('time_spend_company')['work_accident'].sum(),'green',label='people who stay')\n",
    "plt.ylabel('Accidents')\n",
    "plt.xlabel('time spend  at company (years)')\n",
    "plt.legend()\n",
    "plt.title('Graph 10: Accidents & time spend at company', fontsize = 17)\n",
    "plt.show()"
   ]
  },
  {
   "cell_type": "code",
   "execution_count": 145,
   "metadata": {
    "scrolled": true
   },
   "outputs": [
    {
     "data": {
      "text/plain": [
       "left\n",
       "0    1685\n",
       "1     105\n",
       "Name: work_accident, dtype: int64"
      ]
     },
     "execution_count": 145,
     "metadata": {},
     "output_type": "execute_result"
    }
   ],
   "source": [
    "#What is the number of accidents split between people who stay and leave in the same period of time?\n",
    "hr_no_dupl[hr_no_dupl['time_spend_company']<7].groupby('left')['work_accident'].sum()"
   ]
  },
  {
   "cell_type": "code",
   "execution_count": 144,
   "metadata": {},
   "outputs": [
    {
     "data": {
      "text/html": [
       "<div>\n",
       "<style scoped>\n",
       "    .dataframe tbody tr th:only-of-type {\n",
       "        vertical-align: middle;\n",
       "    }\n",
       "\n",
       "    .dataframe tbody tr th {\n",
       "        vertical-align: top;\n",
       "    }\n",
       "\n",
       "    .dataframe thead th {\n",
       "        text-align: right;\n",
       "    }\n",
       "</style>\n",
       "<table border=\"1\" class=\"dataframe\">\n",
       "  <thead>\n",
       "    <tr style=\"text-align: right;\">\n",
       "      <th></th>\n",
       "      <th>department</th>\n",
       "      <th>work_accident</th>\n",
       "    </tr>\n",
       "  </thead>\n",
       "  <tbody>\n",
       "    <tr>\n",
       "      <th>7</th>\n",
       "      <td>sales</td>\n",
       "      <td>498</td>\n",
       "    </tr>\n",
       "    <tr>\n",
       "      <th>9</th>\n",
       "      <td>technical</td>\n",
       "      <td>339</td>\n",
       "    </tr>\n",
       "    <tr>\n",
       "      <th>8</th>\n",
       "      <td>support</td>\n",
       "      <td>299</td>\n",
       "    </tr>\n",
       "    <tr>\n",
       "      <th>0</th>\n",
       "      <td>IT</td>\n",
       "      <td>139</td>\n",
       "    </tr>\n",
       "    <tr>\n",
       "      <th>1</th>\n",
       "      <td>RandD</td>\n",
       "      <td>119</td>\n",
       "    </tr>\n",
       "    <tr>\n",
       "      <th>6</th>\n",
       "      <td>product_mng</td>\n",
       "      <td>109</td>\n",
       "    </tr>\n",
       "    <tr>\n",
       "      <th>5</th>\n",
       "      <td>marketing</td>\n",
       "      <td>108</td>\n",
       "    </tr>\n",
       "    <tr>\n",
       "      <th>2</th>\n",
       "      <td>accounting</td>\n",
       "      <td>87</td>\n",
       "    </tr>\n",
       "    <tr>\n",
       "      <th>3</th>\n",
       "      <td>hr</td>\n",
       "      <td>80</td>\n",
       "    </tr>\n",
       "    <tr>\n",
       "      <th>4</th>\n",
       "      <td>management</td>\n",
       "      <td>72</td>\n",
       "    </tr>\n",
       "  </tbody>\n",
       "</table>\n",
       "</div>"
      ],
      "text/plain": [
       "    department  work_accident\n",
       "7        sales            498\n",
       "9    technical            339\n",
       "8      support            299\n",
       "0           IT            139\n",
       "1        RandD            119\n",
       "6  product_mng            109\n",
       "5    marketing            108\n",
       "2   accounting             87\n",
       "3           hr             80\n",
       "4   management             72"
      ]
     },
     "execution_count": 144,
     "metadata": {},
     "output_type": "execute_result"
    }
   ],
   "source": [
    "#Which are the departments with more accidents?\n",
    "hr_no_dupl.groupby('department')['work_accident'].sum().reset_index().sort_values(by='work_accident',ascending=False)"
   ]
  },
  {
   "cell_type": "code",
   "execution_count": 101,
   "metadata": {
    "scrolled": true
   },
   "outputs": [
    {
     "data": {
      "text/html": [
       "<div>\n",
       "<style scoped>\n",
       "    .dataframe tbody tr th:only-of-type {\n",
       "        vertical-align: middle;\n",
       "    }\n",
       "\n",
       "    .dataframe tbody tr th {\n",
       "        vertical-align: top;\n",
       "    }\n",
       "\n",
       "    .dataframe thead th {\n",
       "        text-align: right;\n",
       "    }\n",
       "</style>\n",
       "<table border=\"1\" class=\"dataframe\">\n",
       "  <thead>\n",
       "    <tr style=\"text-align: right;\">\n",
       "      <th></th>\n",
       "      <th>department</th>\n",
       "      <th>work_accident</th>\n",
       "    </tr>\n",
       "  </thead>\n",
       "  <tbody>\n",
       "    <tr>\n",
       "      <th>7</th>\n",
       "      <td>sales</td>\n",
       "      <td>29.52</td>\n",
       "    </tr>\n",
       "    <tr>\n",
       "      <th>9</th>\n",
       "      <td>technical</td>\n",
       "      <td>18.10</td>\n",
       "    </tr>\n",
       "    <tr>\n",
       "      <th>8</th>\n",
       "      <td>support</td>\n",
       "      <td>17.14</td>\n",
       "    </tr>\n",
       "    <tr>\n",
       "      <th>0</th>\n",
       "      <td>IT</td>\n",
       "      <td>6.67</td>\n",
       "    </tr>\n",
       "    <tr>\n",
       "      <th>1</th>\n",
       "      <td>RandD</td>\n",
       "      <td>6.67</td>\n",
       "    </tr>\n",
       "    <tr>\n",
       "      <th>2</th>\n",
       "      <td>accounting</td>\n",
       "      <td>4.76</td>\n",
       "    </tr>\n",
       "    <tr>\n",
       "      <th>3</th>\n",
       "      <td>hr</td>\n",
       "      <td>4.76</td>\n",
       "    </tr>\n",
       "    <tr>\n",
       "      <th>6</th>\n",
       "      <td>product_mng</td>\n",
       "      <td>4.76</td>\n",
       "    </tr>\n",
       "    <tr>\n",
       "      <th>4</th>\n",
       "      <td>management</td>\n",
       "      <td>3.81</td>\n",
       "    </tr>\n",
       "    <tr>\n",
       "      <th>5</th>\n",
       "      <td>marketing</td>\n",
       "      <td>3.81</td>\n",
       "    </tr>\n",
       "  </tbody>\n",
       "</table>\n",
       "</div>"
      ],
      "text/plain": [
       "    department  work_accident\n",
       "7        sales          29.52\n",
       "9    technical          18.10\n",
       "8      support          17.14\n",
       "0           IT           6.67\n",
       "1        RandD           6.67\n",
       "2   accounting           4.76\n",
       "3           hr           4.76\n",
       "6  product_mng           4.76\n",
       "4   management           3.81\n",
       "5    marketing           3.81"
      ]
     },
     "execution_count": 101,
     "metadata": {},
     "output_type": "execute_result"
    }
   ],
   "source": [
    "#Focus on people who leave, which department has the greatest number of accidents? \n",
    "\n",
    "accidents= round(people_who_leave.groupby('department')['work_accident'].sum()/people_who_leave['work_accident'].sum()*100,2)\n",
    "accidents.reset_index().sort_values(by='work_accident',ascending=False)"
   ]
  },
  {
   "cell_type": "code",
   "execution_count": 102,
   "metadata": {
    "scrolled": true
   },
   "outputs": [
    {
     "data": {
      "text/html": [
       "<div>\n",
       "<style scoped>\n",
       "    .dataframe tbody tr th:only-of-type {\n",
       "        vertical-align: middle;\n",
       "    }\n",
       "\n",
       "    .dataframe tbody tr th {\n",
       "        vertical-align: top;\n",
       "    }\n",
       "\n",
       "    .dataframe thead th {\n",
       "        text-align: right;\n",
       "    }\n",
       "</style>\n",
       "<table border=\"1\" class=\"dataframe\">\n",
       "  <thead>\n",
       "    <tr style=\"text-align: right;\">\n",
       "      <th></th>\n",
       "      <th>satisfaction_level</th>\n",
       "      <th>last_evaluation</th>\n",
       "      <th>number_project</th>\n",
       "      <th>average_montly_hours</th>\n",
       "      <th>time_spend_company</th>\n",
       "      <th>left</th>\n",
       "      <th>promotion_last_5years</th>\n",
       "    </tr>\n",
       "    <tr>\n",
       "      <th>work_accident</th>\n",
       "      <th></th>\n",
       "      <th></th>\n",
       "      <th></th>\n",
       "      <th></th>\n",
       "      <th></th>\n",
       "      <th></th>\n",
       "      <th></th>\n",
       "    </tr>\n",
       "  </thead>\n",
       "  <tbody>\n",
       "    <tr>\n",
       "      <th>0</th>\n",
       "      <td>0.625546</td>\n",
       "      <td>0.717092</td>\n",
       "      <td>3.805640</td>\n",
       "      <td>200.741150</td>\n",
       "      <td>3.364856</td>\n",
       "      <td>0.185978</td>\n",
       "      <td>0.015284</td>\n",
       "    </tr>\n",
       "    <tr>\n",
       "      <th>1</th>\n",
       "      <td>0.652200</td>\n",
       "      <td>0.714438</td>\n",
       "      <td>3.787568</td>\n",
       "      <td>199.006486</td>\n",
       "      <td>3.364865</td>\n",
       "      <td>0.056757</td>\n",
       "      <td>0.025946</td>\n",
       "    </tr>\n",
       "  </tbody>\n",
       "</table>\n",
       "</div>"
      ],
      "text/plain": [
       "               satisfaction_level  last_evaluation  number_project  \\\n",
       "work_accident                                                        \n",
       "0                        0.625546         0.717092        3.805640   \n",
       "1                        0.652200         0.714438        3.787568   \n",
       "\n",
       "               average_montly_hours  time_spend_company      left  \\\n",
       "work_accident                                                       \n",
       "0                        200.741150            3.364856  0.185978   \n",
       "1                        199.006486            3.364865  0.056757   \n",
       "\n",
       "               promotion_last_5years  \n",
       "work_accident                         \n",
       "0                           0.015284  \n",
       "1                           0.025946  "
      ]
     },
     "execution_count": 102,
     "metadata": {},
     "output_type": "execute_result"
    }
   ],
   "source": [
    "hr_no_dupl.groupby('work_accident').mean()"
   ]
  },
  {
   "cell_type": "markdown",
   "metadata": {},
   "source": [
    "### Some conclusions and next steps"
   ]
  },
  {
   "cell_type": "markdown",
   "metadata": {},
   "source": [
    "* Sales, Technical and Support are the departments with a higher number of employees (50% over total. _See graph 1_)\n",
    "\n",
    "* The departments aforementioned, HR and Accounting have a turnover ratio above the average. Instead Management is far below the average, probably (don't know yet) because their salaries were higher (_See graph 2_)\n",
    "\n",
    "* _Graph 3_ shows that:\n",
    "    - the higher number of accidents take place during the third year working at company\n",
    "    - people who left has less accidents than people who stay"
   ]
  },
  {
   "cell_type": "markdown",
   "metadata": {},
   "source": [
    "# 5. Saving cleaned dataset"
   ]
  },
  {
   "cell_type": "code",
   "execution_count": 27,
   "metadata": {},
   "outputs": [],
   "source": [
    "hr_no_dupl.to_csv('data/HR_data_cleaned.csv',index=False)"
   ]
  }
 ],
 "metadata": {
  "kernelspec": {
   "display_name": "Python 3",
   "language": "python",
   "name": "python3"
  },
  "language_info": {
   "codemirror_mode": {
    "name": "ipython",
    "version": 3
   },
   "file_extension": ".py",
   "mimetype": "text/x-python",
   "name": "python",
   "nbconvert_exporter": "python",
   "pygments_lexer": "ipython3",
   "version": "3.6.4"
  }
 },
 "nbformat": 4,
 "nbformat_minor": 2
}
