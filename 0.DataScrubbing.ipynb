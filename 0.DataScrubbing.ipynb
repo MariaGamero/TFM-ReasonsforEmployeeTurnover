{
 "cells": [
  {
   "cell_type": "markdown",
   "metadata": {},
   "source": [
    "# Why People Really Quit Their Jobs?\n",
    "\n",
    "![peces](http://4.bp.blogspot.com/-7_FVudvkdV4/Tt3pP5uQ_qI/AAAAAAAAAek/yIBC0K4DGSk/s1600/peces_nadando_en_el_agua_de_las_peceras.jpg)\n",
    "\n",
    "\n",
    "### This dataset is related to the record of the employees in a company.\n",
    "\n",
    "* It describes the **satisfaction level** of the employee, **last evaluation** of their performance, **number of projects** they done, their **average monthly working hours**, the **number of years** spent in the company, whether the employee had a **workplace accident**, whether the employee **left the workspace** , their **last promotion**, the **department** where the employee works and the **salary level**."
   ]
  },
  {
   "cell_type": "markdown",
   "metadata": {},
   "source": [
    "# 1. Import libraries"
   ]
  },
  {
   "cell_type": "code",
   "execution_count": 1,
   "metadata": {},
   "outputs": [
    {
     "data": {
      "text/plain": [
       "RendererRegistry.enable('notebook')"
      ]
     },
     "execution_count": 1,
     "metadata": {},
     "output_type": "execute_result"
    }
   ],
   "source": [
    "import numpy as np\n",
    "import pandas as pd\n",
    "import matplotlib.pyplot as plt\n",
    "plt.style.use('ggplot')\n",
    "%matplotlib inline\n",
    "import seaborn as sns\n",
    "import altair as alt\n",
    "from vega_datasets import data\n",
    "# for the notebook only (not for JupyterLab) run this command once per session\n",
    "alt.renderers.enable('notebook')"
   ]
  },
  {
   "cell_type": "markdown",
   "metadata": {},
   "source": [
    "# 2. Load Data"
   ]
  },
  {
   "cell_type": "markdown",
   "metadata": {},
   "source": [
    "For the analysis it will be used a popular dataset called: \"HR_comma_sep.csv\". From now on : \"HR_data_origin.csv\". "
   ]
  },
  {
   "cell_type": "code",
   "execution_count": 2,
   "metadata": {
    "scrolled": true
   },
   "outputs": [
    {
     "data": {
      "text/html": [
       "<div>\n",
       "<style scoped>\n",
       "    .dataframe tbody tr th:only-of-type {\n",
       "        vertical-align: middle;\n",
       "    }\n",
       "\n",
       "    .dataframe tbody tr th {\n",
       "        vertical-align: top;\n",
       "    }\n",
       "\n",
       "    .dataframe thead th {\n",
       "        text-align: right;\n",
       "    }\n",
       "</style>\n",
       "<table border=\"1\" class=\"dataframe\">\n",
       "  <thead>\n",
       "    <tr style=\"text-align: right;\">\n",
       "      <th></th>\n",
       "      <th>satisfaction_level</th>\n",
       "      <th>last_evaluation</th>\n",
       "      <th>number_project</th>\n",
       "      <th>average_montly_hours</th>\n",
       "      <th>time_spend_company</th>\n",
       "      <th>Work_accident</th>\n",
       "      <th>left</th>\n",
       "      <th>promotion_last_5years</th>\n",
       "      <th>sales</th>\n",
       "      <th>salary</th>\n",
       "    </tr>\n",
       "  </thead>\n",
       "  <tbody>\n",
       "    <tr>\n",
       "      <th>0</th>\n",
       "      <td>0.38</td>\n",
       "      <td>0.53</td>\n",
       "      <td>2</td>\n",
       "      <td>157</td>\n",
       "      <td>3</td>\n",
       "      <td>0</td>\n",
       "      <td>1</td>\n",
       "      <td>0</td>\n",
       "      <td>sales</td>\n",
       "      <td>low</td>\n",
       "    </tr>\n",
       "    <tr>\n",
       "      <th>1</th>\n",
       "      <td>0.80</td>\n",
       "      <td>0.86</td>\n",
       "      <td>5</td>\n",
       "      <td>262</td>\n",
       "      <td>6</td>\n",
       "      <td>0</td>\n",
       "      <td>1</td>\n",
       "      <td>0</td>\n",
       "      <td>sales</td>\n",
       "      <td>medium</td>\n",
       "    </tr>\n",
       "    <tr>\n",
       "      <th>2</th>\n",
       "      <td>0.11</td>\n",
       "      <td>0.88</td>\n",
       "      <td>7</td>\n",
       "      <td>272</td>\n",
       "      <td>4</td>\n",
       "      <td>0</td>\n",
       "      <td>1</td>\n",
       "      <td>0</td>\n",
       "      <td>sales</td>\n",
       "      <td>medium</td>\n",
       "    </tr>\n",
       "    <tr>\n",
       "      <th>3</th>\n",
       "      <td>0.72</td>\n",
       "      <td>0.87</td>\n",
       "      <td>5</td>\n",
       "      <td>223</td>\n",
       "      <td>5</td>\n",
       "      <td>0</td>\n",
       "      <td>1</td>\n",
       "      <td>0</td>\n",
       "      <td>sales</td>\n",
       "      <td>low</td>\n",
       "    </tr>\n",
       "    <tr>\n",
       "      <th>4</th>\n",
       "      <td>0.37</td>\n",
       "      <td>0.52</td>\n",
       "      <td>2</td>\n",
       "      <td>159</td>\n",
       "      <td>3</td>\n",
       "      <td>0</td>\n",
       "      <td>1</td>\n",
       "      <td>0</td>\n",
       "      <td>sales</td>\n",
       "      <td>low</td>\n",
       "    </tr>\n",
       "  </tbody>\n",
       "</table>\n",
       "</div>"
      ],
      "text/plain": [
       "   satisfaction_level  last_evaluation  number_project  average_montly_hours  \\\n",
       "0                0.38             0.53               2                   157   \n",
       "1                0.80             0.86               5                   262   \n",
       "2                0.11             0.88               7                   272   \n",
       "3                0.72             0.87               5                   223   \n",
       "4                0.37             0.52               2                   159   \n",
       "\n",
       "   time_spend_company  Work_accident  left  promotion_last_5years  sales  \\\n",
       "0                   3              0     1                      0  sales   \n",
       "1                   6              0     1                      0  sales   \n",
       "2                   4              0     1                      0  sales   \n",
       "3                   5              0     1                      0  sales   \n",
       "4                   3              0     1                      0  sales   \n",
       "\n",
       "   salary  \n",
       "0     low  \n",
       "1  medium  \n",
       "2  medium  \n",
       "3     low  \n",
       "4     low  "
      ]
     },
     "execution_count": 2,
     "metadata": {},
     "output_type": "execute_result"
    }
   ],
   "source": [
    "hr=pd.read_csv(\"data/HR_data_origin.csv\")\n",
    "hr.head()"
   ]
  },
  {
   "cell_type": "markdown",
   "metadata": {},
   "source": [
    "## Brief description of columns in DataSet:\n",
    "\n",
    "- **Satisfaction_level** : Level of employee satisfaction with their work and position. At first, it ties closely with employee turnover. \n",
    "\n",
    "- **Last_evaluation**: Column can be used to evaluate the performance of an employee. The data ranges from 0–1, 0 being low performance and 1 being the highest.\n",
    "\n",
    "- **Number_projects**: number of projects employees done.\n",
    "\n",
    "- **average_montly_hours**: average monthly hours per employee.\n",
    "\n",
    "- **time_spend_company**: The data ranges from 1 to 10. Data unit not specified. It will be supposed _years_.\n",
    "\n",
    "- **Work_accident**: Whether the employee had a workplace accident,: 1 yes, 0 no.\n",
    "\n",
    "- **left**: Whether the employee has left or not the company: 1 yes, 0 no.\n",
    "\n",
    "- **promotion_last_5years**: Whether the employee has had a promotion in the last 5 years.\n",
    "\n",
    "- **Sales**: It seems to indicate the different areas or departments the employees belong: Sales, Technical, Support, IT, Product Managment, Marketing ,Accounting, Human Resources, Managment and Others.\n",
    "\n",
    "- **Salary**: Salary level classified by Low, Medium, High."
   ]
  },
  {
   "cell_type": "markdown",
   "metadata": {},
   "source": [
    "# 3. Data Scrubbing "
   ]
  },
  {
   "cell_type": "markdown",
   "metadata": {},
   "source": [
    "Analize and understand the data in detail in order to make the right assumptions and choose the right algorithm:\n",
    "\n",
    "* Size \n",
    "* Determine variable's type\n",
    "* Some transformations: name of columns and type of the variables\n",
    "* Is there any null value?\n",
    "* Find and remove duplicates\n",
    "* Descriptive analysis"
   ]
  },
  {
   "cell_type": "code",
   "execution_count": 6,
   "metadata": {},
   "outputs": [
    {
     "data": {
      "text/plain": [
       "(14999, 10)"
      ]
     },
     "execution_count": 6,
     "metadata": {},
     "output_type": "execute_result"
    }
   ],
   "source": [
    "#This dataset contains 14999 rows and 10 columns.\n",
    "hr.shape"
   ]
  },
  {
   "cell_type": "code",
   "execution_count": 8,
   "metadata": {
    "scrolled": true
   },
   "outputs": [
    {
     "name": "stdout",
     "output_type": "stream",
     "text": [
      "<class 'pandas.core.frame.DataFrame'>\n",
      "RangeIndex: 14999 entries, 0 to 14998\n",
      "Data columns (total 10 columns):\n",
      "satisfaction_level       14999 non-null float64\n",
      "last_evaluation          14999 non-null float64\n",
      "number_project           14999 non-null int64\n",
      "average_montly_hours     14999 non-null int64\n",
      "time_spend_company       14999 non-null int64\n",
      "Work_accident            14999 non-null int64\n",
      "left                     14999 non-null int64\n",
      "promotion_last_5years    14999 non-null int64\n",
      "sales                    14999 non-null object\n",
      "salary                   14999 non-null object\n",
      "dtypes: float64(2), int64(6), object(2)\n",
      "memory usage: 1.1+ MB\n"
     ]
    }
   ],
   "source": [
    "hr.info()"
   ]
  },
  {
   "cell_type": "markdown",
   "metadata": {},
   "source": [
    "Rename columns: \n",
    "\n",
    "* __\"sales\"__: from now on \"department\"\n",
    "* __\"Work_accident\"__ : lowercase letter\n"
   ]
  },
  {
   "cell_type": "code",
   "execution_count": 11,
   "metadata": {
    "scrolled": true
   },
   "outputs": [
    {
     "data": {
      "text/plain": [
       "Index(['satisfaction_level', 'last_evaluation', 'number_project',\n",
       "       'average_montly_hours', 'time_spend_company', 'Work_accident', 'left',\n",
       "       'promotion_last_5years', 'sales', 'salary'],\n",
       "      dtype='object')"
      ]
     },
     "execution_count": 11,
     "metadata": {},
     "output_type": "execute_result"
    }
   ],
   "source": [
    "hr.columns"
   ]
  },
  {
   "cell_type": "code",
   "execution_count": 12,
   "metadata": {},
   "outputs": [],
   "source": [
    "hr_renamed =hr.rename(columns={'Work_accident':'work_accident','sales':'department'})"
   ]
  },
  {
   "cell_type": "code",
   "execution_count": 13,
   "metadata": {},
   "outputs": [
    {
     "data": {
      "text/plain": [
       "Index(['satisfaction_level', 'last_evaluation', 'number_project',\n",
       "       'average_montly_hours', 'time_spend_company', 'work_accident', 'left',\n",
       "       'promotion_last_5years', 'department', 'salary'],\n",
       "      dtype='object')"
      ]
     },
     "execution_count": 13,
     "metadata": {},
     "output_type": "execute_result"
    }
   ],
   "source": [
    "hr_renamed.columns"
   ]
  },
  {
   "cell_type": "markdown",
   "metadata": {},
   "source": [
    "Is there any missing data?"
   ]
  },
  {
   "cell_type": "code",
   "execution_count": 117,
   "metadata": {},
   "outputs": [
    {
     "data": {
      "text/plain": [
       "satisfaction_level       0\n",
       "last_evaluation          0\n",
       "number_project           0\n",
       "average_montly_hours     0\n",
       "time_spend_company       0\n",
       "work_accident            0\n",
       "left                     0\n",
       "promotion_last_5years    0\n",
       "department               0\n",
       "salary                   0\n",
       "salary_num               0\n",
       "dtype: int64"
      ]
     },
     "execution_count": 117,
     "metadata": {},
     "output_type": "execute_result"
    }
   ],
   "source": [
    "hr_renamed.isnull().sum()\n",
    "#there isn't missing data"
   ]
  },
  {
   "cell_type": "code",
   "execution_count": 118,
   "metadata": {},
   "outputs": [
    {
     "data": {
      "text/html": [
       "<div>\n",
       "<style scoped>\n",
       "    .dataframe tbody tr th:only-of-type {\n",
       "        vertical-align: middle;\n",
       "    }\n",
       "\n",
       "    .dataframe tbody tr th {\n",
       "        vertical-align: top;\n",
       "    }\n",
       "\n",
       "    .dataframe thead th {\n",
       "        text-align: right;\n",
       "    }\n",
       "</style>\n",
       "<table border=\"1\" class=\"dataframe\">\n",
       "  <thead>\n",
       "    <tr style=\"text-align: right;\">\n",
       "      <th></th>\n",
       "      <th>satisfaction_level</th>\n",
       "      <th>last_evaluation</th>\n",
       "      <th>number_project</th>\n",
       "      <th>average_montly_hours</th>\n",
       "      <th>time_spend_company</th>\n",
       "      <th>work_accident</th>\n",
       "      <th>left</th>\n",
       "      <th>promotion_last_5years</th>\n",
       "      <th>department</th>\n",
       "      <th>salary</th>\n",
       "      <th>salary_num</th>\n",
       "    </tr>\n",
       "  </thead>\n",
       "  <tbody>\n",
       "    <tr>\n",
       "      <th>0</th>\n",
       "      <td>0.38</td>\n",
       "      <td>0.53</td>\n",
       "      <td>2</td>\n",
       "      <td>157</td>\n",
       "      <td>3</td>\n",
       "      <td>0</td>\n",
       "      <td>1</td>\n",
       "      <td>0</td>\n",
       "      <td>sales</td>\n",
       "      <td>low</td>\n",
       "      <td>1</td>\n",
       "    </tr>\n",
       "    <tr>\n",
       "      <th>1</th>\n",
       "      <td>0.80</td>\n",
       "      <td>0.86</td>\n",
       "      <td>5</td>\n",
       "      <td>262</td>\n",
       "      <td>6</td>\n",
       "      <td>0</td>\n",
       "      <td>1</td>\n",
       "      <td>0</td>\n",
       "      <td>sales</td>\n",
       "      <td>medium</td>\n",
       "      <td>2</td>\n",
       "    </tr>\n",
       "    <tr>\n",
       "      <th>2</th>\n",
       "      <td>0.11</td>\n",
       "      <td>0.88</td>\n",
       "      <td>7</td>\n",
       "      <td>272</td>\n",
       "      <td>4</td>\n",
       "      <td>0</td>\n",
       "      <td>1</td>\n",
       "      <td>0</td>\n",
       "      <td>sales</td>\n",
       "      <td>medium</td>\n",
       "      <td>2</td>\n",
       "    </tr>\n",
       "    <tr>\n",
       "      <th>3</th>\n",
       "      <td>0.72</td>\n",
       "      <td>0.87</td>\n",
       "      <td>5</td>\n",
       "      <td>223</td>\n",
       "      <td>5</td>\n",
       "      <td>0</td>\n",
       "      <td>1</td>\n",
       "      <td>0</td>\n",
       "      <td>sales</td>\n",
       "      <td>low</td>\n",
       "      <td>1</td>\n",
       "    </tr>\n",
       "    <tr>\n",
       "      <th>4</th>\n",
       "      <td>0.37</td>\n",
       "      <td>0.52</td>\n",
       "      <td>2</td>\n",
       "      <td>159</td>\n",
       "      <td>3</td>\n",
       "      <td>0</td>\n",
       "      <td>1</td>\n",
       "      <td>0</td>\n",
       "      <td>sales</td>\n",
       "      <td>low</td>\n",
       "      <td>1</td>\n",
       "    </tr>\n",
       "  </tbody>\n",
       "</table>\n",
       "</div>"
      ],
      "text/plain": [
       "   satisfaction_level  last_evaluation  number_project  average_montly_hours  \\\n",
       "0                0.38             0.53               2                   157   \n",
       "1                0.80             0.86               5                   262   \n",
       "2                0.11             0.88               7                   272   \n",
       "3                0.72             0.87               5                   223   \n",
       "4                0.37             0.52               2                   159   \n",
       "\n",
       "   time_spend_company  work_accident  left  promotion_last_5years department  \\\n",
       "0                   3              0     1                      0      sales   \n",
       "1                   6              0     1                      0      sales   \n",
       "2                   4              0     1                      0      sales   \n",
       "3                   5              0     1                      0      sales   \n",
       "4                   3              0     1                      0      sales   \n",
       "\n",
       "   salary  salary_num  \n",
       "0     low           1  \n",
       "1  medium           2  \n",
       "2  medium           2  \n",
       "3     low           1  \n",
       "4     low           1  "
      ]
     },
     "execution_count": 118,
     "metadata": {},
     "output_type": "execute_result"
    }
   ],
   "source": [
    "hr_renamed.head()"
   ]
  },
  {
   "cell_type": "markdown",
   "metadata": {},
   "source": [
    "Find and remove duplicates"
   ]
  },
  {
   "cell_type": "code",
   "execution_count": 119,
   "metadata": {},
   "outputs": [
    {
     "data": {
      "text/plain": [
       "3008"
      ]
     },
     "execution_count": 119,
     "metadata": {},
     "output_type": "execute_result"
    }
   ],
   "source": [
    "len(hr_renamed[hr_renamed.duplicated]==True)"
   ]
  },
  {
   "cell_type": "code",
   "execution_count": 120,
   "metadata": {},
   "outputs": [
    {
     "data": {
      "text/plain": [
       "(11991, 11)"
      ]
     },
     "execution_count": 120,
     "metadata": {},
     "output_type": "execute_result"
    }
   ],
   "source": [
    "#After validating the size of these elements I feel comfortable removing duplicates from the data set\n",
    "hr_no_dupl= hr_renamed.drop_duplicates()\n",
    "hr_no_dupl.shape"
   ]
  },
  {
   "cell_type": "code",
   "execution_count": 121,
   "metadata": {},
   "outputs": [
    {
     "data": {
      "text/html": [
       "<div>\n",
       "<style scoped>\n",
       "    .dataframe tbody tr th:only-of-type {\n",
       "        vertical-align: middle;\n",
       "    }\n",
       "\n",
       "    .dataframe tbody tr th {\n",
       "        vertical-align: top;\n",
       "    }\n",
       "\n",
       "    .dataframe thead th {\n",
       "        text-align: right;\n",
       "    }\n",
       "</style>\n",
       "<table border=\"1\" class=\"dataframe\">\n",
       "  <thead>\n",
       "    <tr style=\"text-align: right;\">\n",
       "      <th></th>\n",
       "      <th>satisfaction_level</th>\n",
       "      <th>last_evaluation</th>\n",
       "      <th>number_project</th>\n",
       "      <th>average_montly_hours</th>\n",
       "      <th>time_spend_company</th>\n",
       "      <th>work_accident</th>\n",
       "      <th>left</th>\n",
       "      <th>promotion_last_5years</th>\n",
       "      <th>salary_num</th>\n",
       "    </tr>\n",
       "  </thead>\n",
       "  <tbody>\n",
       "    <tr>\n",
       "      <th>count</th>\n",
       "      <td>11991.000000</td>\n",
       "      <td>11991.000000</td>\n",
       "      <td>11991.000000</td>\n",
       "      <td>11991.000000</td>\n",
       "      <td>11991.000000</td>\n",
       "      <td>11991.000000</td>\n",
       "      <td>11991.000000</td>\n",
       "      <td>11991.000000</td>\n",
       "      <td>11991.00000</td>\n",
       "    </tr>\n",
       "    <tr>\n",
       "      <th>mean</th>\n",
       "      <td>0.629658</td>\n",
       "      <td>0.716683</td>\n",
       "      <td>3.802852</td>\n",
       "      <td>200.473522</td>\n",
       "      <td>3.364857</td>\n",
       "      <td>0.154282</td>\n",
       "      <td>0.166041</td>\n",
       "      <td>0.016929</td>\n",
       "      <td>1.60387</td>\n",
       "    </tr>\n",
       "    <tr>\n",
       "      <th>std</th>\n",
       "      <td>0.241070</td>\n",
       "      <td>0.168343</td>\n",
       "      <td>1.163238</td>\n",
       "      <td>48.727813</td>\n",
       "      <td>1.330240</td>\n",
       "      <td>0.361234</td>\n",
       "      <td>0.372133</td>\n",
       "      <td>0.129012</td>\n",
       "      <td>0.63590</td>\n",
       "    </tr>\n",
       "    <tr>\n",
       "      <th>min</th>\n",
       "      <td>0.090000</td>\n",
       "      <td>0.360000</td>\n",
       "      <td>2.000000</td>\n",
       "      <td>96.000000</td>\n",
       "      <td>2.000000</td>\n",
       "      <td>0.000000</td>\n",
       "      <td>0.000000</td>\n",
       "      <td>0.000000</td>\n",
       "      <td>1.00000</td>\n",
       "    </tr>\n",
       "    <tr>\n",
       "      <th>25%</th>\n",
       "      <td>0.480000</td>\n",
       "      <td>0.570000</td>\n",
       "      <td>3.000000</td>\n",
       "      <td>157.000000</td>\n",
       "      <td>3.000000</td>\n",
       "      <td>0.000000</td>\n",
       "      <td>0.000000</td>\n",
       "      <td>0.000000</td>\n",
       "      <td>1.00000</td>\n",
       "    </tr>\n",
       "    <tr>\n",
       "      <th>50%</th>\n",
       "      <td>0.660000</td>\n",
       "      <td>0.720000</td>\n",
       "      <td>4.000000</td>\n",
       "      <td>200.000000</td>\n",
       "      <td>3.000000</td>\n",
       "      <td>0.000000</td>\n",
       "      <td>0.000000</td>\n",
       "      <td>0.000000</td>\n",
       "      <td>2.00000</td>\n",
       "    </tr>\n",
       "    <tr>\n",
       "      <th>75%</th>\n",
       "      <td>0.820000</td>\n",
       "      <td>0.860000</td>\n",
       "      <td>5.000000</td>\n",
       "      <td>243.000000</td>\n",
       "      <td>4.000000</td>\n",
       "      <td>0.000000</td>\n",
       "      <td>0.000000</td>\n",
       "      <td>0.000000</td>\n",
       "      <td>2.00000</td>\n",
       "    </tr>\n",
       "    <tr>\n",
       "      <th>max</th>\n",
       "      <td>1.000000</td>\n",
       "      <td>1.000000</td>\n",
       "      <td>7.000000</td>\n",
       "      <td>310.000000</td>\n",
       "      <td>10.000000</td>\n",
       "      <td>1.000000</td>\n",
       "      <td>1.000000</td>\n",
       "      <td>1.000000</td>\n",
       "      <td>3.00000</td>\n",
       "    </tr>\n",
       "  </tbody>\n",
       "</table>\n",
       "</div>"
      ],
      "text/plain": [
       "       satisfaction_level  last_evaluation  number_project  \\\n",
       "count        11991.000000     11991.000000    11991.000000   \n",
       "mean             0.629658         0.716683        3.802852   \n",
       "std              0.241070         0.168343        1.163238   \n",
       "min              0.090000         0.360000        2.000000   \n",
       "25%              0.480000         0.570000        3.000000   \n",
       "50%              0.660000         0.720000        4.000000   \n",
       "75%              0.820000         0.860000        5.000000   \n",
       "max              1.000000         1.000000        7.000000   \n",
       "\n",
       "       average_montly_hours  time_spend_company  work_accident          left  \\\n",
       "count          11991.000000        11991.000000   11991.000000  11991.000000   \n",
       "mean             200.473522            3.364857       0.154282      0.166041   \n",
       "std               48.727813            1.330240       0.361234      0.372133   \n",
       "min               96.000000            2.000000       0.000000      0.000000   \n",
       "25%              157.000000            3.000000       0.000000      0.000000   \n",
       "50%              200.000000            3.000000       0.000000      0.000000   \n",
       "75%              243.000000            4.000000       0.000000      0.000000   \n",
       "max              310.000000           10.000000       1.000000      1.000000   \n",
       "\n",
       "       promotion_last_5years   salary_num  \n",
       "count           11991.000000  11991.00000  \n",
       "mean                0.016929      1.60387  \n",
       "std                 0.129012      0.63590  \n",
       "min                 0.000000      1.00000  \n",
       "25%                 0.000000      1.00000  \n",
       "50%                 0.000000      2.00000  \n",
       "75%                 0.000000      2.00000  \n",
       "max                 1.000000      3.00000  "
      ]
     },
     "execution_count": 121,
     "metadata": {},
     "output_type": "execute_result"
    }
   ],
   "source": [
    "#Descriptive analysis\n",
    "hr_no_dupl.describe()"
   ]
  },
  {
   "cell_type": "markdown",
   "metadata": {},
   "source": [
    "# 4. Analysis and some Quick Visualitations"
   ]
  },
  {
   "cell_type": "markdown",
   "metadata": {},
   "source": [
    "### Job distribution\n",
    "_How many employees work in each department?_\n",
    "\n",
    "Due to we unknow what this company is dedicated to, this analysis can be useful to determine the type of company segment."
   ]
  },
  {
   "cell_type": "code",
   "execution_count": 122,
   "metadata": {},
   "outputs": [
    {
     "data": {
      "text/html": [
       "<div>\n",
       "<style scoped>\n",
       "    .dataframe tbody tr th:only-of-type {\n",
       "        vertical-align: middle;\n",
       "    }\n",
       "\n",
       "    .dataframe tbody tr th {\n",
       "        vertical-align: top;\n",
       "    }\n",
       "\n",
       "    .dataframe thead th {\n",
       "        text-align: right;\n",
       "    }\n",
       "</style>\n",
       "<table border=\"1\" class=\"dataframe\">\n",
       "  <thead>\n",
       "    <tr style=\"text-align: right;\">\n",
       "      <th></th>\n",
       "      <th>department</th>\n",
       "      <th>left</th>\n",
       "    </tr>\n",
       "  </thead>\n",
       "  <tbody>\n",
       "    <tr>\n",
       "      <th>0</th>\n",
       "      <td>sales</td>\n",
       "      <td>3239</td>\n",
       "    </tr>\n",
       "    <tr>\n",
       "      <th>1</th>\n",
       "      <td>technical</td>\n",
       "      <td>2244</td>\n",
       "    </tr>\n",
       "    <tr>\n",
       "      <th>2</th>\n",
       "      <td>support</td>\n",
       "      <td>1821</td>\n",
       "    </tr>\n",
       "    <tr>\n",
       "      <th>3</th>\n",
       "      <td>IT</td>\n",
       "      <td>976</td>\n",
       "    </tr>\n",
       "    <tr>\n",
       "      <th>4</th>\n",
       "      <td>RandD</td>\n",
       "      <td>694</td>\n",
       "    </tr>\n",
       "    <tr>\n",
       "      <th>5</th>\n",
       "      <td>product_mng</td>\n",
       "      <td>686</td>\n",
       "    </tr>\n",
       "    <tr>\n",
       "      <th>6</th>\n",
       "      <td>marketing</td>\n",
       "      <td>673</td>\n",
       "    </tr>\n",
       "    <tr>\n",
       "      <th>7</th>\n",
       "      <td>accounting</td>\n",
       "      <td>621</td>\n",
       "    </tr>\n",
       "    <tr>\n",
       "      <th>8</th>\n",
       "      <td>hr</td>\n",
       "      <td>601</td>\n",
       "    </tr>\n",
       "    <tr>\n",
       "      <th>9</th>\n",
       "      <td>management</td>\n",
       "      <td>436</td>\n",
       "    </tr>\n",
       "  </tbody>\n",
       "</table>\n",
       "</div>"
      ],
      "text/plain": [
       "    department  left\n",
       "0        sales  3239\n",
       "1    technical  2244\n",
       "2      support  1821\n",
       "3           IT   976\n",
       "4        RandD   694\n",
       "5  product_mng   686\n",
       "6    marketing   673\n",
       "7   accounting   621\n",
       "8           hr   601\n",
       "9   management   436"
      ]
     },
     "execution_count": 122,
     "metadata": {},
     "output_type": "execute_result"
    }
   ],
   "source": [
    "headcount_by_department = hr_no_dupl.groupby('department')['left'].count().sort_values(ascending=False).reset_index()\n",
    "headcount_by_department"
   ]
  },
  {
   "cell_type": "code",
   "execution_count": 123,
   "metadata": {},
   "outputs": [
    {
     "data": {
      "image/png": "[encoded data removed]",
      "text/plain": [
       "<Figure size 360x360 with 1 Axes>"
      ]
     },
     "metadata": {},
     "output_type": "display_data"
    }
   ],
   "source": [
    "#graph:\n",
    "\n",
    "plt.figure(figsize=(5,5))\n",
    "explode=(0.15,0.15,0.1,0.05,0.02,0.02,0.01,0.01,0,0) #highlight the 4 main values\n",
    "plt.pie(headcount_by_department.left,labels=headcount_by_department.department,autopct='%1d%%',explode=explode)\n",
    "plt.title('Graph 1:Employee distribution',fontsize=17)\n",
    "plt.show()"
   ]
  },
  {
   "cell_type": "markdown",
   "metadata": {},
   "source": [
    "## Turnover rate"
   ]
  },
  {
   "cell_type": "markdown",
   "metadata": {},
   "source": [
    "The term ‘employee turnover rate’ refers to the percentage of employees who leave an organization during a certain period of time. People usually include voluntary resignations, dismissals, non certifications and retirements in their turnover calculations. They normally don’t include internal movements like promotions or transfers. \n",
    "\n",
    "Source: [https://resources.workable.com/tutorial/calculate-employee-turnover-rate]"
   ]
  },
  {
   "attachments": {
    "image.png": {
     "image/png": "[encoded data removed]"
    }
   },
   "cell_type": "markdown",
   "metadata": {},
   "source": [
    "### Which is the turnover rate of this company?\n",
    "\n",
    "Typically, turnover is measured on a month or annual basis. As a general rule, high rate is damaging to a company's revenue and profitability. As I unknow the period of time of this dataset, I will assume that it has been measured on annual basis. \n",
    "\n",
    "Here is the formula for annual turnover rate:\n",
    "\n",
    "![image.png](attachment:image.png)"
   ]
  },
  {
   "cell_type": "code",
   "execution_count": 124,
   "metadata": {},
   "outputs": [
    {
     "data": {
      "text/plain": [
       "11991"
      ]
     },
     "execution_count": 124,
     "metadata": {},
     "output_type": "execute_result"
    }
   ],
   "source": [
    "#number of employees at the beggining of the year\n",
    "len(hr_no_dupl)"
   ]
  },
  {
   "cell_type": "code",
   "execution_count": 125,
   "metadata": {},
   "outputs": [],
   "source": [
    "people_who_stay= hr_no_dupl[hr_no_dupl['left']==0] #people who stay \n",
    "people_who_leave= hr_no_dupl[hr_no_dupl['left']==1] #people who leave"
   ]
  },
  {
   "cell_type": "code",
   "execution_count": 126,
   "metadata": {},
   "outputs": [
    {
     "data": {
      "text/plain": [
       "10000"
      ]
     },
     "execution_count": 126,
     "metadata": {},
     "output_type": "execute_result"
    }
   ],
   "source": [
    "#employees \n",
    "len(people_who_stay)"
   ]
  },
  {
   "cell_type": "code",
   "execution_count": 127,
   "metadata": {},
   "outputs": [
    {
     "data": {
      "text/plain": [
       "16.6"
      ]
     },
     "execution_count": 127,
     "metadata": {},
     "output_type": "execute_result"
    }
   ],
   "source": [
    "#implifying: \n",
    "turnover_rate = round(len(people_who_leave)/len(hr_no_dupl)*100,2)\n",
    "turnover_rate"
   ]
  },
  {
   "cell_type": "markdown",
   "metadata": {},
   "source": [
    "Around 17% of the employees left the company. Is it high, is it low, is it bad, is it good...?\n",
    "Well, the ideal labour turnover will depend on the business and the industry the company work in. \n",
    "\n",
    "I have no enough information about the company and it seems not easy to discover it.  However what I can and try to find out and analyse is : __What are people leave the company like and why they do it?__ "
   ]
  },
  {
   "cell_type": "markdown",
   "metadata": {},
   "source": [
    "### Which is the turnover rate by department?"
   ]
  },
  {
   "cell_type": "code",
   "execution_count": 128,
   "metadata": {},
   "outputs": [
    {
     "data": {
      "text/plain": [
       "department\n",
       "hr             18.8\n",
       "accounting     17.6\n",
       "technical      17.4\n",
       "support        17.1\n",
       "sales          17.0\n",
       "marketing      16.6\n",
       "IT             16.2\n",
       "product_mng    16.0\n",
       "RandD          12.2\n",
       "management     11.9\n",
       "Name: left, dtype: float64"
      ]
     },
     "execution_count": 128,
     "metadata": {},
     "output_type": "execute_result"
    }
   ],
   "source": [
    "turnover_by_department = round(hr_no_dupl.groupby('department')['left'].mean().sort_values(ascending=False)*100,1)\n",
    "turnover_by_department "
   ]
  },
  {
   "cell_type": "code",
   "execution_count": 129,
   "metadata": {},
   "outputs": [
    {
     "data": {
      "image/png": "[encoded data removed]",
      "text/plain": [
       "<Figure size 720x504 with 1 Axes>"
      ]
     },
     "metadata": {},
     "output_type": "display_data"
    }
   ],
   "source": [
    "#this graph shows turnover ratio by department vs. Company ratio (16.6%)\n",
    "\n",
    "plt.figure(figsize=(10,7))\n",
    "plt.barh(turnover_by_department .index,turnover_by_department.values,color='blue',alpha=0.4)\n",
    "plt.barh(turnover_by_department.index,turnover_rate,alpha=.3,color='green', label='average company turnover ratio')\n",
    "plt.xlabel('turnover ratio')\n",
    "plt.ylabel('department')\n",
    "plt.legend()\n",
    "plt.title('Graph 2: Turnover rate by department vs. average company rate', fontsize= 17)\n",
    "plt.show()"
   ]
  },
  {
   "cell_type": "markdown",
   "metadata": {},
   "source": [
    "* Sales, Technical and Support are the departments with a higher number of employees (50% over total. _See graph 1_)\n",
    "\n",
    "\n",
    "* The departments aforementioned, HR and Accounting have a turnover ratio above the average. Instead Management is far below the average (_See graph 2_), probably (don't know yet) because their salaries were higher "
   ]
  },
  {
   "cell_type": "markdown",
   "metadata": {},
   "source": [
    "### Turnover rate by salary level"
   ]
  },
  {
   "cell_type": "code",
   "execution_count": 130,
   "metadata": {
    "scrolled": true
   },
   "outputs": [
    {
     "data": {
      "text/html": [
       "<div>\n",
       "<style scoped>\n",
       "    .dataframe tbody tr th:only-of-type {\n",
       "        vertical-align: middle;\n",
       "    }\n",
       "\n",
       "    .dataframe tbody tr th {\n",
       "        vertical-align: top;\n",
       "    }\n",
       "\n",
       "    .dataframe thead th {\n",
       "        text-align: right;\n",
       "    }\n",
       "</style>\n",
       "<table border=\"1\" class=\"dataframe\">\n",
       "  <thead>\n",
       "    <tr style=\"text-align: right;\">\n",
       "      <th></th>\n",
       "      <th>department</th>\n",
       "      <th>salary</th>\n",
       "      <th>left</th>\n",
       "    </tr>\n",
       "  </thead>\n",
       "  <tbody>\n",
       "    <tr>\n",
       "      <th>28</th>\n",
       "      <td>technical</td>\n",
       "      <td>low</td>\n",
       "      <td>0.209139</td>\n",
       "    </tr>\n",
       "    <tr>\n",
       "      <th>1</th>\n",
       "      <td>IT</td>\n",
       "      <td>low</td>\n",
       "      <td>0.182773</td>\n",
       "    </tr>\n",
       "    <tr>\n",
       "      <th>7</th>\n",
       "      <td>accounting</td>\n",
       "      <td>low</td>\n",
       "      <td>0.199324</td>\n",
       "    </tr>\n",
       "    <tr>\n",
       "      <th>6</th>\n",
       "      <td>accounting</td>\n",
       "      <td>high</td>\n",
       "      <td>0.047619</td>\n",
       "    </tr>\n",
       "    <tr>\n",
       "      <th>17</th>\n",
       "      <td>marketing</td>\n",
       "      <td>medium</td>\n",
       "      <td>0.109635</td>\n",
       "    </tr>\n",
       "  </tbody>\n",
       "</table>\n",
       "</div>"
      ],
      "text/plain": [
       "    department  salary      left\n",
       "28   technical     low  0.209139\n",
       "1           IT     low  0.182773\n",
       "7   accounting     low  0.199324\n",
       "6   accounting    high  0.047619\n",
       "17   marketing  medium  0.109635"
      ]
     },
     "execution_count": 130,
     "metadata": {},
     "output_type": "execute_result"
    }
   ],
   "source": [
    "salary_by_department=hr_no_dupl.groupby(['department','salary'])['left'].mean().reset_index().sort_values(by='left',ascending=False)\n",
    "salary_by_department.sample(5)"
   ]
  },
  {
   "cell_type": "code",
   "execution_count": 131,
   "metadata": {},
   "outputs": [
    {
     "data": {
      "text/html": [
       "<div>\n",
       "<style scoped>\n",
       "    .dataframe tbody tr th:only-of-type {\n",
       "        vertical-align: middle;\n",
       "    }\n",
       "\n",
       "    .dataframe tbody tr th {\n",
       "        vertical-align: top;\n",
       "    }\n",
       "\n",
       "    .dataframe thead th {\n",
       "        text-align: right;\n",
       "    }\n",
       "</style>\n",
       "<table border=\"1\" class=\"dataframe\">\n",
       "  <thead>\n",
       "    <tr style=\"text-align: right;\">\n",
       "      <th></th>\n",
       "      <th>department</th>\n",
       "      <th>salary</th>\n",
       "      <th>left</th>\n",
       "    </tr>\n",
       "  </thead>\n",
       "  <tbody>\n",
       "    <tr>\n",
       "      <th>16</th>\n",
       "      <td>marketing</td>\n",
       "      <td>low</td>\n",
       "      <td>0.245161</td>\n",
       "    </tr>\n",
       "    <tr>\n",
       "      <th>13</th>\n",
       "      <td>management</td>\n",
       "      <td>low</td>\n",
       "      <td>0.230216</td>\n",
       "    </tr>\n",
       "    <tr>\n",
       "      <th>25</th>\n",
       "      <td>support</td>\n",
       "      <td>low</td>\n",
       "      <td>0.220300</td>\n",
       "    </tr>\n",
       "    <tr>\n",
       "      <th>10</th>\n",
       "      <td>hr</td>\n",
       "      <td>low</td>\n",
       "      <td>0.209459</td>\n",
       "    </tr>\n",
       "    <tr>\n",
       "      <th>28</th>\n",
       "      <td>technical</td>\n",
       "      <td>low</td>\n",
       "      <td>0.209139</td>\n",
       "    </tr>\n",
       "    <tr>\n",
       "      <th>22</th>\n",
       "      <td>sales</td>\n",
       "      <td>low</td>\n",
       "      <td>0.205409</td>\n",
       "    </tr>\n",
       "    <tr>\n",
       "      <th>7</th>\n",
       "      <td>accounting</td>\n",
       "      <td>low</td>\n",
       "      <td>0.199324</td>\n",
       "    </tr>\n",
       "    <tr>\n",
       "      <th>1</th>\n",
       "      <td>IT</td>\n",
       "      <td>low</td>\n",
       "      <td>0.182773</td>\n",
       "    </tr>\n",
       "    <tr>\n",
       "      <th>19</th>\n",
       "      <td>product_mng</td>\n",
       "      <td>low</td>\n",
       "      <td>0.172012</td>\n",
       "    </tr>\n",
       "    <tr>\n",
       "      <th>4</th>\n",
       "      <td>RandD</td>\n",
       "      <td>low</td>\n",
       "      <td>0.158385</td>\n",
       "    </tr>\n",
       "  </tbody>\n",
       "</table>\n",
       "</div>"
      ],
      "text/plain": [
       "     department salary      left\n",
       "16    marketing    low  0.245161\n",
       "13   management    low  0.230216\n",
       "25      support    low  0.220300\n",
       "10           hr    low  0.209459\n",
       "28    technical    low  0.209139\n",
       "22        sales    low  0.205409\n",
       "7    accounting    low  0.199324\n",
       "1            IT    low  0.182773\n",
       "19  product_mng    low  0.172012\n",
       "4         RandD    low  0.158385"
      ]
     },
     "execution_count": 131,
     "metadata": {},
     "output_type": "execute_result"
    }
   ],
   "source": [
    "#for low salary, marketing has the highest turnover rate.\n",
    "salary_by_department[salary_by_department['salary']=='low']"
   ]
  },
  {
   "cell_type": "code",
   "execution_count": 132,
   "metadata": {},
   "outputs": [
    {
     "data": {
      "text/html": [
       "<div>\n",
       "<style scoped>\n",
       "    .dataframe tbody tr th:only-of-type {\n",
       "        vertical-align: middle;\n",
       "    }\n",
       "\n",
       "    .dataframe tbody tr th {\n",
       "        vertical-align: top;\n",
       "    }\n",
       "\n",
       "    .dataframe thead th {\n",
       "        text-align: right;\n",
       "    }\n",
       "</style>\n",
       "<table border=\"1\" class=\"dataframe\">\n",
       "  <thead>\n",
       "    <tr style=\"text-align: right;\">\n",
       "      <th></th>\n",
       "      <th>department</th>\n",
       "      <th>salary</th>\n",
       "      <th>left</th>\n",
       "    </tr>\n",
       "  </thead>\n",
       "  <tbody>\n",
       "    <tr>\n",
       "      <th>11</th>\n",
       "      <td>hr</td>\n",
       "      <td>medium</td>\n",
       "      <td>0.179775</td>\n",
       "    </tr>\n",
       "    <tr>\n",
       "      <th>8</th>\n",
       "      <td>accounting</td>\n",
       "      <td>medium</td>\n",
       "      <td>0.179389</td>\n",
       "    </tr>\n",
       "    <tr>\n",
       "      <th>20</th>\n",
       "      <td>product_mng</td>\n",
       "      <td>medium</td>\n",
       "      <td>0.161512</td>\n",
       "    </tr>\n",
       "    <tr>\n",
       "      <th>2</th>\n",
       "      <td>IT</td>\n",
       "      <td>medium</td>\n",
       "      <td>0.156177</td>\n",
       "    </tr>\n",
       "    <tr>\n",
       "      <th>23</th>\n",
       "      <td>sales</td>\n",
       "      <td>medium</td>\n",
       "      <td>0.151139</td>\n",
       "    </tr>\n",
       "    <tr>\n",
       "      <th>29</th>\n",
       "      <td>technical</td>\n",
       "      <td>medium</td>\n",
       "      <td>0.151064</td>\n",
       "    </tr>\n",
       "    <tr>\n",
       "      <th>26</th>\n",
       "      <td>support</td>\n",
       "      <td>medium</td>\n",
       "      <td>0.140097</td>\n",
       "    </tr>\n",
       "    <tr>\n",
       "      <th>14</th>\n",
       "      <td>management</td>\n",
       "      <td>medium</td>\n",
       "      <td>0.112426</td>\n",
       "    </tr>\n",
       "    <tr>\n",
       "      <th>17</th>\n",
       "      <td>marketing</td>\n",
       "      <td>medium</td>\n",
       "      <td>0.109635</td>\n",
       "    </tr>\n",
       "    <tr>\n",
       "      <th>5</th>\n",
       "      <td>RandD</td>\n",
       "      <td>medium</td>\n",
       "      <td>0.095385</td>\n",
       "    </tr>\n",
       "  </tbody>\n",
       "</table>\n",
       "</div>"
      ],
      "text/plain": [
       "     department  salary      left\n",
       "11           hr  medium  0.179775\n",
       "8    accounting  medium  0.179389\n",
       "20  product_mng  medium  0.161512\n",
       "2            IT  medium  0.156177\n",
       "23        sales  medium  0.151139\n",
       "29    technical  medium  0.151064\n",
       "26      support  medium  0.140097\n",
       "14   management  medium  0.112426\n",
       "17    marketing  medium  0.109635\n",
       "5         RandD  medium  0.095385"
      ]
     },
     "execution_count": 132,
     "metadata": {},
     "output_type": "execute_result"
    }
   ],
   "source": [
    "#for medium salary, hr and accounting departments have the highest turnover rate.\n",
    "salary_by_department[salary_by_department['salary']=='medium']"
   ]
  },
  {
   "cell_type": "code",
   "execution_count": 133,
   "metadata": {},
   "outputs": [
    {
     "data": {
      "text/html": [
       "<div>\n",
       "<style scoped>\n",
       "    .dataframe tbody tr th:only-of-type {\n",
       "        vertical-align: middle;\n",
       "    }\n",
       "\n",
       "    .dataframe tbody tr th {\n",
       "        vertical-align: top;\n",
       "    }\n",
       "\n",
       "    .dataframe thead th {\n",
       "        text-align: right;\n",
       "    }\n",
       "</style>\n",
       "<table border=\"1\" class=\"dataframe\">\n",
       "  <thead>\n",
       "    <tr style=\"text-align: right;\">\n",
       "      <th></th>\n",
       "      <th>department</th>\n",
       "      <th>salary</th>\n",
       "      <th>left</th>\n",
       "    </tr>\n",
       "  </thead>\n",
       "  <tbody>\n",
       "    <tr>\n",
       "      <th>9</th>\n",
       "      <td>hr</td>\n",
       "      <td>high</td>\n",
       "      <td>0.078947</td>\n",
       "    </tr>\n",
       "    <tr>\n",
       "      <th>18</th>\n",
       "      <td>product_mng</td>\n",
       "      <td>high</td>\n",
       "      <td>0.076923</td>\n",
       "    </tr>\n",
       "    <tr>\n",
       "      <th>3</th>\n",
       "      <td>RandD</td>\n",
       "      <td>high</td>\n",
       "      <td>0.063830</td>\n",
       "    </tr>\n",
       "    <tr>\n",
       "      <th>27</th>\n",
       "      <td>technical</td>\n",
       "      <td>high</td>\n",
       "      <td>0.060241</td>\n",
       "    </tr>\n",
       "    <tr>\n",
       "      <th>0</th>\n",
       "      <td>IT</td>\n",
       "      <td>high</td>\n",
       "      <td>0.056338</td>\n",
       "    </tr>\n",
       "    <tr>\n",
       "      <th>21</th>\n",
       "      <td>sales</td>\n",
       "      <td>high</td>\n",
       "      <td>0.050633</td>\n",
       "    </tr>\n",
       "    <tr>\n",
       "      <th>15</th>\n",
       "      <td>marketing</td>\n",
       "      <td>high</td>\n",
       "      <td>0.048387</td>\n",
       "    </tr>\n",
       "    <tr>\n",
       "      <th>6</th>\n",
       "      <td>accounting</td>\n",
       "      <td>high</td>\n",
       "      <td>0.047619</td>\n",
       "    </tr>\n",
       "    <tr>\n",
       "      <th>24</th>\n",
       "      <td>support</td>\n",
       "      <td>high</td>\n",
       "      <td>0.039683</td>\n",
       "    </tr>\n",
       "    <tr>\n",
       "      <th>12</th>\n",
       "      <td>management</td>\n",
       "      <td>high</td>\n",
       "      <td>0.007812</td>\n",
       "    </tr>\n",
       "  </tbody>\n",
       "</table>\n",
       "</div>"
      ],
      "text/plain": [
       "     department salary      left\n",
       "9            hr   high  0.078947\n",
       "18  product_mng   high  0.076923\n",
       "3         RandD   high  0.063830\n",
       "27    technical   high  0.060241\n",
       "0            IT   high  0.056338\n",
       "21        sales   high  0.050633\n",
       "15    marketing   high  0.048387\n",
       "6    accounting   high  0.047619\n",
       "24      support   high  0.039683\n",
       "12   management   high  0.007812"
      ]
     },
     "execution_count": 133,
     "metadata": {},
     "output_type": "execute_result"
    }
   ],
   "source": [
    "#Finally for high salary, the turn over rate is very low. \n",
    "salary_by_department[salary_by_department['salary']=='high']"
   ]
  },
  {
   "cell_type": "code",
   "execution_count": 134,
   "metadata": {},
   "outputs": [
    {
     "data": {
      "application/javascript": [
       "var spec = {\"config\": {\"view\": {\"width\": 400, \"height\": 300}}, \"data\": {\"name\": \"data-26a5bac127ff99118cfcc288bc108d52\"}, \"mark\": \"bar\", \"encoding\": {\"color\": {\"type\": \"nominal\", \"field\": \"salary\"}, \"x\": {\"type\": \"nominal\", \"field\": \"department\"}, \"y\": {\"type\": \"quantitative\", \"field\": \"left\"}}, \"selection\": {\"selector017\": {\"type\": \"interval\", \"bind\": \"scales\", \"encodings\": [\"x\", \"y\"]}}, \"title\": \"Graph 3. Turnover rate by department and salary\", \"width\": 600, \"$schema\": \"https://vega.github.io/schema/vega-lite/v2.6.0.json\", \"datasets\": {\"data-26a5bac127ff99118cfcc288bc108d52\": [{\"department\": \"marketing\", \"salary\": \"low\", \"left\": 0.24516129032258063}, {\"department\": \"management\", \"salary\": \"low\", \"left\": 0.2302158273381295}, {\"department\": \"support\", \"salary\": \"low\", \"left\": 0.22029988465974626}, {\"department\": \"hr\", \"salary\": \"low\", \"left\": 0.20945945945945946}, {\"department\": \"technical\", \"salary\": \"low\", \"left\": 0.20913884007029876}, {\"department\": \"sales\", \"salary\": \"low\", \"left\": 0.20540888602704443}, {\"department\": \"accounting\", \"salary\": \"low\", \"left\": 0.19932432432432431}, {\"department\": \"IT\", \"salary\": \"low\", \"left\": 0.18277310924369747}, {\"department\": \"hr\", \"salary\": \"medium\", \"left\": 0.1797752808988764}, {\"department\": \"accounting\", \"salary\": \"medium\", \"left\": 0.17938931297709923}, {\"department\": \"product_mng\", \"salary\": \"low\", \"left\": 0.17201166180758018}, {\"department\": \"product_mng\", \"salary\": \"medium\", \"left\": 0.16151202749140894}, {\"department\": \"RandD\", \"salary\": \"low\", \"left\": 0.15838509316770186}, {\"department\": \"IT\", \"salary\": \"medium\", \"left\": 0.1561771561771562}, {\"department\": \"sales\", \"salary\": \"medium\", \"left\": 0.15113871635610765}, {\"department\": \"technical\", \"salary\": \"medium\", \"left\": 0.15106382978723404}, {\"department\": \"support\", \"salary\": \"medium\", \"left\": 0.14009661835748793}, {\"department\": \"management\", \"salary\": \"medium\", \"left\": 0.11242603550295859}, {\"department\": \"marketing\", \"salary\": \"medium\", \"left\": 0.10963455149501661}, {\"department\": \"RandD\", \"salary\": \"medium\", \"left\": 0.09538461538461539}, {\"department\": \"hr\", \"salary\": \"high\", \"left\": 0.07894736842105263}, {\"department\": \"product_mng\", \"salary\": \"high\", \"left\": 0.07692307692307693}, {\"department\": \"RandD\", \"salary\": \"high\", \"left\": 0.06382978723404255}, {\"department\": \"technical\", \"salary\": \"high\", \"left\": 0.060240963855421686}, {\"department\": \"IT\", \"salary\": \"high\", \"left\": 0.056338028169014086}, {\"department\": \"sales\", \"salary\": \"high\", \"left\": 0.05063291139240506}, {\"department\": \"marketing\", \"salary\": \"high\", \"left\": 0.04838709677419355}, {\"department\": \"accounting\", \"salary\": \"high\", \"left\": 0.047619047619047616}, {\"department\": \"support\", \"salary\": \"high\", \"left\": 0.03968253968253968}, {\"department\": \"management\", \"salary\": \"high\", \"left\": 0.0078125}]}};\n",
       "var opt = {};\n",
       "var type = \"vega-lite\";\n",
       "var id = \"bfbd8784-4d21-48d7-950d-0c32a79d7d63\";\n",
       "\n",
       "var output_area = this;\n",
       "\n",
       "require([\"nbextensions/jupyter-vega/index\"], function(vega) {\n",
       "  var target = document.createElement(\"div\");\n",
       "  target.id = id;\n",
       "  target.className = \"vega-embed\";\n",
       "\n",
       "  var style = document.createElement(\"style\");\n",
       "  style.textContent = [\n",
       "    \".vega-embed .error p {\",\n",
       "    \"  color: firebrick;\",\n",
       "    \"  font-size: 14px;\",\n",
       "    \"}\",\n",
       "  ].join(\"\\\\n\");\n",
       "\n",
       "  // element is a jQuery wrapped DOM element inside the output area\n",
       "  // see http://ipython.readthedocs.io/en/stable/api/generated/\\\n",
       "  // IPython.display.html#IPython.display.Javascript.__init__\n",
       "  element[0].appendChild(target);\n",
       "  element[0].appendChild(style);\n",
       "\n",
       "  vega.render(\"#\" + id, spec, type, opt, output_area);\n",
       "}, function (err) {\n",
       "  if (err.requireType !== \"scripterror\") {\n",
       "    throw(err);\n",
       "  }\n",
       "});\n"
      ],
      "text/plain": [
       "<vega.vegalite.VegaLite at 0x7fe8da4c2940>"
      ]
     },
     "metadata": {
      "jupyter-vega": "#bfbd8784-4d21-48d7-950d-0c32a79d7d63"
     },
     "output_type": "display_data"
    },
    {
     "data": {
      "text/plain": []
     },
     "execution_count": 134,
     "metadata": {},
     "output_type": "execute_result"
    },
    {
     "data": {
      "image/png": "[encoded data removed]"
     },
     "metadata": {
      "jupyter-vega": "#bfbd8784-4d21-48d7-950d-0c32a79d7d63"
     },
     "output_type": "display_data"
    }
   ],
   "source": [
    "#graph:\n",
    "turnover_rate_by_salary_and_department=alt.Chart(salary_by_department).mark_bar().encode(\n",
    "    x=\"department:N\",\n",
    "    y=\"left\",\n",
    "    color=\"salary:N\"\n",
    ").properties(\n",
    "    title=\"Graph 3. Turnover rate by department and salary\",\n",
    "    width=600\n",
    ").interactive()\n",
    "turnover_rate_by_salary_and_department"
   ]
  },
  {
   "cell_type": "markdown",
   "metadata": {},
   "source": [
    "As we can see in the graph, on one hand the turnover rate of the employees with high salary is very low. On the other hand, the turnover rate of the employees with low salary varies between departments"
   ]
  },
  {
   "cell_type": "markdown",
   "metadata": {},
   "source": [
    "### Could we know which variable has the most influence to stay or leave a job?"
   ]
  },
  {
   "cell_type": "code",
   "execution_count": 135,
   "metadata": {},
   "outputs": [
    {
     "data": {
      "image/png": "[encoded data removed]",
      "text/plain": [
       "<Figure size 576x576 with 2 Axes>"
      ]
     },
     "metadata": {},
     "output_type": "display_data"
    }
   ],
   "source": [
    "# Correlation heatmap\n",
    "plt.figure(figsize=(8, 8)) \n",
    "sns.heatmap(hr_no_dupl.corr(), vmax=1, square=True,annot=True) \n",
    "plt.title(\"Graph 4. Correlation between variables\", fontsize = 17)\n",
    "plt.show()"
   ]
  },
  {
   "cell_type": "markdown",
   "metadata": {},
   "source": [
    "#### Graph 3:  \n",
    "\n",
    "* As expected, the **\"satisfaction level\" has the largest correlation with the decision to stay or leave** the company and it is negative (-0.35) \n",
    "\n",
    "\n",
    "* The correlation with the attribute **\"Work_accident\"** is also **negative(-0.13)** whereas with **\"time_spend_company\" it is positive (0.17)**"
   ]
  },
  {
   "cell_type": "markdown",
   "metadata": {},
   "source": [
    "### Let's start by taking a look at the distribution of employees satisfaction level at company"
   ]
  },
  {
   "cell_type": "code",
   "execution_count": 136,
   "metadata": {},
   "outputs": [
    {
     "data": {
      "image/png": "[encoded data removed]",
      "text/plain": [
       "<Figure size 432x288 with 1 Axes>"
      ]
     },
     "metadata": {},
     "output_type": "display_data"
    },
    {
     "name": "stdout",
     "output_type": "stream",
     "text": [
      "The average satisfaction level at company is 63%\n",
      "    - for employees who leave is 44%\n",
      "    - for employees who stay is 67%\n"
     ]
    }
   ],
   "source": [
    "#Graph:\n",
    "plt.hist(hr_no_dupl.satisfaction_level,bins=20,color='orange',label='total') \n",
    "plt.hist(people_who_stay.satisfaction_level,bins=20,color='green',label='people who stay',) #people who stay\n",
    "plt.hist(people_who_leave.satisfaction_level,bins=20,color='blue',label='people who leave') #people who leave\n",
    "plt.title(\"Graph 5. Distribution of employees satisfaction level\", fontsize = 17)\n",
    "plt.legend()\n",
    "plt.show()\n",
    "\n",
    "print('The average satisfaction level at company is %.f'%(hr_no_dupl.satisfaction_level.mean()*100) + '%') \n",
    "print('    - for employees who leave is %.f' %(people_who_leave.satisfaction_level.mean()*100) + '%')\n",
    "print('    - for employees who stay is %.f' %(people_who_stay.satisfaction_level.mean()*100) + '%')"
   ]
  },
  {
   "cell_type": "markdown",
   "metadata": {},
   "source": [
    "For __people who leave the company__ there are three scenarios:\n",
    "* 0         -> staff totally disappointed (the biggest group)\n",
    "* around 0,4-> group with satisfaction level below the average\n",
    "* 0.7-0.9   -> with high satisfacion and above the average"
   ]
  },
  {
   "cell_type": "markdown",
   "metadata": {},
   "source": [
    "### Satisfaction level vs. time spend at company"
   ]
  },
  {
   "cell_type": "markdown",
   "metadata": {},
   "source": [
    "There is a negative correlation (-0.15) between the **\"time at company\"** and the **\"employee satisfaction level\"**. It is not sure, but could seem to indicate that **the more years working in the company, the lower level of satisfaction** "
   ]
  },
  {
   "cell_type": "code",
   "execution_count": 153,
   "metadata": {},
   "outputs": [
    {
     "data": {
      "text/html": [
       "<div>\n",
       "<style scoped>\n",
       "    .dataframe tbody tr th:only-of-type {\n",
       "        vertical-align: middle;\n",
       "    }\n",
       "\n",
       "    .dataframe tbody tr th {\n",
       "        vertical-align: top;\n",
       "    }\n",
       "\n",
       "    .dataframe thead th {\n",
       "        text-align: right;\n",
       "    }\n",
       "</style>\n",
       "<table border=\"1\" class=\"dataframe\">\n",
       "  <thead>\n",
       "    <tr style=\"text-align: right;\">\n",
       "      <th></th>\n",
       "      <th>time_spend_company</th>\n",
       "      <th>left</th>\n",
       "      <th>satisfaction_level</th>\n",
       "    </tr>\n",
       "  </thead>\n",
       "  <tbody>\n",
       "    <tr>\n",
       "      <th>10</th>\n",
       "      <td>7</td>\n",
       "      <td>0</td>\n",
       "      <td>0.635957</td>\n",
       "    </tr>\n",
       "    <tr>\n",
       "      <th>12</th>\n",
       "      <td>10</td>\n",
       "      <td>0</td>\n",
       "      <td>0.655327</td>\n",
       "    </tr>\n",
       "    <tr>\n",
       "      <th>2</th>\n",
       "      <td>3</td>\n",
       "      <td>0</td>\n",
       "      <td>0.697020</td>\n",
       "    </tr>\n",
       "    <tr>\n",
       "      <th>7</th>\n",
       "      <td>5</td>\n",
       "      <td>1</td>\n",
       "      <td>0.708402</td>\n",
       "    </tr>\n",
       "    <tr>\n",
       "      <th>9</th>\n",
       "      <td>6</td>\n",
       "      <td>1</td>\n",
       "      <td>0.798440</td>\n",
       "    </tr>\n",
       "  </tbody>\n",
       "</table>\n",
       "</div>"
      ],
      "text/plain": [
       "    time_spend_company  left  satisfaction_level\n",
       "10                   7     0            0.635957\n",
       "12                  10     0            0.655327\n",
       "2                    3     0            0.697020\n",
       "7                    5     1            0.708402\n",
       "9                    6     1            0.798440"
      ]
     },
     "execution_count": 153,
     "metadata": {},
     "output_type": "execute_result"
    }
   ],
   "source": [
    "satisfaction_level_by_time_at_company = hr_no_dupl.groupby(['time_spend_company','left'])['satisfaction_level'].mean().reset_index().sort_values(by='left',ascending=False)\n",
    "satisfaction_level_by_time_at_company.sample(5)"
   ]
  },
  {
   "cell_type": "code",
   "execution_count": 154,
   "metadata": {},
   "outputs": [
    {
     "data": {
      "application/javascript": [
       "var spec = {\"config\": {\"view\": {\"width\": 400, \"height\": 300}}, \"data\": {\"name\": \"data-3664c434d13be0934090e1cfa8607220\"}, \"mark\": \"line\", \"encoding\": {\"color\": {\"type\": \"nominal\", \"field\": \"left\"}, \"x\": {\"type\": \"nominal\", \"field\": \"time_spend_company\"}, \"y\": {\"type\": \"quantitative\", \"field\": \"satisfaction_level\"}}, \"selection\": {\"selector024\": {\"type\": \"interval\", \"bind\": \"scales\", \"encodings\": [\"x\", \"y\"]}}, \"title\": \"Graph 6: Satisfaction level & time spend at company\", \"width\": 400, \"$schema\": \"https://vega.github.io/schema/vega-lite/v2.6.0.json\", \"datasets\": {\"data-3664c434d13be0934090e1cfa8607220\": [{\"time_spend_company\": 2, \"left\": \"yes\", \"satisfaction_level\": 0.5374193548387097}, {\"time_spend_company\": 3, \"left\": \"yes\", \"satisfaction_level\": 0.4117963386727683}, {\"time_spend_company\": 4, \"left\": \"yes\", \"satisfaction_level\": 0.14450505050505094}, {\"time_spend_company\": 5, \"left\": \"yes\", \"satisfaction_level\": 0.7084024896265564}, {\"time_spend_company\": 6, \"left\": \"yes\", \"satisfaction_level\": 0.7984403669724773}, {\"time_spend_company\": 2, \"left\": \"no\", \"satisfaction_level\": 0.7009065647794397}, {\"time_spend_company\": 3, \"left\": \"no\", \"satisfaction_level\": 0.6970203892493052}, {\"time_spend_company\": 4, \"left\": \"no\", \"satisfaction_level\": 0.6379006622516564}, {\"time_spend_company\": 5, \"left\": \"no\", \"satisfaction_level\": 0.479120689655172}, {\"time_spend_company\": 6, \"left\": \"no\", \"satisfaction_level\": 0.5138799076212466}, {\"time_spend_company\": 7, \"left\": \"no\", \"satisfaction_level\": 0.6359574468085103}, {\"time_spend_company\": 8, \"left\": \"no\", \"satisfaction_level\": 0.6650617283950617}, {\"time_spend_company\": 10, \"left\": \"no\", \"satisfaction_level\": 0.6553271028037382}]}};\n",
       "var opt = {};\n",
       "var type = \"vega-lite\";\n",
       "var id = \"9de79b35-5a94-4ff4-8867-57a63cbd32cd\";\n",
       "\n",
       "var output_area = this;\n",
       "\n",
       "require([\"nbextensions/jupyter-vega/index\"], function(vega) {\n",
       "  var target = document.createElement(\"div\");\n",
       "  target.id = id;\n",
       "  target.className = \"vega-embed\";\n",
       "\n",
       "  var style = document.createElement(\"style\");\n",
       "  style.textContent = [\n",
       "    \".vega-embed .error p {\",\n",
       "    \"  color: firebrick;\",\n",
       "    \"  font-size: 14px;\",\n",
       "    \"}\",\n",
       "  ].join(\"\\\\n\");\n",
       "\n",
       "  // element is a jQuery wrapped DOM element inside the output area\n",
       "  // see http://ipython.readthedocs.io/en/stable/api/generated/\\\n",
       "  // IPython.display.html#IPython.display.Javascript.__init__\n",
       "  element[0].appendChild(target);\n",
       "  element[0].appendChild(style);\n",
       "\n",
       "  vega.render(\"#\" + id, spec, type, opt, output_area);\n",
       "}, function (err) {\n",
       "  if (err.requireType !== \"scripterror\") {\n",
       "    throw(err);\n",
       "  }\n",
       "});\n"
      ],
      "text/plain": [
       "<vega.vegalite.VegaLite at 0x7fe8da843898>"
      ]
     },
     "metadata": {
      "jupyter-vega": "#9de79b35-5a94-4ff4-8867-57a63cbd32cd"
     },
     "output_type": "display_data"
    },
    {
     "data": {
      "text/plain": []
     },
     "execution_count": 154,
     "metadata": {},
     "output_type": "execute_result"
    },
    {
     "data": {
      "image/png": "[encoded data removed]"
     },
     "metadata": {
      "jupyter-vega": "#9de79b35-5a94-4ff4-8867-57a63cbd32cd"
     },
     "output_type": "display_data"
    }
   ],
   "source": [
    "#legend\n",
    "satisfaction_level_by_time_at_company['left']=satisfaction_level_by_time_at_company['left'].map({0:'no',1:'yes'})\n",
    "\n",
    "#Graph:\n",
    "evolution =alt.Chart(satisfaction_level_by_time_at_company).mark_line().encode(\n",
    "    x=\"time_spend_company:N\",\n",
    "    y=\"satisfaction_level:Q\",\n",
    "    color=\"left:N\"\n",
    ").properties(\n",
    "    title=\"Graph 6: Satisfaction level & time spend at company\",\n",
    "    width=400\n",
    ").interactive()\n",
    "\n",
    "evolution"
   ]
  },
  {
   "cell_type": "markdown",
   "metadata": {},
   "source": [
    "Curiosity: employees working more than 6 years didn't leave. \n",
    "The level of satisfaction begins to decrease in the third year and worsens to 4.5 years, probably due to the fact that promotions are scarce."
   ]
  },
  {
   "cell_type": "markdown",
   "metadata": {},
   "source": [
    "### From the point of view of the company, which are the most valuables employees?"
   ]
  },
  {
   "cell_type": "code",
   "execution_count": 103,
   "metadata": {},
   "outputs": [
    {
     "data": {
      "text/html": [
       "<div>\n",
       "<style scoped>\n",
       "    .dataframe tbody tr th:only-of-type {\n",
       "        vertical-align: middle;\n",
       "    }\n",
       "\n",
       "    .dataframe tbody tr th {\n",
       "        vertical-align: top;\n",
       "    }\n",
       "\n",
       "    .dataframe thead th {\n",
       "        text-align: right;\n",
       "    }\n",
       "</style>\n",
       "<table border=\"1\" class=\"dataframe\">\n",
       "  <thead>\n",
       "    <tr style=\"text-align: right;\">\n",
       "      <th></th>\n",
       "      <th>satisfaction_level</th>\n",
       "      <th>last_evaluation</th>\n",
       "      <th>number_project</th>\n",
       "      <th>average_montly_hours</th>\n",
       "      <th>time_spend_company</th>\n",
       "      <th>work_accident</th>\n",
       "      <th>left</th>\n",
       "      <th>promotion_last_5years</th>\n",
       "      <th>department</th>\n",
       "      <th>salary</th>\n",
       "      <th>salary_num</th>\n",
       "    </tr>\n",
       "  </thead>\n",
       "  <tbody>\n",
       "    <tr>\n",
       "      <th>10939</th>\n",
       "      <td>0.52</td>\n",
       "      <td>0.63</td>\n",
       "      <td>3</td>\n",
       "      <td>233</td>\n",
       "      <td>3</td>\n",
       "      <td>0</td>\n",
       "      <td>0</td>\n",
       "      <td>1</td>\n",
       "      <td>sales</td>\n",
       "      <td>medium</td>\n",
       "      <td>2</td>\n",
       "    </tr>\n",
       "    <tr>\n",
       "      <th>11217</th>\n",
       "      <td>0.55</td>\n",
       "      <td>0.40</td>\n",
       "      <td>3</td>\n",
       "      <td>139</td>\n",
       "      <td>8</td>\n",
       "      <td>0</td>\n",
       "      <td>0</td>\n",
       "      <td>1</td>\n",
       "      <td>hr</td>\n",
       "      <td>medium</td>\n",
       "      <td>2</td>\n",
       "    </tr>\n",
       "    <tr>\n",
       "      <th>11940</th>\n",
       "      <td>0.53</td>\n",
       "      <td>0.74</td>\n",
       "      <td>3</td>\n",
       "      <td>172</td>\n",
       "      <td>10</td>\n",
       "      <td>0</td>\n",
       "      <td>0</td>\n",
       "      <td>1</td>\n",
       "      <td>management</td>\n",
       "      <td>high</td>\n",
       "      <td>3</td>\n",
       "    </tr>\n",
       "    <tr>\n",
       "      <th>10934</th>\n",
       "      <td>0.75</td>\n",
       "      <td>0.63</td>\n",
       "      <td>4</td>\n",
       "      <td>209</td>\n",
       "      <td>3</td>\n",
       "      <td>0</td>\n",
       "      <td>0</td>\n",
       "      <td>1</td>\n",
       "      <td>sales</td>\n",
       "      <td>medium</td>\n",
       "      <td>2</td>\n",
       "    </tr>\n",
       "    <tr>\n",
       "      <th>11758</th>\n",
       "      <td>0.58</td>\n",
       "      <td>0.84</td>\n",
       "      <td>4</td>\n",
       "      <td>206</td>\n",
       "      <td>7</td>\n",
       "      <td>0</td>\n",
       "      <td>0</td>\n",
       "      <td>1</td>\n",
       "      <td>management</td>\n",
       "      <td>high</td>\n",
       "      <td>3</td>\n",
       "    </tr>\n",
       "    <tr>\n",
       "      <th>11890</th>\n",
       "      <td>0.39</td>\n",
       "      <td>0.75</td>\n",
       "      <td>6</td>\n",
       "      <td>185</td>\n",
       "      <td>3</td>\n",
       "      <td>0</td>\n",
       "      <td>0</td>\n",
       "      <td>1</td>\n",
       "      <td>management</td>\n",
       "      <td>high</td>\n",
       "      <td>3</td>\n",
       "    </tr>\n",
       "    <tr>\n",
       "      <th>11727</th>\n",
       "      <td>0.88</td>\n",
       "      <td>0.88</td>\n",
       "      <td>4</td>\n",
       "      <td>222</td>\n",
       "      <td>3</td>\n",
       "      <td>1</td>\n",
       "      <td>0</td>\n",
       "      <td>1</td>\n",
       "      <td>sales</td>\n",
       "      <td>medium</td>\n",
       "      <td>2</td>\n",
       "    </tr>\n",
       "    <tr>\n",
       "      <th>11465</th>\n",
       "      <td>0.55</td>\n",
       "      <td>0.64</td>\n",
       "      <td>3</td>\n",
       "      <td>178</td>\n",
       "      <td>2</td>\n",
       "      <td>0</td>\n",
       "      <td>0</td>\n",
       "      <td>1</td>\n",
       "      <td>sales</td>\n",
       "      <td>low</td>\n",
       "      <td>1</td>\n",
       "    </tr>\n",
       "    <tr>\n",
       "      <th>4543</th>\n",
       "      <td>0.76</td>\n",
       "      <td>0.52</td>\n",
       "      <td>2</td>\n",
       "      <td>229</td>\n",
       "      <td>3</td>\n",
       "      <td>0</td>\n",
       "      <td>0</td>\n",
       "      <td>1</td>\n",
       "      <td>technical</td>\n",
       "      <td>medium</td>\n",
       "      <td>2</td>\n",
       "    </tr>\n",
       "    <tr>\n",
       "      <th>11269</th>\n",
       "      <td>0.70</td>\n",
       "      <td>0.56</td>\n",
       "      <td>4</td>\n",
       "      <td>214</td>\n",
       "      <td>3</td>\n",
       "      <td>0</td>\n",
       "      <td>0</td>\n",
       "      <td>1</td>\n",
       "      <td>management</td>\n",
       "      <td>medium</td>\n",
       "      <td>2</td>\n",
       "    </tr>\n",
       "  </tbody>\n",
       "</table>\n",
       "</div>"
      ],
      "text/plain": [
       "       satisfaction_level  last_evaluation  number_project  \\\n",
       "10939                0.52             0.63               3   \n",
       "11217                0.55             0.40               3   \n",
       "11940                0.53             0.74               3   \n",
       "10934                0.75             0.63               4   \n",
       "11758                0.58             0.84               4   \n",
       "11890                0.39             0.75               6   \n",
       "11727                0.88             0.88               4   \n",
       "11465                0.55             0.64               3   \n",
       "4543                 0.76             0.52               2   \n",
       "11269                0.70             0.56               4   \n",
       "\n",
       "       average_montly_hours  time_spend_company  work_accident  left  \\\n",
       "10939                   233                   3              0     0   \n",
       "11217                   139                   8              0     0   \n",
       "11940                   172                  10              0     0   \n",
       "10934                   209                   3              0     0   \n",
       "11758                   206                   7              0     0   \n",
       "11890                   185                   3              0     0   \n",
       "11727                   222                   3              1     0   \n",
       "11465                   178                   2              0     0   \n",
       "4543                    229                   3              0     0   \n",
       "11269                   214                   3              0     0   \n",
       "\n",
       "       promotion_last_5years  department  salary  salary_num  \n",
       "10939                      1       sales  medium           2  \n",
       "11217                      1          hr  medium           2  \n",
       "11940                      1  management    high           3  \n",
       "10934                      1       sales  medium           2  \n",
       "11758                      1  management    high           3  \n",
       "11890                      1  management    high           3  \n",
       "11727                      1       sales  medium           2  \n",
       "11465                      1       sales     low           1  \n",
       "4543                       1   technical  medium           2  \n",
       "11269                      1  management  medium           2  "
      ]
     },
     "execution_count": 103,
     "metadata": {},
     "output_type": "execute_result"
    }
   ],
   "source": [
    "most_valuables_employees = hr_no_dupl[hr_no_dupl['promotion_last_5years']==1]\n",
    "most_valuables_employees.sample(10)"
   ]
  },
  {
   "cell_type": "code",
   "execution_count": 410,
   "metadata": {},
   "outputs": [
    {
     "data": {
      "text/plain": [
       "203"
      ]
     },
     "execution_count": 410,
     "metadata": {},
     "output_type": "execute_result"
    }
   ],
   "source": [
    "#How many are they?\n",
    "len(most_valuables_employees)"
   ]
  },
  {
   "cell_type": "code",
   "execution_count": 415,
   "metadata": {},
   "outputs": [
    {
     "data": {
      "text/html": [
       "<div>\n",
       "<style scoped>\n",
       "    .dataframe tbody tr th:only-of-type {\n",
       "        vertical-align: middle;\n",
       "    }\n",
       "\n",
       "    .dataframe tbody tr th {\n",
       "        vertical-align: top;\n",
       "    }\n",
       "\n",
       "    .dataframe thead th {\n",
       "        text-align: right;\n",
       "    }\n",
       "</style>\n",
       "<table border=\"1\" class=\"dataframe\">\n",
       "  <thead>\n",
       "    <tr style=\"text-align: right;\">\n",
       "      <th></th>\n",
       "      <th>satisfaction_level</th>\n",
       "      <th>last_evaluation</th>\n",
       "      <th>number_project</th>\n",
       "      <th>average_montly_hours</th>\n",
       "      <th>time_spend_company</th>\n",
       "      <th>work_accident</th>\n",
       "      <th>left</th>\n",
       "      <th>promotion_last_5years</th>\n",
       "    </tr>\n",
       "  </thead>\n",
       "  <tbody>\n",
       "    <tr>\n",
       "      <th>count</th>\n",
       "      <td>203.00000</td>\n",
       "      <td>203.000000</td>\n",
       "      <td>203.000000</td>\n",
       "      <td>203.000000</td>\n",
       "      <td>203.000000</td>\n",
       "      <td>203.000000</td>\n",
       "      <td>203.000000</td>\n",
       "      <td>203.0</td>\n",
       "    </tr>\n",
       "    <tr>\n",
       "      <th>mean</th>\n",
       "      <td>0.66601</td>\n",
       "      <td>0.707438</td>\n",
       "      <td>3.798030</td>\n",
       "      <td>198.630542</td>\n",
       "      <td>3.940887</td>\n",
       "      <td>0.236453</td>\n",
       "      <td>0.039409</td>\n",
       "      <td>1.0</td>\n",
       "    </tr>\n",
       "    <tr>\n",
       "      <th>std</th>\n",
       "      <td>0.20947</td>\n",
       "      <td>0.168318</td>\n",
       "      <td>1.031003</td>\n",
       "      <td>47.559202</td>\n",
       "      <td>2.026178</td>\n",
       "      <td>0.425954</td>\n",
       "      <td>0.195047</td>\n",
       "      <td>0.0</td>\n",
       "    </tr>\n",
       "    <tr>\n",
       "      <th>min</th>\n",
       "      <td>0.11000</td>\n",
       "      <td>0.370000</td>\n",
       "      <td>2.000000</td>\n",
       "      <td>100.000000</td>\n",
       "      <td>2.000000</td>\n",
       "      <td>0.000000</td>\n",
       "      <td>0.000000</td>\n",
       "      <td>1.0</td>\n",
       "    </tr>\n",
       "    <tr>\n",
       "      <th>25%</th>\n",
       "      <td>0.53000</td>\n",
       "      <td>0.575000</td>\n",
       "      <td>3.000000</td>\n",
       "      <td>157.000000</td>\n",
       "      <td>3.000000</td>\n",
       "      <td>0.000000</td>\n",
       "      <td>0.000000</td>\n",
       "      <td>1.0</td>\n",
       "    </tr>\n",
       "    <tr>\n",
       "      <th>50%</th>\n",
       "      <td>0.70000</td>\n",
       "      <td>0.710000</td>\n",
       "      <td>4.000000</td>\n",
       "      <td>200.000000</td>\n",
       "      <td>3.000000</td>\n",
       "      <td>0.000000</td>\n",
       "      <td>0.000000</td>\n",
       "      <td>1.0</td>\n",
       "    </tr>\n",
       "    <tr>\n",
       "      <th>75%</th>\n",
       "      <td>0.82500</td>\n",
       "      <td>0.835000</td>\n",
       "      <td>4.000000</td>\n",
       "      <td>239.500000</td>\n",
       "      <td>5.000000</td>\n",
       "      <td>0.000000</td>\n",
       "      <td>0.000000</td>\n",
       "      <td>1.0</td>\n",
       "    </tr>\n",
       "    <tr>\n",
       "      <th>max</th>\n",
       "      <td>1.00000</td>\n",
       "      <td>1.000000</td>\n",
       "      <td>6.000000</td>\n",
       "      <td>292.000000</td>\n",
       "      <td>10.000000</td>\n",
       "      <td>1.000000</td>\n",
       "      <td>1.000000</td>\n",
       "      <td>1.0</td>\n",
       "    </tr>\n",
       "  </tbody>\n",
       "</table>\n",
       "</div>"
      ],
      "text/plain": [
       "       satisfaction_level  last_evaluation  number_project  \\\n",
       "count           203.00000       203.000000      203.000000   \n",
       "mean              0.66601         0.707438        3.798030   \n",
       "std               0.20947         0.168318        1.031003   \n",
       "min               0.11000         0.370000        2.000000   \n",
       "25%               0.53000         0.575000        3.000000   \n",
       "50%               0.70000         0.710000        4.000000   \n",
       "75%               0.82500         0.835000        4.000000   \n",
       "max               1.00000         1.000000        6.000000   \n",
       "\n",
       "       average_montly_hours  time_spend_company  work_accident        left  \\\n",
       "count            203.000000          203.000000     203.000000  203.000000   \n",
       "mean             198.630542            3.940887       0.236453    0.039409   \n",
       "std               47.559202            2.026178       0.425954    0.195047   \n",
       "min              100.000000            2.000000       0.000000    0.000000   \n",
       "25%              157.000000            3.000000       0.000000    0.000000   \n",
       "50%              200.000000            3.000000       0.000000    0.000000   \n",
       "75%              239.500000            5.000000       0.000000    0.000000   \n",
       "max              292.000000           10.000000       1.000000    1.000000   \n",
       "\n",
       "       promotion_last_5years  \n",
       "count                  203.0  \n",
       "mean                     1.0  \n",
       "std                      0.0  \n",
       "min                      1.0  \n",
       "25%                      1.0  \n",
       "50%                      1.0  \n",
       "75%                      1.0  \n",
       "max                      1.0  "
      ]
     },
     "execution_count": 415,
     "metadata": {},
     "output_type": "execute_result"
    }
   ],
   "source": [
    "most_valuables_employees.describe()"
   ]
  },
  {
   "cell_type": "code",
   "execution_count": 420,
   "metadata": {},
   "outputs": [
    {
     "data": {
      "text/plain": [
       "3.9408866995073892"
      ]
     },
     "execution_count": 420,
     "metadata": {},
     "output_type": "execute_result"
    }
   ],
   "source": [
    "#Which is the turnover rate for this kind of employees?\n",
    "most_valuables_employees['left'].mean()*100"
   ]
  },
  {
   "cell_type": "code",
   "execution_count": 449,
   "metadata": {},
   "outputs": [
    {
     "data": {
      "application/javascript": [
       "var spec = {\"config\": {\"view\": {\"width\": 400, \"height\": 300}}, \"data\": {\"name\": \"data-c7f28ea3c4b2fdfae4fa5f0c29296123\"}, \"mark\": \"bar\", \"encoding\": {\"color\": {\"type\": \"nominal\", \"field\": \"number_project\"}, \"x\": {\"type\": \"nominal\", \"field\": \"department\"}, \"y\": {\"type\": \"quantitative\", \"field\": \"last_evaluation\"}}, \"selection\": {\"selector058\": {\"type\": \"interval\", \"bind\": \"scales\", \"encodings\": [\"x\", \"y\"]}}, \"title\": \"Graph 7: The most valuable employees per company breakdown\", \"width\": 400, \"$schema\": \"https://vega.github.io/schema/vega-lite/v2.6.0.json\", \"datasets\": {\"data-c7f28ea3c4b2fdfae4fa5f0c29296123\": [{\"satisfaction_level\": 0.45, \"last_evaluation\": 0.51, \"number_project\": 2, \"average_montly_hours\": 160, \"time_spend_company\": 3, \"work_accident\": 1, \"left\": 1, \"promotion_last_5years\": 1, \"department\": \"sales\", \"salary\": \"low\"}, {\"satisfaction_level\": 0.79, \"last_evaluation\": 0.59, \"number_project\": 4, \"average_montly_hours\": 139, \"time_spend_company\": 3, \"work_accident\": 0, \"left\": 1, \"promotion_last_5years\": 1, \"department\": \"management\", \"salary\": \"low\"}, {\"satisfaction_level\": 0.41, \"last_evaluation\": 0.46, \"number_project\": 2, \"average_montly_hours\": 160, \"time_spend_company\": 3, \"work_accident\": 0, \"left\": 1, \"promotion_last_5years\": 1, \"department\": \"sales\", \"salary\": \"low\"}, {\"satisfaction_level\": 0.11, \"last_evaluation\": 0.79, \"number_project\": 6, \"average_montly_hours\": 292, \"time_spend_company\": 4, \"work_accident\": 0, \"left\": 1, \"promotion_last_5years\": 1, \"department\": \"technical\", \"salary\": \"low\"}, {\"satisfaction_level\": 0.41, \"last_evaluation\": 0.56, \"number_project\": 2, \"average_montly_hours\": 154, \"time_spend_company\": 3, \"work_accident\": 0, \"left\": 1, \"promotion_last_5years\": 1, \"department\": \"support\", \"salary\": \"medium\"}, {\"satisfaction_level\": 0.46, \"last_evaluation\": 0.45, \"number_project\": 2, \"average_montly_hours\": 138, \"time_spend_company\": 3, \"work_accident\": 0, \"left\": 1, \"promotion_last_5years\": 1, \"department\": \"IT\", \"salary\": \"low\"}, {\"satisfaction_level\": 0.87, \"last_evaluation\": 1.0, \"number_project\": 4, \"average_montly_hours\": 258, \"time_spend_company\": 5, \"work_accident\": 1, \"left\": 1, \"promotion_last_5years\": 1, \"department\": \"sales\", \"salary\": \"medium\"}, {\"satisfaction_level\": 0.44, \"last_evaluation\": 0.55, \"number_project\": 2, \"average_montly_hours\": 128, \"time_spend_company\": 3, \"work_accident\": 0, \"left\": 1, \"promotion_last_5years\": 1, \"department\": \"IT\", \"salary\": \"medium\"}, {\"satisfaction_level\": 0.94, \"last_evaluation\": 0.8, \"number_project\": 5, \"average_montly_hours\": 111, \"time_spend_company\": 4, \"work_accident\": 0, \"left\": 0, \"promotion_last_5years\": 1, \"department\": \"RandD\", \"salary\": \"medium\"}, {\"satisfaction_level\": 0.58, \"last_evaluation\": 0.71, \"number_project\": 4, \"average_montly_hours\": 145, \"time_spend_company\": 3, \"work_accident\": 1, \"left\": 0, \"promotion_last_5years\": 1, \"department\": \"RandD\", \"salary\": \"medium\"}, {\"satisfaction_level\": 0.43, \"last_evaluation\": 0.6, \"number_project\": 3, \"average_montly_hours\": 138, \"time_spend_company\": 3, \"work_accident\": 0, \"left\": 0, \"promotion_last_5years\": 1, \"department\": \"RandD\", \"salary\": \"medium\"}, {\"satisfaction_level\": 0.72, \"last_evaluation\": 0.49, \"number_project\": 3, \"average_montly_hours\": 203, \"time_spend_company\": 3, \"work_accident\": 0, \"left\": 0, \"promotion_last_5years\": 1, \"department\": \"RandD\", \"salary\": \"medium\"}, {\"satisfaction_level\": 0.95, \"last_evaluation\": 0.96, \"number_project\": 5, \"average_montly_hours\": 175, \"time_spend_company\": 3, \"work_accident\": 1, \"left\": 0, \"promotion_last_5years\": 1, \"department\": \"RandD\", \"salary\": \"medium\"}, {\"satisfaction_level\": 0.35, \"last_evaluation\": 0.67, \"number_project\": 3, \"average_montly_hours\": 119, \"time_spend_company\": 3, \"work_accident\": 0, \"left\": 0, \"promotion_last_5years\": 1, \"department\": \"marketing\", \"salary\": \"medium\"}, {\"satisfaction_level\": 0.77, \"last_evaluation\": 0.79, \"number_project\": 3, \"average_montly_hours\": 157, \"time_spend_company\": 3, \"work_accident\": 0, \"left\": 0, \"promotion_last_5years\": 1, \"department\": \"sales\", \"salary\": \"medium\"}, {\"satisfaction_level\": 0.74, \"last_evaluation\": 0.7, \"number_project\": 5, \"average_montly_hours\": 135, \"time_spend_company\": 2, \"work_accident\": 0, \"left\": 0, \"promotion_last_5years\": 1, \"department\": \"accounting\", \"salary\": \"medium\"}, {\"satisfaction_level\": 0.5, \"last_evaluation\": 0.6, \"number_project\": 4, \"average_montly_hours\": 200, \"time_spend_company\": 2, \"work_accident\": 0, \"left\": 0, \"promotion_last_5years\": 1, \"department\": \"support\", \"salary\": \"medium\"}, {\"satisfaction_level\": 0.87, \"last_evaluation\": 0.56, \"number_project\": 4, \"average_montly_hours\": 121, \"time_spend_company\": 2, \"work_accident\": 0, \"left\": 0, \"promotion_last_5years\": 1, \"department\": \"technical\", \"salary\": \"medium\"}, {\"satisfaction_level\": 0.55, \"last_evaluation\": 0.48, \"number_project\": 3, \"average_montly_hours\": 162, \"time_spend_company\": 3, \"work_accident\": 0, \"left\": 0, \"promotion_last_5years\": 1, \"department\": \"management\", \"salary\": \"high\"}, {\"satisfaction_level\": 0.8, \"last_evaluation\": 0.65, \"number_project\": 3, \"average_montly_hours\": 135, \"time_spend_company\": 3, \"work_accident\": 0, \"left\": 0, \"promotion_last_5years\": 1, \"department\": \"marketing\", \"salary\": \"low\"}, {\"satisfaction_level\": 0.49, \"last_evaluation\": 0.52, \"number_project\": 4, \"average_montly_hours\": 183, \"time_spend_company\": 2, \"work_accident\": 0, \"left\": 0, \"promotion_last_5years\": 1, \"department\": \"marketing\", \"salary\": \"medium\"}, {\"satisfaction_level\": 0.54, \"last_evaluation\": 0.92, \"number_project\": 4, \"average_montly_hours\": 228, \"time_spend_company\": 3, \"work_accident\": 0, \"left\": 0, \"promotion_last_5years\": 1, \"department\": \"marketing\", \"salary\": \"medium\"}, {\"satisfaction_level\": 0.21, \"last_evaluation\": 0.37, \"number_project\": 6, \"average_montly_hours\": 266, \"time_spend_company\": 3, \"work_accident\": 0, \"left\": 0, \"promotion_last_5years\": 1, \"department\": \"hr\", \"salary\": \"medium\"}, {\"satisfaction_level\": 0.67, \"last_evaluation\": 0.78, \"number_project\": 4, \"average_montly_hours\": 241, \"time_spend_company\": 4, \"work_accident\": 0, \"left\": 0, \"promotion_last_5years\": 1, \"department\": \"hr\", \"salary\": \"medium\"}, {\"satisfaction_level\": 0.73, \"last_evaluation\": 0.97, \"number_project\": 3, \"average_montly_hours\": 245, \"time_spend_company\": 2, \"work_accident\": 0, \"left\": 0, \"promotion_last_5years\": 1, \"department\": \"hr\", \"salary\": \"medium\"}, {\"satisfaction_level\": 0.85, \"last_evaluation\": 0.51, \"number_project\": 3, \"average_montly_hours\": 261, \"time_spend_company\": 4, \"work_accident\": 0, \"left\": 0, \"promotion_last_5years\": 1, \"department\": \"technical\", \"salary\": \"medium\"}, {\"satisfaction_level\": 0.54, \"last_evaluation\": 0.85, \"number_project\": 4, \"average_montly_hours\": 157, \"time_spend_company\": 3, \"work_accident\": 0, \"left\": 0, \"promotion_last_5years\": 1, \"department\": \"technical\", \"salary\": \"medium\"}, {\"satisfaction_level\": 0.74, \"last_evaluation\": 0.94, \"number_project\": 3, \"average_montly_hours\": 286, \"time_spend_company\": 6, \"work_accident\": 0, \"left\": 0, \"promotion_last_5years\": 1, \"department\": \"technical\", \"salary\": \"medium\"}, {\"satisfaction_level\": 0.71, \"last_evaluation\": 0.65, \"number_project\": 4, \"average_montly_hours\": 263, \"time_spend_company\": 2, \"work_accident\": 1, \"left\": 0, \"promotion_last_5years\": 1, \"department\": \"technical\", \"salary\": \"medium\"}, {\"satisfaction_level\": 0.76, \"last_evaluation\": 0.52, \"number_project\": 2, \"average_montly_hours\": 229, \"time_spend_company\": 3, \"work_accident\": 0, \"left\": 0, \"promotion_last_5years\": 1, \"department\": \"technical\", \"salary\": \"medium\"}, {\"satisfaction_level\": 0.85, \"last_evaluation\": 0.5, \"number_project\": 4, \"average_montly_hours\": 159, \"time_spend_company\": 2, \"work_accident\": 0, \"left\": 0, \"promotion_last_5years\": 1, \"department\": \"technical\", \"salary\": \"medium\"}, {\"satisfaction_level\": 0.82, \"last_evaluation\": 0.89, \"number_project\": 4, \"average_montly_hours\": 196, \"time_spend_company\": 3, \"work_accident\": 0, \"left\": 0, \"promotion_last_5years\": 1, \"department\": \"technical\", \"salary\": \"medium\"}, {\"satisfaction_level\": 0.71, \"last_evaluation\": 0.79, \"number_project\": 4, \"average_montly_hours\": 133, \"time_spend_company\": 3, \"work_accident\": 0, \"left\": 0, \"promotion_last_5years\": 1, \"department\": \"technical\", \"salary\": \"medium\"}, {\"satisfaction_level\": 0.79, \"last_evaluation\": 0.65, \"number_project\": 5, \"average_montly_hours\": 228, \"time_spend_company\": 3, \"work_accident\": 0, \"left\": 0, \"promotion_last_5years\": 1, \"department\": \"technical\", \"salary\": \"medium\"}, {\"satisfaction_level\": 0.86, \"last_evaluation\": 0.56, \"number_project\": 4, \"average_montly_hours\": 247, \"time_spend_company\": 3, \"work_accident\": 0, \"left\": 0, \"promotion_last_5years\": 1, \"department\": \"technical\", \"salary\": \"high\"}, {\"satisfaction_level\": 0.9, \"last_evaluation\": 0.78, \"number_project\": 5, \"average_montly_hours\": 215, \"time_spend_company\": 3, \"work_accident\": 0, \"left\": 0, \"promotion_last_5years\": 1, \"department\": \"technical\", \"salary\": \"low\"}, {\"satisfaction_level\": 0.65, \"last_evaluation\": 0.8, \"number_project\": 6, \"average_montly_hours\": 233, \"time_spend_company\": 3, \"work_accident\": 1, \"left\": 0, \"promotion_last_5years\": 1, \"department\": \"support\", \"salary\": \"medium\"}, {\"satisfaction_level\": 0.53, \"last_evaluation\": 0.74, \"number_project\": 5, \"average_montly_hours\": 237, \"time_spend_company\": 2, \"work_accident\": 0, \"left\": 0, \"promotion_last_5years\": 1, \"department\": \"support\", \"salary\": \"medium\"}, {\"satisfaction_level\": 0.51, \"last_evaluation\": 0.91, \"number_project\": 4, \"average_montly_hours\": 269, \"time_spend_company\": 5, \"work_accident\": 0, \"left\": 0, \"promotion_last_5years\": 1, \"department\": \"support\", \"salary\": \"medium\"}, {\"satisfaction_level\": 1.0, \"last_evaluation\": 0.76, \"number_project\": 6, \"average_montly_hours\": 246, \"time_spend_company\": 3, \"work_accident\": 1, \"left\": 0, \"promotion_last_5years\": 1, \"department\": \"support\", \"salary\": \"medium\"}, {\"satisfaction_level\": 0.92, \"last_evaluation\": 0.82, \"number_project\": 4, \"average_montly_hours\": 168, \"time_spend_company\": 3, \"work_accident\": 0, \"left\": 0, \"promotion_last_5years\": 1, \"department\": \"support\", \"salary\": \"low\"}, {\"satisfaction_level\": 1.0, \"last_evaluation\": 0.59, \"number_project\": 3, \"average_montly_hours\": 168, \"time_spend_company\": 3, \"work_accident\": 0, \"left\": 0, \"promotion_last_5years\": 1, \"department\": \"support\", \"salary\": \"low\"}, {\"satisfaction_level\": 0.23, \"last_evaluation\": 0.67, \"number_project\": 4, \"average_montly_hours\": 163, \"time_spend_company\": 5, \"work_accident\": 0, \"left\": 0, \"promotion_last_5years\": 1, \"department\": \"support\", \"salary\": \"low\"}, {\"satisfaction_level\": 0.52, \"last_evaluation\": 0.77, \"number_project\": 3, \"average_montly_hours\": 142, \"time_spend_company\": 2, \"work_accident\": 0, \"left\": 0, \"promotion_last_5years\": 1, \"department\": \"support\", \"salary\": \"low\"}, {\"satisfaction_level\": 0.8, \"last_evaluation\": 0.83, \"number_project\": 4, \"average_montly_hours\": 183, \"time_spend_company\": 2, \"work_accident\": 1, \"left\": 0, \"promotion_last_5years\": 1, \"department\": \"support\", \"salary\": \"low\"}, {\"satisfaction_level\": 0.76, \"last_evaluation\": 0.96, \"number_project\": 4, \"average_montly_hours\": 135, \"time_spend_company\": 3, \"work_accident\": 1, \"left\": 0, \"promotion_last_5years\": 1, \"department\": \"RandD\", \"salary\": \"low\"}, {\"satisfaction_level\": 0.2, \"last_evaluation\": 0.53, \"number_project\": 3, \"average_montly_hours\": 149, \"time_spend_company\": 4, \"work_accident\": 0, \"left\": 0, \"promotion_last_5years\": 1, \"department\": \"RandD\", \"salary\": \"low\"}, {\"satisfaction_level\": 0.6, \"last_evaluation\": 0.9, \"number_project\": 4, \"average_montly_hours\": 178, \"time_spend_company\": 3, \"work_accident\": 0, \"left\": 0, \"promotion_last_5years\": 1, \"department\": \"RandD\", \"salary\": \"high\"}, {\"satisfaction_level\": 0.69, \"last_evaluation\": 0.9, \"number_project\": 6, \"average_montly_hours\": 224, \"time_spend_company\": 4, \"work_accident\": 0, \"left\": 0, \"promotion_last_5years\": 1, \"department\": \"RandD\", \"salary\": \"low\"}, {\"satisfaction_level\": 0.93, \"last_evaluation\": 0.51, \"number_project\": 3, \"average_montly_hours\": 196, \"time_spend_company\": 2, \"work_accident\": 0, \"left\": 0, \"promotion_last_5years\": 1, \"department\": \"RandD\", \"salary\": \"medium\"}, {\"satisfaction_level\": 0.7, \"last_evaluation\": 0.64, \"number_project\": 4, \"average_montly_hours\": 178, \"time_spend_company\": 3, \"work_accident\": 1, \"left\": 0, \"promotion_last_5years\": 1, \"department\": \"marketing\", \"salary\": \"high\"}, {\"satisfaction_level\": 0.56, \"last_evaluation\": 0.54, \"number_project\": 4, \"average_montly_hours\": 191, \"time_spend_company\": 2, \"work_accident\": 1, \"left\": 0, \"promotion_last_5years\": 1, \"department\": \"sales\", \"salary\": \"medium\"}, {\"satisfaction_level\": 0.97, \"last_evaluation\": 0.61, \"number_project\": 4, \"average_montly_hours\": 167, \"time_spend_company\": 3, \"work_accident\": 0, \"left\": 0, \"promotion_last_5years\": 1, \"department\": \"accounting\", \"salary\": \"high\"}, {\"satisfaction_level\": 0.24, \"last_evaluation\": 0.65, \"number_project\": 6, \"average_montly_hours\": 275, \"time_spend_company\": 5, \"work_accident\": 1, \"left\": 0, \"promotion_last_5years\": 1, \"department\": \"support\", \"salary\": \"medium\"}, {\"satisfaction_level\": 0.83, \"last_evaluation\": 0.91, \"number_project\": 3, \"average_montly_hours\": 168, \"time_spend_company\": 3, \"work_accident\": 0, \"left\": 0, \"promotion_last_5years\": 1, \"department\": \"technical\", \"salary\": \"medium\"}, {\"satisfaction_level\": 0.55, \"last_evaluation\": 0.85, \"number_project\": 3, \"average_montly_hours\": 152, \"time_spend_company\": 2, \"work_accident\": 0, \"left\": 0, \"promotion_last_5years\": 1, \"department\": \"management\", \"salary\": \"medium\"}, {\"satisfaction_level\": 0.68, \"last_evaluation\": 0.99, \"number_project\": 3, \"average_montly_hours\": 263, \"time_spend_company\": 3, \"work_accident\": 1, \"left\": 0, \"promotion_last_5years\": 1, \"department\": \"marketing\", \"salary\": \"medium\"}, {\"satisfaction_level\": 0.16, \"last_evaluation\": 0.99, \"number_project\": 3, \"average_montly_hours\": 213, \"time_spend_company\": 6, \"work_accident\": 1, \"left\": 0, \"promotion_last_5years\": 1, \"department\": \"RandD\", \"salary\": \"medium\"}, {\"satisfaction_level\": 0.83, \"last_evaluation\": 0.87, \"number_project\": 3, \"average_montly_hours\": 230, \"time_spend_company\": 3, \"work_accident\": 0, \"left\": 0, \"promotion_last_5years\": 1, \"department\": \"RandD\", \"salary\": \"medium\"}, {\"satisfaction_level\": 0.36, \"last_evaluation\": 0.59, \"number_project\": 2, \"average_montly_hours\": 198, \"time_spend_company\": 2, \"work_accident\": 0, \"left\": 0, \"promotion_last_5years\": 1, \"department\": \"RandD\", \"salary\": \"medium\"}, {\"satisfaction_level\": 0.47, \"last_evaluation\": 0.51, \"number_project\": 6, \"average_montly_hours\": 190, \"time_spend_company\": 5, \"work_accident\": 0, \"left\": 0, \"promotion_last_5years\": 1, \"department\": \"RandD\", \"salary\": \"medium\"}, {\"satisfaction_level\": 0.54, \"last_evaluation\": 0.51, \"number_project\": 4, \"average_montly_hours\": 137, \"time_spend_company\": 4, \"work_accident\": 0, \"left\": 0, \"promotion_last_5years\": 1, \"department\": \"RandD\", \"salary\": \"medium\"}, {\"satisfaction_level\": 0.83, \"last_evaluation\": 0.83, \"number_project\": 3, \"average_montly_hours\": 186, \"time_spend_company\": 3, \"work_accident\": 1, \"left\": 0, \"promotion_last_5years\": 1, \"department\": \"marketing\", \"salary\": \"medium\"}, {\"satisfaction_level\": 0.96, \"last_evaluation\": 0.68, \"number_project\": 4, \"average_montly_hours\": 137, \"time_spend_company\": 2, \"work_accident\": 0, \"left\": 0, \"promotion_last_5years\": 1, \"department\": \"sales\", \"salary\": \"medium\"}, {\"satisfaction_level\": 0.91, \"last_evaluation\": 0.74, \"number_project\": 5, \"average_montly_hours\": 192, \"time_spend_company\": 3, \"work_accident\": 0, \"left\": 0, \"promotion_last_5years\": 1, \"department\": \"accounting\", \"salary\": \"medium\"}, {\"satisfaction_level\": 0.56, \"last_evaluation\": 0.59, \"number_project\": 4, \"average_montly_hours\": 164, \"time_spend_company\": 3, \"work_accident\": 0, \"left\": 0, \"promotion_last_5years\": 1, \"department\": \"support\", \"salary\": \"medium\"}, {\"satisfaction_level\": 0.73, \"last_evaluation\": 0.66, \"number_project\": 6, \"average_montly_hours\": 195, \"time_spend_company\": 3, \"work_accident\": 0, \"left\": 0, \"promotion_last_5years\": 1, \"department\": \"technical\", \"salary\": \"medium\"}, {\"satisfaction_level\": 0.97, \"last_evaluation\": 0.63, \"number_project\": 4, \"average_montly_hours\": 151, \"time_spend_company\": 3, \"work_accident\": 0, \"left\": 0, \"promotion_last_5years\": 1, \"department\": \"management\", \"salary\": \"medium\"}, {\"satisfaction_level\": 0.75, \"last_evaluation\": 0.74, \"number_project\": 5, \"average_montly_hours\": 231, \"time_spend_company\": 3, \"work_accident\": 0, \"left\": 0, \"promotion_last_5years\": 1, \"department\": \"marketing\", \"salary\": \"medium\"}, {\"satisfaction_level\": 0.95, \"last_evaluation\": 0.48, \"number_project\": 5, \"average_montly_hours\": 214, \"time_spend_company\": 6, \"work_accident\": 1, \"left\": 0, \"promotion_last_5years\": 1, \"department\": \"sales\", \"salary\": \"medium\"}, {\"satisfaction_level\": 0.43, \"last_evaluation\": 0.98, \"number_project\": 4, \"average_montly_hours\": 164, \"time_spend_company\": 3, \"work_accident\": 0, \"left\": 0, \"promotion_last_5years\": 1, \"department\": \"sales\", \"salary\": \"medium\"}, {\"satisfaction_level\": 0.77, \"last_evaluation\": 0.58, \"number_project\": 4, \"average_montly_hours\": 243, \"time_spend_company\": 4, \"work_accident\": 1, \"left\": 0, \"promotion_last_5years\": 1, \"department\": \"sales\", \"salary\": \"medium\"}, {\"satisfaction_level\": 0.67, \"last_evaluation\": 1.0, \"number_project\": 4, \"average_montly_hours\": 145, \"time_spend_company\": 3, \"work_accident\": 1, \"left\": 0, \"promotion_last_5years\": 1, \"department\": \"sales\", \"salary\": \"medium\"}, {\"satisfaction_level\": 0.51, \"last_evaluation\": 0.72, \"number_project\": 4, \"average_montly_hours\": 163, \"time_spend_company\": 4, \"work_accident\": 0, \"left\": 0, \"promotion_last_5years\": 1, \"department\": \"sales\", \"salary\": \"medium\"}, {\"satisfaction_level\": 0.94, \"last_evaluation\": 0.53, \"number_project\": 5, \"average_montly_hours\": 257, \"time_spend_company\": 2, \"work_accident\": 0, \"left\": 0, \"promotion_last_5years\": 1, \"department\": \"sales\", \"salary\": \"medium\"}, {\"satisfaction_level\": 0.78, \"last_evaluation\": 0.45, \"number_project\": 3, \"average_montly_hours\": 253, \"time_spend_company\": 6, \"work_accident\": 0, \"left\": 0, \"promotion_last_5years\": 1, \"department\": \"support\", \"salary\": \"medium\"}, {\"satisfaction_level\": 0.85, \"last_evaluation\": 0.79, \"number_project\": 3, \"average_montly_hours\": 243, \"time_spend_company\": 2, \"work_accident\": 0, \"left\": 0, \"promotion_last_5years\": 1, \"department\": \"technical\", \"salary\": \"medium\"}, {\"satisfaction_level\": 0.79, \"last_evaluation\": 0.56, \"number_project\": 5, \"average_montly_hours\": 250, \"time_spend_company\": 2, \"work_accident\": 1, \"left\": 0, \"promotion_last_5years\": 1, \"department\": \"management\", \"salary\": \"medium\"}, {\"satisfaction_level\": 0.92, \"last_evaluation\": 0.91, \"number_project\": 3, \"average_montly_hours\": 228, \"time_spend_company\": 2, \"work_accident\": 0, \"left\": 0, \"promotion_last_5years\": 1, \"department\": \"marketing\", \"salary\": \"medium\"}, {\"satisfaction_level\": 0.58, \"last_evaluation\": 0.97, \"number_project\": 3, \"average_montly_hours\": 186, \"time_spend_company\": 3, \"work_accident\": 0, \"left\": 0, \"promotion_last_5years\": 1, \"department\": \"marketing\", \"salary\": \"medium\"}, {\"satisfaction_level\": 0.68, \"last_evaluation\": 0.72, \"number_project\": 3, \"average_montly_hours\": 213, \"time_spend_company\": 3, \"work_accident\": 0, \"left\": 0, \"promotion_last_5years\": 1, \"department\": \"marketing\", \"salary\": \"medium\"}, {\"satisfaction_level\": 0.9, \"last_evaluation\": 0.67, \"number_project\": 4, \"average_montly_hours\": 233, \"time_spend_company\": 3, \"work_accident\": 0, \"left\": 0, \"promotion_last_5years\": 1, \"department\": \"sales\", \"salary\": \"medium\"}, {\"satisfaction_level\": 0.67, \"last_evaluation\": 0.71, \"number_project\": 5, \"average_montly_hours\": 265, \"time_spend_company\": 2, \"work_accident\": 0, \"left\": 0, \"promotion_last_5years\": 1, \"department\": \"sales\", \"salary\": \"medium\"}, {\"satisfaction_level\": 0.5, \"last_evaluation\": 0.78, \"number_project\": 3, \"average_montly_hours\": 206, \"time_spend_company\": 3, \"work_accident\": 1, \"left\": 0, \"promotion_last_5years\": 1, \"department\": \"sales\", \"salary\": \"high\"}, {\"satisfaction_level\": 0.98, \"last_evaluation\": 0.57, \"number_project\": 5, \"average_montly_hours\": 141, \"time_spend_company\": 3, \"work_accident\": 0, \"left\": 0, \"promotion_last_5years\": 1, \"department\": \"sales\", \"salary\": \"high\"}, {\"satisfaction_level\": 0.85, \"last_evaluation\": 0.57, \"number_project\": 4, \"average_montly_hours\": 150, \"time_spend_company\": 3, \"work_accident\": 0, \"left\": 0, \"promotion_last_5years\": 1, \"department\": \"sales\", \"salary\": \"high\"}, {\"satisfaction_level\": 0.72, \"last_evaluation\": 0.75, \"number_project\": 3, \"average_montly_hours\": 166, \"time_spend_company\": 3, \"work_accident\": 0, \"left\": 0, \"promotion_last_5years\": 1, \"department\": \"sales\", \"salary\": \"high\"}, {\"satisfaction_level\": 0.78, \"last_evaluation\": 0.83, \"number_project\": 4, \"average_montly_hours\": 252, \"time_spend_company\": 2, \"work_accident\": 0, \"left\": 0, \"promotion_last_5years\": 1, \"department\": \"sales\", \"salary\": \"high\"}, {\"satisfaction_level\": 0.62, \"last_evaluation\": 0.43, \"number_project\": 2, \"average_montly_hours\": 106, \"time_spend_company\": 2, \"work_accident\": 0, \"left\": 0, \"promotion_last_5years\": 1, \"department\": \"sales\", \"salary\": \"high\"}, {\"satisfaction_level\": 0.64, \"last_evaluation\": 0.38, \"number_project\": 5, \"average_montly_hours\": 171, \"time_spend_company\": 6, \"work_accident\": 1, \"left\": 0, \"promotion_last_5years\": 1, \"department\": \"accounting\", \"salary\": \"high\"}, {\"satisfaction_level\": 0.24, \"last_evaluation\": 0.5, \"number_project\": 4, \"average_montly_hours\": 232, \"time_spend_company\": 3, \"work_accident\": 0, \"left\": 0, \"promotion_last_5years\": 1, \"department\": \"accounting\", \"salary\": \"high\"}, {\"satisfaction_level\": 0.84, \"last_evaluation\": 0.78, \"number_project\": 5, \"average_montly_hours\": 172, \"time_spend_company\": 2, \"work_accident\": 0, \"left\": 0, \"promotion_last_5years\": 1, \"department\": \"accounting\", \"salary\": \"high\"}, {\"satisfaction_level\": 0.61, \"last_evaluation\": 0.61, \"number_project\": 4, \"average_montly_hours\": 239, \"time_spend_company\": 2, \"work_accident\": 0, \"left\": 0, \"promotion_last_5years\": 1, \"department\": \"hr\", \"salary\": \"high\"}, {\"satisfaction_level\": 0.79, \"last_evaluation\": 0.71, \"number_project\": 4, \"average_montly_hours\": 222, \"time_spend_company\": 3, \"work_accident\": 0, \"left\": 0, \"promotion_last_5years\": 1, \"department\": \"hr\", \"salary\": \"high\"}, {\"satisfaction_level\": 0.86, \"last_evaluation\": 0.77, \"number_project\": 3, \"average_montly_hours\": 152, \"time_spend_company\": 3, \"work_accident\": 0, \"left\": 0, \"promotion_last_5years\": 1, \"department\": \"hr\", \"salary\": \"low\"}, {\"satisfaction_level\": 0.7, \"last_evaluation\": 0.54, \"number_project\": 3, \"average_montly_hours\": 198, \"time_spend_company\": 3, \"work_accident\": 1, \"left\": 0, \"promotion_last_5years\": 1, \"department\": \"hr\", \"salary\": \"low\"}, {\"satisfaction_level\": 0.53, \"last_evaluation\": 0.76, \"number_project\": 5, \"average_montly_hours\": 143, \"time_spend_company\": 4, \"work_accident\": 0, \"left\": 0, \"promotion_last_5years\": 1, \"department\": \"technical\", \"salary\": \"low\"}, {\"satisfaction_level\": 0.58, \"last_evaluation\": 0.88, \"number_project\": 3, \"average_montly_hours\": 157, \"time_spend_company\": 4, \"work_accident\": 0, \"left\": 0, \"promotion_last_5years\": 1, \"department\": \"technical\", \"salary\": \"low\"}, {\"satisfaction_level\": 0.89, \"last_evaluation\": 0.99, \"number_project\": 4, \"average_montly_hours\": 205, \"time_spend_company\": 2, \"work_accident\": 0, \"left\": 0, \"promotion_last_5years\": 1, \"department\": \"sales\", \"salary\": \"medium\"}, {\"satisfaction_level\": 0.69, \"last_evaluation\": 0.63, \"number_project\": 5, \"average_montly_hours\": 140, \"time_spend_company\": 4, \"work_accident\": 0, \"left\": 0, \"promotion_last_5years\": 1, \"department\": \"sales\", \"salary\": \"high\"}, {\"satisfaction_level\": 0.92, \"last_evaluation\": 0.98, \"number_project\": 3, \"average_montly_hours\": 257, \"time_spend_company\": 3, \"work_accident\": 0, \"left\": 0, \"promotion_last_5years\": 1, \"department\": \"sales\", \"salary\": \"medium\"}, {\"satisfaction_level\": 0.79, \"last_evaluation\": 0.61, \"number_project\": 4, \"average_montly_hours\": 227, \"time_spend_company\": 2, \"work_accident\": 0, \"left\": 0, \"promotion_last_5years\": 1, \"department\": \"sales\", \"salary\": \"high\"}, {\"satisfaction_level\": 0.87, \"last_evaluation\": 0.94, \"number_project\": 4, \"average_montly_hours\": 189, \"time_spend_company\": 3, \"work_accident\": 0, \"left\": 0, \"promotion_last_5years\": 1, \"department\": \"sales\", \"salary\": \"medium\"}, {\"satisfaction_level\": 0.77, \"last_evaluation\": 0.83, \"number_project\": 3, \"average_montly_hours\": 175, \"time_spend_company\": 3, \"work_accident\": 0, \"left\": 0, \"promotion_last_5years\": 1, \"department\": \"sales\", \"salary\": \"medium\"}, {\"satisfaction_level\": 0.78, \"last_evaluation\": 0.4, \"number_project\": 4, \"average_montly_hours\": 145, \"time_spend_company\": 5, \"work_accident\": 1, \"left\": 0, \"promotion_last_5years\": 1, \"department\": \"sales\", \"salary\": \"medium\"}, {\"satisfaction_level\": 0.6, \"last_evaluation\": 0.96, \"number_project\": 4, \"average_montly_hours\": 220, \"time_spend_company\": 3, \"work_accident\": 1, \"left\": 0, \"promotion_last_5years\": 1, \"department\": \"sales\", \"salary\": \"medium\"}, {\"satisfaction_level\": 0.53, \"last_evaluation\": 0.77, \"number_project\": 4, \"average_montly_hours\": 259, \"time_spend_company\": 2, \"work_accident\": 1, \"left\": 0, \"promotion_last_5years\": 1, \"department\": \"sales\", \"salary\": \"medium\"}, {\"satisfaction_level\": 0.73, \"last_evaluation\": 0.69, \"number_project\": 3, \"average_montly_hours\": 228, \"time_spend_company\": 2, \"work_accident\": 0, \"left\": 0, \"promotion_last_5years\": 1, \"department\": \"sales\", \"salary\": \"medium\"}, {\"satisfaction_level\": 0.58, \"last_evaluation\": 0.97, \"number_project\": 3, \"average_montly_hours\": 274, \"time_spend_company\": 4, \"work_accident\": 1, \"left\": 0, \"promotion_last_5years\": 1, \"department\": \"sales\", \"salary\": \"medium\"}, {\"satisfaction_level\": 0.75, \"last_evaluation\": 0.63, \"number_project\": 4, \"average_montly_hours\": 209, \"time_spend_company\": 3, \"work_accident\": 0, \"left\": 0, \"promotion_last_5years\": 1, \"department\": \"sales\", \"salary\": \"medium\"}, {\"satisfaction_level\": 0.8, \"last_evaluation\": 0.94, \"number_project\": 4, \"average_montly_hours\": 271, \"time_spend_company\": 4, \"work_accident\": 0, \"left\": 0, \"promotion_last_5years\": 1, \"department\": \"sales\", \"salary\": \"medium\"}, {\"satisfaction_level\": 0.78, \"last_evaluation\": 0.6, \"number_project\": 4, \"average_montly_hours\": 143, \"time_spend_company\": 2, \"work_accident\": 0, \"left\": 0, \"promotion_last_5years\": 1, \"department\": \"sales\", \"salary\": \"medium\"}, {\"satisfaction_level\": 0.92, \"last_evaluation\": 0.6, \"number_project\": 5, \"average_montly_hours\": 236, \"time_spend_company\": 3, \"work_accident\": 1, \"left\": 0, \"promotion_last_5years\": 1, \"department\": \"sales\", \"salary\": \"medium\"}, {\"satisfaction_level\": 0.85, \"last_evaluation\": 0.98, \"number_project\": 5, \"average_montly_hours\": 222, \"time_spend_company\": 3, \"work_accident\": 0, \"left\": 0, \"promotion_last_5years\": 1, \"department\": \"sales\", \"salary\": \"medium\"}, {\"satisfaction_level\": 0.52, \"last_evaluation\": 0.63, \"number_project\": 3, \"average_montly_hours\": 233, \"time_spend_company\": 3, \"work_accident\": 0, \"left\": 0, \"promotion_last_5years\": 1, \"department\": \"sales\", \"salary\": \"medium\"}, {\"satisfaction_level\": 0.95, \"last_evaluation\": 0.84, \"number_project\": 3, \"average_montly_hours\": 270, \"time_spend_company\": 3, \"work_accident\": 1, \"left\": 0, \"promotion_last_5years\": 1, \"department\": \"sales\", \"salary\": \"medium\"}, {\"satisfaction_level\": 0.81, \"last_evaluation\": 0.92, \"number_project\": 5, \"average_montly_hours\": 258, \"time_spend_company\": 3, \"work_accident\": 0, \"left\": 0, \"promotion_last_5years\": 1, \"department\": \"sales\", \"salary\": \"medium\"}, {\"satisfaction_level\": 0.16, \"last_evaluation\": 0.82, \"number_project\": 6, \"average_montly_hours\": 202, \"time_spend_company\": 4, \"work_accident\": 1, \"left\": 0, \"promotion_last_5years\": 1, \"department\": \"sales\", \"salary\": \"medium\"}, {\"satisfaction_level\": 0.65, \"last_evaluation\": 0.9, \"number_project\": 6, \"average_montly_hours\": 217, \"time_spend_company\": 4, \"work_accident\": 1, \"left\": 0, \"promotion_last_5years\": 1, \"department\": \"RandD\", \"salary\": \"medium\"}, {\"satisfaction_level\": 0.92, \"last_evaluation\": 0.93, \"number_project\": 4, \"average_montly_hours\": 225, \"time_spend_company\": 2, \"work_accident\": 0, \"left\": 0, \"promotion_last_5years\": 1, \"department\": \"RandD\", \"salary\": \"medium\"}, {\"satisfaction_level\": 0.37, \"last_evaluation\": 0.41, \"number_project\": 2, \"average_montly_hours\": 113, \"time_spend_company\": 3, \"work_accident\": 0, \"left\": 0, \"promotion_last_5years\": 1, \"department\": \"RandD\", \"salary\": \"medium\"}, {\"satisfaction_level\": 0.48, \"last_evaluation\": 0.77, \"number_project\": 5, \"average_montly_hours\": 250, \"time_spend_company\": 2, \"work_accident\": 0, \"left\": 0, \"promotion_last_5years\": 1, \"department\": \"RandD\", \"salary\": \"medium\"}, {\"satisfaction_level\": 0.82, \"last_evaluation\": 0.91, \"number_project\": 5, \"average_montly_hours\": 271, \"time_spend_company\": 2, \"work_accident\": 0, \"left\": 0, \"promotion_last_5years\": 1, \"department\": \"RandD\", \"salary\": \"medium\"}, {\"satisfaction_level\": 0.84, \"last_evaluation\": 0.75, \"number_project\": 4, \"average_montly_hours\": 135, \"time_spend_company\": 3, \"work_accident\": 0, \"left\": 0, \"promotion_last_5years\": 1, \"department\": \"RandD\", \"salary\": \"medium\"}, {\"satisfaction_level\": 0.57, \"last_evaluation\": 0.46, \"number_project\": 2, \"average_montly_hours\": 100, \"time_spend_company\": 6, \"work_accident\": 1, \"left\": 0, \"promotion_last_5years\": 1, \"department\": \"marketing\", \"salary\": \"medium\"}, {\"satisfaction_level\": 0.8, \"last_evaluation\": 0.75, \"number_project\": 4, \"average_montly_hours\": 224, \"time_spend_company\": 3, \"work_accident\": 0, \"left\": 0, \"promotion_last_5years\": 1, \"department\": \"sales\", \"salary\": \"medium\"}, {\"satisfaction_level\": 0.93, \"last_evaluation\": 0.95, \"number_project\": 5, \"average_montly_hours\": 176, \"time_spend_company\": 6, \"work_accident\": 0, \"left\": 0, \"promotion_last_5years\": 1, \"department\": \"accounting\", \"salary\": \"medium\"}, {\"satisfaction_level\": 0.5, \"last_evaluation\": 1.0, \"number_project\": 5, \"average_montly_hours\": 264, \"time_spend_company\": 8, \"work_accident\": 0, \"left\": 0, \"promotion_last_5years\": 1, \"department\": \"accounting\", \"salary\": \"high\"}, {\"satisfaction_level\": 0.52, \"last_evaluation\": 0.84, \"number_project\": 3, \"average_montly_hours\": 261, \"time_spend_company\": 8, \"work_accident\": 0, \"left\": 0, \"promotion_last_5years\": 1, \"department\": \"accounting\", \"salary\": \"low\"}, {\"satisfaction_level\": 0.5, \"last_evaluation\": 0.71, \"number_project\": 4, \"average_montly_hours\": 163, \"time_spend_company\": 8, \"work_accident\": 0, \"left\": 0, \"promotion_last_5years\": 1, \"department\": \"hr\", \"salary\": \"medium\"}, {\"satisfaction_level\": 0.55, \"last_evaluation\": 0.4, \"number_project\": 3, \"average_montly_hours\": 139, \"time_spend_company\": 8, \"work_accident\": 0, \"left\": 0, \"promotion_last_5years\": 1, \"department\": \"hr\", \"salary\": \"medium\"}, {\"satisfaction_level\": 0.95, \"last_evaluation\": 0.84, \"number_project\": 3, \"average_montly_hours\": 261, \"time_spend_company\": 8, \"work_accident\": 1, \"left\": 0, \"promotion_last_5years\": 1, \"department\": \"hr\", \"salary\": \"medium\"}, {\"satisfaction_level\": 0.48, \"last_evaluation\": 0.42, \"number_project\": 2, \"average_montly_hours\": 275, \"time_spend_company\": 6, \"work_accident\": 1, \"left\": 0, \"promotion_last_5years\": 1, \"department\": \"hr\", \"salary\": \"medium\"}, {\"satisfaction_level\": 0.51, \"last_evaluation\": 0.39, \"number_project\": 5, \"average_montly_hours\": 132, \"time_spend_company\": 6, \"work_accident\": 1, \"left\": 0, \"promotion_last_5years\": 1, \"department\": \"technical\", \"salary\": \"low\"}, {\"satisfaction_level\": 0.7, \"last_evaluation\": 0.56, \"number_project\": 4, \"average_montly_hours\": 214, \"time_spend_company\": 3, \"work_accident\": 0, \"left\": 0, \"promotion_last_5years\": 1, \"department\": \"management\", \"salary\": \"medium\"}, {\"satisfaction_level\": 0.16, \"last_evaluation\": 0.93, \"number_project\": 5, \"average_montly_hours\": 210, \"time_spend_company\": 7, \"work_accident\": 0, \"left\": 0, \"promotion_last_5years\": 1, \"department\": \"management\", \"salary\": \"medium\"}, {\"satisfaction_level\": 0.58, \"last_evaluation\": 0.59, \"number_project\": 3, \"average_montly_hours\": 207, \"time_spend_company\": 7, \"work_accident\": 0, \"left\": 0, \"promotion_last_5years\": 1, \"department\": \"management\", \"salary\": \"medium\"}, {\"satisfaction_level\": 0.66, \"last_evaluation\": 0.57, \"number_project\": 4, \"average_montly_hours\": 161, \"time_spend_company\": 7, \"work_accident\": 0, \"left\": 0, \"promotion_last_5years\": 1, \"department\": \"management\", \"salary\": \"medium\"}, {\"satisfaction_level\": 0.51, \"last_evaluation\": 0.55, \"number_project\": 2, \"average_montly_hours\": 102, \"time_spend_company\": 7, \"work_accident\": 0, \"left\": 0, \"promotion_last_5years\": 1, \"department\": \"management\", \"salary\": \"medium\"}, {\"satisfaction_level\": 0.48, \"last_evaluation\": 0.84, \"number_project\": 4, \"average_montly_hours\": 186, \"time_spend_company\": 7, \"work_accident\": 0, \"left\": 0, \"promotion_last_5years\": 1, \"department\": \"management\", \"salary\": \"medium\"}, {\"satisfaction_level\": 0.56, \"last_evaluation\": 0.71, \"number_project\": 3, \"average_montly_hours\": 211, \"time_spend_company\": 6, \"work_accident\": 0, \"left\": 0, \"promotion_last_5years\": 1, \"department\": \"marketing\", \"salary\": \"low\"}, {\"satisfaction_level\": 0.81, \"last_evaluation\": 0.62, \"number_project\": 3, \"average_montly_hours\": 240, \"time_spend_company\": 6, \"work_accident\": 0, \"left\": 0, \"promotion_last_5years\": 1, \"department\": \"sales\", \"salary\": \"low\"}, {\"satisfaction_level\": 0.15, \"last_evaluation\": 0.75, \"number_project\": 3, \"average_montly_hours\": 150, \"time_spend_company\": 4, \"work_accident\": 0, \"left\": 0, \"promotion_last_5years\": 1, \"department\": \"accounting\", \"salary\": \"medium\"}, {\"satisfaction_level\": 0.97, \"last_evaluation\": 0.79, \"number_project\": 5, \"average_montly_hours\": 259, \"time_spend_company\": 3, \"work_accident\": 0, \"left\": 0, \"promotion_last_5years\": 1, \"department\": \"support\", \"salary\": \"medium\"}, {\"satisfaction_level\": 0.67, \"last_evaluation\": 0.69, \"number_project\": 3, \"average_montly_hours\": 231, \"time_spend_company\": 3, \"work_accident\": 0, \"left\": 0, \"promotion_last_5years\": 1, \"department\": \"technical\", \"salary\": \"medium\"}, {\"satisfaction_level\": 0.48, \"last_evaluation\": 0.67, \"number_project\": 4, \"average_montly_hours\": 220, \"time_spend_company\": 3, \"work_accident\": 0, \"left\": 0, \"promotion_last_5years\": 1, \"department\": \"management\", \"salary\": \"medium\"}, {\"satisfaction_level\": 0.69, \"last_evaluation\": 0.58, \"number_project\": 4, \"average_montly_hours\": 149, \"time_spend_company\": 3, \"work_accident\": 0, \"left\": 0, \"promotion_last_5years\": 1, \"department\": \"marketing\", \"salary\": \"medium\"}, {\"satisfaction_level\": 0.6, \"last_evaluation\": 0.62, \"number_project\": 3, \"average_montly_hours\": 238, \"time_spend_company\": 4, \"work_accident\": 0, \"left\": 0, \"promotion_last_5years\": 1, \"department\": \"marketing\", \"salary\": \"medium\"}, {\"satisfaction_level\": 0.82, \"last_evaluation\": 0.71, \"number_project\": 2, \"average_montly_hours\": 209, \"time_spend_company\": 5, \"work_accident\": 0, \"left\": 0, \"promotion_last_5years\": 1, \"department\": \"marketing\", \"salary\": \"medium\"}, {\"satisfaction_level\": 0.86, \"last_evaluation\": 0.95, \"number_project\": 4, \"average_montly_hours\": 149, \"time_spend_company\": 3, \"work_accident\": 0, \"left\": 0, \"promotion_last_5years\": 1, \"department\": \"sales\", \"salary\": \"medium\"}, {\"satisfaction_level\": 0.71, \"last_evaluation\": 0.37, \"number_project\": 2, \"average_montly_hours\": 179, \"time_spend_company\": 5, \"work_accident\": 0, \"left\": 0, \"promotion_last_5years\": 1, \"department\": \"support\", \"salary\": \"low\"}, {\"satisfaction_level\": 0.84, \"last_evaluation\": 0.73, \"number_project\": 4, \"average_montly_hours\": 197, \"time_spend_company\": 3, \"work_accident\": 0, \"left\": 0, \"promotion_last_5years\": 1, \"department\": \"technical\", \"salary\": \"low\"}, {\"satisfaction_level\": 0.59, \"last_evaluation\": 0.84, \"number_project\": 4, \"average_montly_hours\": 251, \"time_spend_company\": 4, \"work_accident\": 1, \"left\": 0, \"promotion_last_5years\": 1, \"department\": \"management\", \"salary\": \"low\"}, {\"satisfaction_level\": 0.57, \"last_evaluation\": 0.85, \"number_project\": 4, \"average_montly_hours\": 250, \"time_spend_company\": 3, \"work_accident\": 1, \"left\": 0, \"promotion_last_5years\": 1, \"department\": \"marketing\", \"salary\": \"low\"}, {\"satisfaction_level\": 0.81, \"last_evaluation\": 0.61, \"number_project\": 2, \"average_montly_hours\": 176, \"time_spend_company\": 5, \"work_accident\": 0, \"left\": 0, \"promotion_last_5years\": 1, \"department\": \"marketing\", \"salary\": \"low\"}, {\"satisfaction_level\": 0.8, \"last_evaluation\": 0.7, \"number_project\": 4, \"average_montly_hours\": 246, \"time_spend_company\": 3, \"work_accident\": 0, \"left\": 0, \"promotion_last_5years\": 1, \"department\": \"marketing\", \"salary\": \"low\"}, {\"satisfaction_level\": 0.49, \"last_evaluation\": 0.66, \"number_project\": 3, \"average_montly_hours\": 155, \"time_spend_company\": 3, \"work_accident\": 0, \"left\": 0, \"promotion_last_5years\": 1, \"department\": \"sales\", \"salary\": \"low\"}, {\"satisfaction_level\": 0.55, \"last_evaluation\": 0.64, \"number_project\": 3, \"average_montly_hours\": 178, \"time_spend_company\": 2, \"work_accident\": 0, \"left\": 0, \"promotion_last_5years\": 1, \"department\": \"sales\", \"salary\": \"low\"}, {\"satisfaction_level\": 0.68, \"last_evaluation\": 0.4, \"number_project\": 3, \"average_montly_hours\": 213, \"time_spend_company\": 5, \"work_accident\": 1, \"left\": 0, \"promotion_last_5years\": 1, \"department\": \"sales\", \"salary\": \"low\"}, {\"satisfaction_level\": 0.55, \"last_evaluation\": 0.67, \"number_project\": 3, \"average_montly_hours\": 150, \"time_spend_company\": 2, \"work_accident\": 0, \"left\": 0, \"promotion_last_5years\": 1, \"department\": \"sales\", \"salary\": \"low\"}, {\"satisfaction_level\": 0.16, \"last_evaluation\": 0.63, \"number_project\": 6, \"average_montly_hours\": 286, \"time_spend_company\": 7, \"work_accident\": 0, \"left\": 0, \"promotion_last_5years\": 1, \"department\": \"sales\", \"salary\": \"medium\"}, {\"satisfaction_level\": 0.57, \"last_evaluation\": 0.82, \"number_project\": 5, \"average_montly_hours\": 233, \"time_spend_company\": 7, \"work_accident\": 0, \"left\": 0, \"promotion_last_5years\": 1, \"department\": \"sales\", \"salary\": \"medium\"}, {\"satisfaction_level\": 0.88, \"last_evaluation\": 0.88, \"number_project\": 4, \"average_montly_hours\": 222, \"time_spend_company\": 3, \"work_accident\": 1, \"left\": 0, \"promotion_last_5years\": 1, \"department\": \"sales\", \"salary\": \"medium\"}, {\"satisfaction_level\": 0.95, \"last_evaluation\": 0.81, \"number_project\": 4, \"average_montly_hours\": 258, \"time_spend_company\": 7, \"work_accident\": 0, \"left\": 0, \"promotion_last_5years\": 1, \"department\": \"sales\", \"salary\": \"medium\"}, {\"satisfaction_level\": 0.93, \"last_evaluation\": 0.7, \"number_project\": 5, \"average_montly_hours\": 231, \"time_spend_company\": 7, \"work_accident\": 0, \"left\": 0, \"promotion_last_5years\": 1, \"department\": \"sales\", \"salary\": \"high\"}, {\"satisfaction_level\": 0.91, \"last_evaluation\": 0.58, \"number_project\": 3, \"average_montly_hours\": 220, \"time_spend_company\": 7, \"work_accident\": 0, \"left\": 0, \"promotion_last_5years\": 1, \"department\": \"sales\", \"salary\": \"low\"}, {\"satisfaction_level\": 0.77, \"last_evaluation\": 0.82, \"number_project\": 4, \"average_montly_hours\": 134, \"time_spend_company\": 3, \"work_accident\": 0, \"left\": 0, \"promotion_last_5years\": 1, \"department\": \"sales\", \"salary\": \"low\"}, {\"satisfaction_level\": 0.88, \"last_evaluation\": 0.6, \"number_project\": 4, \"average_montly_hours\": 208, \"time_spend_company\": 7, \"work_accident\": 0, \"left\": 0, \"promotion_last_5years\": 1, \"department\": \"management\", \"salary\": \"high\"}, {\"satisfaction_level\": 0.44, \"last_evaluation\": 0.44, \"number_project\": 2, \"average_montly_hours\": 141, \"time_spend_company\": 7, \"work_accident\": 1, \"left\": 0, \"promotion_last_5years\": 1, \"department\": \"management\", \"salary\": \"high\"}, {\"satisfaction_level\": 0.73, \"last_evaluation\": 0.78, \"number_project\": 3, \"average_montly_hours\": 262, \"time_spend_company\": 7, \"work_accident\": 1, \"left\": 0, \"promotion_last_5years\": 1, \"department\": \"management\", \"salary\": \"high\"}, {\"satisfaction_level\": 0.58, \"last_evaluation\": 0.84, \"number_project\": 4, \"average_montly_hours\": 206, \"time_spend_company\": 7, \"work_accident\": 0, \"left\": 0, \"promotion_last_5years\": 1, \"department\": \"management\", \"salary\": \"high\"}, {\"satisfaction_level\": 0.74, \"last_evaluation\": 0.98, \"number_project\": 3, \"average_montly_hours\": 166, \"time_spend_company\": 3, \"work_accident\": 1, \"left\": 0, \"promotion_last_5years\": 1, \"department\": \"management\", \"salary\": \"high\"}, {\"satisfaction_level\": 0.32, \"last_evaluation\": 0.48, \"number_project\": 4, \"average_montly_hours\": 117, \"time_spend_company\": 10, \"work_accident\": 0, \"left\": 0, \"promotion_last_5years\": 1, \"department\": \"marketing\", \"salary\": \"medium\"}, {\"satisfaction_level\": 0.97, \"last_evaluation\": 0.61, \"number_project\": 4, \"average_montly_hours\": 262, \"time_spend_company\": 3, \"work_accident\": 1, \"left\": 0, \"promotion_last_5years\": 1, \"department\": \"marketing\", \"salary\": \"medium\"}, {\"satisfaction_level\": 0.64, \"last_evaluation\": 0.55, \"number_project\": 3, \"average_montly_hours\": 246, \"time_spend_company\": 2, \"work_accident\": 0, \"left\": 0, \"promotion_last_5years\": 1, \"department\": \"marketing\", \"salary\": \"high\"}, {\"satisfaction_level\": 0.99, \"last_evaluation\": 0.97, \"number_project\": 4, \"average_montly_hours\": 211, \"time_spend_company\": 2, \"work_accident\": 0, \"left\": 0, \"promotion_last_5years\": 1, \"department\": \"marketing\", \"salary\": \"low\"}, {\"satisfaction_level\": 0.61, \"last_evaluation\": 0.42, \"number_project\": 3, \"average_montly_hours\": 145, \"time_spend_company\": 4, \"work_accident\": 0, \"left\": 0, \"promotion_last_5years\": 1, \"department\": \"sales\", \"salary\": \"medium\"}, {\"satisfaction_level\": 0.72, \"last_evaluation\": 0.71, \"number_project\": 4, \"average_montly_hours\": 256, \"time_spend_company\": 3, \"work_accident\": 0, \"left\": 0, \"promotion_last_5years\": 1, \"department\": \"sales\", \"salary\": \"medium\"}, {\"satisfaction_level\": 0.67, \"last_evaluation\": 0.91, \"number_project\": 2, \"average_montly_hours\": 245, \"time_spend_company\": 2, \"work_accident\": 1, \"left\": 0, \"promotion_last_5years\": 1, \"department\": \"sales\", \"salary\": \"medium\"}, {\"satisfaction_level\": 0.61, \"last_evaluation\": 0.83, \"number_project\": 4, \"average_montly_hours\": 245, \"time_spend_company\": 3, \"work_accident\": 1, \"left\": 0, \"promotion_last_5years\": 1, \"department\": \"technical\", \"salary\": \"low\"}, {\"satisfaction_level\": 0.57, \"last_evaluation\": 0.99, \"number_project\": 3, \"average_montly_hours\": 222, \"time_spend_company\": 3, \"work_accident\": 1, \"left\": 0, \"promotion_last_5years\": 1, \"department\": \"management\", \"salary\": \"low\"}, {\"satisfaction_level\": 0.68, \"last_evaluation\": 0.54, \"number_project\": 4, \"average_montly_hours\": 146, \"time_spend_company\": 4, \"work_accident\": 0, \"left\": 0, \"promotion_last_5years\": 1, \"department\": \"marketing\", \"salary\": \"medium\"}, {\"satisfaction_level\": 0.75, \"last_evaluation\": 0.79, \"number_project\": 4, \"average_montly_hours\": 263, \"time_spend_company\": 3, \"work_accident\": 0, \"left\": 0, \"promotion_last_5years\": 1, \"department\": \"marketing\", \"salary\": \"medium\"}, {\"satisfaction_level\": 0.29, \"last_evaluation\": 0.57, \"number_project\": 5, \"average_montly_hours\": 134, \"time_spend_company\": 2, \"work_accident\": 0, \"left\": 0, \"promotion_last_5years\": 1, \"department\": \"marketing\", \"salary\": \"medium\"}, {\"satisfaction_level\": 0.81, \"last_evaluation\": 0.81, \"number_project\": 5, \"average_montly_hours\": 250, \"time_spend_company\": 4, \"work_accident\": 0, \"left\": 0, \"promotion_last_5years\": 1, \"department\": \"sales\", \"salary\": \"medium\"}, {\"satisfaction_level\": 0.38, \"last_evaluation\": 0.49, \"number_project\": 4, \"average_montly_hours\": 196, \"time_spend_company\": 3, \"work_accident\": 0, \"left\": 0, \"promotion_last_5years\": 1, \"department\": \"management\", \"salary\": \"high\"}, {\"satisfaction_level\": 0.39, \"last_evaluation\": 0.75, \"number_project\": 6, \"average_montly_hours\": 185, \"time_spend_company\": 3, \"work_accident\": 0, \"left\": 0, \"promotion_last_5years\": 1, \"department\": \"management\", \"salary\": \"high\"}, {\"satisfaction_level\": 0.49, \"last_evaluation\": 0.4, \"number_project\": 2, \"average_montly_hours\": 148, \"time_spend_company\": 2, \"work_accident\": 1, \"left\": 0, \"promotion_last_5years\": 1, \"department\": \"management\", \"salary\": \"high\"}, {\"satisfaction_level\": 0.78, \"last_evaluation\": 0.62, \"number_project\": 4, \"average_montly_hours\": 150, \"time_spend_company\": 3, \"work_accident\": 0, \"left\": 0, \"promotion_last_5years\": 1, \"department\": \"management\", \"salary\": \"high\"}, {\"satisfaction_level\": 0.74, \"last_evaluation\": 0.79, \"number_project\": 5, \"average_montly_hours\": 121, \"time_spend_company\": 5, \"work_accident\": 0, \"left\": 0, \"promotion_last_5years\": 1, \"department\": \"management\", \"salary\": \"high\"}, {\"satisfaction_level\": 0.82, \"last_evaluation\": 0.76, \"number_project\": 4, \"average_montly_hours\": 266, \"time_spend_company\": 3, \"work_accident\": 0, \"left\": 0, \"promotion_last_5years\": 1, \"department\": \"management\", \"salary\": \"high\"}, {\"satisfaction_level\": 0.5, \"last_evaluation\": 0.86, \"number_project\": 3, \"average_montly_hours\": 180, \"time_spend_company\": 7, \"work_accident\": 0, \"left\": 0, \"promotion_last_5years\": 1, \"department\": \"management\", \"salary\": \"high\"}, {\"satisfaction_level\": 0.53, \"last_evaluation\": 0.8, \"number_project\": 2, \"average_montly_hours\": 225, \"time_spend_company\": 7, \"work_accident\": 1, \"left\": 0, \"promotion_last_5years\": 1, \"department\": \"management\", \"salary\": \"high\"}, {\"satisfaction_level\": 0.82, \"last_evaluation\": 0.74, \"number_project\": 3, \"average_montly_hours\": 229, \"time_spend_company\": 7, \"work_accident\": 0, \"left\": 0, \"promotion_last_5years\": 1, \"department\": \"management\", \"salary\": \"high\"}, {\"satisfaction_level\": 0.15, \"last_evaluation\": 0.74, \"number_project\": 6, \"average_montly_hours\": 144, \"time_spend_company\": 7, \"work_accident\": 0, \"left\": 0, \"promotion_last_5years\": 1, \"department\": \"management\", \"salary\": \"high\"}, {\"satisfaction_level\": 0.92, \"last_evaluation\": 0.7, \"number_project\": 3, \"average_montly_hours\": 129, \"time_spend_company\": 3, \"work_accident\": 0, \"left\": 0, \"promotion_last_5years\": 1, \"department\": \"management\", \"salary\": \"high\"}, {\"satisfaction_level\": 0.53, \"last_evaluation\": 0.74, \"number_project\": 3, \"average_montly_hours\": 172, \"time_spend_company\": 10, \"work_accident\": 0, \"left\": 0, \"promotion_last_5years\": 1, \"department\": \"management\", \"salary\": \"high\"}, {\"satisfaction_level\": 0.64, \"last_evaluation\": 0.5, \"number_project\": 4, \"average_montly_hours\": 253, \"time_spend_company\": 10, \"work_accident\": 0, \"left\": 0, \"promotion_last_5years\": 1, \"department\": \"management\", \"salary\": \"high\"}, {\"satisfaction_level\": 0.22, \"last_evaluation\": 0.94, \"number_project\": 3, \"average_montly_hours\": 193, \"time_spend_company\": 10, \"work_accident\": 0, \"left\": 0, \"promotion_last_5years\": 1, \"department\": \"management\", \"salary\": \"high\"}, {\"satisfaction_level\": 0.9, \"last_evaluation\": 0.55, \"number_project\": 3, \"average_montly_hours\": 259, \"time_spend_company\": 10, \"work_accident\": 1, \"left\": 0, \"promotion_last_5years\": 1, \"department\": \"management\", \"salary\": \"high\"}, {\"satisfaction_level\": 0.74, \"last_evaluation\": 0.95, \"number_project\": 5, \"average_montly_hours\": 266, \"time_spend_company\": 10, \"work_accident\": 0, \"left\": 0, \"promotion_last_5years\": 1, \"department\": \"management\", \"salary\": \"high\"}, {\"satisfaction_level\": 0.85, \"last_evaluation\": 0.54, \"number_project\": 3, \"average_montly_hours\": 185, \"time_spend_company\": 10, \"work_accident\": 0, \"left\": 0, \"promotion_last_5years\": 1, \"department\": \"management\", \"salary\": \"high\"}, {\"satisfaction_level\": 0.33, \"last_evaluation\": 0.65, \"number_project\": 3, \"average_montly_hours\": 172, \"time_spend_company\": 10, \"work_accident\": 0, \"left\": 0, \"promotion_last_5years\": 1, \"department\": \"marketing\", \"salary\": \"high\"}]}};\n",
       "var opt = {};\n",
       "var type = \"vega-lite\";\n",
       "var id = \"d5ff4645-6a15-4e7e-8668-c2342df5c4ac\";\n",
       "\n",
       "var output_area = this;\n",
       "\n",
       "require([\"nbextensions/jupyter-vega/index\"], function(vega) {\n",
       "  var target = document.createElement(\"div\");\n",
       "  target.id = id;\n",
       "  target.className = \"vega-embed\";\n",
       "\n",
       "  var style = document.createElement(\"style\");\n",
       "  style.textContent = [\n",
       "    \".vega-embed .error p {\",\n",
       "    \"  color: firebrick;\",\n",
       "    \"  font-size: 14px;\",\n",
       "    \"}\",\n",
       "  ].join(\"\\\\n\");\n",
       "\n",
       "  // element is a jQuery wrapped DOM element inside the output area\n",
       "  // see http://ipython.readthedocs.io/en/stable/api/generated/\\\n",
       "  // IPython.display.html#IPython.display.Javascript.__init__\n",
       "  element[0].appendChild(target);\n",
       "  element[0].appendChild(style);\n",
       "\n",
       "  vega.render(\"#\" + id, spec, type, opt, output_area);\n",
       "}, function (err) {\n",
       "  if (err.requireType !== \"scripterror\") {\n",
       "    throw(err);\n",
       "  }\n",
       "});\n"
      ],
      "text/plain": [
       "<vega.vegalite.VegaLite at 0x7f7016fda860>"
      ]
     },
     "metadata": {
      "jupyter-vega": "#d5ff4645-6a15-4e7e-8668-c2342df5c4ac"
     },
     "output_type": "display_data"
    },
    {
     "data": {
      "text/plain": []
     },
     "execution_count": 449,
     "metadata": {},
     "output_type": "execute_result"
    },
    {
     "data": {
      "image/png": "[encoded data removed]"
     },
     "metadata": {
      "jupyter-vega": "#d5ff4645-6a15-4e7e-8668-c2342df5c4ac"
     },
     "output_type": "display_data"
    }
   ],
   "source": [
    "alt.Chart(most_valuables_employees).mark_bar().encode(\n",
    "    x=\"department\",\n",
    "    y=\"last_evaluation:Q\",\n",
    "    color=\"number_project:N\"\n",
    ").properties(\n",
    "    title=\"Graph 7: The most valuable employees per company breakdown\",\n",
    "    width=400\n",
    ").interactive()"
   ]
  },
  {
   "cell_type": "markdown",
   "metadata": {},
   "source": [
    "### Satisfaction level vs. number of projects"
   ]
  },
  {
   "cell_type": "code",
   "execution_count": 450,
   "metadata": {},
   "outputs": [
    {
     "data": {
      "image/png": "[encoded data removed]",
      "text/plain": [
       "<Figure size 432x288 with 1 Axes>"
      ]
     },
     "metadata": {},
     "output_type": "display_data"
    }
   ],
   "source": [
    "#Graph:\n",
    "plt.plot(hr_no_dupl.groupby('number_project')['satisfaction_level'].mean(),'orange',label='total',marker='^')\n",
    "plt.plot(people_who_leave.groupby('number_project')['satisfaction_level'].mean(),'b--',label='people who leave')\n",
    "plt.plot(people_who_stay.groupby('number_project')['satisfaction_level'].mean(),'green',label='people who stay')\n",
    "plt.ylabel('satisfaction level')\n",
    "plt.xlabel('number of projects done')\n",
    "plt.legend()\n",
    "plt.title('Graph 8:Satisfaction level & number of projects done', fontsize = 17)\n",
    "plt.show()"
   ]
  },
  {
   "cell_type": "markdown",
   "metadata": {},
   "source": [
    "### Satisfaction level vs. salary"
   ]
  },
  {
   "cell_type": "code",
   "execution_count": 151,
   "metadata": {},
   "outputs": [
    {
     "data": {
      "text/html": [
       "<div>\n",
       "<style scoped>\n",
       "    .dataframe tbody tr th:only-of-type {\n",
       "        vertical-align: middle;\n",
       "    }\n",
       "\n",
       "    .dataframe tbody tr th {\n",
       "        vertical-align: top;\n",
       "    }\n",
       "\n",
       "    .dataframe thead th {\n",
       "        text-align: right;\n",
       "    }\n",
       "</style>\n",
       "<table border=\"1\" class=\"dataframe\">\n",
       "  <thead>\n",
       "    <tr style=\"text-align: right;\">\n",
       "      <th></th>\n",
       "      <th>mean</th>\n",
       "      <th>count</th>\n",
       "    </tr>\n",
       "    <tr>\n",
       "      <th>salary</th>\n",
       "      <th></th>\n",
       "      <th></th>\n",
       "    </tr>\n",
       "  </thead>\n",
       "  <tbody>\n",
       "    <tr>\n",
       "      <th>high</th>\n",
       "      <td>0.437500</td>\n",
       "      <td>48</td>\n",
       "    </tr>\n",
       "    <tr>\n",
       "      <th>low</th>\n",
       "      <td>0.440630</td>\n",
       "      <td>1174</td>\n",
       "    </tr>\n",
       "    <tr>\n",
       "      <th>medium</th>\n",
       "      <td>0.439896</td>\n",
       "      <td>769</td>\n",
       "    </tr>\n",
       "  </tbody>\n",
       "</table>\n",
       "</div>"
      ],
      "text/plain": [
       "            mean  count\n",
       "salary                 \n",
       "high    0.437500     48\n",
       "low     0.440630   1174\n",
       "medium  0.439896    769"
      ]
     },
     "execution_count": 151,
     "metadata": {},
     "output_type": "execute_result"
    }
   ],
   "source": [
    "people_who_leave.groupby('salary').satisfaction_level.agg(['mean', 'count'])"
   ]
  },
  {
   "cell_type": "code",
   "execution_count": 152,
   "metadata": {},
   "outputs": [
    {
     "data": {
      "text/html": [
       "<div>\n",
       "<style scoped>\n",
       "    .dataframe tbody tr th:only-of-type {\n",
       "        vertical-align: middle;\n",
       "    }\n",
       "\n",
       "    .dataframe tbody tr th {\n",
       "        vertical-align: top;\n",
       "    }\n",
       "\n",
       "    .dataframe thead th {\n",
       "        text-align: right;\n",
       "    }\n",
       "</style>\n",
       "<table border=\"1\" class=\"dataframe\">\n",
       "  <thead>\n",
       "    <tr style=\"text-align: right;\">\n",
       "      <th></th>\n",
       "      <th>mean</th>\n",
       "      <th>count</th>\n",
       "    </tr>\n",
       "    <tr>\n",
       "      <th>salary</th>\n",
       "      <th></th>\n",
       "      <th></th>\n",
       "    </tr>\n",
       "  </thead>\n",
       "  <tbody>\n",
       "    <tr>\n",
       "      <th>high</th>\n",
       "      <td>0.653832</td>\n",
       "      <td>942</td>\n",
       "    </tr>\n",
       "    <tr>\n",
       "      <th>low</th>\n",
       "      <td>0.669457</td>\n",
       "      <td>4566</td>\n",
       "    </tr>\n",
       "    <tr>\n",
       "      <th>medium</th>\n",
       "      <td>0.668077</td>\n",
       "      <td>4492</td>\n",
       "    </tr>\n",
       "  </tbody>\n",
       "</table>\n",
       "</div>"
      ],
      "text/plain": [
       "            mean  count\n",
       "salary                 \n",
       "high    0.653832    942\n",
       "low     0.669457   4566\n",
       "medium  0.668077   4492"
      ]
     },
     "execution_count": 152,
     "metadata": {},
     "output_type": "execute_result"
    }
   ],
   "source": [
    "people_who_stay.groupby('salary').satisfaction_level.agg(['mean', 'count'])"
   ]
  },
  {
   "cell_type": "code",
   "execution_count": 451,
   "metadata": {},
   "outputs": [
    {
     "data": {
      "image/png": "[encoded data removed]",
      "text/plain": [
       "<Figure size 432x288 with 1 Axes>"
      ]
     },
     "metadata": {},
     "output_type": "display_data"
    }
   ],
   "source": [
    "plt.plot(hr_no_dupl.groupby('salary')['satisfaction_level'].mean().sort_values(ascending=False),'orange',label='total',marker='^')\n",
    "plt.plot(people_who_leave.groupby('salary')['satisfaction_level'].mean().sort_values(ascending=False),'b--',label='people who leave',marker='*')\n",
    "plt.plot(people_who_stay.groupby('salary')['satisfaction_level'].mean().sort_values(ascending=False),'green',label='people who stay',marker='+')\n",
    "plt.ylabel('satisfaction level')\n",
    "plt.xlabel('salary')\n",
    "plt.legend()\n",
    "plt.title('Graph 9:Satisfaction level & salary', fontsize = 17)\n",
    "plt.show()"
   ]
  },
  {
   "cell_type": "markdown",
   "metadata": {},
   "source": [
    "### Accidents"
   ]
  },
  {
   "cell_type": "code",
   "execution_count": 98,
   "metadata": {},
   "outputs": [
    {
     "data": {
      "text/plain": [
       "1850"
      ]
     },
     "execution_count": 98,
     "metadata": {},
     "output_type": "execute_result"
    }
   ],
   "source": [
    "#Total Accidents in company\n",
    "hr_no_dupl['work_accident'].sum()"
   ]
  },
  {
   "cell_type": "code",
   "execution_count": 119,
   "metadata": {},
   "outputs": [
    {
     "data": {
      "text/plain": [
       "left\n",
       "0    1745\n",
       "1     105\n",
       "Name: work_accident, dtype: int64"
      ]
     },
     "execution_count": 119,
     "metadata": {},
     "output_type": "execute_result"
    }
   ],
   "source": [
    "#How many accidents belong to each group of employees?\n",
    "hr_no_dupl.groupby('left')['work_accident'].sum()"
   ]
  },
  {
   "cell_type": "code",
   "execution_count": 452,
   "metadata": {},
   "outputs": [
    {
     "data": {
      "image/png": "[encoded data removed]",
      "text/plain": [
       "<Figure size 432x288 with 1 Axes>"
      ]
     },
     "metadata": {},
     "output_type": "display_data"
    }
   ],
   "source": [
    "#How is the distribution over time? \n",
    "plt.plot(people_who_leave.groupby('time_spend_company')['work_accident'].sum(),'b--',label='people who leave')\n",
    "plt.plot(people_who_stay.groupby('time_spend_company')['work_accident'].sum(),'green',label='people who stay')\n",
    "plt.ylabel('Accidents')\n",
    "plt.xlabel('time spend  at company (years)')\n",
    "plt.legend()\n",
    "plt.title('Graph 10: Accidents & time spend at company', fontsize = 17)\n",
    "plt.show()"
   ]
  },
  {
   "cell_type": "code",
   "execution_count": 145,
   "metadata": {
    "scrolled": true
   },
   "outputs": [
    {
     "data": {
      "text/plain": [
       "left\n",
       "0    1685\n",
       "1     105\n",
       "Name: work_accident, dtype: int64"
      ]
     },
     "execution_count": 145,
     "metadata": {},
     "output_type": "execute_result"
    }
   ],
   "source": [
    "#What is the number of accidents split between people who stay and leave in the same period of time?\n",
    "hr_no_dupl[hr_no_dupl['time_spend_company']<7].groupby('left')['work_accident'].sum()"
   ]
  },
  {
   "cell_type": "code",
   "execution_count": 144,
   "metadata": {},
   "outputs": [
    {
     "data": {
      "text/html": [
       "<div>\n",
       "<style scoped>\n",
       "    .dataframe tbody tr th:only-of-type {\n",
       "        vertical-align: middle;\n",
       "    }\n",
       "\n",
       "    .dataframe tbody tr th {\n",
       "        vertical-align: top;\n",
       "    }\n",
       "\n",
       "    .dataframe thead th {\n",
       "        text-align: right;\n",
       "    }\n",
       "</style>\n",
       "<table border=\"1\" class=\"dataframe\">\n",
       "  <thead>\n",
       "    <tr style=\"text-align: right;\">\n",
       "      <th></th>\n",
       "      <th>department</th>\n",
       "      <th>work_accident</th>\n",
       "    </tr>\n",
       "  </thead>\n",
       "  <tbody>\n",
       "    <tr>\n",
       "      <th>7</th>\n",
       "      <td>sales</td>\n",
       "      <td>498</td>\n",
       "    </tr>\n",
       "    <tr>\n",
       "      <th>9</th>\n",
       "      <td>technical</td>\n",
       "      <td>339</td>\n",
       "    </tr>\n",
       "    <tr>\n",
       "      <th>8</th>\n",
       "      <td>support</td>\n",
       "      <td>299</td>\n",
       "    </tr>\n",
       "    <tr>\n",
       "      <th>0</th>\n",
       "      <td>IT</td>\n",
       "      <td>139</td>\n",
       "    </tr>\n",
       "    <tr>\n",
       "      <th>1</th>\n",
       "      <td>RandD</td>\n",
       "      <td>119</td>\n",
       "    </tr>\n",
       "    <tr>\n",
       "      <th>6</th>\n",
       "      <td>product_mng</td>\n",
       "      <td>109</td>\n",
       "    </tr>\n",
       "    <tr>\n",
       "      <th>5</th>\n",
       "      <td>marketing</td>\n",
       "      <td>108</td>\n",
       "    </tr>\n",
       "    <tr>\n",
       "      <th>2</th>\n",
       "      <td>accounting</td>\n",
       "      <td>87</td>\n",
       "    </tr>\n",
       "    <tr>\n",
       "      <th>3</th>\n",
       "      <td>hr</td>\n",
       "      <td>80</td>\n",
       "    </tr>\n",
       "    <tr>\n",
       "      <th>4</th>\n",
       "      <td>management</td>\n",
       "      <td>72</td>\n",
       "    </tr>\n",
       "  </tbody>\n",
       "</table>\n",
       "</div>"
      ],
      "text/plain": [
       "    department  work_accident\n",
       "7        sales            498\n",
       "9    technical            339\n",
       "8      support            299\n",
       "0           IT            139\n",
       "1        RandD            119\n",
       "6  product_mng            109\n",
       "5    marketing            108\n",
       "2   accounting             87\n",
       "3           hr             80\n",
       "4   management             72"
      ]
     },
     "execution_count": 144,
     "metadata": {},
     "output_type": "execute_result"
    }
   ],
   "source": [
    "#Which are the departments with more accidents?\n",
    "hr_no_dupl.groupby('department')['work_accident'].sum().reset_index().sort_values(by='work_accident',ascending=False)"
   ]
  },
  {
   "cell_type": "code",
   "execution_count": 101,
   "metadata": {
    "scrolled": true
   },
   "outputs": [
    {
     "data": {
      "text/html": [
       "<div>\n",
       "<style scoped>\n",
       "    .dataframe tbody tr th:only-of-type {\n",
       "        vertical-align: middle;\n",
       "    }\n",
       "\n",
       "    .dataframe tbody tr th {\n",
       "        vertical-align: top;\n",
       "    }\n",
       "\n",
       "    .dataframe thead th {\n",
       "        text-align: right;\n",
       "    }\n",
       "</style>\n",
       "<table border=\"1\" class=\"dataframe\">\n",
       "  <thead>\n",
       "    <tr style=\"text-align: right;\">\n",
       "      <th></th>\n",
       "      <th>department</th>\n",
       "      <th>work_accident</th>\n",
       "    </tr>\n",
       "  </thead>\n",
       "  <tbody>\n",
       "    <tr>\n",
       "      <th>7</th>\n",
       "      <td>sales</td>\n",
       "      <td>29.52</td>\n",
       "    </tr>\n",
       "    <tr>\n",
       "      <th>9</th>\n",
       "      <td>technical</td>\n",
       "      <td>18.10</td>\n",
       "    </tr>\n",
       "    <tr>\n",
       "      <th>8</th>\n",
       "      <td>support</td>\n",
       "      <td>17.14</td>\n",
       "    </tr>\n",
       "    <tr>\n",
       "      <th>0</th>\n",
       "      <td>IT</td>\n",
       "      <td>6.67</td>\n",
       "    </tr>\n",
       "    <tr>\n",
       "      <th>1</th>\n",
       "      <td>RandD</td>\n",
       "      <td>6.67</td>\n",
       "    </tr>\n",
       "    <tr>\n",
       "      <th>2</th>\n",
       "      <td>accounting</td>\n",
       "      <td>4.76</td>\n",
       "    </tr>\n",
       "    <tr>\n",
       "      <th>3</th>\n",
       "      <td>hr</td>\n",
       "      <td>4.76</td>\n",
       "    </tr>\n",
       "    <tr>\n",
       "      <th>6</th>\n",
       "      <td>product_mng</td>\n",
       "      <td>4.76</td>\n",
       "    </tr>\n",
       "    <tr>\n",
       "      <th>4</th>\n",
       "      <td>management</td>\n",
       "      <td>3.81</td>\n",
       "    </tr>\n",
       "    <tr>\n",
       "      <th>5</th>\n",
       "      <td>marketing</td>\n",
       "      <td>3.81</td>\n",
       "    </tr>\n",
       "  </tbody>\n",
       "</table>\n",
       "</div>"
      ],
      "text/plain": [
       "    department  work_accident\n",
       "7        sales          29.52\n",
       "9    technical          18.10\n",
       "8      support          17.14\n",
       "0           IT           6.67\n",
       "1        RandD           6.67\n",
       "2   accounting           4.76\n",
       "3           hr           4.76\n",
       "6  product_mng           4.76\n",
       "4   management           3.81\n",
       "5    marketing           3.81"
      ]
     },
     "execution_count": 101,
     "metadata": {},
     "output_type": "execute_result"
    }
   ],
   "source": [
    "#Focus on people who leave, which department has the greatest number of accidents? \n",
    "\n",
    "accidents= round(people_who_leave.groupby('department')['work_accident'].sum()/people_who_leave['work_accident'].sum()*100,2)\n",
    "accidents.reset_index().sort_values(by='work_accident',ascending=False)"
   ]
  },
  {
   "cell_type": "code",
   "execution_count": 102,
   "metadata": {
    "scrolled": true
   },
   "outputs": [
    {
     "data": {
      "text/html": [
       "<div>\n",
       "<style scoped>\n",
       "    .dataframe tbody tr th:only-of-type {\n",
       "        vertical-align: middle;\n",
       "    }\n",
       "\n",
       "    .dataframe tbody tr th {\n",
       "        vertical-align: top;\n",
       "    }\n",
       "\n",
       "    .dataframe thead th {\n",
       "        text-align: right;\n",
       "    }\n",
       "</style>\n",
       "<table border=\"1\" class=\"dataframe\">\n",
       "  <thead>\n",
       "    <tr style=\"text-align: right;\">\n",
       "      <th></th>\n",
       "      <th>satisfaction_level</th>\n",
       "      <th>last_evaluation</th>\n",
       "      <th>number_project</th>\n",
       "      <th>average_montly_hours</th>\n",
       "      <th>time_spend_company</th>\n",
       "      <th>left</th>\n",
       "      <th>promotion_last_5years</th>\n",
       "    </tr>\n",
       "    <tr>\n",
       "      <th>work_accident</th>\n",
       "      <th></th>\n",
       "      <th></th>\n",
       "      <th></th>\n",
       "      <th></th>\n",
       "      <th></th>\n",
       "      <th></th>\n",
       "      <th></th>\n",
       "    </tr>\n",
       "  </thead>\n",
       "  <tbody>\n",
       "    <tr>\n",
       "      <th>0</th>\n",
       "      <td>0.625546</td>\n",
       "      <td>0.717092</td>\n",
       "      <td>3.805640</td>\n",
       "      <td>200.741150</td>\n",
       "      <td>3.364856</td>\n",
       "      <td>0.185978</td>\n",
       "      <td>0.015284</td>\n",
       "    </tr>\n",
       "    <tr>\n",
       "      <th>1</th>\n",
       "      <td>0.652200</td>\n",
       "      <td>0.714438</td>\n",
       "      <td>3.787568</td>\n",
       "      <td>199.006486</td>\n",
       "      <td>3.364865</td>\n",
       "      <td>0.056757</td>\n",
       "      <td>0.025946</td>\n",
       "    </tr>\n",
       "  </tbody>\n",
       "</table>\n",
       "</div>"
      ],
      "text/plain": [
       "               satisfaction_level  last_evaluation  number_project  \\\n",
       "work_accident                                                        \n",
       "0                        0.625546         0.717092        3.805640   \n",
       "1                        0.652200         0.714438        3.787568   \n",
       "\n",
       "               average_montly_hours  time_spend_company      left  \\\n",
       "work_accident                                                       \n",
       "0                        200.741150            3.364856  0.185978   \n",
       "1                        199.006486            3.364865  0.056757   \n",
       "\n",
       "               promotion_last_5years  \n",
       "work_accident                         \n",
       "0                           0.015284  \n",
       "1                           0.025946  "
      ]
     },
     "execution_count": 102,
     "metadata": {},
     "output_type": "execute_result"
    }
   ],
   "source": [
    "hr_no_dupl.groupby('work_accident').mean()"
   ]
  },
  {
   "cell_type": "markdown",
   "metadata": {},
   "source": [
    "### Salary"
   ]
  },
  {
   "cell_type": "code",
   "execution_count": 83,
   "metadata": {},
   "outputs": [
    {
     "data": {
      "text/plain": [
       "salary\n",
       "high       8.26\n",
       "low       47.87\n",
       "medium    43.87\n",
       "Name: left, dtype: float64"
      ]
     },
     "execution_count": 83,
     "metadata": {},
     "output_type": "execute_result"
    }
   ],
   "source": [
    "#Salary breakdown\n",
    "\n",
    "round(hr_no_dupl.groupby('salary')['left'].count()/hr_no_dupl['salary'].count()*100,2)"
   ]
  },
  {
   "cell_type": "code",
   "execution_count": 84,
   "metadata": {},
   "outputs": [
    {
     "data": {
      "text/plain": [
       "salary\n",
       "high       2.41\n",
       "low       58.97\n",
       "medium    38.62\n",
       "Name: left, dtype: float64"
      ]
     },
     "execution_count": 84,
     "metadata": {},
     "output_type": "execute_result"
    }
   ],
   "source": [
    "#How is the breakdown for employee who leaves?\n",
    "round(people_who_leave.groupby('salary')['left'].count()/people_who_leave['salary'].count()*100,2)"
   ]
  },
  {
   "cell_type": "code",
   "execution_count": 85,
   "metadata": {
    "scrolled": true
   },
   "outputs": [
    {
     "data": {
      "image/png": "[encoded data removed]",
      "text/plain": [
       "<Figure size 720x288 with 2 Axes>"
      ]
     },
     "metadata": {},
     "output_type": "display_data"
    }
   ],
   "source": [
    "#Graphic\n",
    "\n",
    "X=hr_no_dupl['salary'].unique()\n",
    "Y1=people_who_leave.groupby(['salary'])['left'].count().reset_index().sort_values('left', ascending=False ).left.values\n",
    "Y2=people_who_stay.groupby(['salary'])['left'].count().reset_index().sort_values('left', ascending=False ).left.values\n",
    "\n",
    "figure, axs = plt.subplots(ncols=2)\n",
    "\n",
    "axs[0].bar(X, Y1,color='blue')\n",
    "axs[1].bar(X, Y2,color='green')\n",
    "axs[0].set_ylabel('Number of employees')\n",
    "axs[0].set_xlabel('Salary')\n",
    "axs[1].set_xlabel('Salary')\n",
    "\n",
    "figure.set_size_inches(10,4)\n",
    "\n",
    "axs[0].legend(['people who left'])\n",
    "axs[1].legend(['people who stay'])\n",
    "plt.show()"
   ]
  },
  {
   "cell_type": "markdown",
   "metadata": {},
   "source": [
    "### Some conclusions and next steps"
   ]
  },
  {
   "cell_type": "markdown",
   "metadata": {},
   "source": [
    "* Sales, Technical and Support are the departments with a higher number of employees (50% over total. _See graph 1_)\n",
    "\n",
    "* The departments aforementioned, HR and Accounting have a turnover ratio above the average. Instead Management is far below the average, probably (don't know yet) because their salaries were higher (_See graph 2_)\n",
    "\n",
    "* _Graph 3_ shows that:\n",
    "    - the higher number of accidents take place during the third year working at company\n",
    "    - people who left has less accidents than people who stay\n",
    "    \n",
    "* As expected, a higher number of employees left in the low salary group compared to the high salary group (_Section 4.3_)\n",
    "\n",
    "* Satisfaction level is quite higher in employees stayed the company than employees who left (_see graphs 5 and 6_)\n",
    "\n",
    "* Employees in high salary group have lower satisfaction level compared to the low and medium group whether they leave or stay. Employees who left have lower satisfaction level in each salary tranche. (_see graph 7_)\n"
   ]
  },
  {
   "cell_type": "markdown",
   "metadata": {},
   "source": [
    "# 5. Saving cleaned dataset"
   ]
  },
  {
   "cell_type": "code",
   "execution_count": 27,
   "metadata": {},
   "outputs": [],
   "source": [
    "hr_no_dupl.to_csv('data/HR_data_cleaned.csv',index=False)"
   ]
  }
 ],
 "metadata": {
  "kernelspec": {
   "display_name": "Python 3",
   "language": "python",
   "name": "python3"
  },
  "language_info": {
   "codemirror_mode": {
    "name": "ipython",
    "version": 3
   },
   "file_extension": ".py",
   "mimetype": "text/x-python",
   "name": "python",
   "nbconvert_exporter": "python",
   "pygments_lexer": "ipython3",
   "version": "3.6.4"
  }
 },
 "nbformat": 4,
 "nbformat_minor": 2
}
